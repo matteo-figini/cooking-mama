{
 "cells": [
  {
   "cell_type": "code",
   "execution_count": 1,
   "id": "4b6fe9fa",
   "metadata": {
    "_cell_guid": "b1076dfc-b9ad-4769-8c92-a6c4dae69d19",
    "_uuid": "8f2839f25d086af736a60e9eeb907d3b93b6e0e5",
    "execution": {
     "iopub.execute_input": "2025-05-20T09:47:18.452464Z",
     "iopub.status.busy": "2025-05-20T09:47:18.452045Z",
     "iopub.status.idle": "2025-05-20T09:47:53.521172Z",
     "shell.execute_reply": "2025-05-20T09:47:53.520217Z"
    },
    "papermill": {
     "duration": 35.078064,
     "end_time": "2025-05-20T09:47:53.522987",
     "exception": false,
     "start_time": "2025-05-20T09:47:18.444923",
     "status": "completed"
    },
    "tags": []
   },
   "outputs": [
    {
     "name": "stderr",
     "output_type": "stream",
     "text": [
      "2025-05-20 09:47:40.921352: E external/local_xla/xla/stream_executor/cuda/cuda_fft.cc:477] Unable to register cuFFT factory: Attempting to register factory for plugin cuFFT when one has already been registered\n",
      "WARNING: All log messages before absl::InitializeLog() is called are written to STDERR\n",
      "E0000 00:00:1747734461.119685      19 cuda_dnn.cc:8310] Unable to register cuDNN factory: Attempting to register factory for plugin cuDNN when one has already been registered\n",
      "E0000 00:00:1747734461.178585      19 cuda_blas.cc:1418] Unable to register cuBLAS factory: Attempting to register factory for plugin cuBLAS when one has already been registered\n"
     ]
    }
   ],
   "source": [
    "import numpy as np\n",
    "import pandas as pd\n",
    "import matplotlib.pyplot as plt\n",
    "import seaborn as sns\n",
    "import ast\n",
    "import re\n",
    "import joblib\n",
    "\n",
    "from gensim.models.word2vec import Word2Vec\n",
    "import nltk\n",
    "from nltk.corpus import stopwords\n",
    "\n",
    "from sklearn.feature_extraction.text import TfidfVectorizer\n",
    "from scipy import sparse\n",
    "from scipy.sparse import hstack\n",
    "from sklearn.model_selection import train_test_split\n",
    "from sklearn.metrics import accuracy_score, classification_report, confusion_matrix\n",
    "from sklearn.utils.class_weight import compute_class_weight\n",
    "from sklearn.svm import SVC\n",
    "from sklearn.linear_model import LogisticRegression\n",
    "from tensorflow.keras.models import Sequential\n",
    "from tensorflow.keras.preprocessing.text import Tokenizer\n",
    "from tensorflow.keras.preprocessing.sequence import pad_sequences\n",
    "from tensorflow.keras.layers import Embedding, Bidirectional, LSTM, Dense, Dropout"
   ]
  },
  {
   "cell_type": "markdown",
   "id": "c30f82c5",
   "metadata": {
    "papermill": {
     "duration": 0.00512,
     "end_time": "2025-05-20T09:47:53.533997",
     "exception": false,
     "start_time": "2025-05-20T09:47:53.528877",
     "status": "completed"
    },
    "tags": []
   },
   "source": [
    "The dataset has been previously labelled."
   ]
  },
  {
   "cell_type": "code",
   "execution_count": 2,
   "id": "998e447a",
   "metadata": {
    "execution": {
     "iopub.execute_input": "2025-05-20T09:47:53.545409Z",
     "iopub.status.busy": "2025-05-20T09:47:53.544806Z",
     "iopub.status.idle": "2025-05-20T09:47:53.748458Z",
     "shell.execute_reply": "2025-05-20T09:47:53.747525Z"
    },
    "papermill": {
     "duration": 0.210939,
     "end_time": "2025-05-20T09:47:53.749798",
     "exception": false,
     "start_time": "2025-05-20T09:47:53.538859",
     "status": "completed"
    },
    "tags": []
   },
   "outputs": [
    {
     "data": {
      "text/html": [
       "<div>\n",
       "<style scoped>\n",
       "    .dataframe tbody tr th:only-of-type {\n",
       "        vertical-align: middle;\n",
       "    }\n",
       "\n",
       "    .dataframe tbody tr th {\n",
       "        vertical-align: top;\n",
       "    }\n",
       "\n",
       "    .dataframe thead th {\n",
       "        text-align: right;\n",
       "    }\n",
       "</style>\n",
       "<table border=\"1\" class=\"dataframe\">\n",
       "  <thead>\n",
       "    <tr style=\"text-align: right;\">\n",
       "      <th></th>\n",
       "      <th>ingredients</th>\n",
       "      <th>is_vegan</th>\n",
       "    </tr>\n",
       "  </thead>\n",
       "  <tbody>\n",
       "    <tr>\n",
       "      <th>0</th>\n",
       "      <td>[\"1 cup shredded cheddar cheese\", \"1 cup chopp...</td>\n",
       "      <td>0</td>\n",
       "    </tr>\n",
       "    <tr>\n",
       "      <th>1</th>\n",
       "      <td>[\"1 pie crust\", \"1/2 lb. ground beef (you can ...</td>\n",
       "      <td>0</td>\n",
       "    </tr>\n",
       "    <tr>\n",
       "      <th>2</th>\n",
       "      <td>[\"2 small orange jello\", \"2 c. boiling water\",...</td>\n",
       "      <td>0</td>\n",
       "    </tr>\n",
       "    <tr>\n",
       "      <th>3</th>\n",
       "      <td>[\"12 (2 1/2-inch) square graham crackers, crum...</td>\n",
       "      <td>0</td>\n",
       "    </tr>\n",
       "    <tr>\n",
       "      <th>4</th>\n",
       "      <td>[\"1 (8 ounce.) pkg. cream cheese\", \"1 sm. jar ...</td>\n",
       "      <td>0</td>\n",
       "    </tr>\n",
       "    <tr>\n",
       "      <th>...</th>\n",
       "      <td>...</td>\n",
       "      <td>...</td>\n",
       "    </tr>\n",
       "    <tr>\n",
       "      <th>19995</th>\n",
       "      <td>[\"1 lb. hamburger, browned\", \"1 chopped onion\"...</td>\n",
       "      <td>0</td>\n",
       "    </tr>\n",
       "    <tr>\n",
       "      <th>19996</th>\n",
       "      <td>[\"4 c. White Lily self-rising flour\", \"2 Tbsp....</td>\n",
       "      <td>0</td>\n",
       "    </tr>\n",
       "    <tr>\n",
       "      <th>19997</th>\n",
       "      <td>[\"1 c. mayonnaise\", \"1 tsp. onion, scraped\", \"...</td>\n",
       "      <td>0</td>\n",
       "    </tr>\n",
       "    <tr>\n",
       "      <th>19998</th>\n",
       "      <td>[\"1 1/2 c. sugar\", \"2 eggs\", \"2 c. Wesson oil\"...</td>\n",
       "      <td>0</td>\n",
       "    </tr>\n",
       "    <tr>\n",
       "      <th>19999</th>\n",
       "      <td>[\"add matzoh meal to potatoes\", \"1 1/2 c flour...</td>\n",
       "      <td>0</td>\n",
       "    </tr>\n",
       "  </tbody>\n",
       "</table>\n",
       "<p>20000 rows × 2 columns</p>\n",
       "</div>"
      ],
      "text/plain": [
       "                                             ingredients  is_vegan\n",
       "0      [\"1 cup shredded cheddar cheese\", \"1 cup chopp...         0\n",
       "1      [\"1 pie crust\", \"1/2 lb. ground beef (you can ...         0\n",
       "2      [\"2 small orange jello\", \"2 c. boiling water\",...         0\n",
       "3      [\"12 (2 1/2-inch) square graham crackers, crum...         0\n",
       "4      [\"1 (8 ounce.) pkg. cream cheese\", \"1 sm. jar ...         0\n",
       "...                                                  ...       ...\n",
       "19995  [\"1 lb. hamburger, browned\", \"1 chopped onion\"...         0\n",
       "19996  [\"4 c. White Lily self-rising flour\", \"2 Tbsp....         0\n",
       "19997  [\"1 c. mayonnaise\", \"1 tsp. onion, scraped\", \"...         0\n",
       "19998  [\"1 1/2 c. sugar\", \"2 eggs\", \"2 c. Wesson oil\"...         0\n",
       "19999  [\"add matzoh meal to potatoes\", \"1 1/2 c flour...         0\n",
       "\n",
       "[20000 rows x 2 columns]"
      ]
     },
     "execution_count": 2,
     "metadata": {},
     "output_type": "execute_result"
    }
   ],
   "source": [
    "# Load the dataset from CSV file and show its head\n",
    "df = pd.read_csv(\"/kaggle/input/vegan-20k/vegan_20k.csv\", delimiter=\";\")\n",
    "df"
   ]
  },
  {
   "cell_type": "markdown",
   "id": "bfdd491f",
   "metadata": {
    "papermill": {
     "duration": 0.00521,
     "end_time": "2025-05-20T09:47:53.760887",
     "exception": false,
     "start_time": "2025-05-20T09:47:53.755677",
     "status": "completed"
    },
    "tags": []
   },
   "source": [
    "## Word2Vec Training"
   ]
  },
  {
   "cell_type": "code",
   "execution_count": 3,
   "id": "409fea04",
   "metadata": {
    "execution": {
     "iopub.execute_input": "2025-05-20T09:47:53.772094Z",
     "iopub.status.busy": "2025-05-20T09:47:53.771843Z",
     "iopub.status.idle": "2025-05-20T09:47:53.853210Z",
     "shell.execute_reply": "2025-05-20T09:47:53.852492Z"
    },
    "papermill": {
     "duration": 0.088573,
     "end_time": "2025-05-20T09:47:53.854609",
     "exception": false,
     "start_time": "2025-05-20T09:47:53.766036",
     "status": "completed"
    },
    "tags": []
   },
   "outputs": [
    {
     "name": "stderr",
     "output_type": "stream",
     "text": [
      "[nltk_data] Downloading package stopwords to /usr/share/nltk_data...\n",
      "[nltk_data]   Package stopwords is already up-to-date!\n"
     ]
    }
   ],
   "source": [
    "# Download stopwords\n",
    "nltk.download('stopwords')\n",
    "stop_words = set(stopwords.words('english'))"
   ]
  },
  {
   "cell_type": "code",
   "execution_count": 4,
   "id": "1ee0cbed",
   "metadata": {
    "execution": {
     "iopub.execute_input": "2025-05-20T09:47:53.866555Z",
     "iopub.status.busy": "2025-05-20T09:47:53.866247Z",
     "iopub.status.idle": "2025-05-20T09:47:55.065787Z",
     "shell.execute_reply": "2025-05-20T09:47:55.064673Z"
    },
    "papermill": {
     "duration": 1.207784,
     "end_time": "2025-05-20T09:47:55.067999",
     "exception": false,
     "start_time": "2025-05-20T09:47:53.860215",
     "status": "completed"
    },
    "tags": []
   },
   "outputs": [
    {
     "name": "stdout",
     "output_type": "stream",
     "text": [
      "[['cup', 'shredded', 'cheddar', 'cheese', 'cup', 'chopped', 'pimento', 'stuffed', 'olive', 'tablespoon', 'minced', 'onion', 'cup', 'dried', 'beef', 'chopped', 'cup', 'mayonnaise', 'loaf', 'sliced', 'rye', 'cocktail', 'bread'], ['pie', 'crust', 'lb', 'ground', 'beef', 'use', 'sausage', 'ham', 'bacon', 'mayonnaise', 'milk', 'eggs', 'tbsp', 'cornstarch', 'sliced', 'green', 'onions', 'grated', 'cheddar', 'cheese', 'diced', 'bell', 'pepper', 'tsp', 'salt', 'tsp', 'pepper'], ['small', 'orange', 'jello', 'boiling', 'water', 'small', 'crushed', 'pineapple', 'small', 'frozen', 'orange', 'juice', 'small', 'mandarin', 'oranges', 'pkg', 'instant', 'lemon', 'pudding', 'milk', 'pkg', 'dream', 'whip', 'prepared'], ['square', 'graham', 'crackers', 'crumbled', 'tbsp', 'reduced', 'calorie', 'margarine', 'melted', 'low', 'fat', 'cottage', 'cheese', 'pkg', 'sweetener', 'small', 'pkg', 'lemon', 'jello', 'sugar', 'free', 'boiling', 'water'], ['ounce', 'pkg', 'cream', 'cheese', 'sm', 'jar', 'old', 'english', 'cheese', 'tbsp', 'lipton', 'onion', 'soup', 'mix', 'pkg', 'dry', 'beef']]\n"
     ]
    }
   ],
   "source": [
    "# Convert the 'ingredients' column to a list of lists\n",
    "w2v_ingredients = df['ingredients'].apply(ast.literal_eval)\n",
    "\n",
    "# Initialize an empty list to store the cleaned data\n",
    "tokenized_ingredients = []\n",
    "\n",
    "for ingredient_list in w2v_ingredients:\n",
    "    cleaned_list = []\n",
    "    \n",
    "    for ingredient in ingredient_list:\n",
    "        # Remove punctuation and convert to lowercase\n",
    "        ingredient = re.sub(r'[^\\w\\s]', '', ingredient).lower()\n",
    "        # Remove numbers and words nearby (e.g., '200g', '5ml', etc.)\n",
    "        ingredient = re.sub(r'\\b\\d+(\\w+)?\\b', '', ingredient)\n",
    "        \n",
    "        # Tokenize\n",
    "        tokens = ingredient.split()\n",
    "\n",
    "         # Remove stopwords and single-character tokens\n",
    "        tokens = [word for word in tokens if word not in stop_words and len(word) > 1]\n",
    "\n",
    "        # Add the cleaned tokens to the list\n",
    "        cleaned_list.extend(tokens)\n",
    "\n",
    "    # Append the cleaned list to the tokenized_ingredients list\n",
    "    tokenized_ingredients.append(cleaned_list)\n",
    "\n",
    "# Print a few samples to verify\n",
    "print(tokenized_ingredients[:5])"
   ]
  },
  {
   "cell_type": "code",
   "execution_count": 5,
   "id": "79096def",
   "metadata": {
    "execution": {
     "iopub.execute_input": "2025-05-20T09:47:55.081951Z",
     "iopub.status.busy": "2025-05-20T09:47:55.081661Z",
     "iopub.status.idle": "2025-05-20T09:48:18.223195Z",
     "shell.execute_reply": "2025-05-20T09:48:18.222465Z"
    },
    "papermill": {
     "duration": 23.149345,
     "end_time": "2025-05-20T09:48:18.224794",
     "exception": false,
     "start_time": "2025-05-20T09:47:55.075449",
     "status": "completed"
    },
    "tags": []
   },
   "outputs": [],
   "source": [
    "# Train the Word2Vec model\n",
    "w2v_model = Word2Vec(\n",
    "    sentences=tokenized_ingredients, \n",
    "    vector_size=50, \n",
    "    window=10, \n",
    "    min_count=5, \n",
    "    sg=1,  # 1 for Skip-Gram, 0 for CBOW\n",
    "    epochs=10\n",
    ")"
   ]
  },
  {
   "cell_type": "markdown",
   "id": "3f37c242",
   "metadata": {
    "papermill": {
     "duration": 0.005378,
     "end_time": "2025-05-20T09:48:18.235976",
     "exception": false,
     "start_time": "2025-05-20T09:48:18.230598",
     "status": "completed"
    },
    "tags": []
   },
   "source": [
    "Now, we need to convert the ingredient lists into fixed-length vectors using the trained Word2Vec model. "
   ]
  },
  {
   "cell_type": "code",
   "execution_count": 6,
   "id": "d473b3f7",
   "metadata": {
    "execution": {
     "iopub.execute_input": "2025-05-20T09:48:18.248237Z",
     "iopub.status.busy": "2025-05-20T09:48:18.247711Z",
     "iopub.status.idle": "2025-05-20T09:48:18.708748Z",
     "shell.execute_reply": "2025-05-20T09:48:18.707856Z"
    },
    "papermill": {
     "duration": 0.468941,
     "end_time": "2025-05-20T09:48:18.710285",
     "exception": false,
     "start_time": "2025-05-20T09:48:18.241344",
     "status": "completed"
    },
    "tags": []
   },
   "outputs": [],
   "source": [
    "# Combine each ingredient list back into a single string for TF-IDF processing\n",
    "corpus = [\" \".join(ing) for ing in tokenized_ingredients]\n",
    "\n",
    "# Compute TF-IDF matrix and dictionary\n",
    "tfidf_vectorizer = TfidfVectorizer(min_df=5) # option to ignore rare terms that appear in less than 5 documents\n",
    "tfidf_matrix = tfidf_vectorizer.fit_transform(corpus)\n",
    "feature_names = tfidf_vectorizer.get_feature_names_out()\n",
    "tfidf_dict = dict(zip(feature_names, tfidf_vectorizer.idf_))"
   ]
  },
  {
   "cell_type": "code",
   "execution_count": 7,
   "id": "f1f1d255",
   "metadata": {
    "execution": {
     "iopub.execute_input": "2025-05-20T09:48:18.722131Z",
     "iopub.status.busy": "2025-05-20T09:48:18.721871Z",
     "iopub.status.idle": "2025-05-20T09:48:18.726809Z",
     "shell.execute_reply": "2025-05-20T09:48:18.726240Z"
    },
    "papermill": {
     "duration": 0.011964,
     "end_time": "2025-05-20T09:48:18.727908",
     "exception": false,
     "start_time": "2025-05-20T09:48:18.715944",
     "status": "completed"
    },
    "tags": []
   },
   "outputs": [],
   "source": [
    "def vectorize_ingredients_tfidf(ingredient_list, model, tfidf_dict):\n",
    "    vectors = []\n",
    "    weights = []\n",
    "    \n",
    "    for word in ingredient_list:\n",
    "        if word in w2v_model.wv and word in tfidf_dict:\n",
    "            # Get Word2Vec vector\n",
    "            word_vec = model.wv[word]\n",
    "            \n",
    "            # Get TF-IDF weight\n",
    "            weight = tfidf_dict[word]\n",
    "            \n",
    "            # Apply weighting\n",
    "            vectors.append(word_vec * weight)\n",
    "            weights.append(weight)\n",
    "    \n",
    "    # Handle cases with no matching words\n",
    "    if len(vectors) == 0:\n",
    "        return np.zeros(w2v_model.vector_size)\n",
    "    \n",
    "    # Calculate weighted average\n",
    "    return np.average(vectors, axis=0, weights=weights)"
   ]
  },
  {
   "cell_type": "code",
   "execution_count": 8,
   "id": "cb5e4379",
   "metadata": {
    "execution": {
     "iopub.execute_input": "2025-05-20T09:48:18.739695Z",
     "iopub.status.busy": "2025-05-20T09:48:18.739430Z",
     "iopub.status.idle": "2025-05-20T09:48:21.973904Z",
     "shell.execute_reply": "2025-05-20T09:48:21.972967Z"
    },
    "papermill": {
     "duration": 3.241687,
     "end_time": "2025-05-20T09:48:21.975376",
     "exception": false,
     "start_time": "2025-05-20T09:48:18.733689",
     "status": "completed"
    },
    "tags": []
   },
   "outputs": [],
   "source": [
    "# Vectorize all samples using TF-IDF weighted Word2Vec\n",
    "w2v_tfidf_vectors = np.array([vectorize_ingredients_tfidf(ing, w2v_model, tfidf_dict) for ing in tokenized_ingredients])"
   ]
  },
  {
   "cell_type": "markdown",
   "id": "28c145de",
   "metadata": {
    "papermill": {
     "duration": 0.00547,
     "end_time": "2025-05-20T09:48:21.986272",
     "exception": false,
     "start_time": "2025-05-20T09:48:21.980802",
     "status": "completed"
    },
    "tags": []
   },
   "source": [
    "## Train a classifier"
   ]
  },
  {
   "cell_type": "code",
   "execution_count": 9,
   "id": "4fcbac43",
   "metadata": {
    "execution": {
     "iopub.execute_input": "2025-05-20T09:48:21.999153Z",
     "iopub.status.busy": "2025-05-20T09:48:21.998369Z",
     "iopub.status.idle": "2025-05-20T09:48:22.008908Z",
     "shell.execute_reply": "2025-05-20T09:48:22.007930Z"
    },
    "papermill": {
     "duration": 0.018189,
     "end_time": "2025-05-20T09:48:22.010202",
     "exception": false,
     "start_time": "2025-05-20T09:48:21.992013",
     "status": "completed"
    },
    "tags": []
   },
   "outputs": [
    {
     "name": "stdout",
     "output_type": "stream",
     "text": [
      "Number of vegan examples: 2176\n",
      "Number of non-vegan examples: 17824\n"
     ]
    }
   ],
   "source": [
    "# Count the number of vegan and non-vegan samples\n",
    "num_vegan = df[df['is_vegan'] == 1].shape[0]\n",
    "num_non_vegan = df[df['is_vegan'] == 0].shape[0]\n",
    "\n",
    "print(f\"Number of vegan examples: {num_vegan}\")\n",
    "print(f\"Number of non-vegan examples: {num_non_vegan}\")"
   ]
  },
  {
   "cell_type": "markdown",
   "id": "66b12bb9",
   "metadata": {
    "papermill": {
     "duration": 0.005165,
     "end_time": "2025-05-20T09:48:22.020866",
     "exception": false,
     "start_time": "2025-05-20T09:48:22.015701",
     "status": "completed"
    },
    "tags": []
   },
   "source": [
    "As we can see the dataset is highly unbalanced (as expected)."
   ]
  },
  {
   "cell_type": "code",
   "execution_count": 10,
   "id": "1bb5d7b8",
   "metadata": {
    "execution": {
     "iopub.execute_input": "2025-05-20T09:48:22.032732Z",
     "iopub.status.busy": "2025-05-20T09:48:22.032393Z",
     "iopub.status.idle": "2025-05-20T09:48:22.047574Z",
     "shell.execute_reply": "2025-05-20T09:48:22.046740Z"
    },
    "papermill": {
     "duration": 0.022738,
     "end_time": "2025-05-20T09:48:22.048850",
     "exception": false,
     "start_time": "2025-05-20T09:48:22.026112",
     "status": "completed"
    },
    "tags": []
   },
   "outputs": [
    {
     "name": "stdout",
     "output_type": "stream",
     "text": [
      "Class distribution in training set: [14243  1757]\n",
      "Class distribution in test set: [3581  419]\n"
     ]
    }
   ],
   "source": [
    "# 80/20 split for training and testing\n",
    "y = df['is_vegan'].values\n",
    "X_train, X_test, y_train, y_test = train_test_split(w2v_tfidf_vectors, y, test_size=0.2, random_state=42)\n",
    "\n",
    "# Check class distribution in train and test sets\n",
    "print(f\"Class distribution in training set: {np.bincount(y_train)}\")\n",
    "print(f\"Class distribution in test set: {np.bincount(y_test)}\")"
   ]
  },
  {
   "cell_type": "markdown",
   "id": "cdaf5282",
   "metadata": {
    "papermill": {
     "duration": 0.005378,
     "end_time": "2025-05-20T09:48:22.059851",
     "exception": false,
     "start_time": "2025-05-20T09:48:22.054473",
     "status": "completed"
    },
    "tags": []
   },
   "source": [
    "### Logistic Regression"
   ]
  },
  {
   "cell_type": "code",
   "execution_count": 11,
   "id": "bb1f79f2",
   "metadata": {
    "execution": {
     "iopub.execute_input": "2025-05-20T09:48:22.071899Z",
     "iopub.status.busy": "2025-05-20T09:48:22.071559Z",
     "iopub.status.idle": "2025-05-20T09:48:23.077553Z",
     "shell.execute_reply": "2025-05-20T09:48:23.076704Z"
    },
    "papermill": {
     "duration": 1.013733,
     "end_time": "2025-05-20T09:48:23.079048",
     "exception": false,
     "start_time": "2025-05-20T09:48:22.065315",
     "status": "completed"
    },
    "tags": []
   },
   "outputs": [
    {
     "data": {
      "text/html": [
       "<style>#sk-container-id-1 {color: black;background-color: white;}#sk-container-id-1 pre{padding: 0;}#sk-container-id-1 div.sk-toggleable {background-color: white;}#sk-container-id-1 label.sk-toggleable__label {cursor: pointer;display: block;width: 100%;margin-bottom: 0;padding: 0.3em;box-sizing: border-box;text-align: center;}#sk-container-id-1 label.sk-toggleable__label-arrow:before {content: \"▸\";float: left;margin-right: 0.25em;color: #696969;}#sk-container-id-1 label.sk-toggleable__label-arrow:hover:before {color: black;}#sk-container-id-1 div.sk-estimator:hover label.sk-toggleable__label-arrow:before {color: black;}#sk-container-id-1 div.sk-toggleable__content {max-height: 0;max-width: 0;overflow: hidden;text-align: left;background-color: #f0f8ff;}#sk-container-id-1 div.sk-toggleable__content pre {margin: 0.2em;color: black;border-radius: 0.25em;background-color: #f0f8ff;}#sk-container-id-1 input.sk-toggleable__control:checked~div.sk-toggleable__content {max-height: 200px;max-width: 100%;overflow: auto;}#sk-container-id-1 input.sk-toggleable__control:checked~label.sk-toggleable__label-arrow:before {content: \"▾\";}#sk-container-id-1 div.sk-estimator input.sk-toggleable__control:checked~label.sk-toggleable__label {background-color: #d4ebff;}#sk-container-id-1 div.sk-label input.sk-toggleable__control:checked~label.sk-toggleable__label {background-color: #d4ebff;}#sk-container-id-1 input.sk-hidden--visually {border: 0;clip: rect(1px 1px 1px 1px);clip: rect(1px, 1px, 1px, 1px);height: 1px;margin: -1px;overflow: hidden;padding: 0;position: absolute;width: 1px;}#sk-container-id-1 div.sk-estimator {font-family: monospace;background-color: #f0f8ff;border: 1px dotted black;border-radius: 0.25em;box-sizing: border-box;margin-bottom: 0.5em;}#sk-container-id-1 div.sk-estimator:hover {background-color: #d4ebff;}#sk-container-id-1 div.sk-parallel-item::after {content: \"\";width: 100%;border-bottom: 1px solid gray;flex-grow: 1;}#sk-container-id-1 div.sk-label:hover label.sk-toggleable__label {background-color: #d4ebff;}#sk-container-id-1 div.sk-serial::before {content: \"\";position: absolute;border-left: 1px solid gray;box-sizing: border-box;top: 0;bottom: 0;left: 50%;z-index: 0;}#sk-container-id-1 div.sk-serial {display: flex;flex-direction: column;align-items: center;background-color: white;padding-right: 0.2em;padding-left: 0.2em;position: relative;}#sk-container-id-1 div.sk-item {position: relative;z-index: 1;}#sk-container-id-1 div.sk-parallel {display: flex;align-items: stretch;justify-content: center;background-color: white;position: relative;}#sk-container-id-1 div.sk-item::before, #sk-container-id-1 div.sk-parallel-item::before {content: \"\";position: absolute;border-left: 1px solid gray;box-sizing: border-box;top: 0;bottom: 0;left: 50%;z-index: -1;}#sk-container-id-1 div.sk-parallel-item {display: flex;flex-direction: column;z-index: 1;position: relative;background-color: white;}#sk-container-id-1 div.sk-parallel-item:first-child::after {align-self: flex-end;width: 50%;}#sk-container-id-1 div.sk-parallel-item:last-child::after {align-self: flex-start;width: 50%;}#sk-container-id-1 div.sk-parallel-item:only-child::after {width: 0;}#sk-container-id-1 div.sk-dashed-wrapped {border: 1px dashed gray;margin: 0 0.4em 0.5em 0.4em;box-sizing: border-box;padding-bottom: 0.4em;background-color: white;}#sk-container-id-1 div.sk-label label {font-family: monospace;font-weight: bold;display: inline-block;line-height: 1.2em;}#sk-container-id-1 div.sk-label-container {text-align: center;}#sk-container-id-1 div.sk-container {/* jupyter's `normalize.less` sets `[hidden] { display: none; }` but bootstrap.min.css set `[hidden] { display: none !important; }` so we also need the `!important` here to be able to override the default hidden behavior on the sphinx rendered scikit-learn.org. See: https://github.com/scikit-learn/scikit-learn/issues/21755 */display: inline-block !important;position: relative;}#sk-container-id-1 div.sk-text-repr-fallback {display: none;}</style><div id=\"sk-container-id-1\" class=\"sk-top-container\"><div class=\"sk-text-repr-fallback\"><pre>LogisticRegression(class_weight=&#x27;balanced&#x27;, max_iter=1000)</pre><b>In a Jupyter environment, please rerun this cell to show the HTML representation or trust the notebook. <br />On GitHub, the HTML representation is unable to render, please try loading this page with nbviewer.org.</b></div><div class=\"sk-container\" hidden><div class=\"sk-item\"><div class=\"sk-estimator sk-toggleable\"><input class=\"sk-toggleable__control sk-hidden--visually\" id=\"sk-estimator-id-1\" type=\"checkbox\" checked><label for=\"sk-estimator-id-1\" class=\"sk-toggleable__label sk-toggleable__label-arrow\">LogisticRegression</label><div class=\"sk-toggleable__content\"><pre>LogisticRegression(class_weight=&#x27;balanced&#x27;, max_iter=1000)</pre></div></div></div></div></div>"
      ],
      "text/plain": [
       "LogisticRegression(class_weight='balanced', max_iter=1000)"
      ]
     },
     "execution_count": 11,
     "metadata": {},
     "output_type": "execute_result"
    }
   ],
   "source": [
    "# Logistic Regression\n",
    "log_model = LogisticRegression(C=1.0, class_weight='balanced', max_iter=1000)\n",
    "log_model.fit(X_train, y_train)"
   ]
  },
  {
   "cell_type": "code",
   "execution_count": 12,
   "id": "bf9d909f",
   "metadata": {
    "execution": {
     "iopub.execute_input": "2025-05-20T09:48:23.128654Z",
     "iopub.status.busy": "2025-05-20T09:48:23.128351Z",
     "iopub.status.idle": "2025-05-20T09:48:23.410547Z",
     "shell.execute_reply": "2025-05-20T09:48:23.409717Z"
    },
    "papermill": {
     "duration": 0.303102,
     "end_time": "2025-05-20T09:48:23.411726",
     "exception": false,
     "start_time": "2025-05-20T09:48:23.108624",
     "status": "completed"
    },
    "tags": []
   },
   "outputs": [
    {
     "name": "stdout",
     "output_type": "stream",
     "text": [
      "Logistic Regression Accuracy: 0.7953\n",
      "\n",
      "Logistic Regression Classification Report:\n",
      "               precision    recall  f1-score   support\n",
      "\n",
      "           0       0.97      0.79      0.87      3581\n",
      "           1       0.32      0.82      0.46       419\n",
      "\n",
      "    accuracy                           0.80      4000\n",
      "   macro avg       0.65      0.81      0.67      4000\n",
      "weighted avg       0.91      0.80      0.83      4000\n",
      "\n"
     ]
    },
    {
     "data": {
      "image/png": "[encoded data removed]",
      "text/plain": [
       "<Figure size 600x500 with 2 Axes>"
      ]
     },
     "metadata": {},
     "output_type": "display_data"
    }
   ],
   "source": [
    "# Predict on the test set\n",
    "log_y_pred = log_model.predict(X_test)\n",
    "\n",
    "# Accuracy\n",
    "log_acc = accuracy_score(y_test, log_y_pred)\n",
    "print(f\"Logistic Regression Accuracy: {log_acc:.4f}\")\n",
    "\n",
    "# Classification report\n",
    "print(\"\\nLogistic Regression Classification Report:\\n\", classification_report(y_test, log_y_pred))\n",
    "\n",
    "# Confusion Matrix\n",
    "conf_matrix = confusion_matrix(y_test, log_y_pred)\n",
    "\n",
    "plt.figure(figsize=(6, 5))\n",
    "sns.heatmap(conf_matrix, annot=True, fmt='d', cmap='Blues', xticklabels=[\"Non-Vegan\", \"Vegan\"], yticklabels=[\"Non-Vegan\", \"Vegan\"])\n",
    "plt.xlabel(\"Predicted\")\n",
    "plt.ylabel(\"Actual\")\n",
    "plt.title(\"Confusion Matrix\")\n",
    "plt.show()"
   ]
  },
  {
   "cell_type": "markdown",
   "id": "89656e43",
   "metadata": {
    "papermill": {
     "duration": 0.006878,
     "end_time": "2025-05-20T09:48:23.425173",
     "exception": false,
     "start_time": "2025-05-20T09:48:23.418295",
     "status": "completed"
    },
    "tags": []
   },
   "source": [
    "### Support Vector Machine"
   ]
  },
  {
   "cell_type": "code",
   "execution_count": 13,
   "id": "3286fc46",
   "metadata": {
    "execution": {
     "iopub.execute_input": "2025-05-20T09:48:23.438315Z",
     "iopub.status.busy": "2025-05-20T09:48:23.438025Z",
     "iopub.status.idle": "2025-05-20T09:48:41.863881Z",
     "shell.execute_reply": "2025-05-20T09:48:41.863010Z"
    },
    "papermill": {
     "duration": 18.43409,
     "end_time": "2025-05-20T09:48:41.865267",
     "exception": false,
     "start_time": "2025-05-20T09:48:23.431177",
     "status": "completed"
    },
    "tags": []
   },
   "outputs": [
    {
     "data": {
      "text/html": [
       "<style>#sk-container-id-2 {color: black;background-color: white;}#sk-container-id-2 pre{padding: 0;}#sk-container-id-2 div.sk-toggleable {background-color: white;}#sk-container-id-2 label.sk-toggleable__label {cursor: pointer;display: block;width: 100%;margin-bottom: 0;padding: 0.3em;box-sizing: border-box;text-align: center;}#sk-container-id-2 label.sk-toggleable__label-arrow:before {content: \"▸\";float: left;margin-right: 0.25em;color: #696969;}#sk-container-id-2 label.sk-toggleable__label-arrow:hover:before {color: black;}#sk-container-id-2 div.sk-estimator:hover label.sk-toggleable__label-arrow:before {color: black;}#sk-container-id-2 div.sk-toggleable__content {max-height: 0;max-width: 0;overflow: hidden;text-align: left;background-color: #f0f8ff;}#sk-container-id-2 div.sk-toggleable__content pre {margin: 0.2em;color: black;border-radius: 0.25em;background-color: #f0f8ff;}#sk-container-id-2 input.sk-toggleable__control:checked~div.sk-toggleable__content {max-height: 200px;max-width: 100%;overflow: auto;}#sk-container-id-2 input.sk-toggleable__control:checked~label.sk-toggleable__label-arrow:before {content: \"▾\";}#sk-container-id-2 div.sk-estimator input.sk-toggleable__control:checked~label.sk-toggleable__label {background-color: #d4ebff;}#sk-container-id-2 div.sk-label input.sk-toggleable__control:checked~label.sk-toggleable__label {background-color: #d4ebff;}#sk-container-id-2 input.sk-hidden--visually {border: 0;clip: rect(1px 1px 1px 1px);clip: rect(1px, 1px, 1px, 1px);height: 1px;margin: -1px;overflow: hidden;padding: 0;position: absolute;width: 1px;}#sk-container-id-2 div.sk-estimator {font-family: monospace;background-color: #f0f8ff;border: 1px dotted black;border-radius: 0.25em;box-sizing: border-box;margin-bottom: 0.5em;}#sk-container-id-2 div.sk-estimator:hover {background-color: #d4ebff;}#sk-container-id-2 div.sk-parallel-item::after {content: \"\";width: 100%;border-bottom: 1px solid gray;flex-grow: 1;}#sk-container-id-2 div.sk-label:hover label.sk-toggleable__label {background-color: #d4ebff;}#sk-container-id-2 div.sk-serial::before {content: \"\";position: absolute;border-left: 1px solid gray;box-sizing: border-box;top: 0;bottom: 0;left: 50%;z-index: 0;}#sk-container-id-2 div.sk-serial {display: flex;flex-direction: column;align-items: center;background-color: white;padding-right: 0.2em;padding-left: 0.2em;position: relative;}#sk-container-id-2 div.sk-item {position: relative;z-index: 1;}#sk-container-id-2 div.sk-parallel {display: flex;align-items: stretch;justify-content: center;background-color: white;position: relative;}#sk-container-id-2 div.sk-item::before, #sk-container-id-2 div.sk-parallel-item::before {content: \"\";position: absolute;border-left: 1px solid gray;box-sizing: border-box;top: 0;bottom: 0;left: 50%;z-index: -1;}#sk-container-id-2 div.sk-parallel-item {display: flex;flex-direction: column;z-index: 1;position: relative;background-color: white;}#sk-container-id-2 div.sk-parallel-item:first-child::after {align-self: flex-end;width: 50%;}#sk-container-id-2 div.sk-parallel-item:last-child::after {align-self: flex-start;width: 50%;}#sk-container-id-2 div.sk-parallel-item:only-child::after {width: 0;}#sk-container-id-2 div.sk-dashed-wrapped {border: 1px dashed gray;margin: 0 0.4em 0.5em 0.4em;box-sizing: border-box;padding-bottom: 0.4em;background-color: white;}#sk-container-id-2 div.sk-label label {font-family: monospace;font-weight: bold;display: inline-block;line-height: 1.2em;}#sk-container-id-2 div.sk-label-container {text-align: center;}#sk-container-id-2 div.sk-container {/* jupyter's `normalize.less` sets `[hidden] { display: none; }` but bootstrap.min.css set `[hidden] { display: none !important; }` so we also need the `!important` here to be able to override the default hidden behavior on the sphinx rendered scikit-learn.org. See: https://github.com/scikit-learn/scikit-learn/issues/21755 */display: inline-block !important;position: relative;}#sk-container-id-2 div.sk-text-repr-fallback {display: none;}</style><div id=\"sk-container-id-2\" class=\"sk-top-container\"><div class=\"sk-text-repr-fallback\"><pre>SVC(class_weight=&#x27;balanced&#x27;, kernel=&#x27;linear&#x27;)</pre><b>In a Jupyter environment, please rerun this cell to show the HTML representation or trust the notebook. <br />On GitHub, the HTML representation is unable to render, please try loading this page with nbviewer.org.</b></div><div class=\"sk-container\" hidden><div class=\"sk-item\"><div class=\"sk-estimator sk-toggleable\"><input class=\"sk-toggleable__control sk-hidden--visually\" id=\"sk-estimator-id-2\" type=\"checkbox\" checked><label for=\"sk-estimator-id-2\" class=\"sk-toggleable__label sk-toggleable__label-arrow\">SVC</label><div class=\"sk-toggleable__content\"><pre>SVC(class_weight=&#x27;balanced&#x27;, kernel=&#x27;linear&#x27;)</pre></div></div></div></div></div>"
      ],
      "text/plain": [
       "SVC(class_weight='balanced', kernel='linear')"
      ]
     },
     "execution_count": 13,
     "metadata": {},
     "output_type": "execute_result"
    }
   ],
   "source": [
    "# SVM\n",
    "svm_model = SVC(kernel='linear', class_weight='balanced')\n",
    "svm_model.fit(X_train, y_train)"
   ]
  },
  {
   "cell_type": "markdown",
   "id": "7e528321",
   "metadata": {
    "papermill": {
     "duration": 0.006006,
     "end_time": "2025-05-20T09:48:41.877719",
     "exception": false,
     "start_time": "2025-05-20T09:48:41.871713",
     "status": "completed"
    },
    "tags": []
   },
   "source": [
    "Now, we evaluate the model."
   ]
  },
  {
   "cell_type": "code",
   "execution_count": 14,
   "id": "c7b430b6",
   "metadata": {
    "execution": {
     "iopub.execute_input": "2025-05-20T09:48:41.891020Z",
     "iopub.status.busy": "2025-05-20T09:48:41.890245Z",
     "iopub.status.idle": "2025-05-20T09:48:42.985109Z",
     "shell.execute_reply": "2025-05-20T09:48:42.984275Z"
    },
    "papermill": {
     "duration": 1.103008,
     "end_time": "2025-05-20T09:48:42.986502",
     "exception": false,
     "start_time": "2025-05-20T09:48:41.883494",
     "status": "completed"
    },
    "tags": []
   },
   "outputs": [
    {
     "name": "stdout",
     "output_type": "stream",
     "text": [
      "SVM accuracy: 0.7930\n",
      "\n",
      "Classification Report:\n",
      "              precision    recall  f1-score   support\n",
      "\n",
      "   Non-Vegan       0.98      0.79      0.87      3581\n",
      "       Vegan       0.31      0.83      0.46       419\n",
      "\n",
      "    accuracy                           0.79      4000\n",
      "   macro avg       0.65      0.81      0.66      4000\n",
      "weighted avg       0.91      0.79      0.83      4000\n",
      "\n"
     ]
    },
    {
     "data": {
      "image/png": "[encoded data removed]",
      "text/plain": [
       "<Figure size 600x500 with 2 Axes>"
      ]
     },
     "metadata": {},
     "output_type": "display_data"
    }
   ],
   "source": [
    "# Predict on the test set\n",
    "SVM_y_pred = svm_model.predict(X_test)\n",
    "\n",
    "# Accuracy\n",
    "SVM_acc = accuracy_score(y_test, SVM_y_pred)\n",
    "print(f\"SVM accuracy: {SVM_acc:.4f}\")\n",
    "\n",
    "# Classification Report\n",
    "print(\"\\nClassification Report:\")\n",
    "print(classification_report(y_test, SVM_y_pred, target_names=[\"Non-Vegan\", \"Vegan\"]))\n",
    "\n",
    "# Confusion Matrix\n",
    "conf_matrix = confusion_matrix(y_test, SVM_y_pred)\n",
    "\n",
    "plt.figure(figsize=(6, 5))\n",
    "sns.heatmap(conf_matrix, annot=True, fmt='d', cmap='Blues', xticklabels=[\"Non-Vegan\", \"Vegan\"], yticklabels=[\"Non-Vegan\", \"Vegan\"])\n",
    "plt.xlabel(\"Predicted\")\n",
    "plt.ylabel(\"Actual\")\n",
    "plt.title(\"Confusion Matrix\")\n",
    "plt.show()"
   ]
  },
  {
   "cell_type": "markdown",
   "id": "9ba3961b",
   "metadata": {
    "papermill": {
     "duration": 0.006354,
     "end_time": "2025-05-20T09:48:42.999598",
     "exception": false,
     "start_time": "2025-05-20T09:48:42.993244",
     "status": "completed"
    },
    "tags": []
   },
   "source": [
    "Although overall accuracy in both logistic regression and SVM is nearly 80%, the models struggle with precision on the vegan class. This indicates many false positives—non-vegan ingredients incorrectly predicted as vegan—which could be problematic depending on the application. \n",
    "\n",
    "This is a consequence of an highly umbalance dataset. So, we can try to balance the dataset manually."
   ]
  },
  {
   "cell_type": "code",
   "execution_count": 15,
   "id": "64dd32f7",
   "metadata": {
    "execution": {
     "iopub.execute_input": "2025-05-20T09:48:43.013350Z",
     "iopub.status.busy": "2025-05-20T09:48:43.012775Z",
     "iopub.status.idle": "2025-05-20T09:48:43.022909Z",
     "shell.execute_reply": "2025-05-20T09:48:43.022226Z"
    },
    "papermill": {
     "duration": 0.018204,
     "end_time": "2025-05-20T09:48:43.023972",
     "exception": false,
     "start_time": "2025-05-20T09:48:43.005768",
     "status": "completed"
    },
    "tags": []
   },
   "outputs": [
    {
     "name": "stdout",
     "output_type": "stream",
     "text": [
      "Balanced dataset shape: (4352, 50)\n",
      "Class distribution after balancing: [2176 2176]\n"
     ]
    }
   ],
   "source": [
    "# Balance the dataset by undersampling the majority class \n",
    "y = df['is_vegan'].values\n",
    "X_vegan = w2v_tfidf_vectors[y == 1]\n",
    "X_non_vegan = w2v_tfidf_vectors[y == 0]\n",
    "y_vegan = y[y == 1]\n",
    "y_non_vegan = y[y == 0]\n",
    "\n",
    "# Determine the smaller class size\n",
    "min_samples = min(len(X_vegan), len(X_non_vegan))\n",
    "\n",
    "# Subsample both classes to ensure a 50/50 balance\n",
    "X_vegan_balanced = X_vegan[:min_samples]\n",
    "y_vegan_balanced = y_vegan[:min_samples]\n",
    "\n",
    "X_non_vegan_balanced = X_non_vegan[:min_samples]\n",
    "y_non_vegan_balanced = y_non_vegan[:min_samples]\n",
    "\n",
    "# Concatenate the balanced dataset\n",
    "X_balanced = np.vstack((X_vegan_balanced, X_non_vegan_balanced))\n",
    "y_balanced = np.hstack((y_vegan_balanced, y_non_vegan_balanced))\n",
    "\n",
    "# Shuffle the dataset\n",
    "shuffled_indices = np.random.permutation(len(y_balanced))\n",
    "X_balanced = X_balanced[shuffled_indices]\n",
    "y_balanced = y_balanced[shuffled_indices]\n",
    "\n",
    "print(f\"Balanced dataset shape: {X_balanced.shape}\")\n",
    "print(f\"Class distribution after balancing: {np.bincount(y_balanced)}\")"
   ]
  },
  {
   "cell_type": "code",
   "execution_count": 16,
   "id": "ebc5877a",
   "metadata": {
    "execution": {
     "iopub.execute_input": "2025-05-20T09:48:43.038353Z",
     "iopub.status.busy": "2025-05-20T09:48:43.037794Z",
     "iopub.status.idle": "2025-05-20T09:48:43.044248Z",
     "shell.execute_reply": "2025-05-20T09:48:43.043484Z"
    },
    "papermill": {
     "duration": 0.015155,
     "end_time": "2025-05-20T09:48:43.045507",
     "exception": false,
     "start_time": "2025-05-20T09:48:43.030352",
     "status": "completed"
    },
    "tags": []
   },
   "outputs": [
    {
     "name": "stdout",
     "output_type": "stream",
     "text": [
      "Class distribution in training set: [1739 1742]\n",
      "Class distribution in test set: [437 434]\n"
     ]
    }
   ],
   "source": [
    "# 80/20 split for training and testing\n",
    "X_train, X_test, y_train, y_test = train_test_split(X_balanced, y_balanced, test_size=0.2, random_state=42)\n",
    "\n",
    "# Check class distribution in train and test sets\n",
    "print(f\"Class distribution in training set: {np.bincount(y_train)}\")\n",
    "print(f\"Class distribution in test set: {np.bincount(y_test)}\")"
   ]
  },
  {
   "cell_type": "code",
   "execution_count": 17,
   "id": "49ec809c",
   "metadata": {
    "execution": {
     "iopub.execute_input": "2025-05-20T09:48:43.059982Z",
     "iopub.status.busy": "2025-05-20T09:48:43.059771Z",
     "iopub.status.idle": "2025-05-20T09:48:43.603605Z",
     "shell.execute_reply": "2025-05-20T09:48:43.602863Z"
    },
    "papermill": {
     "duration": 0.552824,
     "end_time": "2025-05-20T09:48:43.605102",
     "exception": false,
     "start_time": "2025-05-20T09:48:43.052278",
     "status": "completed"
    },
    "tags": []
   },
   "outputs": [
    {
     "name": "stdout",
     "output_type": "stream",
     "text": [
      "Logistic Regression Accuracy: 0.8014\n",
      "\n",
      "Logistic Regression Classification Report:\n",
      "               precision    recall  f1-score   support\n",
      "\n",
      "           0       0.82      0.78      0.80       437\n",
      "           1       0.79      0.83      0.81       434\n",
      "\n",
      "    accuracy                           0.80       871\n",
      "   macro avg       0.80      0.80      0.80       871\n",
      "weighted avg       0.80      0.80      0.80       871\n",
      "\n"
     ]
    },
    {
     "data": {
      "image/png": "[encoded data removed]",
      "text/plain": [
       "<Figure size 600x500 with 2 Axes>"
      ]
     },
     "metadata": {},
     "output_type": "display_data"
    }
   ],
   "source": [
    "# Logistic Regression\n",
    "log_model = LogisticRegression(C=1.0, max_iter=1000)\n",
    "log_model.fit(X_train, y_train)\n",
    "\n",
    "# Predict on the test set\n",
    "log_y_pred = log_model.predict(X_test)\n",
    "\n",
    "# Accuracy\n",
    "log_acc = accuracy_score(y_test, log_y_pred)\n",
    "print(f\"Logistic Regression Accuracy: {log_acc:.4f}\")\n",
    "\n",
    "# Classification report\n",
    "print(\"\\nLogistic Regression Classification Report:\\n\", classification_report(y_test, log_y_pred))\n",
    "\n",
    "# Confusion Matrix\n",
    "conf_matrix = confusion_matrix(y_test, log_y_pred)\n",
    "\n",
    "plt.figure(figsize=(6, 5))\n",
    "sns.heatmap(conf_matrix, annot=True, fmt='d', cmap='Blues', xticklabels=[\"Non-Vegan\", \"Vegan\"], yticklabels=[\"Non-Vegan\", \"Vegan\"])\n",
    "plt.xlabel(\"Predicted\")\n",
    "plt.ylabel(\"Actual\")\n",
    "plt.title(\"Confusion Matrix\")\n",
    "plt.show()"
   ]
  },
  {
   "cell_type": "code",
   "execution_count": 18,
   "id": "6c1860b5",
   "metadata": {
    "execution": {
     "iopub.execute_input": "2025-05-20T09:48:43.622691Z",
     "iopub.status.busy": "2025-05-20T09:48:43.622418Z",
     "iopub.status.idle": "2025-05-20T09:48:44.775115Z",
     "shell.execute_reply": "2025-05-20T09:48:44.774237Z"
    },
    "papermill": {
     "duration": 1.162776,
     "end_time": "2025-05-20T09:48:44.776483",
     "exception": false,
     "start_time": "2025-05-20T09:48:43.613707",
     "status": "completed"
    },
    "tags": []
   },
   "outputs": [
    {
     "name": "stdout",
     "output_type": "stream",
     "text": [
      "SVM accuracy: 0.7991\n",
      "\n",
      "Classification Report:\n",
      "              precision    recall  f1-score   support\n",
      "\n",
      "   Non-Vegan       0.82      0.77      0.79       437\n",
      "       Vegan       0.78      0.83      0.80       434\n",
      "\n",
      "    accuracy                           0.80       871\n",
      "   macro avg       0.80      0.80      0.80       871\n",
      "weighted avg       0.80      0.80      0.80       871\n",
      "\n"
     ]
    },
    {
     "data": {
      "image/png": "[encoded data removed]",
      "text/plain": [
       "<Figure size 600x500 with 2 Axes>"
      ]
     },
     "metadata": {},
     "output_type": "display_data"
    }
   ],
   "source": [
    "# SVM\n",
    "svm_model = SVC(kernel='linear')\n",
    "svm_model.fit(X_train, y_train)\n",
    "\n",
    "# Predict on the test set\n",
    "SVM_y_pred = svm_model.predict(X_test)\n",
    "\n",
    "# Accuracy\n",
    "SVM_acc = accuracy_score(y_test, SVM_y_pred)\n",
    "print(f\"SVM accuracy: {SVM_acc:.4f}\")\n",
    "\n",
    "# Classification Report\n",
    "print(\"\\nClassification Report:\")\n",
    "print(classification_report(y_test, SVM_y_pred, target_names=[\"Non-Vegan\", \"Vegan\"]))\n",
    "\n",
    "# Confusion Matrix\n",
    "conf_matrix = confusion_matrix(y_test, SVM_y_pred)\n",
    "\n",
    "plt.figure(figsize=(6, 5))\n",
    "sns.heatmap(conf_matrix, annot=True, fmt='d', cmap='Blues', xticklabels=[\"Non-Vegan\", \"Vegan\"], yticklabels=[\"Non-Vegan\", \"Vegan\"])\n",
    "plt.xlabel(\"Predicted\")\n",
    "plt.ylabel(\"Actual\")\n",
    "plt.title(\"Confusion Matrix\")\n",
    "plt.show()"
   ]
  },
  {
   "cell_type": "markdown",
   "id": "dde13e98",
   "metadata": {
    "papermill": {
     "duration": 0.007695,
     "end_time": "2025-05-20T09:48:44.792983",
     "exception": false,
     "start_time": "2025-05-20T09:48:44.785288",
     "status": "completed"
    },
    "tags": []
   },
   "source": [
    "With a balanced dataset, both models perform good with an overall accuracy of 90%. "
   ]
  },
  {
   "cell_type": "markdown",
   "id": "93af990f",
   "metadata": {
    "papermill": {
     "duration": 0.007134,
     "end_time": "2025-05-20T09:48:44.807704",
     "exception": false,
     "start_time": "2025-05-20T09:48:44.800570",
     "status": "completed"
    },
    "tags": []
   },
   "source": [
    "### LSTM model"
   ]
  },
  {
   "cell_type": "code",
   "execution_count": 19,
   "id": "0949d6db",
   "metadata": {
    "execution": {
     "iopub.execute_input": "2025-05-20T09:48:44.823590Z",
     "iopub.status.busy": "2025-05-20T09:48:44.823039Z",
     "iopub.status.idle": "2025-05-20T09:48:45.571154Z",
     "shell.execute_reply": "2025-05-20T09:48:45.570555Z"
    },
    "papermill": {
     "duration": 0.757757,
     "end_time": "2025-05-20T09:48:45.572775",
     "exception": false,
     "start_time": "2025-05-20T09:48:44.815018",
     "status": "completed"
    },
    "tags": []
   },
   "outputs": [],
   "source": [
    "# Prepare text sequences from tokenized ingredients\n",
    "texts = [\" \".join(tokens) for tokens in tokenized_ingredients]\n",
    "\n",
    "# Tokenize and convert to sequences\n",
    "tokenizer = Tokenizer(oov_token=\"<OOV>\")\n",
    "tokenizer.fit_on_texts(texts)\n",
    "sequences = tokenizer.texts_to_sequences(texts)\n",
    "max_len = max(len(seq) for seq in sequences)\n",
    "X_seq = pad_sequences(sequences, maxlen=max_len, padding='post', truncating='post')"
   ]
  },
  {
   "cell_type": "code",
   "execution_count": 20,
   "id": "b90c74f8",
   "metadata": {
    "execution": {
     "iopub.execute_input": "2025-05-20T09:48:45.589796Z",
     "iopub.status.busy": "2025-05-20T09:48:45.589555Z",
     "iopub.status.idle": "2025-05-20T09:48:45.605172Z",
     "shell.execute_reply": "2025-05-20T09:48:45.604500Z"
    },
    "papermill": {
     "duration": 0.025654,
     "end_time": "2025-05-20T09:48:45.606578",
     "exception": false,
     "start_time": "2025-05-20T09:48:45.580924",
     "status": "completed"
    },
    "tags": []
   },
   "outputs": [],
   "source": [
    "# Prepare the dataset\n",
    "y = df['is_vegan'].values\n",
    "X_train, X_test, y_train, y_test = train_test_split(X_seq, y, test_size=0.2, random_state=42)"
   ]
  },
  {
   "cell_type": "code",
   "execution_count": 21,
   "id": "efa52389",
   "metadata": {
    "execution": {
     "iopub.execute_input": "2025-05-20T09:48:45.623528Z",
     "iopub.status.busy": "2025-05-20T09:48:45.623276Z",
     "iopub.status.idle": "2025-05-20T09:48:55.795884Z",
     "shell.execute_reply": "2025-05-20T09:48:55.795070Z"
    },
    "papermill": {
     "duration": 10.18247,
     "end_time": "2025-05-20T09:48:55.797105",
     "exception": false,
     "start_time": "2025-05-20T09:48:45.614635",
     "status": "completed"
    },
    "tags": []
   },
   "outputs": [
    {
     "name": "stdout",
     "output_type": "stream",
     "text": [
      "Loaded 400000 word vectors from GloVe.\n"
     ]
    }
   ],
   "source": [
    "# Load GloVe embeddings\n",
    "glove_path = \"/kaggle/input/glove6b100dtxt/glove.6B.100d.txt\"  \n",
    "\n",
    "embedding_dim = 100\n",
    "\n",
    "# Load GloVe vectors into a dict\n",
    "embeddings_index = {}\n",
    "with open(glove_path, encoding='utf-8') as f:\n",
    "    for line in f:\n",
    "        values = line.strip().split()\n",
    "        word = values[0]\n",
    "        vector = np.asarray(values[1:], dtype='float32')\n",
    "        embeddings_index[word] = vector\n",
    "\n",
    "print(f\"Loaded {len(embeddings_index)} word vectors from GloVe.\")"
   ]
  },
  {
   "cell_type": "code",
   "execution_count": 22,
   "id": "ee423ad2",
   "metadata": {
    "execution": {
     "iopub.execute_input": "2025-05-20T09:48:55.813290Z",
     "iopub.status.busy": "2025-05-20T09:48:55.813031Z",
     "iopub.status.idle": "2025-05-20T09:48:55.834080Z",
     "shell.execute_reply": "2025-05-20T09:48:55.833338Z"
    },
    "papermill": {
     "duration": 0.03077,
     "end_time": "2025-05-20T09:48:55.835489",
     "exception": false,
     "start_time": "2025-05-20T09:48:55.804719",
     "status": "completed"
    },
    "tags": []
   },
   "outputs": [],
   "source": [
    "# Prepare embedding matrix\n",
    "vocab_size = len(tokenizer.word_index) + 1\n",
    "embedding_matrix = np.zeros((vocab_size, embedding_dim))\n",
    "for word, i in tokenizer.word_index.items():\n",
    "    embedding_vector = embeddings_index.get(word)\n",
    "    if embedding_vector is not None:\n",
    "        embedding_matrix[i] = embedding_vector"
   ]
  },
  {
   "cell_type": "code",
   "execution_count": 23,
   "id": "a516c72c",
   "metadata": {
    "execution": {
     "iopub.execute_input": "2025-05-20T09:48:55.852621Z",
     "iopub.status.busy": "2025-05-20T09:48:55.852401Z",
     "iopub.status.idle": "2025-05-20T09:48:55.861049Z",
     "shell.execute_reply": "2025-05-20T09:48:55.860486Z"
    },
    "papermill": {
     "duration": 0.018543,
     "end_time": "2025-05-20T09:48:55.862192",
     "exception": false,
     "start_time": "2025-05-20T09:48:55.843649",
     "status": "completed"
    },
    "tags": []
   },
   "outputs": [],
   "source": [
    "# Compute class weights\n",
    "class_weights = compute_class_weight(class_weight='balanced', classes=np.unique(y), y=y)\n",
    "class_weight_dict = dict(enumerate(class_weights))"
   ]
  },
  {
   "cell_type": "code",
   "execution_count": 24,
   "id": "db459290",
   "metadata": {
    "execution": {
     "iopub.execute_input": "2025-05-20T09:48:55.878541Z",
     "iopub.status.busy": "2025-05-20T09:48:55.877878Z",
     "iopub.status.idle": "2025-05-20T09:51:12.220247Z",
     "shell.execute_reply": "2025-05-20T09:51:12.219581Z"
    },
    "papermill": {
     "duration": 136.351963,
     "end_time": "2025-05-20T09:51:12.221792",
     "exception": false,
     "start_time": "2025-05-20T09:48:55.869829",
     "status": "completed"
    },
    "tags": []
   },
   "outputs": [
    {
     "name": "stderr",
     "output_type": "stream",
     "text": [
      "/usr/local/lib/python3.11/dist-packages/keras/src/layers/core/embedding.py:90: UserWarning: Argument `input_length` is deprecated. Just remove it.\n",
      "  warnings.warn(\n",
      "I0000 00:00:1747734536.968148      19 gpu_device.cc:2022] Created device /job:localhost/replica:0/task:0/device:GPU:0 with 15513 MB memory:  -> device: 0, name: Tesla P100-PCIE-16GB, pci bus id: 0000:00:04.0, compute capability: 6.0\n"
     ]
    },
    {
     "data": {
      "text/html": [
       "<pre style=\"white-space:pre;overflow-x:auto;line-height:normal;font-family:Menlo,'DejaVu Sans Mono',consolas,'Courier New',monospace\"><span style=\"font-weight: bold\">Model: \"sequential\"</span>\n",
       "</pre>\n"
      ],
      "text/plain": [
       "\u001b[1mModel: \"sequential\"\u001b[0m\n"
      ]
     },
     "metadata": {},
     "output_type": "display_data"
    },
    {
     "data": {
      "text/html": [
       "<pre style=\"white-space:pre;overflow-x:auto;line-height:normal;font-family:Menlo,'DejaVu Sans Mono',consolas,'Courier New',monospace\">┏━━━━━━━━━━━━━━━━━━━━━━━━━━━━━━━━━━━━━━┳━━━━━━━━━━━━━━━━━━━━━━━━━━━━━┳━━━━━━━━━━━━━━━━━┓\n",
       "┃<span style=\"font-weight: bold\"> Layer (type)                         </span>┃<span style=\"font-weight: bold\"> Output Shape                </span>┃<span style=\"font-weight: bold\">         Param # </span>┃\n",
       "┡━━━━━━━━━━━━━━━━━━━━━━━━━━━━━━━━━━━━━━╇━━━━━━━━━━━━━━━━━━━━━━━━━━━━━╇━━━━━━━━━━━━━━━━━┩\n",
       "│ embedding (<span style=\"color: #0087ff; text-decoration-color: #0087ff\">Embedding</span>)                │ (<span style=\"color: #00d7ff; text-decoration-color: #00d7ff\">None</span>, <span style=\"color: #00af00; text-decoration-color: #00af00\">283</span>, <span style=\"color: #00af00; text-decoration-color: #00af00\">100</span>)            │         <span style=\"color: #00af00; text-decoration-color: #00af00\">848,400</span> │\n",
       "├──────────────────────────────────────┼─────────────────────────────┼─────────────────┤\n",
       "│ bidirectional (<span style=\"color: #0087ff; text-decoration-color: #0087ff\">Bidirectional</span>)        │ (<span style=\"color: #00d7ff; text-decoration-color: #00d7ff\">None</span>, <span style=\"color: #00af00; text-decoration-color: #00af00\">128</span>)                 │          <span style=\"color: #00af00; text-decoration-color: #00af00\">84,480</span> │\n",
       "├──────────────────────────────────────┼─────────────────────────────┼─────────────────┤\n",
       "│ dropout (<span style=\"color: #0087ff; text-decoration-color: #0087ff\">Dropout</span>)                    │ (<span style=\"color: #00d7ff; text-decoration-color: #00d7ff\">None</span>, <span style=\"color: #00af00; text-decoration-color: #00af00\">128</span>)                 │               <span style=\"color: #00af00; text-decoration-color: #00af00\">0</span> │\n",
       "├──────────────────────────────────────┼─────────────────────────────┼─────────────────┤\n",
       "│ dense (<span style=\"color: #0087ff; text-decoration-color: #0087ff\">Dense</span>)                        │ (<span style=\"color: #00d7ff; text-decoration-color: #00d7ff\">None</span>, <span style=\"color: #00af00; text-decoration-color: #00af00\">1</span>)                   │             <span style=\"color: #00af00; text-decoration-color: #00af00\">129</span> │\n",
       "└──────────────────────────────────────┴─────────────────────────────┴─────────────────┘\n",
       "</pre>\n"
      ],
      "text/plain": [
       "┏━━━━━━━━━━━━━━━━━━━━━━━━━━━━━━━━━━━━━━┳━━━━━━━━━━━━━━━━━━━━━━━━━━━━━┳━━━━━━━━━━━━━━━━━┓\n",
       "┃\u001b[1m \u001b[0m\u001b[1mLayer (type)                        \u001b[0m\u001b[1m \u001b[0m┃\u001b[1m \u001b[0m\u001b[1mOutput Shape               \u001b[0m\u001b[1m \u001b[0m┃\u001b[1m \u001b[0m\u001b[1m        Param #\u001b[0m\u001b[1m \u001b[0m┃\n",
       "┡━━━━━━━━━━━━━━━━━━━━━━━━━━━━━━━━━━━━━━╇━━━━━━━━━━━━━━━━━━━━━━━━━━━━━╇━━━━━━━━━━━━━━━━━┩\n",
       "│ embedding (\u001b[38;5;33mEmbedding\u001b[0m)                │ (\u001b[38;5;45mNone\u001b[0m, \u001b[38;5;34m283\u001b[0m, \u001b[38;5;34m100\u001b[0m)            │         \u001b[38;5;34m848,400\u001b[0m │\n",
       "├──────────────────────────────────────┼─────────────────────────────┼─────────────────┤\n",
       "│ bidirectional (\u001b[38;5;33mBidirectional\u001b[0m)        │ (\u001b[38;5;45mNone\u001b[0m, \u001b[38;5;34m128\u001b[0m)                 │          \u001b[38;5;34m84,480\u001b[0m │\n",
       "├──────────────────────────────────────┼─────────────────────────────┼─────────────────┤\n",
       "│ dropout (\u001b[38;5;33mDropout\u001b[0m)                    │ (\u001b[38;5;45mNone\u001b[0m, \u001b[38;5;34m128\u001b[0m)                 │               \u001b[38;5;34m0\u001b[0m │\n",
       "├──────────────────────────────────────┼─────────────────────────────┼─────────────────┤\n",
       "│ dense (\u001b[38;5;33mDense\u001b[0m)                        │ (\u001b[38;5;45mNone\u001b[0m, \u001b[38;5;34m1\u001b[0m)                   │             \u001b[38;5;34m129\u001b[0m │\n",
       "└──────────────────────────────────────┴─────────────────────────────┴─────────────────┘\n"
      ]
     },
     "metadata": {},
     "output_type": "display_data"
    },
    {
     "data": {
      "text/html": [
       "<pre style=\"white-space:pre;overflow-x:auto;line-height:normal;font-family:Menlo,'DejaVu Sans Mono',consolas,'Courier New',monospace\"><span style=\"font-weight: bold\"> Total params: </span><span style=\"color: #00af00; text-decoration-color: #00af00\">933,009</span> (3.56 MB)\n",
       "</pre>\n"
      ],
      "text/plain": [
       "\u001b[1m Total params: \u001b[0m\u001b[38;5;34m933,009\u001b[0m (3.56 MB)\n"
      ]
     },
     "metadata": {},
     "output_type": "display_data"
    },
    {
     "data": {
      "text/html": [
       "<pre style=\"white-space:pre;overflow-x:auto;line-height:normal;font-family:Menlo,'DejaVu Sans Mono',consolas,'Courier New',monospace\"><span style=\"font-weight: bold\"> Trainable params: </span><span style=\"color: #00af00; text-decoration-color: #00af00\">933,009</span> (3.56 MB)\n",
       "</pre>\n"
      ],
      "text/plain": [
       "\u001b[1m Trainable params: \u001b[0m\u001b[38;5;34m933,009\u001b[0m (3.56 MB)\n"
      ]
     },
     "metadata": {},
     "output_type": "display_data"
    },
    {
     "data": {
      "text/html": [
       "<pre style=\"white-space:pre;overflow-x:auto;line-height:normal;font-family:Menlo,'DejaVu Sans Mono',consolas,'Courier New',monospace\"><span style=\"font-weight: bold\"> Non-trainable params: </span><span style=\"color: #00af00; text-decoration-color: #00af00\">0</span> (0.00 B)\n",
       "</pre>\n"
      ],
      "text/plain": [
       "\u001b[1m Non-trainable params: \u001b[0m\u001b[38;5;34m0\u001b[0m (0.00 B)\n"
      ]
     },
     "metadata": {},
     "output_type": "display_data"
    },
    {
     "name": "stdout",
     "output_type": "stream",
     "text": [
      "Epoch 1/10\n"
     ]
    },
    {
     "name": "stderr",
     "output_type": "stream",
     "text": [
      "I0000 00:00:1747734542.672912     100 cuda_dnn.cc:529] Loaded cuDNN version 90300\n"
     ]
    },
    {
     "name": "stdout",
     "output_type": "stream",
     "text": [
      "\u001b[1m400/400\u001b[0m \u001b[32m━━━━━━━━━━━━━━━━━━━━\u001b[0m\u001b[37m\u001b[0m \u001b[1m19s\u001b[0m 33ms/step - accuracy: 0.7709 - loss: 0.5008 - val_accuracy: 0.8763 - val_loss: 0.2935\n",
      "Epoch 2/10\n",
      "\u001b[1m400/400\u001b[0m \u001b[32m━━━━━━━━━━━━━━━━━━━━\u001b[0m\u001b[37m\u001b[0m \u001b[1m13s\u001b[0m 32ms/step - accuracy: 0.8976 - loss: 0.2605 - val_accuracy: 0.8703 - val_loss: 0.2815\n",
      "Epoch 3/10\n",
      "\u001b[1m400/400\u001b[0m \u001b[32m━━━━━━━━━━━━━━━━━━━━\u001b[0m\u001b[37m\u001b[0m \u001b[1m13s\u001b[0m 32ms/step - accuracy: 0.9244 - loss: 0.1862 - val_accuracy: 0.8591 - val_loss: 0.3565\n",
      "Epoch 4/10\n",
      "\u001b[1m400/400\u001b[0m \u001b[32m━━━━━━━━━━━━━━━━━━━━\u001b[0m\u001b[37m\u001b[0m \u001b[1m13s\u001b[0m 32ms/step - accuracy: 0.9429 - loss: 0.1401 - val_accuracy: 0.9197 - val_loss: 0.2399\n",
      "Epoch 5/10\n",
      "\u001b[1m400/400\u001b[0m \u001b[32m━━━━━━━━━━━━━━━━━━━━\u001b[0m\u001b[37m\u001b[0m \u001b[1m13s\u001b[0m 32ms/step - accuracy: 0.9591 - loss: 0.1058 - val_accuracy: 0.9397 - val_loss: 0.1537\n",
      "Epoch 6/10\n",
      "\u001b[1m400/400\u001b[0m \u001b[32m━━━━━━━━━━━━━━━━━━━━\u001b[0m\u001b[37m\u001b[0m \u001b[1m13s\u001b[0m 32ms/step - accuracy: 0.9683 - loss: 0.0779 - val_accuracy: 0.9316 - val_loss: 0.1939\n",
      "Epoch 7/10\n",
      "\u001b[1m400/400\u001b[0m \u001b[32m━━━━━━━━━━━━━━━━━━━━\u001b[0m\u001b[37m\u001b[0m \u001b[1m13s\u001b[0m 32ms/step - accuracy: 0.9693 - loss: 0.0687 - val_accuracy: 0.9375 - val_loss: 0.1812\n",
      "Epoch 8/10\n",
      "\u001b[1m400/400\u001b[0m \u001b[32m━━━━━━━━━━━━━━━━━━━━\u001b[0m\u001b[37m\u001b[0m \u001b[1m13s\u001b[0m 32ms/step - accuracy: 0.9774 - loss: 0.0550 - val_accuracy: 0.9384 - val_loss: 0.1995\n",
      "Epoch 9/10\n",
      "\u001b[1m400/400\u001b[0m \u001b[32m━━━━━━━━━━━━━━━━━━━━\u001b[0m\u001b[37m\u001b[0m \u001b[1m13s\u001b[0m 32ms/step - accuracy: 0.9831 - loss: 0.0411 - val_accuracy: 0.9344 - val_loss: 0.2414\n",
      "Epoch 10/10\n",
      "\u001b[1m400/400\u001b[0m \u001b[32m━━━━━━━━━━━━━━━━━━━━\u001b[0m\u001b[37m\u001b[0m \u001b[1m13s\u001b[0m 32ms/step - accuracy: 0.9850 - loss: 0.0381 - val_accuracy: 0.9378 - val_loss: 0.1903\n"
     ]
    }
   ],
   "source": [
    "# LSTM model\n",
    "lstm_model = Sequential([\n",
    "    Embedding(input_dim=vocab_size, output_dim=embedding_dim,\n",
    "              weights=[embedding_matrix], input_length=max_len, trainable=True),\n",
    "    Bidirectional(LSTM(64, return_sequences=False)),\n",
    "    Dropout(0.5),\n",
    "    Dense(1, activation='sigmoid')\n",
    "\n",
    "])\n",
    "\n",
    "lstm_model.compile(loss='binary_crossentropy', optimizer='adam', metrics=['accuracy'])\n",
    "lstm_model.build(input_shape=(None, max_len))\n",
    "lstm_model.summary()\n",
    "\n",
    "history = lstm_model.fit(X_train, y_train, epochs=10, batch_size=32, validation_split=0.2, class_weight=class_weight_dict)"
   ]
  },
  {
   "cell_type": "code",
   "execution_count": 25,
   "id": "47640458",
   "metadata": {
    "execution": {
     "iopub.execute_input": "2025-05-20T09:51:12.424199Z",
     "iopub.status.busy": "2025-05-20T09:51:12.423914Z",
     "iopub.status.idle": "2025-05-20T09:51:14.387633Z",
     "shell.execute_reply": "2025-05-20T09:51:14.386610Z"
    },
    "papermill": {
     "duration": 2.066305,
     "end_time": "2025-05-20T09:51:14.389001",
     "exception": false,
     "start_time": "2025-05-20T09:51:12.322696",
     "status": "completed"
    },
    "tags": []
   },
   "outputs": [
    {
     "name": "stdout",
     "output_type": "stream",
     "text": [
      "\u001b[1m125/125\u001b[0m \u001b[32m━━━━━━━━━━━━━━━━━━━━\u001b[0m\u001b[37m\u001b[0m \u001b[1m2s\u001b[0m 11ms/step\n",
      "LSTM Model Accuracy: 0.9370\n",
      "\n",
      "LSTM Model Classification Report:\n",
      "               precision    recall  f1-score   support\n",
      "\n",
      "           0       0.98      0.95      0.96      3581\n",
      "           1       0.66      0.82      0.73       419\n",
      "\n",
      "    accuracy                           0.94      4000\n",
      "   macro avg       0.82      0.89      0.85      4000\n",
      "weighted avg       0.95      0.94      0.94      4000\n",
      "\n"
     ]
    },
    {
     "data": {
      "image/png": "[encoded data removed]",
      "text/plain": [
       "<Figure size 600x500 with 2 Axes>"
      ]
     },
     "metadata": {},
     "output_type": "display_data"
    }
   ],
   "source": [
    "# Predict on the test set\n",
    "lstm_y_prob = lstm_model.predict(X_test).flatten()\n",
    "lstm_y_pred = (lstm_y_prob >= 0.5).astype(int)\n",
    "\n",
    "# Accuracy\n",
    "lstm_acc = accuracy_score(y_test, lstm_y_pred)\n",
    "print(f\"LSTM Model Accuracy: {lstm_acc:.4f}\")\n",
    "\n",
    "# Classification report\n",
    "print(\"\\nLSTM Model Classification Report:\\n\", classification_report(y_test, lstm_y_pred))\n",
    "\n",
    "# Confusion Matrix\n",
    "conf_matrix = confusion_matrix(y_test, lstm_y_pred)\n",
    "\n",
    "plt.figure(figsize=(6, 5))\n",
    "sns.heatmap(conf_matrix, annot=True, fmt='d', cmap='Blues', xticklabels=[\"Non-Vegan\", \"Vegan\"], yticklabels=[\"Non-Vegan\", \"Vegan\"])\n",
    "plt.xlabel(\"Predicted\")\n",
    "plt.ylabel(\"Actual\")\n",
    "plt.title(\"Confusion Matrix\")\n",
    "plt.show()"
   ]
  }
 ],
 "metadata": {
  "kaggle": {
   "accelerator": "gpu",
   "dataSources": [
    {
     "datasetId": 715814,
     "sourceId": 1246668,
     "sourceType": "datasetVersion"
    },
    {
     "datasetId": 7414075,
     "sourceId": 11805588,
     "sourceType": "datasetVersion"
    }
   ],
   "dockerImageVersionId": 31041,
   "isGpuEnabled": true,
   "isInternetEnabled": true,
   "language": "python",
   "sourceType": "notebook"
  },
  "kernelspec": {
   "display_name": "Python 3",
   "language": "python",
   "name": "python3"
  },
  "language_info": {
   "codemirror_mode": {
    "name": "ipython",
    "version": 3
   },
   "file_extension": ".py",
   "mimetype": "text/x-python",
   "name": "python",
   "nbconvert_exporter": "python",
   "pygments_lexer": "ipython3",
   "version": "3.11.11"
  },
  "papermill": {
   "default_parameters": {},
   "duration": 243.449971,
   "end_time": "2025-05-20T09:51:17.344358",
   "environment_variables": {},
   "exception": null,
   "input_path": "__notebook__.ipynb",
   "output_path": "__notebook__.ipynb",
   "parameters": {},
   "start_time": "2025-05-20T09:47:13.894387",
   "version": "2.6.0"
  }
 },
 "nbformat": 4,
 "nbformat_minor": 5
}
