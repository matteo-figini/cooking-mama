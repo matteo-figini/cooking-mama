{
 "cells": [
  {
   "cell_type": "code",
   "execution_count": 1,
   "id": "62df2f05",
   "metadata": {
    "_cell_guid": "b1076dfc-b9ad-4769-8c92-a6c4dae69d19",
    "_uuid": "8f2839f25d086af736a60e9eeb907d3b93b6e0e5",
    "execution": {
     "iopub.execute_input": "2025-05-10T12:28:07.162576Z",
     "iopub.status.busy": "2025-05-10T12:28:07.162327Z",
     "iopub.status.idle": "2025-05-10T12:28:24.710587Z",
     "shell.execute_reply": "2025-05-10T12:28:24.709871Z"
    },
    "papermill": {
     "duration": 17.554305,
     "end_time": "2025-05-10T12:28:24.712345",
     "exception": false,
     "start_time": "2025-05-10T12:28:07.158040",
     "status": "completed"
    },
    "tags": []
   },
   "outputs": [],
   "source": [
    "import numpy as np # linear algebra\n",
    "import pandas as pd # data processing, CSV file I/O (e.g. pd.read_csv)\n",
    "import ast\n",
    "import re\n",
    "import matplotlib.pyplot as plt\n",
    "import seaborn as sns\n",
    "\n",
    "from gensim.models.word2vec import Word2Vec\n",
    "import nltk\n",
    "from nltk.corpus import stopwords\n",
    "\n",
    "from sklearn.feature_extraction.text import TfidfVectorizer\n",
    "from sklearn.model_selection import train_test_split\n",
    "from sklearn.svm import SVC\n",
    "from sklearn.metrics import classification_report, accuracy_score\n",
    "from sklearn.metrics import accuracy_score, classification_report, confusion_matrix\n",
    "import joblib"
   ]
  },
  {
   "cell_type": "markdown",
   "id": "e5fe7a56",
   "metadata": {
    "papermill": {
     "duration": 0.004324,
     "end_time": "2025-05-10T12:28:24.722503",
     "exception": false,
     "start_time": "2025-05-10T12:28:24.718179",
     "status": "completed"
    },
    "tags": []
   },
   "source": [
    "The dataset has been previously labelled."
   ]
  },
  {
   "cell_type": "code",
   "execution_count": 2,
   "id": "1eee8166",
   "metadata": {
    "execution": {
     "iopub.execute_input": "2025-05-10T12:28:24.732164Z",
     "iopub.status.busy": "2025-05-10T12:28:24.731766Z",
     "iopub.status.idle": "2025-05-10T12:29:11.948417Z",
     "shell.execute_reply": "2025-05-10T12:29:11.947562Z"
    },
    "papermill": {
     "duration": 47.225389,
     "end_time": "2025-05-10T12:29:11.952315",
     "exception": false,
     "start_time": "2025-05-10T12:28:24.726926",
     "status": "completed"
    },
    "tags": []
   },
   "outputs": [
    {
     "data": {
      "text/html": [
       "<div>\n",
       "<style scoped>\n",
       "    .dataframe tbody tr th:only-of-type {\n",
       "        vertical-align: middle;\n",
       "    }\n",
       "\n",
       "    .dataframe tbody tr th {\n",
       "        vertical-align: top;\n",
       "    }\n",
       "\n",
       "    .dataframe thead th {\n",
       "        text-align: right;\n",
       "    }\n",
       "</style>\n",
       "<table border=\"1\" class=\"dataframe\">\n",
       "  <thead>\n",
       "    <tr style=\"text-align: right;\">\n",
       "      <th></th>\n",
       "      <th>Unnamed: 0</th>\n",
       "      <th>title</th>\n",
       "      <th>ingredients</th>\n",
       "      <th>directions</th>\n",
       "      <th>link</th>\n",
       "      <th>source</th>\n",
       "      <th>NER</th>\n",
       "      <th>vegan</th>\n",
       "    </tr>\n",
       "  </thead>\n",
       "  <tbody>\n",
       "    <tr>\n",
       "      <th>0</th>\n",
       "      <td>0</td>\n",
       "      <td>No-Bake Nut Cookies</td>\n",
       "      <td>[\"1 c. firmly packed brown sugar\", \"1/2 c. eva...</td>\n",
       "      <td>[\"In a heavy 2-quart saucepan, mix brown sugar...</td>\n",
       "      <td>www.cookbooks.com/Recipe-Details.aspx?id=44874</td>\n",
       "      <td>Gathered</td>\n",
       "      <td>[\"brown sugar\", \"milk\", \"vanilla\", \"nuts\", \"bu...</td>\n",
       "      <td>0</td>\n",
       "    </tr>\n",
       "    <tr>\n",
       "      <th>1</th>\n",
       "      <td>1</td>\n",
       "      <td>Jewell Ball'S Chicken</td>\n",
       "      <td>[\"1 small jar chipped beef, cut up\", \"4 boned ...</td>\n",
       "      <td>[\"Place chipped beef on bottom of baking dish....</td>\n",
       "      <td>www.cookbooks.com/Recipe-Details.aspx?id=699419</td>\n",
       "      <td>Gathered</td>\n",
       "      <td>[\"beef\", \"chicken breasts\", \"cream of mushroom...</td>\n",
       "      <td>0</td>\n",
       "    </tr>\n",
       "    <tr>\n",
       "      <th>2</th>\n",
       "      <td>2</td>\n",
       "      <td>Creamy Corn</td>\n",
       "      <td>[\"2 (16 oz.) pkg. frozen corn\", \"1 (8 oz.) pkg...</td>\n",
       "      <td>[\"In a slow cooker, combine all ingredients. C...</td>\n",
       "      <td>www.cookbooks.com/Recipe-Details.aspx?id=10570</td>\n",
       "      <td>Gathered</td>\n",
       "      <td>[\"frozen corn\", \"cream cheese\", \"butter\", \"gar...</td>\n",
       "      <td>0</td>\n",
       "    </tr>\n",
       "    <tr>\n",
       "      <th>3</th>\n",
       "      <td>3</td>\n",
       "      <td>Chicken Funny</td>\n",
       "      <td>[\"1 large whole chicken\", \"2 (10 1/2 oz.) cans...</td>\n",
       "      <td>[\"Boil and debone chicken.\", \"Put bite size pi...</td>\n",
       "      <td>www.cookbooks.com/Recipe-Details.aspx?id=897570</td>\n",
       "      <td>Gathered</td>\n",
       "      <td>[\"chicken\", \"chicken gravy\", \"cream of mushroo...</td>\n",
       "      <td>0</td>\n",
       "    </tr>\n",
       "    <tr>\n",
       "      <th>4</th>\n",
       "      <td>4</td>\n",
       "      <td>Reeses Cups(Candy)</td>\n",
       "      <td>[\"1 c. peanut butter\", \"3/4 c. graham cracker ...</td>\n",
       "      <td>[\"Combine first four ingredients and press in ...</td>\n",
       "      <td>www.cookbooks.com/Recipe-Details.aspx?id=659239</td>\n",
       "      <td>Gathered</td>\n",
       "      <td>[\"peanut butter\", \"graham cracker crumbs\", \"bu...</td>\n",
       "      <td>0</td>\n",
       "    </tr>\n",
       "    <tr>\n",
       "      <th>...</th>\n",
       "      <td>...</td>\n",
       "      <td>...</td>\n",
       "      <td>...</td>\n",
       "      <td>...</td>\n",
       "      <td>...</td>\n",
       "      <td>...</td>\n",
       "      <td>...</td>\n",
       "      <td>...</td>\n",
       "    </tr>\n",
       "    <tr>\n",
       "      <th>2231137</th>\n",
       "      <td>2231137</td>\n",
       "      <td>Sunny's Fake Crepes</td>\n",
       "      <td>[\"1/2 cup chocolate hazelnut spread (recommend...</td>\n",
       "      <td>[\"Spread hazelnut spread on 1 side of each tor...</td>\n",
       "      <td>www.foodnetwork.com/recipes/sunny-anderson/sun...</td>\n",
       "      <td>Recipes1M</td>\n",
       "      <td>[\"chocolate hazelnut spread\", \"tortillas\", \"bu...</td>\n",
       "      <td>0</td>\n",
       "    </tr>\n",
       "    <tr>\n",
       "      <th>2231138</th>\n",
       "      <td>2231138</td>\n",
       "      <td>Devil Eggs</td>\n",
       "      <td>[\"1 dozen eggs\", \"1 paprika\", \"1 salt and pepp...</td>\n",
       "      <td>[\"Boil eggs on medium for 30mins.\", \"Then cool...</td>\n",
       "      <td>cookpad.com/us/recipes/355411-devil-eggs</td>\n",
       "      <td>Recipes1M</td>\n",
       "      <td>[\"eggs\", \"paprika\", \"salt\", \"choice\", \"miracle...</td>\n",
       "      <td>0</td>\n",
       "    </tr>\n",
       "    <tr>\n",
       "      <th>2231139</th>\n",
       "      <td>2231139</td>\n",
       "      <td>Extremely Easy and Quick - Namul Daikon Salad</td>\n",
       "      <td>[\"150 grams Daikon radish\", \"1 tbsp Sesame oil...</td>\n",
       "      <td>[\"Julienne the daikon and squeeze out the exce...</td>\n",
       "      <td>cookpad.com/us/recipes/153324-extremely-easy-a...</td>\n",
       "      <td>Recipes1M</td>\n",
       "      <td>[\"radish\", \"Sesame oil\", \"White sesame seeds\",...</td>\n",
       "      <td>0</td>\n",
       "    </tr>\n",
       "    <tr>\n",
       "      <th>2231140</th>\n",
       "      <td>2231140</td>\n",
       "      <td>Pan-Roasted Pork Chops With Apple Fritters</td>\n",
       "      <td>[\"1 cup apple cider\", \"6 tablespoons sugar\", \"...</td>\n",
       "      <td>[\"In a large bowl, mix the apple cider with 4 ...</td>\n",
       "      <td>cooking.nytimes.com/recipes/1015164</td>\n",
       "      <td>Recipes1M</td>\n",
       "      <td>[\"apple cider\", \"sugar\", \"kosher salt\", \"bay l...</td>\n",
       "      <td>0</td>\n",
       "    </tr>\n",
       "    <tr>\n",
       "      <th>2231141</th>\n",
       "      <td>2231141</td>\n",
       "      <td>Polpette in Spicy Tomato Sauce</td>\n",
       "      <td>[\"1 pound ground veal\", \"1/2 pound sweet Itali...</td>\n",
       "      <td>[\"Preheat the oven to 350.\", \"In a bowl, mix t...</td>\n",
       "      <td>www.foodandwine.com/recipes/polpette-spicy-tom...</td>\n",
       "      <td>Recipes1M</td>\n",
       "      <td>[\"ground veal\", \"sausage\", \"bread crumbs\", \"mi...</td>\n",
       "      <td>0</td>\n",
       "    </tr>\n",
       "  </tbody>\n",
       "</table>\n",
       "<p>2231142 rows × 8 columns</p>\n",
       "</div>"
      ],
      "text/plain": [
       "         Unnamed: 0                                          title  \\\n",
       "0                 0                            No-Bake Nut Cookies   \n",
       "1                 1                          Jewell Ball'S Chicken   \n",
       "2                 2                                    Creamy Corn   \n",
       "3                 3                                  Chicken Funny   \n",
       "4                 4                           Reeses Cups(Candy)     \n",
       "...             ...                                            ...   \n",
       "2231137     2231137                            Sunny's Fake Crepes   \n",
       "2231138     2231138                                     Devil Eggs   \n",
       "2231139     2231139  Extremely Easy and Quick - Namul Daikon Salad   \n",
       "2231140     2231140     Pan-Roasted Pork Chops With Apple Fritters   \n",
       "2231141     2231141                 Polpette in Spicy Tomato Sauce   \n",
       "\n",
       "                                               ingredients  \\\n",
       "0        [\"1 c. firmly packed brown sugar\", \"1/2 c. eva...   \n",
       "1        [\"1 small jar chipped beef, cut up\", \"4 boned ...   \n",
       "2        [\"2 (16 oz.) pkg. frozen corn\", \"1 (8 oz.) pkg...   \n",
       "3        [\"1 large whole chicken\", \"2 (10 1/2 oz.) cans...   \n",
       "4        [\"1 c. peanut butter\", \"3/4 c. graham cracker ...   \n",
       "...                                                    ...   \n",
       "2231137  [\"1/2 cup chocolate hazelnut spread (recommend...   \n",
       "2231138  [\"1 dozen eggs\", \"1 paprika\", \"1 salt and pepp...   \n",
       "2231139  [\"150 grams Daikon radish\", \"1 tbsp Sesame oil...   \n",
       "2231140  [\"1 cup apple cider\", \"6 tablespoons sugar\", \"...   \n",
       "2231141  [\"1 pound ground veal\", \"1/2 pound sweet Itali...   \n",
       "\n",
       "                                                directions  \\\n",
       "0        [\"In a heavy 2-quart saucepan, mix brown sugar...   \n",
       "1        [\"Place chipped beef on bottom of baking dish....   \n",
       "2        [\"In a slow cooker, combine all ingredients. C...   \n",
       "3        [\"Boil and debone chicken.\", \"Put bite size pi...   \n",
       "4        [\"Combine first four ingredients and press in ...   \n",
       "...                                                    ...   \n",
       "2231137  [\"Spread hazelnut spread on 1 side of each tor...   \n",
       "2231138  [\"Boil eggs on medium for 30mins.\", \"Then cool...   \n",
       "2231139  [\"Julienne the daikon and squeeze out the exce...   \n",
       "2231140  [\"In a large bowl, mix the apple cider with 4 ...   \n",
       "2231141  [\"Preheat the oven to 350.\", \"In a bowl, mix t...   \n",
       "\n",
       "                                                      link     source  \\\n",
       "0           www.cookbooks.com/Recipe-Details.aspx?id=44874   Gathered   \n",
       "1          www.cookbooks.com/Recipe-Details.aspx?id=699419   Gathered   \n",
       "2           www.cookbooks.com/Recipe-Details.aspx?id=10570   Gathered   \n",
       "3          www.cookbooks.com/Recipe-Details.aspx?id=897570   Gathered   \n",
       "4          www.cookbooks.com/Recipe-Details.aspx?id=659239   Gathered   \n",
       "...                                                    ...        ...   \n",
       "2231137  www.foodnetwork.com/recipes/sunny-anderson/sun...  Recipes1M   \n",
       "2231138           cookpad.com/us/recipes/355411-devil-eggs  Recipes1M   \n",
       "2231139  cookpad.com/us/recipes/153324-extremely-easy-a...  Recipes1M   \n",
       "2231140                cooking.nytimes.com/recipes/1015164  Recipes1M   \n",
       "2231141  www.foodandwine.com/recipes/polpette-spicy-tom...  Recipes1M   \n",
       "\n",
       "                                                       NER  vegan  \n",
       "0        [\"brown sugar\", \"milk\", \"vanilla\", \"nuts\", \"bu...      0  \n",
       "1        [\"beef\", \"chicken breasts\", \"cream of mushroom...      0  \n",
       "2        [\"frozen corn\", \"cream cheese\", \"butter\", \"gar...      0  \n",
       "3        [\"chicken\", \"chicken gravy\", \"cream of mushroo...      0  \n",
       "4        [\"peanut butter\", \"graham cracker crumbs\", \"bu...      0  \n",
       "...                                                    ...    ...  \n",
       "2231137  [\"chocolate hazelnut spread\", \"tortillas\", \"bu...      0  \n",
       "2231138  [\"eggs\", \"paprika\", \"salt\", \"choice\", \"miracle...      0  \n",
       "2231139  [\"radish\", \"Sesame oil\", \"White sesame seeds\",...      0  \n",
       "2231140  [\"apple cider\", \"sugar\", \"kosher salt\", \"bay l...      0  \n",
       "2231141  [\"ground veal\", \"sausage\", \"bread crumbs\", \"mi...      0  \n",
       "\n",
       "[2231142 rows x 8 columns]"
      ]
     },
     "execution_count": 2,
     "metadata": {},
     "output_type": "execute_result"
    }
   ],
   "source": [
    "# Load the dataset from CSV file and show its head\n",
    "df = pd.read_csv(\"/kaggle/input/vegan-dataset/vegan.csv\")\n",
    "df"
   ]
  },
  {
   "cell_type": "code",
   "execution_count": 3,
   "id": "ee15a28e",
   "metadata": {
    "execution": {
     "iopub.execute_input": "2025-05-10T12:29:11.959481Z",
     "iopub.status.busy": "2025-05-10T12:29:11.958848Z",
     "iopub.status.idle": "2025-05-10T12:29:12.684267Z",
     "shell.execute_reply": "2025-05-10T12:29:12.683458Z"
    },
    "papermill": {
     "duration": 0.730406,
     "end_time": "2025-05-10T12:29:12.685783",
     "exception": false,
     "start_time": "2025-05-10T12:29:11.955377",
     "status": "completed"
    },
    "tags": []
   },
   "outputs": [],
   "source": [
    "# Randomly sample the dataset\n",
    "df = df.sample(frac=0.25, random_state=42)"
   ]
  },
  {
   "cell_type": "markdown",
   "id": "7e998f75",
   "metadata": {
    "papermill": {
     "duration": 0.002917,
     "end_time": "2025-05-10T12:29:12.691996",
     "exception": false,
     "start_time": "2025-05-10T12:29:12.689079",
     "status": "completed"
    },
    "tags": []
   },
   "source": [
    "## Word2Vec Training"
   ]
  },
  {
   "cell_type": "code",
   "execution_count": 4,
   "id": "872455ba",
   "metadata": {
    "execution": {
     "iopub.execute_input": "2025-05-10T12:29:12.698573Z",
     "iopub.status.busy": "2025-05-10T12:29:12.698324Z",
     "iopub.status.idle": "2025-05-10T12:29:12.767987Z",
     "shell.execute_reply": "2025-05-10T12:29:12.767256Z"
    },
    "papermill": {
     "duration": 0.074307,
     "end_time": "2025-05-10T12:29:12.769161",
     "exception": false,
     "start_time": "2025-05-10T12:29:12.694854",
     "status": "completed"
    },
    "tags": []
   },
   "outputs": [
    {
     "name": "stderr",
     "output_type": "stream",
     "text": [
      "[nltk_data] Downloading package stopwords to /usr/share/nltk_data...\n",
      "[nltk_data]   Package stopwords is already up-to-date!\n"
     ]
    }
   ],
   "source": [
    "# Download stopwords\n",
    "nltk.download('stopwords')\n",
    "stop_words = set(stopwords.words('english'))"
   ]
  },
  {
   "cell_type": "code",
   "execution_count": 5,
   "id": "0df8bf92",
   "metadata": {
    "execution": {
     "iopub.execute_input": "2025-05-10T12:29:12.776720Z",
     "iopub.status.busy": "2025-05-10T12:29:12.776296Z",
     "iopub.status.idle": "2025-05-10T12:29:44.898843Z",
     "shell.execute_reply": "2025-05-10T12:29:44.898098Z"
    },
    "papermill": {
     "duration": 32.13067,
     "end_time": "2025-05-10T12:29:44.903006",
     "exception": false,
     "start_time": "2025-05-10T12:29:12.772336",
     "status": "completed"
    },
    "tags": []
   },
   "outputs": [
    {
     "name": "stdout",
     "output_type": "stream",
     "text": [
      "[['pound', 'flank', 'steak', 'finely', 'minced', 'green', 'onions', 'scallions', 'dry', 'red', 'wine', 'soy', 'sauce', 'tbsp', 'salad', 'oil', 'teaspoon', 'sesame', 'seeds', 'teaspoon', 'packed', 'brown', 'sugar', 'teaspoon', 'grnd', 'black', 'pepper', 'teaspoon', 'grnd', 'ginger', 'clove', 'garlic', 'chopped'], ['tablespoon', 'rosemary', 'teaspoon', 'thyme', 'bay', 'leaves', 'teaspoon', 'smoked', 'paprika', 'teaspoon', 'pepper', 'cup', 'red', 'wine', 'cups', 'chicken', 'broth', 'cups', 'button', 'mushrooms', 'sliced', 'cups', 'mushroom', 'mix', 'oyster', 'shiitake', 'baby', 'bella', 'sliced', 'medium', 'carrots', 'sliced', 'diagonally', 'onion', 'medium', 'chopped', 'red', 'potato', 'medium', 'cut', 'pieces', 'cup', 'frozen', 'green', 'beans', 'pieces', 'black', 'olives', 'pitted', 'ripe', 'halved', 'handful', 'grape', 'tomatoes', 'halved', 'chicken', 'thighs', 'bones', 'skin', 'lbs', 'stalks', 'celery', 'cups', 'water'], ['carrots', 'tbsp', 'butter', 'brown', 'sugar', 'grated', 'lemon', 'rind', 'juice'], ['cups', 'flour', 'tsp', 'salt', 'pinch', 'baking', 'powder', 'tbls', 'sugar', 'cup', 'crisco', 'egg', 'lightly', 'beaten', 'tsp', 'vinegar', 'ice', 'water'], ['crushed', 'small', 'thin', 'pretzels', 'sticks', 'margarine']]\n"
     ]
    }
   ],
   "source": [
    "# Convert the 'ingredients' column to a list of lists\n",
    "w2v_ingredients = df['ingredients'].apply(ast.literal_eval)\n",
    "\n",
    "# Initialize an empty list to store the cleaned data\n",
    "tokenized_ingredients = []\n",
    "\n",
    "for ingredient_list in w2v_ingredients:\n",
    "    cleaned_list = []\n",
    "    \n",
    "    for ingredient in ingredient_list:\n",
    "        # Remove punctuation and convert to lowercase\n",
    "        ingredient = re.sub(r'[^\\w\\s]', '', ingredient).lower()\n",
    "        # Remove numbers and words nearby (e.g., '200g', '5ml', etc.)\n",
    "        ingredient = re.sub(r'\\b\\d+(\\w+)?\\b', '', ingredient)\n",
    "        \n",
    "        # Tokenize\n",
    "        tokens = ingredient.split()\n",
    "\n",
    "         # Remove stopwords and single-character tokens\n",
    "        tokens = [word for word in tokens if word not in stop_words and len(word) > 1]\n",
    "\n",
    "        # Add the cleaned tokens to the list\n",
    "        cleaned_list.extend(tokens)\n",
    "\n",
    "    # Append the cleaned list to the tokenized_ingredients list\n",
    "    tokenized_ingredients.append(cleaned_list)\n",
    "\n",
    "# Print a few samples to verify\n",
    "print(tokenized_ingredients[:5])"
   ]
  },
  {
   "cell_type": "code",
   "execution_count": 6,
   "id": "6d82cb33",
   "metadata": {
    "execution": {
     "iopub.execute_input": "2025-05-10T12:29:44.910038Z",
     "iopub.status.busy": "2025-05-10T12:29:44.909803Z",
     "iopub.status.idle": "2025-05-10T12:35:24.849456Z",
     "shell.execute_reply": "2025-05-10T12:35:24.848908Z"
    },
    "papermill": {
     "duration": 339.944787,
     "end_time": "2025-05-10T12:35:24.850857",
     "exception": false,
     "start_time": "2025-05-10T12:29:44.906070",
     "status": "completed"
    },
    "tags": []
   },
   "outputs": [],
   "source": [
    "# Train the Word2Vec model\n",
    "model = Word2Vec(\n",
    "    sentences=tokenized_ingredients, \n",
    "    vector_size=50, \n",
    "    window=5, \n",
    "    min_count=5, \n",
    "    sg=1,  # 1 for Skip-Gram, 0 for CBOW\n",
    "    epochs=10\n",
    ")\n",
    "\n",
    "# Save the model for later use\n",
    "model.save(\"w2v_model.model\")"
   ]
  },
  {
   "cell_type": "markdown",
   "id": "52097ae0",
   "metadata": {
    "papermill": {
     "duration": 0.003127,
     "end_time": "2025-05-10T12:35:24.857661",
     "exception": false,
     "start_time": "2025-05-10T12:35:24.854534",
     "status": "completed"
    },
    "tags": []
   },
   "source": [
    "Now, we need to convert the ingredient lists into fixed-length vectors using the trained Word2Vec model. "
   ]
  },
  {
   "cell_type": "code",
   "execution_count": 7,
   "id": "3c3c9e2e",
   "metadata": {
    "execution": {
     "iopub.execute_input": "2025-05-10T12:35:24.864534Z",
     "iopub.status.busy": "2025-05-10T12:35:24.864320Z",
     "iopub.status.idle": "2025-05-10T12:35:34.988488Z",
     "shell.execute_reply": "2025-05-10T12:35:34.987669Z"
    },
    "papermill": {
     "duration": 10.129233,
     "end_time": "2025-05-10T12:35:34.989951",
     "exception": false,
     "start_time": "2025-05-10T12:35:24.860718",
     "status": "completed"
    },
    "tags": []
   },
   "outputs": [],
   "source": [
    "# Combine each ingredient list back into a single string for TF-IDF processing\n",
    "corpus = [\" \".join(ing) for ing in tokenized_ingredients]\n",
    "\n",
    "# Compute TF-IDF scores\n",
    "tfidf_vectorizer = TfidfVectorizer()\n",
    "tfidf_matrix = tfidf_vectorizer.fit_transform(corpus)\n",
    "\n",
    "# Extract TF-IDF feature names\n",
    "feature_names = tfidf_vectorizer.get_feature_names_out()"
   ]
  },
  {
   "cell_type": "code",
   "execution_count": 8,
   "id": "9e4cff08",
   "metadata": {
    "execution": {
     "iopub.execute_input": "2025-05-10T12:35:34.998261Z",
     "iopub.status.busy": "2025-05-10T12:35:34.997793Z",
     "iopub.status.idle": "2025-05-10T12:35:35.010093Z",
     "shell.execute_reply": "2025-05-10T12:35:35.009572Z"
    },
    "papermill": {
     "duration": 0.017021,
     "end_time": "2025-05-10T12:35:35.011047",
     "exception": false,
     "start_time": "2025-05-10T12:35:34.994026",
     "status": "completed"
    },
    "tags": []
   },
   "outputs": [],
   "source": [
    "# Create a dictionary with word-to-tfidf mapping\n",
    "tfidf_dict = dict(zip(feature_names, tfidf_vectorizer.idf_))"
   ]
  },
  {
   "cell_type": "code",
   "execution_count": 9,
   "id": "f7a0d083",
   "metadata": {
    "execution": {
     "iopub.execute_input": "2025-05-10T12:35:35.018334Z",
     "iopub.status.busy": "2025-05-10T12:35:35.017921Z",
     "iopub.status.idle": "2025-05-10T12:35:35.022234Z",
     "shell.execute_reply": "2025-05-10T12:35:35.021724Z"
    },
    "papermill": {
     "duration": 0.008858,
     "end_time": "2025-05-10T12:35:35.023171",
     "exception": false,
     "start_time": "2025-05-10T12:35:35.014313",
     "status": "completed"
    },
    "tags": []
   },
   "outputs": [],
   "source": [
    "def vectorize_ingredients_tfidf(ingredient_list, model, tfidf_dict):\n",
    "    vectors = []\n",
    "    weights = []\n",
    "    \n",
    "    for word in ingredient_list:\n",
    "        if word in model.wv and word in tfidf_dict:\n",
    "            # Get Word2Vec vector\n",
    "            word_vec = model.wv[word]\n",
    "            \n",
    "            # Get TF-IDF weight\n",
    "            weight = tfidf_dict[word]\n",
    "            \n",
    "            # Apply weighting\n",
    "            vectors.append(word_vec * weight)\n",
    "            weights.append(weight)\n",
    "    \n",
    "    # Handle cases with no matching words\n",
    "    if len(vectors) == 0:\n",
    "        return np.zeros(model.vector_size)\n",
    "    \n",
    "    # Calculate weighted average\n",
    "    return np.average(vectors, axis=0, weights=weights)"
   ]
  },
  {
   "cell_type": "code",
   "execution_count": 10,
   "id": "c618a815",
   "metadata": {
    "execution": {
     "iopub.execute_input": "2025-05-10T12:35:35.030282Z",
     "iopub.status.busy": "2025-05-10T12:35:35.030115Z",
     "iopub.status.idle": "2025-05-10T12:36:49.092635Z",
     "shell.execute_reply": "2025-05-10T12:36:49.091844Z"
    },
    "papermill": {
     "duration": 74.070411,
     "end_time": "2025-05-10T12:36:49.096920",
     "exception": false,
     "start_time": "2025-05-10T12:35:35.026509",
     "status": "completed"
    },
    "tags": []
   },
   "outputs": [
    {
     "name": "stdout",
     "output_type": "stream",
     "text": [
      "Shape of ingredient vectors with TF-IDF weighting: (557786, 50)\n"
     ]
    }
   ],
   "source": [
    "# Apply TF-IDF weighted vectorization to the dataset\n",
    "ingredient_vectors_tfidf = np.array([vectorize_ingredients_tfidf(ing, model, tfidf_dict) for ing in tokenized_ingredients])\n",
    "\n",
    "print(f\"Shape of ingredient vectors with TF-IDF weighting: {ingredient_vectors_tfidf.shape}\")"
   ]
  },
  {
   "cell_type": "markdown",
   "id": "39b4a2d3",
   "metadata": {
    "papermill": {
     "duration": 0.003035,
     "end_time": "2025-05-10T12:36:49.103184",
     "exception": false,
     "start_time": "2025-05-10T12:36:49.100149",
     "status": "completed"
    },
    "tags": []
   },
   "source": [
    "## Train a classifier"
   ]
  },
  {
   "cell_type": "code",
   "execution_count": 11,
   "id": "957db53e",
   "metadata": {
    "execution": {
     "iopub.execute_input": "2025-05-10T12:36:49.110357Z",
     "iopub.status.busy": "2025-05-10T12:36:49.110130Z",
     "iopub.status.idle": "2025-05-10T12:36:49.195877Z",
     "shell.execute_reply": "2025-05-10T12:36:49.195074Z"
    },
    "papermill": {
     "duration": 0.090797,
     "end_time": "2025-05-10T12:36:49.197137",
     "exception": false,
     "start_time": "2025-05-10T12:36:49.106340",
     "status": "completed"
    },
    "tags": []
   },
   "outputs": [
    {
     "name": "stdout",
     "output_type": "stream",
     "text": [
      "Number of vegan examples: [[ 1.32458484 -0.91651551 -0.33855809 ... -1.97300574  2.06789318\n",
      "  -0.18402074]\n",
      " [ 1.14370916  0.00917713  0.13111977 ... -0.55755098 -0.17378235\n",
      "   0.17226807]\n",
      " [ 1.28177571  0.17255336 -0.99914426 ... -1.01856643 -0.047168\n",
      "   0.80455285]\n",
      " ...\n",
      " [ 1.05954487  0.20080097  0.0989337  ... -1.80113456  1.6657761\n",
      "   1.04674359]\n",
      " [ 0.73365742 -0.18630368 -0.46531167 ... -2.59154531  1.89292355\n",
      "   1.56091778]\n",
      " [ 1.01247177 -1.14533168 -0.96880242 ... -1.52879473  0.92112796\n",
      "   0.21598872]]\n",
      "Number of non-vegan examples: [[ 0.10029507 -0.44242416 -0.42462041 ... -1.27992647  1.04625799\n",
      "   0.23011776]\n",
      " [ 0.56147917  0.15519166 -0.11813169 ... -2.28731034  2.283699\n",
      "   0.61215164]\n",
      " [ 1.26853413 -0.45699335 -0.37749191 ... -0.5445405  -0.50587446\n",
      "   0.48192087]\n",
      " ...\n",
      " [ 1.83487825 -0.77493648  0.61748989 ... -1.45674162  0.53849659\n",
      "   3.60713775]\n",
      " [ 0.5195996  -0.84978844 -0.51853313 ... -1.22146873  1.71263754\n",
      "   1.03241999]\n",
      " [ 1.4342246  -1.02246483 -0.26663505 ... -0.36620004 -0.02794849\n",
      "   1.94219421]]\n"
     ]
    }
   ],
   "source": [
    "y = df['vegan'].values\n",
    "print(f\"Number of vegan examples: {ingredient_vectors_tfidf[y == 1]}\")\n",
    "print(f\"Number of non-vegan examples: {ingredient_vectors_tfidf[y == 0]}\")"
   ]
  },
  {
   "cell_type": "markdown",
   "id": "af280840",
   "metadata": {
    "papermill": {
     "duration": 0.003242,
     "end_time": "2025-05-10T12:36:49.204032",
     "exception": false,
     "start_time": "2025-05-10T12:36:49.200790",
     "status": "completed"
    },
    "tags": []
   },
   "source": [
    "As we can see the dataset is highly unbalanced (as expected)."
   ]
  },
  {
   "cell_type": "code",
   "execution_count": 12,
   "id": "ae2ca075",
   "metadata": {
    "execution": {
     "iopub.execute_input": "2025-05-10T12:36:49.214179Z",
     "iopub.status.busy": "2025-05-10T12:36:49.213939Z",
     "iopub.status.idle": "2025-05-10T12:36:49.372041Z",
     "shell.execute_reply": "2025-05-10T12:36:49.371228Z"
    },
    "papermill": {
     "duration": 0.164515,
     "end_time": "2025-05-10T12:36:49.373348",
     "exception": false,
     "start_time": "2025-05-10T12:36:49.208833",
     "status": "completed"
    },
    "tags": []
   },
   "outputs": [
    {
     "name": "stdout",
     "output_type": "stream",
     "text": [
      "Balanced dataset shape: (147382, 50)\n",
      "Class distribution after balancing: [73691 73691]\n"
     ]
    }
   ],
   "source": [
    "# Separate vegan and non-vegan samples\n",
    "X_vegan = ingredient_vectors_tfidf[y == 1]\n",
    "X_non_vegan = ingredient_vectors_tfidf[y == 0]\n",
    "\n",
    "y_vegan = y[y == 1]\n",
    "y_non_vegan = y[y == 0]\n",
    "\n",
    "# Determine the smaller class size\n",
    "min_samples = min(len(X_vegan), len(X_non_vegan))\n",
    "\n",
    "# Subsample both classes to ensure a 50/50 balance\n",
    "X_vegan_balanced = X_vegan[:min_samples]\n",
    "y_vegan_balanced = y_vegan[:min_samples]\n",
    "\n",
    "X_non_vegan_balanced = X_non_vegan[:min_samples]\n",
    "y_non_vegan_balanced = y_non_vegan[:min_samples]\n",
    "\n",
    "# Concatenate the balanced dataset\n",
    "X_balanced = np.vstack((X_vegan_balanced, X_non_vegan_balanced))\n",
    "y_balanced = np.hstack((y_vegan_balanced, y_non_vegan_balanced))\n",
    "\n",
    "# Shuffle the dataset\n",
    "shuffled_indices = np.random.permutation(len(y_balanced))\n",
    "X_balanced = X_balanced[shuffled_indices]\n",
    "y_balanced = y_balanced[shuffled_indices]\n",
    "\n",
    "print(f\"Balanced dataset shape: {X_balanced.shape}\")\n",
    "print(f\"Class distribution after balancing: {np.bincount(y_balanced)}\")"
   ]
  },
  {
   "cell_type": "code",
   "execution_count": 13,
   "id": "410b36e7",
   "metadata": {
    "execution": {
     "iopub.execute_input": "2025-05-10T12:36:49.381309Z",
     "iopub.status.busy": "2025-05-10T12:36:49.381090Z",
     "iopub.status.idle": "2025-05-10T12:36:49.416889Z",
     "shell.execute_reply": "2025-05-10T12:36:49.416049Z"
    },
    "papermill": {
     "duration": 0.04103,
     "end_time": "2025-05-10T12:36:49.418182",
     "exception": false,
     "start_time": "2025-05-10T12:36:49.377152",
     "status": "completed"
    },
    "tags": []
   },
   "outputs": [
    {
     "name": "stdout",
     "output_type": "stream",
     "text": [
      "Training set size: (117905, 50)\n",
      "Test set size: (29477, 50)\n",
      "Class distribution in training set: [58888 59017]\n",
      "Class distribution in test set: [14803 14674]\n"
     ]
    }
   ],
   "source": [
    "# 80/20 split for training and testing\n",
    "X_train, X_test, y_train, y_test = train_test_split(X_balanced, y_balanced, test_size=0.2, random_state=42)\n",
    "\n",
    "print(f\"Training set size: {X_train.shape}\")\n",
    "print(f\"Test set size: {X_test.shape}\")\n",
    "\n",
    "# Check class distribution in train and test sets\n",
    "print(f\"Class distribution in training set: {np.bincount(y_train)}\")\n",
    "print(f\"Class distribution in test set: {np.bincount(y_test)}\")"
   ]
  },
  {
   "cell_type": "code",
   "execution_count": 14,
   "id": "67eccb03",
   "metadata": {
    "execution": {
     "iopub.execute_input": "2025-05-10T12:36:49.426456Z",
     "iopub.status.busy": "2025-05-10T12:36:49.426235Z",
     "iopub.status.idle": "2025-05-10T14:20:42.966792Z",
     "shell.execute_reply": "2025-05-10T14:20:42.966112Z"
    },
    "papermill": {
     "duration": 6233.550062,
     "end_time": "2025-05-10T14:20:42.972156",
     "exception": false,
     "start_time": "2025-05-10T12:36:49.422094",
     "status": "completed"
    },
    "tags": []
   },
   "outputs": [
    {
     "data": {
      "text/html": [
       "<style>#sk-container-id-1 {color: black;background-color: white;}#sk-container-id-1 pre{padding: 0;}#sk-container-id-1 div.sk-toggleable {background-color: white;}#sk-container-id-1 label.sk-toggleable__label {cursor: pointer;display: block;width: 100%;margin-bottom: 0;padding: 0.3em;box-sizing: border-box;text-align: center;}#sk-container-id-1 label.sk-toggleable__label-arrow:before {content: \"▸\";float: left;margin-right: 0.25em;color: #696969;}#sk-container-id-1 label.sk-toggleable__label-arrow:hover:before {color: black;}#sk-container-id-1 div.sk-estimator:hover label.sk-toggleable__label-arrow:before {color: black;}#sk-container-id-1 div.sk-toggleable__content {max-height: 0;max-width: 0;overflow: hidden;text-align: left;background-color: #f0f8ff;}#sk-container-id-1 div.sk-toggleable__content pre {margin: 0.2em;color: black;border-radius: 0.25em;background-color: #f0f8ff;}#sk-container-id-1 input.sk-toggleable__control:checked~div.sk-toggleable__content {max-height: 200px;max-width: 100%;overflow: auto;}#sk-container-id-1 input.sk-toggleable__control:checked~label.sk-toggleable__label-arrow:before {content: \"▾\";}#sk-container-id-1 div.sk-estimator input.sk-toggleable__control:checked~label.sk-toggleable__label {background-color: #d4ebff;}#sk-container-id-1 div.sk-label input.sk-toggleable__control:checked~label.sk-toggleable__label {background-color: #d4ebff;}#sk-container-id-1 input.sk-hidden--visually {border: 0;clip: rect(1px 1px 1px 1px);clip: rect(1px, 1px, 1px, 1px);height: 1px;margin: -1px;overflow: hidden;padding: 0;position: absolute;width: 1px;}#sk-container-id-1 div.sk-estimator {font-family: monospace;background-color: #f0f8ff;border: 1px dotted black;border-radius: 0.25em;box-sizing: border-box;margin-bottom: 0.5em;}#sk-container-id-1 div.sk-estimator:hover {background-color: #d4ebff;}#sk-container-id-1 div.sk-parallel-item::after {content: \"\";width: 100%;border-bottom: 1px solid gray;flex-grow: 1;}#sk-container-id-1 div.sk-label:hover label.sk-toggleable__label {background-color: #d4ebff;}#sk-container-id-1 div.sk-serial::before {content: \"\";position: absolute;border-left: 1px solid gray;box-sizing: border-box;top: 0;bottom: 0;left: 50%;z-index: 0;}#sk-container-id-1 div.sk-serial {display: flex;flex-direction: column;align-items: center;background-color: white;padding-right: 0.2em;padding-left: 0.2em;position: relative;}#sk-container-id-1 div.sk-item {position: relative;z-index: 1;}#sk-container-id-1 div.sk-parallel {display: flex;align-items: stretch;justify-content: center;background-color: white;position: relative;}#sk-container-id-1 div.sk-item::before, #sk-container-id-1 div.sk-parallel-item::before {content: \"\";position: absolute;border-left: 1px solid gray;box-sizing: border-box;top: 0;bottom: 0;left: 50%;z-index: -1;}#sk-container-id-1 div.sk-parallel-item {display: flex;flex-direction: column;z-index: 1;position: relative;background-color: white;}#sk-container-id-1 div.sk-parallel-item:first-child::after {align-self: flex-end;width: 50%;}#sk-container-id-1 div.sk-parallel-item:last-child::after {align-self: flex-start;width: 50%;}#sk-container-id-1 div.sk-parallel-item:only-child::after {width: 0;}#sk-container-id-1 div.sk-dashed-wrapped {border: 1px dashed gray;margin: 0 0.4em 0.5em 0.4em;box-sizing: border-box;padding-bottom: 0.4em;background-color: white;}#sk-container-id-1 div.sk-label label {font-family: monospace;font-weight: bold;display: inline-block;line-height: 1.2em;}#sk-container-id-1 div.sk-label-container {text-align: center;}#sk-container-id-1 div.sk-container {/* jupyter's `normalize.less` sets `[hidden] { display: none; }` but bootstrap.min.css set `[hidden] { display: none !important; }` so we also need the `!important` here to be able to override the default hidden behavior on the sphinx rendered scikit-learn.org. See: https://github.com/scikit-learn/scikit-learn/issues/21755 */display: inline-block !important;position: relative;}#sk-container-id-1 div.sk-text-repr-fallback {display: none;}</style><div id=\"sk-container-id-1\" class=\"sk-top-container\"><div class=\"sk-text-repr-fallback\"><pre>SVC(class_weight={0: 1, 1: 2}, kernel=&#x27;linear&#x27;)</pre><b>In a Jupyter environment, please rerun this cell to show the HTML representation or trust the notebook. <br />On GitHub, the HTML representation is unable to render, please try loading this page with nbviewer.org.</b></div><div class=\"sk-container\" hidden><div class=\"sk-item\"><div class=\"sk-estimator sk-toggleable\"><input class=\"sk-toggleable__control sk-hidden--visually\" id=\"sk-estimator-id-1\" type=\"checkbox\" checked><label for=\"sk-estimator-id-1\" class=\"sk-toggleable__label sk-toggleable__label-arrow\">SVC</label><div class=\"sk-toggleable__content\"><pre>SVC(class_weight={0: 1, 1: 2}, kernel=&#x27;linear&#x27;)</pre></div></div></div></div></div>"
      ],
      "text/plain": [
       "SVC(class_weight={0: 1, 1: 2}, kernel='linear')"
      ]
     },
     "execution_count": 14,
     "metadata": {},
     "output_type": "execute_result"
    }
   ],
   "source": [
    "# Train SVM with class weight adjustment\n",
    "svm_model = SVC(kernel='linear', class_weight={0: 1, 1: 2})\n",
    "svm_model.fit(X_train, y_train)"
   ]
  },
  {
   "cell_type": "markdown",
   "id": "a5c22cb3",
   "metadata": {
    "papermill": {
     "duration": 0.003337,
     "end_time": "2025-05-10T14:20:42.979273",
     "exception": false,
     "start_time": "2025-05-10T14:20:42.975936",
     "status": "completed"
    },
    "tags": []
   },
   "source": [
    "Now, we evaluate the model."
   ]
  },
  {
   "cell_type": "code",
   "execution_count": 15,
   "id": "a0f8c8b3",
   "metadata": {
    "execution": {
     "iopub.execute_input": "2025-05-10T14:20:42.987388Z",
     "iopub.status.busy": "2025-05-10T14:20:42.987164Z",
     "iopub.status.idle": "2025-05-10T14:21:43.660736Z",
     "shell.execute_reply": "2025-05-10T14:21:43.660061Z"
    },
    "papermill": {
     "duration": 60.678993,
     "end_time": "2025-05-10T14:21:43.661918",
     "exception": false,
     "start_time": "2025-05-10T14:20:42.982925",
     "status": "completed"
    },
    "tags": []
   },
   "outputs": [
    {
     "name": "stdout",
     "output_type": "stream",
     "text": [
      "Accuracy: 0.7657\n",
      "\n",
      "Classification Report:\n",
      "              precision    recall  f1-score   support\n",
      "\n",
      "   Non-Vegan       0.87      0.63      0.73     14803\n",
      "       Vegan       0.71      0.90      0.79     14674\n",
      "\n",
      "    accuracy                           0.77     29477\n",
      "   macro avg       0.79      0.77      0.76     29477\n",
      "weighted avg       0.79      0.77      0.76     29477\n",
      "\n"
     ]
    },
    {
     "data": {
      "image/png": "[encoded data removed]",
      "text/plain": [
       "<Figure size 600x500 with 2 Axes>"
      ]
     },
     "metadata": {},
     "output_type": "display_data"
    }
   ],
   "source": [
    "# Predict on the test set\n",
    "y_pred = svm_model.predict(X_test)\n",
    "\n",
    "# Accuracy\n",
    "accuracy = accuracy_score(y_test, y_pred)\n",
    "print(f\"Accuracy: {accuracy:.4f}\")\n",
    "\n",
    "# Classification Report\n",
    "print(\"\\nClassification Report:\")\n",
    "print(classification_report(y_test, y_pred, target_names=[\"Non-Vegan\", \"Vegan\"]))\n",
    "\n",
    "# Confusion Matrix\n",
    "conf_matrix = confusion_matrix(y_test, y_pred)\n",
    "\n",
    "plt.figure(figsize=(6, 5))\n",
    "sns.heatmap(conf_matrix, annot=True, fmt='d', cmap='Blues', xticklabels=[\"Non-Vegan\", \"Vegan\"], yticklabels=[\"Non-Vegan\", \"Vegan\"])\n",
    "plt.xlabel(\"Predicted\")\n",
    "plt.ylabel(\"Actual\")\n",
    "plt.title(\"Confusion Matrix\")\n",
    "plt.show()"
   ]
  },
  {
   "cell_type": "code",
   "execution_count": 16,
   "id": "9e6dbc85",
   "metadata": {
    "execution": {
     "iopub.execute_input": "2025-05-10T14:21:43.671265Z",
     "iopub.status.busy": "2025-05-10T14:21:43.671068Z",
     "iopub.status.idle": "2025-05-10T14:21:43.701791Z",
     "shell.execute_reply": "2025-05-10T14:21:43.701121Z"
    },
    "papermill": {
     "duration": 0.03662,
     "end_time": "2025-05-10T14:21:43.702960",
     "exception": false,
     "start_time": "2025-05-10T14:21:43.666340",
     "status": "completed"
    },
    "tags": []
   },
   "outputs": [
    {
     "data": {
      "text/plain": [
       "['svm_model.pkl']"
      ]
     },
     "execution_count": 16,
     "metadata": {},
     "output_type": "execute_result"
    }
   ],
   "source": [
    "# Save the SVM model\n",
    "joblib.dump(svm_model, \"svm_model.pkl\")"
   ]
  }
 ],
 "metadata": {
  "kaggle": {
   "accelerator": "gpu",
   "dataSources": [
    {
     "sourceId": 238881488,
     "sourceType": "kernelVersion"
    }
   ],
   "dockerImageVersionId": 31011,
   "isGpuEnabled": true,
   "isInternetEnabled": true,
   "language": "python",
   "sourceType": "notebook"
  },
  "kernelspec": {
   "display_name": "Python 3",
   "language": "python",
   "name": "python3"
  },
  "language_info": {
   "codemirror_mode": {
    "name": "ipython",
    "version": 3
   },
   "file_extension": ".py",
   "mimetype": "text/x-python",
   "name": "python",
   "nbconvert_exporter": "python",
   "pygments_lexer": "ipython3",
   "version": "3.11.11"
  },
  "papermill": {
   "default_parameters": {},
   "duration": 6823.194574,
   "end_time": "2025-05-10T14:21:46.431032",
   "environment_variables": {},
   "exception": null,
   "input_path": "__notebook__.ipynb",
   "output_path": "__notebook__.ipynb",
   "parameters": {},
   "start_time": "2025-05-10T12:28:03.236458",
   "version": "2.6.0"
  }
 },
 "nbformat": 4,
 "nbformat_minor": 5
}
