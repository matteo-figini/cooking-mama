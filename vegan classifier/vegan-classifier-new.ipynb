{
 "cells": [
  {
   "cell_type": "code",
   "execution_count": 1,
   "id": "c7b2bb56",
   "metadata": {
    "_cell_guid": "b1076dfc-b9ad-4769-8c92-a6c4dae69d19",
    "_uuid": "8f2839f25d086af736a60e9eeb907d3b93b6e0e5",
    "execution": {
     "iopub.execute_input": "2025-05-14T07:49:05.999928Z",
     "iopub.status.busy": "2025-05-14T07:49:05.999657Z",
     "iopub.status.idle": "2025-05-14T07:49:24.596423Z",
     "shell.execute_reply": "2025-05-14T07:49:24.595831Z"
    },
    "papermill": {
     "duration": 18.602827,
     "end_time": "2025-05-14T07:49:24.597846",
     "exception": false,
     "start_time": "2025-05-14T07:49:05.995019",
     "status": "completed"
    },
    "tags": []
   },
   "outputs": [],
   "source": [
    "import numpy as np # linear algebra\n",
    "import pandas as pd # data processing, CSV file I/O (e.g. pd.read_csv)\n",
    "import ast\n",
    "import re\n",
    "import matplotlib.pyplot as plt\n",
    "import seaborn as sns\n",
    "\n",
    "from gensim.models.word2vec import Word2Vec\n",
    "import nltk\n",
    "from nltk.corpus import stopwords\n",
    "\n",
    "from sklearn.feature_extraction.text import TfidfVectorizer\n",
    "from sklearn.model_selection import train_test_split\n",
    "from sklearn.svm import SVC\n",
    "from sklearn.metrics import classification_report, accuracy_score\n",
    "from sklearn.metrics import accuracy_score, classification_report, confusion_matrix\n",
    "import joblib"
   ]
  },
  {
   "cell_type": "markdown",
   "id": "a0377032",
   "metadata": {
    "papermill": {
     "duration": 0.002765,
     "end_time": "2025-05-14T07:49:24.603941",
     "exception": false,
     "start_time": "2025-05-14T07:49:24.601176",
     "status": "completed"
    },
    "tags": []
   },
   "source": [
    "The dataset has been previously labelled."
   ]
  },
  {
   "cell_type": "code",
   "execution_count": 2,
   "id": "f1a7b798",
   "metadata": {
    "execution": {
     "iopub.execute_input": "2025-05-14T07:49:24.610487Z",
     "iopub.status.busy": "2025-05-14T07:49:24.610088Z",
     "iopub.status.idle": "2025-05-14T07:49:24.789479Z",
     "shell.execute_reply": "2025-05-14T07:49:24.788720Z"
    },
    "papermill": {
     "duration": 0.184022,
     "end_time": "2025-05-14T07:49:24.790756",
     "exception": false,
     "start_time": "2025-05-14T07:49:24.606734",
     "status": "completed"
    },
    "tags": []
   },
   "outputs": [
    {
     "data": {
      "text/html": [
       "<div>\n",
       "<style scoped>\n",
       "    .dataframe tbody tr th:only-of-type {\n",
       "        vertical-align: middle;\n",
       "    }\n",
       "\n",
       "    .dataframe tbody tr th {\n",
       "        vertical-align: top;\n",
       "    }\n",
       "\n",
       "    .dataframe thead th {\n",
       "        text-align: right;\n",
       "    }\n",
       "</style>\n",
       "<table border=\"1\" class=\"dataframe\">\n",
       "  <thead>\n",
       "    <tr style=\"text-align: right;\">\n",
       "      <th></th>\n",
       "      <th>ingredients</th>\n",
       "      <th>is_vegan</th>\n",
       "    </tr>\n",
       "  </thead>\n",
       "  <tbody>\n",
       "    <tr>\n",
       "      <th>0</th>\n",
       "      <td>[\"1 cup shredded cheddar cheese\", \"1 cup chopp...</td>\n",
       "      <td>0</td>\n",
       "    </tr>\n",
       "    <tr>\n",
       "      <th>1</th>\n",
       "      <td>[\"1 pie crust\", \"1/2 lb. ground beef (you can ...</td>\n",
       "      <td>0</td>\n",
       "    </tr>\n",
       "    <tr>\n",
       "      <th>2</th>\n",
       "      <td>[\"2 small orange jello\", \"2 c. boiling water\",...</td>\n",
       "      <td>0</td>\n",
       "    </tr>\n",
       "    <tr>\n",
       "      <th>3</th>\n",
       "      <td>[\"12 (2 1/2-inch) square graham crackers, crum...</td>\n",
       "      <td>0</td>\n",
       "    </tr>\n",
       "    <tr>\n",
       "      <th>4</th>\n",
       "      <td>[\"1 (8 ounce.) pkg. cream cheese\", \"1 sm. jar ...</td>\n",
       "      <td>0</td>\n",
       "    </tr>\n",
       "    <tr>\n",
       "      <th>...</th>\n",
       "      <td>...</td>\n",
       "      <td>...</td>\n",
       "    </tr>\n",
       "    <tr>\n",
       "      <th>19995</th>\n",
       "      <td>[\"1 lb. hamburger, browned\", \"1 chopped onion\"...</td>\n",
       "      <td>0</td>\n",
       "    </tr>\n",
       "    <tr>\n",
       "      <th>19996</th>\n",
       "      <td>[\"4 c. White Lily self-rising flour\", \"2 Tbsp....</td>\n",
       "      <td>0</td>\n",
       "    </tr>\n",
       "    <tr>\n",
       "      <th>19997</th>\n",
       "      <td>[\"1 c. mayonnaise\", \"1 tsp. onion, scraped\", \"...</td>\n",
       "      <td>0</td>\n",
       "    </tr>\n",
       "    <tr>\n",
       "      <th>19998</th>\n",
       "      <td>[\"1 1/2 c. sugar\", \"2 eggs\", \"2 c. Wesson oil\"...</td>\n",
       "      <td>0</td>\n",
       "    </tr>\n",
       "    <tr>\n",
       "      <th>19999</th>\n",
       "      <td>[\"add matzoh meal to potatoes\", \"1 1/2 c flour...</td>\n",
       "      <td>0</td>\n",
       "    </tr>\n",
       "  </tbody>\n",
       "</table>\n",
       "<p>20000 rows × 2 columns</p>\n",
       "</div>"
      ],
      "text/plain": [
       "                                             ingredients  is_vegan\n",
       "0      [\"1 cup shredded cheddar cheese\", \"1 cup chopp...         0\n",
       "1      [\"1 pie crust\", \"1/2 lb. ground beef (you can ...         0\n",
       "2      [\"2 small orange jello\", \"2 c. boiling water\",...         0\n",
       "3      [\"12 (2 1/2-inch) square graham crackers, crum...         0\n",
       "4      [\"1 (8 ounce.) pkg. cream cheese\", \"1 sm. jar ...         0\n",
       "...                                                  ...       ...\n",
       "19995  [\"1 lb. hamburger, browned\", \"1 chopped onion\"...         0\n",
       "19996  [\"4 c. White Lily self-rising flour\", \"2 Tbsp....         0\n",
       "19997  [\"1 c. mayonnaise\", \"1 tsp. onion, scraped\", \"...         0\n",
       "19998  [\"1 1/2 c. sugar\", \"2 eggs\", \"2 c. Wesson oil\"...         0\n",
       "19999  [\"add matzoh meal to potatoes\", \"1 1/2 c flour...         0\n",
       "\n",
       "[20000 rows x 2 columns]"
      ]
     },
     "execution_count": 2,
     "metadata": {},
     "output_type": "execute_result"
    }
   ],
   "source": [
    "# Load the dataset from CSV file and show its head\n",
    "df = pd.read_csv(\"/kaggle/input/vegan-20k/vegan_20k.csv\", delimiter=\";\")\n",
    "df"
   ]
  },
  {
   "cell_type": "markdown",
   "id": "ae8c8c9e",
   "metadata": {
    "papermill": {
     "duration": 0.002956,
     "end_time": "2025-05-14T07:49:24.797141",
     "exception": false,
     "start_time": "2025-05-14T07:49:24.794185",
     "status": "completed"
    },
    "tags": []
   },
   "source": [
    "## Word2Vec Training"
   ]
  },
  {
   "cell_type": "code",
   "execution_count": 3,
   "id": "cfe027e9",
   "metadata": {
    "execution": {
     "iopub.execute_input": "2025-05-14T07:49:24.804201Z",
     "iopub.status.busy": "2025-05-14T07:49:24.803720Z",
     "iopub.status.idle": "2025-05-14T07:49:24.869179Z",
     "shell.execute_reply": "2025-05-14T07:49:24.868326Z"
    },
    "papermill": {
     "duration": 0.070102,
     "end_time": "2025-05-14T07:49:24.870215",
     "exception": false,
     "start_time": "2025-05-14T07:49:24.800113",
     "status": "completed"
    },
    "tags": []
   },
   "outputs": [
    {
     "name": "stderr",
     "output_type": "stream",
     "text": [
      "[nltk_data] Downloading package stopwords to /usr/share/nltk_data...\n",
      "[nltk_data]   Package stopwords is already up-to-date!\n"
     ]
    }
   ],
   "source": [
    "# Download stopwords\n",
    "nltk.download('stopwords')\n",
    "stop_words = set(stopwords.words('english'))"
   ]
  },
  {
   "cell_type": "code",
   "execution_count": 4,
   "id": "51e8267c",
   "metadata": {
    "execution": {
     "iopub.execute_input": "2025-05-14T07:49:24.877160Z",
     "iopub.status.busy": "2025-05-14T07:49:24.876949Z",
     "iopub.status.idle": "2025-05-14T07:49:26.293393Z",
     "shell.execute_reply": "2025-05-14T07:49:26.292594Z"
    },
    "papermill": {
     "duration": 1.421209,
     "end_time": "2025-05-14T07:49:26.294537",
     "exception": false,
     "start_time": "2025-05-14T07:49:24.873328",
     "status": "completed"
    },
    "tags": []
   },
   "outputs": [
    {
     "name": "stdout",
     "output_type": "stream",
     "text": [
      "[['cup', 'shredded', 'cheddar', 'cheese', 'cup', 'chopped', 'pimento', 'stuffed', 'olive', 'tablespoon', 'minced', 'onion', 'cup', 'dried', 'beef', 'chopped', 'cup', 'mayonnaise', 'loaf', 'sliced', 'rye', 'cocktail', 'bread'], ['pie', 'crust', 'lb', 'ground', 'beef', 'use', 'sausage', 'ham', 'bacon', 'mayonnaise', 'milk', 'eggs', 'tbsp', 'cornstarch', 'sliced', 'green', 'onions', 'grated', 'cheddar', 'cheese', 'diced', 'bell', 'pepper', 'tsp', 'salt', 'tsp', 'pepper'], ['small', 'orange', 'jello', 'boiling', 'water', 'small', 'crushed', 'pineapple', 'small', 'frozen', 'orange', 'juice', 'small', 'mandarin', 'oranges', 'pkg', 'instant', 'lemon', 'pudding', 'milk', 'pkg', 'dream', 'whip', 'prepared'], ['square', 'graham', 'crackers', 'crumbled', 'tbsp', 'reduced', 'calorie', 'margarine', 'melted', 'low', 'fat', 'cottage', 'cheese', 'pkg', 'sweetener', 'small', 'pkg', 'lemon', 'jello', 'sugar', 'free', 'boiling', 'water'], ['ounce', 'pkg', 'cream', 'cheese', 'sm', 'jar', 'old', 'english', 'cheese', 'tbsp', 'lipton', 'onion', 'soup', 'mix', 'pkg', 'dry', 'beef']]\n"
     ]
    }
   ],
   "source": [
    "# Convert the 'ingredients' column to a list of lists\n",
    "w2v_ingredients = df['ingredients'].apply(ast.literal_eval)\n",
    "\n",
    "# Initialize an empty list to store the cleaned data\n",
    "tokenized_ingredients = []\n",
    "\n",
    "for ingredient_list in w2v_ingredients:\n",
    "    cleaned_list = []\n",
    "    \n",
    "    for ingredient in ingredient_list:\n",
    "        # Remove punctuation and convert to lowercase\n",
    "        ingredient = re.sub(r'[^\\w\\s]', '', ingredient).lower()\n",
    "        # Remove numbers and words nearby (e.g., '200g', '5ml', etc.)\n",
    "        ingredient = re.sub(r'\\b\\d+(\\w+)?\\b', '', ingredient)\n",
    "        \n",
    "        # Tokenize\n",
    "        tokens = ingredient.split()\n",
    "\n",
    "         # Remove stopwords and single-character tokens\n",
    "        tokens = [word for word in tokens if word not in stop_words and len(word) > 1]\n",
    "\n",
    "        # Add the cleaned tokens to the list\n",
    "        cleaned_list.extend(tokens)\n",
    "\n",
    "    # Append the cleaned list to the tokenized_ingredients list\n",
    "    tokenized_ingredients.append(cleaned_list)\n",
    "\n",
    "# Print a few samples to verify\n",
    "print(tokenized_ingredients[:5])"
   ]
  },
  {
   "cell_type": "code",
   "execution_count": 5,
   "id": "f43d97c4",
   "metadata": {
    "execution": {
     "iopub.execute_input": "2025-05-14T07:49:26.302538Z",
     "iopub.status.busy": "2025-05-14T07:49:26.301767Z",
     "iopub.status.idle": "2025-05-14T07:49:38.171009Z",
     "shell.execute_reply": "2025-05-14T07:49:38.170416Z"
    },
    "papermill": {
     "duration": 11.874347,
     "end_time": "2025-05-14T07:49:38.172383",
     "exception": false,
     "start_time": "2025-05-14T07:49:26.298036",
     "status": "completed"
    },
    "tags": []
   },
   "outputs": [],
   "source": [
    "# Train the Word2Vec model\n",
    "model = Word2Vec(\n",
    "    sentences=tokenized_ingredients, \n",
    "    vector_size=50, \n",
    "    window=5, \n",
    "    min_count=5, \n",
    "    sg=1,  # 1 for Skip-Gram, 0 for CBOW\n",
    "    epochs=10\n",
    ")\n",
    "\n",
    "# Save the model for later use\n",
    "model.save(\"w2v_model.model\")"
   ]
  },
  {
   "cell_type": "markdown",
   "id": "847bedd4",
   "metadata": {
    "papermill": {
     "duration": 0.003144,
     "end_time": "2025-05-14T07:49:38.179016",
     "exception": false,
     "start_time": "2025-05-14T07:49:38.175872",
     "status": "completed"
    },
    "tags": []
   },
   "source": [
    "Now, we need to convert the ingredient lists into fixed-length vectors using the trained Word2Vec model. "
   ]
  },
  {
   "cell_type": "code",
   "execution_count": 6,
   "id": "05ff481f",
   "metadata": {
    "execution": {
     "iopub.execute_input": "2025-05-14T07:49:38.186088Z",
     "iopub.status.busy": "2025-05-14T07:49:38.185895Z",
     "iopub.status.idle": "2025-05-14T07:49:38.584736Z",
     "shell.execute_reply": "2025-05-14T07:49:38.584190Z"
    },
    "papermill": {
     "duration": 0.403918,
     "end_time": "2025-05-14T07:49:38.586084",
     "exception": false,
     "start_time": "2025-05-14T07:49:38.182166",
     "status": "completed"
    },
    "tags": []
   },
   "outputs": [],
   "source": [
    "# Combine each ingredient list back into a single string for TF-IDF processing\n",
    "corpus = [\" \".join(ing) for ing in tokenized_ingredients]\n",
    "\n",
    "# Compute TF-IDF scores\n",
    "tfidf_vectorizer = TfidfVectorizer()\n",
    "tfidf_matrix = tfidf_vectorizer.fit_transform(corpus)\n",
    "\n",
    "# Extract TF-IDF feature names\n",
    "feature_names = tfidf_vectorizer.get_feature_names_out()"
   ]
  },
  {
   "cell_type": "code",
   "execution_count": 7,
   "id": "9eb827c7",
   "metadata": {
    "execution": {
     "iopub.execute_input": "2025-05-14T07:49:38.593639Z",
     "iopub.status.busy": "2025-05-14T07:49:38.593212Z",
     "iopub.status.idle": "2025-05-14T07:49:38.598060Z",
     "shell.execute_reply": "2025-05-14T07:49:38.597361Z"
    },
    "papermill": {
     "duration": 0.009557,
     "end_time": "2025-05-14T07:49:38.599138",
     "exception": false,
     "start_time": "2025-05-14T07:49:38.589581",
     "status": "completed"
    },
    "tags": []
   },
   "outputs": [],
   "source": [
    "# Create a dictionary with word-to-tfidf mapping\n",
    "tfidf_dict = dict(zip(feature_names, tfidf_vectorizer.idf_))"
   ]
  },
  {
   "cell_type": "code",
   "execution_count": 8,
   "id": "8cd3c6d6",
   "metadata": {
    "execution": {
     "iopub.execute_input": "2025-05-14T07:49:38.605904Z",
     "iopub.status.busy": "2025-05-14T07:49:38.605687Z",
     "iopub.status.idle": "2025-05-14T07:49:38.610093Z",
     "shell.execute_reply": "2025-05-14T07:49:38.609436Z"
    },
    "papermill": {
     "duration": 0.008946,
     "end_time": "2025-05-14T07:49:38.611122",
     "exception": false,
     "start_time": "2025-05-14T07:49:38.602176",
     "status": "completed"
    },
    "tags": []
   },
   "outputs": [],
   "source": [
    "def vectorize_ingredients_tfidf(ingredient_list, model, tfidf_dict):\n",
    "    vectors = []\n",
    "    weights = []\n",
    "    \n",
    "    for word in ingredient_list:\n",
    "        if word in model.wv and word in tfidf_dict:\n",
    "            # Get Word2Vec vector\n",
    "            word_vec = model.wv[word]\n",
    "            \n",
    "            # Get TF-IDF weight\n",
    "            weight = tfidf_dict[word]\n",
    "            \n",
    "            # Apply weighting\n",
    "            vectors.append(word_vec * weight)\n",
    "            weights.append(weight)\n",
    "    \n",
    "    # Handle cases with no matching words\n",
    "    if len(vectors) == 0:\n",
    "        return np.zeros(model.vector_size)\n",
    "    \n",
    "    # Calculate weighted average\n",
    "    return np.average(vectors, axis=0, weights=weights)"
   ]
  },
  {
   "cell_type": "code",
   "execution_count": 9,
   "id": "9810c30c",
   "metadata": {
    "execution": {
     "iopub.execute_input": "2025-05-14T07:49:38.617840Z",
     "iopub.status.busy": "2025-05-14T07:49:38.617644Z",
     "iopub.status.idle": "2025-05-14T07:49:41.246243Z",
     "shell.execute_reply": "2025-05-14T07:49:41.245431Z"
    },
    "papermill": {
     "duration": 2.633199,
     "end_time": "2025-05-14T07:49:41.247439",
     "exception": false,
     "start_time": "2025-05-14T07:49:38.614240",
     "status": "completed"
    },
    "tags": []
   },
   "outputs": [
    {
     "name": "stdout",
     "output_type": "stream",
     "text": [
      "Shape of ingredient vectors with TF-IDF weighting: (20000, 50)\n"
     ]
    }
   ],
   "source": [
    "# Apply TF-IDF weighted vectorization to the dataset\n",
    "ingredient_vectors_tfidf = np.array([vectorize_ingredients_tfidf(ing, model, tfidf_dict) for ing in tokenized_ingredients])\n",
    "\n",
    "print(f\"Shape of ingredient vectors with TF-IDF weighting: {ingredient_vectors_tfidf.shape}\")"
   ]
  },
  {
   "cell_type": "code",
   "execution_count": 10,
   "id": "37359041",
   "metadata": {
    "execution": {
     "iopub.execute_input": "2025-05-14T07:49:41.254976Z",
     "iopub.status.busy": "2025-05-14T07:49:41.254673Z",
     "iopub.status.idle": "2025-05-14T07:49:41.261742Z",
     "shell.execute_reply": "2025-05-14T07:49:41.261050Z"
    },
    "papermill": {
     "duration": 0.012058,
     "end_time": "2025-05-14T07:49:41.262953",
     "exception": false,
     "start_time": "2025-05-14T07:49:41.250895",
     "status": "completed"
    },
    "tags": []
   },
   "outputs": [
    {
     "name": "stdout",
     "output_type": "stream",
     "text": [
      "Number of vegan examples: 2176\n",
      "Number of non-vegan examples: 17824\n"
     ]
    }
   ],
   "source": [
    "# Count the number of vegan and non-vegan samples\n",
    "num_vegan = df[df['is_vegan'] == 1].shape[0]\n",
    "num_non_vegan = df[df['is_vegan'] == 0].shape[0]\n",
    "\n",
    "print(f\"Number of vegan examples: {num_vegan}\")\n",
    "print(f\"Number of non-vegan examples: {num_non_vegan}\")"
   ]
  },
  {
   "cell_type": "markdown",
   "id": "9a236cd0",
   "metadata": {
    "papermill": {
     "duration": 0.00296,
     "end_time": "2025-05-14T07:49:41.269555",
     "exception": false,
     "start_time": "2025-05-14T07:49:41.266595",
     "status": "completed"
    },
    "tags": []
   },
   "source": [
    "## Train a classifier"
   ]
  },
  {
   "cell_type": "markdown",
   "id": "e6a05db1",
   "metadata": {
    "papermill": {
     "duration": 0.002901,
     "end_time": "2025-05-14T07:49:41.275683",
     "exception": false,
     "start_time": "2025-05-14T07:49:41.272782",
     "status": "completed"
    },
    "tags": []
   },
   "source": [
    "As we can see the dataset is highly unbalanced (as expected)."
   ]
  },
  {
   "cell_type": "code",
   "execution_count": 11,
   "id": "62becdc6",
   "metadata": {
    "execution": {
     "iopub.execute_input": "2025-05-14T07:49:41.282522Z",
     "iopub.status.busy": "2025-05-14T07:49:41.282347Z",
     "iopub.status.idle": "2025-05-14T07:49:41.294518Z",
     "shell.execute_reply": "2025-05-14T07:49:41.293889Z"
    },
    "papermill": {
     "duration": 0.01676,
     "end_time": "2025-05-14T07:49:41.295486",
     "exception": false,
     "start_time": "2025-05-14T07:49:41.278726",
     "status": "completed"
    },
    "tags": []
   },
   "outputs": [
    {
     "name": "stdout",
     "output_type": "stream",
     "text": [
      "Balanced dataset shape: (4352, 50)\n",
      "Class distribution after balancing: [2176 2176]\n"
     ]
    }
   ],
   "source": [
    "# Separate vegan and non-vegan samples\n",
    "y = df['is_vegan'].values\n",
    "X_vegan = ingredient_vectors_tfidf[y == 1]\n",
    "X_non_vegan = ingredient_vectors_tfidf[y == 0]\n",
    "\n",
    "y_vegan = y[y == 1]\n",
    "y_non_vegan = y[y == 0]\n",
    "\n",
    "# Determine the smaller class size\n",
    "min_samples = min(len(X_vegan), len(X_non_vegan))\n",
    "\n",
    "# Subsample both classes to ensure a 50/50 balance\n",
    "X_vegan_balanced = X_vegan[:min_samples]\n",
    "y_vegan_balanced = y_vegan[:min_samples]\n",
    "\n",
    "X_non_vegan_balanced = X_non_vegan[:min_samples]\n",
    "y_non_vegan_balanced = y_non_vegan[:min_samples]\n",
    "\n",
    "# Concatenate the balanced dataset\n",
    "X_balanced = np.vstack((X_vegan_balanced, X_non_vegan_balanced))\n",
    "y_balanced = np.hstack((y_vegan_balanced, y_non_vegan_balanced))\n",
    "\n",
    "# Shuffle the dataset\n",
    "shuffled_indices = np.random.permutation(len(y_balanced))\n",
    "X_balanced = X_balanced[shuffled_indices]\n",
    "y_balanced = y_balanced[shuffled_indices]\n",
    "\n",
    "print(f\"Balanced dataset shape: {X_balanced.shape}\")\n",
    "print(f\"Class distribution after balancing: {np.bincount(y_balanced)}\")"
   ]
  },
  {
   "cell_type": "code",
   "execution_count": 12,
   "id": "1d5309c7",
   "metadata": {
    "execution": {
     "iopub.execute_input": "2025-05-14T07:49:41.302698Z",
     "iopub.status.busy": "2025-05-14T07:49:41.302513Z",
     "iopub.status.idle": "2025-05-14T07:49:41.308089Z",
     "shell.execute_reply": "2025-05-14T07:49:41.307484Z"
    },
    "papermill": {
     "duration": 0.010242,
     "end_time": "2025-05-14T07:49:41.309094",
     "exception": false,
     "start_time": "2025-05-14T07:49:41.298852",
     "status": "completed"
    },
    "tags": []
   },
   "outputs": [
    {
     "name": "stdout",
     "output_type": "stream",
     "text": [
      "Training set size: (3481, 50)\n",
      "Test set size: (871, 50)\n",
      "Class distribution in training set: [1726 1755]\n",
      "Class distribution in test set: [450 421]\n"
     ]
    }
   ],
   "source": [
    "# 80/20 split for training and testing\n",
    "X_train, X_test, y_train, y_test = train_test_split(X_balanced, y_balanced, test_size=0.2, random_state=42)\n",
    "\n",
    "print(f\"Training set size: {X_train.shape}\")\n",
    "print(f\"Test set size: {X_test.shape}\")\n",
    "\n",
    "# Check class distribution in train and test sets\n",
    "print(f\"Class distribution in training set: {np.bincount(y_train)}\")\n",
    "print(f\"Class distribution in test set: {np.bincount(y_test)}\")"
   ]
  },
  {
   "cell_type": "code",
   "execution_count": 13,
   "id": "d758d367",
   "metadata": {
    "execution": {
     "iopub.execute_input": "2025-05-14T07:49:41.316209Z",
     "iopub.status.busy": "2025-05-14T07:49:41.316038Z",
     "iopub.status.idle": "2025-05-14T07:49:42.354520Z",
     "shell.execute_reply": "2025-05-14T07:49:42.353678Z"
    },
    "papermill": {
     "duration": 1.043486,
     "end_time": "2025-05-14T07:49:42.355897",
     "exception": false,
     "start_time": "2025-05-14T07:49:41.312411",
     "status": "completed"
    },
    "tags": []
   },
   "outputs": [
    {
     "data": {
      "text/html": [
       "<style>#sk-container-id-1 {color: black;background-color: white;}#sk-container-id-1 pre{padding: 0;}#sk-container-id-1 div.sk-toggleable {background-color: white;}#sk-container-id-1 label.sk-toggleable__label {cursor: pointer;display: block;width: 100%;margin-bottom: 0;padding: 0.3em;box-sizing: border-box;text-align: center;}#sk-container-id-1 label.sk-toggleable__label-arrow:before {content: \"▸\";float: left;margin-right: 0.25em;color: #696969;}#sk-container-id-1 label.sk-toggleable__label-arrow:hover:before {color: black;}#sk-container-id-1 div.sk-estimator:hover label.sk-toggleable__label-arrow:before {color: black;}#sk-container-id-1 div.sk-toggleable__content {max-height: 0;max-width: 0;overflow: hidden;text-align: left;background-color: #f0f8ff;}#sk-container-id-1 div.sk-toggleable__content pre {margin: 0.2em;color: black;border-radius: 0.25em;background-color: #f0f8ff;}#sk-container-id-1 input.sk-toggleable__control:checked~div.sk-toggleable__content {max-height: 200px;max-width: 100%;overflow: auto;}#sk-container-id-1 input.sk-toggleable__control:checked~label.sk-toggleable__label-arrow:before {content: \"▾\";}#sk-container-id-1 div.sk-estimator input.sk-toggleable__control:checked~label.sk-toggleable__label {background-color: #d4ebff;}#sk-container-id-1 div.sk-label input.sk-toggleable__control:checked~label.sk-toggleable__label {background-color: #d4ebff;}#sk-container-id-1 input.sk-hidden--visually {border: 0;clip: rect(1px 1px 1px 1px);clip: rect(1px, 1px, 1px, 1px);height: 1px;margin: -1px;overflow: hidden;padding: 0;position: absolute;width: 1px;}#sk-container-id-1 div.sk-estimator {font-family: monospace;background-color: #f0f8ff;border: 1px dotted black;border-radius: 0.25em;box-sizing: border-box;margin-bottom: 0.5em;}#sk-container-id-1 div.sk-estimator:hover {background-color: #d4ebff;}#sk-container-id-1 div.sk-parallel-item::after {content: \"\";width: 100%;border-bottom: 1px solid gray;flex-grow: 1;}#sk-container-id-1 div.sk-label:hover label.sk-toggleable__label {background-color: #d4ebff;}#sk-container-id-1 div.sk-serial::before {content: \"\";position: absolute;border-left: 1px solid gray;box-sizing: border-box;top: 0;bottom: 0;left: 50%;z-index: 0;}#sk-container-id-1 div.sk-serial {display: flex;flex-direction: column;align-items: center;background-color: white;padding-right: 0.2em;padding-left: 0.2em;position: relative;}#sk-container-id-1 div.sk-item {position: relative;z-index: 1;}#sk-container-id-1 div.sk-parallel {display: flex;align-items: stretch;justify-content: center;background-color: white;position: relative;}#sk-container-id-1 div.sk-item::before, #sk-container-id-1 div.sk-parallel-item::before {content: \"\";position: absolute;border-left: 1px solid gray;box-sizing: border-box;top: 0;bottom: 0;left: 50%;z-index: -1;}#sk-container-id-1 div.sk-parallel-item {display: flex;flex-direction: column;z-index: 1;position: relative;background-color: white;}#sk-container-id-1 div.sk-parallel-item:first-child::after {align-self: flex-end;width: 50%;}#sk-container-id-1 div.sk-parallel-item:last-child::after {align-self: flex-start;width: 50%;}#sk-container-id-1 div.sk-parallel-item:only-child::after {width: 0;}#sk-container-id-1 div.sk-dashed-wrapped {border: 1px dashed gray;margin: 0 0.4em 0.5em 0.4em;box-sizing: border-box;padding-bottom: 0.4em;background-color: white;}#sk-container-id-1 div.sk-label label {font-family: monospace;font-weight: bold;display: inline-block;line-height: 1.2em;}#sk-container-id-1 div.sk-label-container {text-align: center;}#sk-container-id-1 div.sk-container {/* jupyter's `normalize.less` sets `[hidden] { display: none; }` but bootstrap.min.css set `[hidden] { display: none !important; }` so we also need the `!important` here to be able to override the default hidden behavior on the sphinx rendered scikit-learn.org. See: https://github.com/scikit-learn/scikit-learn/issues/21755 */display: inline-block !important;position: relative;}#sk-container-id-1 div.sk-text-repr-fallback {display: none;}</style><div id=\"sk-container-id-1\" class=\"sk-top-container\"><div class=\"sk-text-repr-fallback\"><pre>SVC(class_weight={0: 1, 1: 2}, kernel=&#x27;linear&#x27;)</pre><b>In a Jupyter environment, please rerun this cell to show the HTML representation or trust the notebook. <br />On GitHub, the HTML representation is unable to render, please try loading this page with nbviewer.org.</b></div><div class=\"sk-container\" hidden><div class=\"sk-item\"><div class=\"sk-estimator sk-toggleable\"><input class=\"sk-toggleable__control sk-hidden--visually\" id=\"sk-estimator-id-1\" type=\"checkbox\" checked><label for=\"sk-estimator-id-1\" class=\"sk-toggleable__label sk-toggleable__label-arrow\">SVC</label><div class=\"sk-toggleable__content\"><pre>SVC(class_weight={0: 1, 1: 2}, kernel=&#x27;linear&#x27;)</pre></div></div></div></div></div>"
      ],
      "text/plain": [
       "SVC(class_weight={0: 1, 1: 2}, kernel='linear')"
      ]
     },
     "execution_count": 13,
     "metadata": {},
     "output_type": "execute_result"
    }
   ],
   "source": [
    "# Train SVM with class weight adjustment\n",
    "svm_model = SVC(kernel='linear', class_weight={0: 1, 1: 2})\n",
    "svm_model.fit(X_train, y_train)"
   ]
  },
  {
   "cell_type": "markdown",
   "id": "e0a5804b",
   "metadata": {
    "papermill": {
     "duration": 0.003385,
     "end_time": "2025-05-14T07:49:42.362978",
     "exception": false,
     "start_time": "2025-05-14T07:49:42.359593",
     "status": "completed"
    },
    "tags": []
   },
   "source": [
    "Now, we evaluate the model."
   ]
  },
  {
   "cell_type": "code",
   "execution_count": 14,
   "id": "317575f5",
   "metadata": {
    "execution": {
     "iopub.execute_input": "2025-05-14T07:49:42.370619Z",
     "iopub.status.busy": "2025-05-14T07:49:42.370169Z",
     "iopub.status.idle": "2025-05-14T07:49:42.637067Z",
     "shell.execute_reply": "2025-05-14T07:49:42.636406Z"
    },
    "papermill": {
     "duration": 0.272025,
     "end_time": "2025-05-14T07:49:42.638307",
     "exception": false,
     "start_time": "2025-05-14T07:49:42.366282",
     "status": "completed"
    },
    "tags": []
   },
   "outputs": [
    {
     "name": "stdout",
     "output_type": "stream",
     "text": [
      "Accuracy: 0.7933\n",
      "\n",
      "Classification Report:\n",
      "              precision    recall  f1-score   support\n",
      "\n",
      "   Non-Vegan       0.88      0.69      0.78       450\n",
      "       Vegan       0.73      0.90      0.81       421\n",
      "\n",
      "    accuracy                           0.79       871\n",
      "   macro avg       0.81      0.80      0.79       871\n",
      "weighted avg       0.81      0.79      0.79       871\n",
      "\n"
     ]
    },
    {
     "data": {
      "image/png": "[encoded data removed]",
      "text/plain": [
       "<Figure size 600x500 with 2 Axes>"
      ]
     },
     "metadata": {},
     "output_type": "display_data"
    }
   ],
   "source": [
    "# Predict on the test set\n",
    "y_pred = svm_model.predict(X_test)\n",
    "\n",
    "# Accuracy\n",
    "accuracy = accuracy_score(y_test, y_pred)\n",
    "print(f\"Accuracy: {accuracy:.4f}\")\n",
    "\n",
    "# Classification Report\n",
    "print(\"\\nClassification Report:\")\n",
    "print(classification_report(y_test, y_pred, target_names=[\"Non-Vegan\", \"Vegan\"]))\n",
    "\n",
    "# Confusion Matrix\n",
    "conf_matrix = confusion_matrix(y_test, y_pred)\n",
    "\n",
    "plt.figure(figsize=(6, 5))\n",
    "sns.heatmap(conf_matrix, annot=True, fmt='d', cmap='Blues', xticklabels=[\"Non-Vegan\", \"Vegan\"], yticklabels=[\"Non-Vegan\", \"Vegan\"])\n",
    "plt.xlabel(\"Predicted\")\n",
    "plt.ylabel(\"Actual\")\n",
    "plt.title(\"Confusion Matrix\")\n",
    "plt.show()"
   ]
  },
  {
   "cell_type": "code",
   "execution_count": 15,
   "id": "8110b947",
   "metadata": {
    "execution": {
     "iopub.execute_input": "2025-05-14T07:49:42.647278Z",
     "iopub.status.busy": "2025-05-14T07:49:42.647084Z",
     "iopub.status.idle": "2025-05-14T07:49:42.653158Z",
     "shell.execute_reply": "2025-05-14T07:49:42.652608Z"
    },
    "papermill": {
     "duration": 0.01168,
     "end_time": "2025-05-14T07:49:42.654241",
     "exception": false,
     "start_time": "2025-05-14T07:49:42.642561",
     "status": "completed"
    },
    "tags": []
   },
   "outputs": [
    {
     "data": {
      "text/plain": [
       "['svm_model.pkl']"
      ]
     },
     "execution_count": 15,
     "metadata": {},
     "output_type": "execute_result"
    }
   ],
   "source": [
    "# Save the SVM model\n",
    "joblib.dump(svm_model, \"svm_model.pkl\")"
   ]
  }
 ],
 "metadata": {
  "kaggle": {
   "accelerator": "gpu",
   "dataSources": [
    {
     "datasetId": 7404468,
     "sourceId": 11792184,
     "sourceType": "datasetVersion"
    },
    {
     "datasetId": 7414075,
     "sourceId": 11805588,
     "sourceType": "datasetVersion"
    }
   ],
   "dockerImageVersionId": 31041,
   "isGpuEnabled": true,
   "isInternetEnabled": true,
   "language": "python",
   "sourceType": "notebook"
  },
  "kernelspec": {
   "display_name": "Python 3",
   "language": "python",
   "name": "python3"
  },
  "language_info": {
   "codemirror_mode": {
    "name": "ipython",
    "version": 3
   },
   "file_extension": ".py",
   "mimetype": "text/x-python",
   "name": "python",
   "nbconvert_exporter": "python",
   "pygments_lexer": "ipython3",
   "version": "3.11.11"
  },
  "papermill": {
   "default_parameters": {},
   "duration": 44.375577,
   "end_time": "2025-05-14T07:49:46.144166",
   "environment_variables": {},
   "exception": null,
   "input_path": "__notebook__.ipynb",
   "output_path": "__notebook__.ipynb",
   "parameters": {},
   "start_time": "2025-05-14T07:49:01.768589",
   "version": "2.6.0"
  }
 },
 "nbformat": 4,
 "nbformat_minor": 5
}
