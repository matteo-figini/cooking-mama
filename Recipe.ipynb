{
 "cells": [
  {
   "cell_type": "code",
   "execution_count": 1,
   "id": "447b698f",
   "metadata": {
    "_cell_guid": "b1076dfc-b9ad-4769-8c92-a6c4dae69d19",
    "_uuid": "8f2839f25d086af736a60e9eeb907d3b93b6e0e5",
    "execution": {
     "iopub.execute_input": "2025-04-25T13:40:41.825247Z",
     "iopub.status.busy": "2025-04-25T13:40:41.824923Z",
     "iopub.status.idle": "2025-04-25T13:40:43.646326Z",
     "shell.execute_reply": "2025-04-25T13:40:43.645410Z"
    },
    "papermill": {
     "duration": 1.826681,
     "end_time": "2025-04-25T13:40:43.647955",
     "exception": false,
     "start_time": "2025-04-25T13:40:41.821274",
     "status": "completed"
    },
    "tags": []
   },
   "outputs": [],
   "source": [
    "import numpy as np # linear algebra\n",
    "import pandas as pd # data processing, CSV file I/O (e.g. pd.read_csv)\n",
    "import os\n",
    "import ast\n"
   ]
  },
  {
   "cell_type": "code",
   "execution_count": 2,
   "id": "5f43179f",
   "metadata": {
    "execution": {
     "iopub.execute_input": "2025-04-25T13:40:43.653521Z",
     "iopub.status.busy": "2025-04-25T13:40:43.653084Z",
     "iopub.status.idle": "2025-04-25T13:41:33.159319Z",
     "shell.execute_reply": "2025-04-25T13:41:33.158411Z"
    },
    "papermill": {
     "duration": 49.511579,
     "end_time": "2025-04-25T13:41:33.161907",
     "exception": false,
     "start_time": "2025-04-25T13:40:43.650328",
     "status": "completed"
    },
    "tags": []
   },
   "outputs": [
    {
     "name": "stdout",
     "output_type": "stream",
     "text": [
      "   Unnamed: 0                  title  \\\n",
      "0           0    No-Bake Nut Cookies   \n",
      "1           1  Jewell Ball'S Chicken   \n",
      "2           2            Creamy Corn   \n",
      "3           3          Chicken Funny   \n",
      "4           4   Reeses Cups(Candy)     \n",
      "\n",
      "                                         ingredients  \\\n",
      "0  [\"1 c. firmly packed brown sugar\", \"1/2 c. eva...   \n",
      "1  [\"1 small jar chipped beef, cut up\", \"4 boned ...   \n",
      "2  [\"2 (16 oz.) pkg. frozen corn\", \"1 (8 oz.) pkg...   \n",
      "3  [\"1 large whole chicken\", \"2 (10 1/2 oz.) cans...   \n",
      "4  [\"1 c. peanut butter\", \"3/4 c. graham cracker ...   \n",
      "\n",
      "                                          directions  \\\n",
      "0  [\"In a heavy 2-quart saucepan, mix brown sugar...   \n",
      "1  [\"Place chipped beef on bottom of baking dish....   \n",
      "2  [\"In a slow cooker, combine all ingredients. C...   \n",
      "3  [\"Boil and debone chicken.\", \"Put bite size pi...   \n",
      "4  [\"Combine first four ingredients and press in ...   \n",
      "\n",
      "                                              link    source  \\\n",
      "0   www.cookbooks.com/Recipe-Details.aspx?id=44874  Gathered   \n",
      "1  www.cookbooks.com/Recipe-Details.aspx?id=699419  Gathered   \n",
      "2   www.cookbooks.com/Recipe-Details.aspx?id=10570  Gathered   \n",
      "3  www.cookbooks.com/Recipe-Details.aspx?id=897570  Gathered   \n",
      "4  www.cookbooks.com/Recipe-Details.aspx?id=659239  Gathered   \n",
      "\n",
      "                                                 NER  \n",
      "0  [\"brown sugar\", \"milk\", \"vanilla\", \"nuts\", \"bu...  \n",
      "1  [\"beef\", \"chicken breasts\", \"cream of mushroom...  \n",
      "2  [\"frozen corn\", \"cream cheese\", \"butter\", \"gar...  \n",
      "3  [\"chicken\", \"chicken gravy\", \"cream of mushroo...  \n",
      "4  [\"peanut butter\", \"graham cracker crumbs\", \"bu...  \n"
     ]
    }
   ],
   "source": [
    "df = pd.read_csv(\"/kaggle/input/recipenlg/full_dataset.csv\")\n",
    "\n",
    "print(df.head())"
   ]
  },
  {
   "cell_type": "code",
   "execution_count": 3,
   "id": "1e45b57a",
   "metadata": {
    "execution": {
     "iopub.execute_input": "2025-04-25T13:41:33.167381Z",
     "iopub.status.busy": "2025-04-25T13:41:33.167029Z",
     "iopub.status.idle": "2025-04-25T13:41:33.172025Z",
     "shell.execute_reply": "2025-04-25T13:41:33.171052Z"
    },
    "papermill": {
     "duration": 0.009402,
     "end_time": "2025-04-25T13:41:33.173484",
     "exception": false,
     "start_time": "2025-04-25T13:41:33.164082",
     "status": "completed"
    },
    "tags": []
   },
   "outputs": [
    {
     "name": "stdout",
     "output_type": "stream",
     "text": [
      "Colonne: ['Unnamed: 0', 'title', 'ingredients', 'directions', 'link', 'source', 'NER']\n"
     ]
    }
   ],
   "source": [
    "print(\"Colonne:\", df.columns.tolist())"
   ]
  },
  {
   "cell_type": "code",
   "execution_count": 4,
   "id": "248a3807",
   "metadata": {
    "execution": {
     "iopub.execute_input": "2025-04-25T13:41:33.178815Z",
     "iopub.status.busy": "2025-04-25T13:41:33.178524Z",
     "iopub.status.idle": "2025-04-25T13:41:34.184736Z",
     "shell.execute_reply": "2025-04-25T13:41:34.183852Z"
    },
    "papermill": {
     "duration": 1.010494,
     "end_time": "2025-04-25T13:41:34.186200",
     "exception": false,
     "start_time": "2025-04-25T13:41:33.175706",
     "status": "completed"
    },
    "tags": []
   },
   "outputs": [
    {
     "name": "stdout",
     "output_type": "stream",
     "text": [
      "There are 1 rows with at least one null value.\n"
     ]
    }
   ],
   "source": [
    "rows_with_null = df.isnull().any(axis=1).sum()\n",
    "print(f\"There are {rows_with_null} rows with at least one null value.\")\n"
   ]
  },
  {
   "cell_type": "code",
   "execution_count": 5,
   "id": "426827ad",
   "metadata": {
    "execution": {
     "iopub.execute_input": "2025-04-25T13:41:34.191536Z",
     "iopub.status.busy": "2025-04-25T13:41:34.191227Z",
     "iopub.status.idle": "2025-04-25T13:41:34.195867Z",
     "shell.execute_reply": "2025-04-25T13:41:34.195101Z"
    },
    "papermill": {
     "duration": 0.008664,
     "end_time": "2025-04-25T13:41:34.197104",
     "exception": false,
     "start_time": "2025-04-25T13:41:34.188440",
     "status": "completed"
    },
    "tags": []
   },
   "outputs": [
    {
     "name": "stdout",
     "output_type": "stream",
     "text": [
      "In the dataset there are 2231142 different receipts!\n"
     ]
    }
   ],
   "source": [
    "print(f\"In the dataset there are {len(df)} different receipts!\")"
   ]
  },
  {
   "cell_type": "code",
   "execution_count": 6,
   "id": "939075ef",
   "metadata": {
    "execution": {
     "iopub.execute_input": "2025-04-25T13:41:34.202995Z",
     "iopub.status.busy": "2025-04-25T13:41:34.202680Z",
     "iopub.status.idle": "2025-04-25T13:42:37.600775Z",
     "shell.execute_reply": "2025-04-25T13:42:37.599901Z"
    },
    "papermill": {
     "duration": 63.404254,
     "end_time": "2025-04-25T13:42:37.603861",
     "exception": false,
     "start_time": "2025-04-25T13:41:34.199607",
     "status": "completed"
    },
    "tags": []
   },
   "outputs": [
    {
     "name": "stdout",
     "output_type": "stream",
     "text": [
      "Total number of unique ingredients: 4472032\n"
     ]
    }
   ],
   "source": [
    "ingredienti_unici = set()\n",
    "\n",
    "for ingr_str in df['ingredients']:\n",
    "    try:\n",
    "        lista_ingredienti = ast.literal_eval(ingr_str)\n",
    "        for ingrediente in lista_ingredienti:\n",
    "            ingrediente_pulito = ingrediente.lower().strip()\n",
    "            ingredienti_unici.add(ingrediente_pulito)\n",
    "    except:\n",
    "        continue\n",
    "\n",
    "print(f\"Total number of unique ingredients: {len(ingredienti_unici)}\")\n"
   ]
  }
 ],
 "metadata": {
  "kaggle": {
   "accelerator": "none",
   "dataSources": [
    {
     "datasetId": 7249876,
     "sourceId": 11562714,
     "sourceType": "datasetVersion"
    }
   ],
   "dockerImageVersionId": 31012,
   "isGpuEnabled": false,
   "isInternetEnabled": true,
   "language": "python",
   "sourceType": "notebook"
  },
  "kernelspec": {
   "display_name": "Python 3",
   "language": "python",
   "name": "python3"
  },
  "language_info": {
   "codemirror_mode": {
    "name": "ipython",
    "version": 3
   },
   "file_extension": ".py",
   "mimetype": "text/x-python",
   "name": "python",
   "nbconvert_exporter": "python",
   "pygments_lexer": "ipython3",
   "version": "3.11.11"
  },
  "papermill": {
   "default_parameters": {},
   "duration": 122.146358,
   "end_time": "2025-04-25T13:42:39.329354",
   "environment_variables": {},
   "exception": null,
   "input_path": "__notebook__.ipynb",
   "output_path": "__notebook__.ipynb",
   "parameters": {},
   "start_time": "2025-04-25T13:40:37.182996",
   "version": "2.6.0"
  }
 },
 "nbformat": 4,
 "nbformat_minor": 5
}
