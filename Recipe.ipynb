{
 "cells": [
  {
   "cell_type": "markdown",
   "metadata": {
    "papermill": {
     "duration": 0.002713,
     "end_time": "2025-04-27T07:28:49.620828",
     "exception": false,
     "start_time": "2025-04-27T07:28:49.618115",
     "status": "completed"
    },
    "tags": []
   },
   "source": [
    "# Natural Language Processing Course Project\n",
    "### Politecnico di Milano, A.Y. 2024/2025\n",
    "\n",
    "This notebook has been created for the Natural Language Processing course, held by Prof. Carman.\n",
    "\n",
    "**Authors**:\n",
    "* Matteo Figini\n",
    "* Riccardo Figini\n",
    "* Samuele Forner\n",
    "* Caterina Motti\n",
    "* Simone Zacchetti"
   ]
  },
  {
   "cell_type": "markdown",
   "metadata": {
    "papermill": {
     "duration": 0.001809,
     "end_time": "2025-04-27T07:28:49.625064",
     "exception": false,
     "start_time": "2025-04-27T07:28:49.623255",
     "status": "completed"
    },
    "tags": []
   },
   "source": [
    "The purpose of this notebook is to apply different NLP techniques to analyse the **RecipeNLG** dataset, you can find the dataset at the following [link](https://huggingface.co/datasets/mbien/recipe_nlg)."
   ]
  },
  {
   "cell_type": "code",
   "execution_count": null,
   "metadata": {
    "_cell_guid": "b1076dfc-b9ad-4769-8c92-a6c4dae69d19",
    "_uuid": "8f2839f25d086af736a60e9eeb907d3b93b6e0e5",
    "execution": {
     "iopub.execute_input": "2025-04-30T09:35:59.064449Z",
     "iopub.status.busy": "2025-04-30T09:35:59.064090Z",
     "iopub.status.idle": "2025-04-30T09:35:59.069663Z",
     "shell.execute_reply": "2025-04-30T09:35:59.068475Z",
     "shell.execute_reply.started": "2025-04-30T09:35:59.064423Z"
    },
    "papermill": {
     "duration": 1.901977,
     "end_time": "2025-04-27T07:28:51.529021",
     "exception": false,
     "start_time": "2025-04-27T07:28:49.627044",
     "status": "completed"
    },
    "scrolled": true,
    "tags": [],
    "trusted": true
   },
   "outputs": [],
   "source": [
    "# Import useful libraries\n",
    "import numpy as np\n",
    "import pandas as pd\n",
    "import os\n",
    "import ast\n",
    "from collections import defaultdict\n",
    "import matplotlib.pyplot as plt\n",
    "import random"
   ]
  },
  {
   "cell_type": "markdown",
   "metadata": {
    "papermill": {
     "duration": 0.001915,
     "end_time": "2025-04-27T07:28:51.533282",
     "exception": false,
     "start_time": "2025-04-27T07:28:51.531367",
     "status": "completed"
    },
    "tags": []
   },
   "source": [
    "# Preliminary analysis"
   ]
  },
  {
   "cell_type": "markdown",
   "metadata": {},
   "source": [
    "In this section, we aim to perform a preliminary analysis of the dataset.\n",
    "- Load and inspect the dataset: analyze which field are present, missing field or inconsistencies. \n",
    "- Analyze recipe distribution: compute statistics and visualize them.\n",
    "- Analyze entities distribution: compute statistics and visualize them."
   ]
  },
  {
   "cell_type": "markdown",
   "metadata": {},
   "source": [
    "### Load and inspect the dataset"
   ]
  },
  {
   "cell_type": "code",
   "execution_count": null,
   "metadata": {
    "execution": {
     "iopub.execute_input": "2025-04-30T09:11:54.281564Z",
     "iopub.status.busy": "2025-04-30T09:11:54.281042Z",
     "iopub.status.idle": "2025-04-30T09:12:47.455957Z",
     "shell.execute_reply": "2025-04-30T09:12:47.455142Z",
     "shell.execute_reply.started": "2025-04-30T09:11:54.281531Z"
    },
    "papermill": {
     "duration": 51.344256,
     "end_time": "2025-04-27T07:29:42.879584",
     "exception": false,
     "start_time": "2025-04-27T07:28:51.535328",
     "status": "completed"
    },
    "tags": [],
    "trusted": true
   },
   "outputs": [],
   "source": [
    "# Load the dataset from CSV file and show its head\n",
    "df = pd.read_csv(\"/kaggle/input/recipenlg/dataset/full_dataset.csv\")\n",
    "df"
   ]
  },
  {
   "cell_type": "code",
   "execution_count": null,
   "metadata": {
    "execution": {
     "iopub.execute_input": "2025-04-30T09:12:47.457433Z",
     "iopub.status.busy": "2025-04-30T09:12:47.456761Z",
     "iopub.status.idle": "2025-04-30T09:12:47.463122Z",
     "shell.execute_reply": "2025-04-30T09:12:47.461948Z",
     "shell.execute_reply.started": "2025-04-30T09:12:47.457373Z"
    },
    "papermill": {
     "duration": 0.009406,
     "end_time": "2025-04-27T07:29:42.891303",
     "exception": false,
     "start_time": "2025-04-27T07:29:42.881897",
     "status": "completed"
    },
    "tags": [],
    "trusted": true
   },
   "outputs": [],
   "source": [
    "# Show the name of the columns\n",
    "print(\"Columns:\", df.columns.tolist())"
   ]
  },
  {
   "cell_type": "markdown",
   "metadata": {},
   "source": [
    "Since the first column has no name, we renamed it:"
   ]
  },
  {
   "cell_type": "code",
   "execution_count": null,
   "metadata": {
    "execution": {
     "iopub.execute_input": "2025-04-30T09:12:47.464483Z",
     "iopub.status.busy": "2025-04-30T09:12:47.464128Z",
     "iopub.status.idle": "2025-04-30T09:12:47.731462Z",
     "shell.execute_reply": "2025-04-30T09:12:47.730670Z",
     "shell.execute_reply.started": "2025-04-30T09:12:47.464451Z"
    },
    "trusted": true
   },
   "outputs": [],
   "source": [
    "df = df.rename(columns={'Unnamed: 0': 'id'})"
   ]
  },
  {
   "cell_type": "code",
   "execution_count": null,
   "metadata": {
    "execution": {
     "iopub.execute_input": "2025-04-30T09:12:47.733766Z",
     "iopub.status.busy": "2025-04-30T09:12:47.733491Z",
     "iopub.status.idle": "2025-04-30T09:12:47.738764Z",
     "shell.execute_reply": "2025-04-30T09:12:47.737755Z",
     "shell.execute_reply.started": "2025-04-30T09:12:47.733744Z"
    },
    "papermill": {
     "duration": 0.009012,
     "end_time": "2025-04-27T07:29:43.778869",
     "exception": false,
     "start_time": "2025-04-27T07:29:43.769857",
     "status": "completed"
    },
    "tags": [],
    "trusted": true
   },
   "outputs": [],
   "source": [
    "# Dataset length\n",
    "print(f\"In the dataset there are {len(df)} different recipes!\")"
   ]
  },
  {
   "cell_type": "markdown",
   "metadata": {},
   "source": [
    "As we can see, the dataset contains 2231142 entries in 7 columns:\n",
    "- id (int): ID.\n",
    "- title (str): title of the recipe.\n",
    "- ingredients (list of str): ingredients.\n",
    "- directions (list of str): instruction steps.\n",
    "- link (str): URL link.\n",
    "- source (ClassLabel): origin of each recipe record, with possible value {\"Gathered\", \"Recipes1M\"}:\n",
    "    - \"Gathered\" (0): additional recipes gathered from multiple cooking web pages using automated scripts in a web scraping process.\n",
    "    - \"Recipes1M\" (1): recipes from the \"Recipe1M+\" dataset.\n",
    "- NER (list of str): NER food entities."
   ]
  },
  {
   "cell_type": "markdown",
   "metadata": {},
   "source": [
    "Now, we check for **inconsistencies** and remove them if needed."
   ]
  },
  {
   "cell_type": "code",
   "execution_count": null,
   "metadata": {
    "execution": {
     "iopub.execute_input": "2025-04-30T09:12:47.739890Z",
     "iopub.status.busy": "2025-04-30T09:12:47.739609Z",
     "iopub.status.idle": "2025-04-30T09:12:49.842376Z",
     "shell.execute_reply": "2025-04-30T09:12:49.841432Z",
     "shell.execute_reply.started": "2025-04-30T09:12:47.739870Z"
    },
    "papermill": {
     "duration": 0.872436,
     "end_time": "2025-04-27T07:29:43.767295",
     "exception": false,
     "start_time": "2025-04-27T07:29:42.894859",
     "status": "completed"
    },
    "tags": [],
    "trusted": true
   },
   "outputs": [],
   "source": [
    "# Rows with missing values\n",
    "rows_with_null = df.isnull().any(axis=1).sum()\n",
    "print(f\"There are {rows_with_null} rows with at least one null value.\")\n",
    "print(df.isnull().sum())"
   ]
  },
  {
   "cell_type": "markdown",
   "metadata": {},
   "source": [
    "The missing value is a title, which is not a critical field. However, we prefer to remove it."
   ]
  },
  {
   "cell_type": "code",
   "execution_count": null,
   "metadata": {
    "execution": {
     "iopub.execute_input": "2025-04-30T09:12:49.843714Z",
     "iopub.status.busy": "2025-04-30T09:12:49.843364Z",
     "iopub.status.idle": "2025-04-30T09:12:51.218180Z",
     "shell.execute_reply": "2025-04-30T09:12:51.217211Z",
     "shell.execute_reply.started": "2025-04-30T09:12:49.843683Z"
    },
    "trusted": true
   },
   "outputs": [],
   "source": [
    "# Delete rows with at least one missing value\n",
    "df.dropna()"
   ]
  },
  {
   "cell_type": "code",
   "execution_count": null,
   "metadata": {
    "execution": {
     "iopub.execute_input": "2025-04-30T09:12:51.219388Z",
     "iopub.status.busy": "2025-04-30T09:12:51.219091Z",
     "iopub.status.idle": "2025-04-30T09:12:52.808205Z",
     "shell.execute_reply": "2025-04-30T09:12:52.806965Z",
     "shell.execute_reply.started": "2025-04-30T09:12:51.219357Z"
    },
    "trusted": true
   },
   "outputs": [],
   "source": [
    "# Find duplicates by title\n",
    "duplicate_counts = df['title'].value_counts()\n",
    "print(\"Duplication results by: \", duplicate_counts)"
   ]
  },
  {
   "cell_type": "markdown",
   "metadata": {},
   "source": [
    "Here we have lots of duplicates. However, they might represent different variations of the same recipe which could be useful for further analysis.\n",
    "\n",
    "Since the dataset is really big (2M+ entries), we decided to make a random subsampling of it by retaining only 25% (around half million entries)."
   ]
  },
  {
   "cell_type": "code",
   "execution_count": null,
   "metadata": {
    "execution": {
     "iopub.execute_input": "2025-04-30T09:12:52.809427Z",
     "iopub.status.busy": "2025-04-30T09:12:52.809146Z",
     "iopub.status.idle": "2025-04-30T09:12:53.901246Z",
     "shell.execute_reply": "2025-04-30T09:12:53.900319Z",
     "shell.execute_reply.started": "2025-04-30T09:12:52.809380Z"
    },
    "trusted": true
   },
   "outputs": [],
   "source": [
    "# Randomly sample the dataset\n",
    "df = df.sample(frac=0.25, random_state=42)"
   ]
  },
  {
   "cell_type": "markdown",
   "metadata": {},
   "source": [
    "### Analyze vocaboulary"
   ]
  },
  {
   "cell_type": "code",
   "execution_count": null,
   "metadata": {
    "execution": {
     "iopub.execute_input": "2025-04-30T09:12:53.902472Z",
     "iopub.status.busy": "2025-04-30T09:12:53.902158Z",
     "iopub.status.idle": "2025-04-30T09:12:55.566636Z",
     "shell.execute_reply": "2025-04-30T09:12:55.565762Z",
     "shell.execute_reply.started": "2025-04-30T09:12:53.902446Z"
    },
    "trusted": true
   },
   "outputs": [],
   "source": [
    "# Import necessary libraries\n",
    "import re\n",
    "import nltk\n",
    "from nltk.corpus import stopwords\n",
    "from nltk.probability import FreqDist\n",
    "from nltk import bigrams\n",
    "\n",
    "# Download necessary NLTK data\n",
    "nltk.download('stopwords')"
   ]
  },
  {
   "cell_type": "code",
   "execution_count": null,
   "metadata": {
    "execution": {
     "iopub.execute_input": "2025-04-30T09:12:55.568463Z",
     "iopub.status.busy": "2025-04-30T09:12:55.567498Z",
     "iopub.status.idle": "2025-04-30T09:14:49.713371Z",
     "shell.execute_reply": "2025-04-30T09:14:49.711922Z",
     "shell.execute_reply.started": "2025-04-30T09:12:55.568440Z"
    },
    "trusted": true
   },
   "outputs": [],
   "source": [
    "# Define a new column 'text' with directions as a string\n",
    "df['text'] = df['directions'].apply(lambda x: ' '.join(ast.literal_eval(x)))\n",
    "all_instructions_list = df['text'].tolist()\n",
    "\n",
    "# Preprocess the text and tokenize it into words\n",
    "full_text = ' '.join(all_instructions_list)\n",
    "full_text = full_text.lower()\n",
    "full_text = re.sub(r'[^a-zA-Z0-9\\s]', '', full_text)\n",
    "words = full_text.split()\n",
    "\n",
    "# Remove stopwords and tokenize\n",
    "stop_words = set(stopwords.words('english'))\n",
    "words_nostopwords = [w for w in words if w not in stop_words]\n",
    "tokens = [w for w in words_nostopwords]\n",
    "\n",
    "# Generate bigrams and frequency distribution\n",
    "bigram_list = list(bigrams(tokens))\n",
    "bigram_fdist = FreqDist(bigram_list)\n",
    "\n",
    "# Frequency distribution of words\n",
    "fdist = FreqDist(words_nostopwords)"
   ]
  },
  {
   "cell_type": "code",
   "execution_count": null,
   "metadata": {
    "execution": {
     "iopub.execute_input": "2025-04-30T09:14:49.715127Z",
     "iopub.status.busy": "2025-04-30T09:14:49.714805Z",
     "iopub.status.idle": "2025-04-30T09:15:08.453542Z",
     "shell.execute_reply": "2025-04-30T09:15:08.452290Z",
     "shell.execute_reply.started": "2025-04-30T09:14:49.715092Z"
    },
    "trusted": true
   },
   "outputs": [],
   "source": [
    "# Vocabulary size\n",
    "vocabulary_size = len(fdist)\n",
    "print(\"Vocabulary size: \", vocabulary_size)\n",
    "\n",
    "# Average number of unique words per recipe\n",
    "unique_words_per_recipe = []\n",
    "\n",
    "for directions in df['text']:\n",
    "    directions = directions.lower()\n",
    "    directions = re.sub(r'[^a-zA-Z0-9\\s]', '', directions)  # remove punctuation\n",
    "    tokens = directions.split()  # split into words\n",
    "    tokens = [w for w in tokens if w not in stop_words]\n",
    "    unique_words = set(tokens)\n",
    "    unique_words_per_recipe.append(len(unique_words))\n",
    "\n",
    "avg_unique_words_per_recipe = sum(unique_words_per_recipe) / len(unique_words_per_recipe)    \n",
    "print(\"Average number of unique words per recipe: \", avg_unique_words_per_recipe)\n",
    "\n",
    "# Compute word length distribution\n",
    "word_lengths = [len(word) for word in words_nostopwords]\n",
    "avg_word_length = sum(word_lengths) / len(word_lengths)\n",
    "min_word_length = min(word_lengths)\n",
    "max_word_length = max(word_lengths)\n",
    "\n",
    "print(\"Average word length: \", avg_word_length, \" characters\")\n",
    "print(\"Minimum word length: \", min_word_length, \" characters\")\n",
    "print(\"Maximum word length: \", max_word_length, \" characters\")"
   ]
  },
  {
   "cell_type": "markdown",
   "metadata": {},
   "source": [
    "The high vocabulary size shows that the dataset is very rich and diverse, covering many ingredients, actions, and contextual descriptions. \n",
    "\n",
    "However the average number of unique words in each recipe is quite small: this suggests that each recipe tends to use a fairly concise and domain-specific subset.\n",
    "\n",
    "NB: the maximum word length (262 characters) is likely an outlier. We must investigate it further. "
   ]
  },
  {
   "cell_type": "code",
   "execution_count": null,
   "metadata": {
    "execution": {
     "iopub.execute_input": "2025-04-30T09:15:08.454872Z",
     "iopub.status.busy": "2025-04-30T09:15:08.454608Z",
     "iopub.status.idle": "2025-04-30T09:15:13.156733Z",
     "shell.execute_reply": "2025-04-30T09:15:13.155635Z",
     "shell.execute_reply.started": "2025-04-30T09:15:08.454851Z"
    },
    "trusted": true
   },
   "outputs": [],
   "source": [
    "# Find the longest words\n",
    "def find_long_words_in_directions(df):\n",
    "    long_words = []\n",
    "    \n",
    "    for directions in df['text']:\n",
    "        # Extract words longer than 45 characters, since in English vocabulary the longest word has 45 characters\n",
    "        long_words.extend([word for word in directions.split() if len(word) > 45])\n",
    "    \n",
    "    if long_words:\n",
    "        print(\"Found \", len(long_words), \" long words in the dataset (greater than 45 characters).\")\n",
    "        print(\"Printing the first 10 for brevity: \\n\")\n",
    "        print(long_words[:10])\n",
    "    else:\n",
    "        print(\"No words longer than 45 characters found.\")\n",
    "\n",
    "find_long_words_in_directions(df)"
   ]
  },
  {
   "cell_type": "markdown",
   "metadata": {},
   "source": [
    "Most of them are links, so we can keep them (also considering that they are not that frequent)."
   ]
  },
  {
   "cell_type": "code",
   "execution_count": null,
   "metadata": {
    "execution": {
     "iopub.execute_input": "2025-04-30T09:15:13.161881Z",
     "iopub.status.busy": "2025-04-30T09:15:13.161598Z",
     "iopub.status.idle": "2025-04-30T09:15:52.460526Z",
     "shell.execute_reply": "2025-04-30T09:15:52.459429Z",
     "shell.execute_reply.started": "2025-04-30T09:15:13.161862Z"
    },
    "trusted": true
   },
   "outputs": [],
   "source": [
    "# Create frequency distribution for bigrams\n",
    "bigram_fdist = FreqDist(bigram_list)\n",
    "\n",
    "# Display top 10 most common words\n",
    "print(\"\\nTop 10 most common words:\")\n",
    "for word, freq in fdist.most_common(10):\n",
    "    print(f\"{word}: {freq}\")\n",
    "\n",
    "# Display top 10 most common bigrams\n",
    "print(\"\\nTop 10 most common bigrams:\")\n",
    "for bigram, freq in bigram_fdist.most_common(10):\n",
    "    print(f\"{' '.join(bigram)}: {freq}\")\n"
   ]
  },
  {
   "cell_type": "markdown",
   "metadata": {},
   "source": [
    "### Analyze recipes distribution\n",
    "Since the recipes are the core of the dataset, it may be useful to analyse the length of each recipe to plot their distribution.\n",
    "\n",
    "Recipes with very high or very low word counts might be outliers. Analyzing the distribution allows us to detect these outliers, which might skew our analysis. For instance, a recipe with only one word might be a mistake."
   ]
  },
  {
   "cell_type": "code",
   "execution_count": null,
   "metadata": {
    "execution": {
     "iopub.execute_input": "2025-04-30T09:15:52.461755Z",
     "iopub.status.busy": "2025-04-30T09:15:52.461493Z",
     "iopub.status.idle": "2025-04-30T09:16:03.406533Z",
     "shell.execute_reply": "2025-04-30T09:16:03.405498Z",
     "shell.execute_reply.started": "2025-04-30T09:15:52.461735Z"
    },
    "trusted": true
   },
   "outputs": [],
   "source": [
    "# Define a new column to count the number of words in 'directions'\n",
    "df['dir_word_count'] = df['directions'].apply(lambda x: len(' '.join(x).split()))"
   ]
  },
  {
   "cell_type": "code",
   "execution_count": null,
   "metadata": {
    "execution": {
     "iopub.execute_input": "2025-04-30T09:16:03.407715Z",
     "iopub.status.busy": "2025-04-30T09:16:03.407388Z",
     "iopub.status.idle": "2025-04-30T09:16:03.557825Z",
     "shell.execute_reply": "2025-04-30T09:16:03.556985Z",
     "shell.execute_reply.started": "2025-04-30T09:16:03.407693Z"
    },
    "trusted": true
   },
   "outputs": [],
   "source": [
    "# Retrieve the length and index of the longest and shortest recipe\n",
    "max_words = df['dir_word_count'].max()\n",
    "min_words = df['dir_word_count'].min()\n",
    "\n",
    "max_words_idx = df['dir_word_count'].idxmax()\n",
    "min_words_idx = df['dir_word_count'].idxmin()\n",
    "print(f\"Recipes' direction have between {min_words} and {max_words} words.\")\n",
    "print(f\"The longest recipe has {max_words} words and it stands at location {max_words_idx}.\")\n",
    "#print(df['directions'].loc[max_words_idx])\n",
    "print(df[['title','directions', 'dir_word_count']].loc[min_words_idx])"
   ]
  },
  {
   "cell_type": "code",
   "execution_count": null,
   "metadata": {
    "execution": {
     "iopub.execute_input": "2025-04-30T09:16:03.559261Z",
     "iopub.status.busy": "2025-04-30T09:16:03.558924Z",
     "iopub.status.idle": "2025-04-30T09:16:30.810837Z",
     "shell.execute_reply": "2025-04-30T09:16:30.809895Z",
     "shell.execute_reply.started": "2025-04-30T09:16:03.559222Z"
    },
    "trusted": true
   },
   "outputs": [],
   "source": [
    "# Visualize the distribution of the number of words in column \"directions\" to show how long recipes are (in number of words)\n",
    "plt.figure(figsize=(12,6))\n",
    "plt.hist(df['dir_word_count'], bins=max_words, range=(0, max_words))\n",
    "plt.title('Distribution of words in column \\\"directions\\\"')\n",
    "plt.xlabel('Number of words in the recipe')\n",
    "plt.ylabel('Number of recipes')\n",
    "plt.grid(True)\n",
    "plt.show()"
   ]
  },
  {
   "cell_type": "code",
   "execution_count": null,
   "metadata": {
    "execution": {
     "iopub.execute_input": "2025-04-30T09:16:30.811888Z",
     "iopub.status.busy": "2025-04-30T09:16:30.811643Z",
     "iopub.status.idle": "2025-04-30T09:16:30.862370Z",
     "shell.execute_reply": "2025-04-30T09:16:30.861474Z",
     "shell.execute_reply.started": "2025-04-30T09:16:30.811869Z"
    },
    "trusted": true
   },
   "outputs": [],
   "source": [
    "# Analyzing recipe word count distribution\n",
    "word_counts = df['dir_word_count'].dropna()\n",
    "mean_word_count = word_counts.mean()\n",
    "median_word_count = word_counts.median()\n",
    "percentile_90 = word_counts.quantile(0.9)\n",
    "percentile_95 = word_counts.quantile(0.95)\n",
    "\n",
    "print(f\"Mean word count: {mean_word_count}\")\n",
    "print(f\"Median word count: {median_word_count}\")\n",
    "print(f\"90th percentile: {percentile_90}\")\n",
    "print(f\"95th percentile: {percentile_95}\")"
   ]
  },
  {
   "cell_type": "code",
   "execution_count": null,
   "metadata": {
    "execution": {
     "iopub.execute_input": "2025-04-30T09:16:30.863695Z",
     "iopub.status.busy": "2025-04-30T09:16:30.863428Z",
     "iopub.status.idle": "2025-04-30T09:16:30.871223Z",
     "shell.execute_reply": "2025-04-30T09:16:30.870295Z",
     "shell.execute_reply.started": "2025-04-30T09:16:30.863673Z"
    },
    "trusted": true
   },
   "outputs": [],
   "source": [
    "# Count recipes with less than upper_threshold words\n",
    "upper_threshold = 300\n",
    "count_less_threshold = (word_counts <= upper_threshold).sum()\n",
    "\n",
    "upper_percentage = count_less_threshold/len(df) * 100\n",
    "\n",
    "print(f\"{round(upper_percentage, 2)}% of the recipes have at most {upper_threshold} words.\")"
   ]
  },
  {
   "cell_type": "code",
   "execution_count": null,
   "metadata": {
    "execution": {
     "iopub.execute_input": "2025-04-30T09:16:30.872637Z",
     "iopub.status.busy": "2025-04-30T09:16:30.872281Z",
     "iopub.status.idle": "2025-04-30T09:16:30.903218Z",
     "shell.execute_reply": "2025-04-30T09:16:30.902389Z",
     "shell.execute_reply.started": "2025-04-30T09:16:30.872611Z"
    },
    "trusted": true
   },
   "outputs": [],
   "source": [
    "# Count recipes with more than lower_threshold words\n",
    "lower_threshold = 20\n",
    "count_more_threshold = (word_counts >= lower_threshold).sum()\n",
    "\n",
    "lower_percentage = count_more_threshold/len(df) * 100\n",
    "\n",
    "print(f\"{round(lower_percentage, 2)}% of the recipes have at least {lower_threshold} words.\")"
   ]
  },
  {
   "cell_type": "markdown",
   "metadata": {},
   "source": [
    "### Analyze entities distribution\n",
    "The aim of this section is to analyse the number of elements in the NER column, which contains the number of entities in each recipe, and to provide a distribution, giving a rough measure of the \"complexity\" of the recipe."
   ]
  },
  {
   "cell_type": "code",
   "execution_count": null,
   "metadata": {
    "execution": {
     "iopub.execute_input": "2025-04-30T09:16:30.904841Z",
     "iopub.status.busy": "2025-04-30T09:16:30.904497Z",
     "iopub.status.idle": "2025-04-30T09:16:43.470771Z",
     "shell.execute_reply": "2025-04-30T09:16:43.469773Z",
     "shell.execute_reply.started": "2025-04-30T09:16:30.904798Z"
    },
    "trusted": true
   },
   "outputs": [],
   "source": [
    "# Define a new column containing the number of entities of each recipe\n",
    "ner_column = 'ner_len'\n",
    "df[ner_column] = df['NER'].apply(lambda x: len(ast.literal_eval(x)))"
   ]
  },
  {
   "cell_type": "code",
   "execution_count": null,
   "metadata": {
    "execution": {
     "iopub.execute_input": "2025-04-30T09:16:43.472222Z",
     "iopub.status.busy": "2025-04-30T09:16:43.471886Z",
     "iopub.status.idle": "2025-04-30T09:16:43.480324Z",
     "shell.execute_reply": "2025-04-30T09:16:43.479390Z",
     "shell.execute_reply.started": "2025-04-30T09:16:43.472191Z"
    },
    "trusted": true
   },
   "outputs": [],
   "source": [
    "# Retrieve the length and index of recipe with highest and lowest NER number\n",
    "max_ner_len = df[ner_column].max()\n",
    "min_ner_len = df[ner_column].min()\n",
    "\n",
    "max_ner_len_idx = df[ner_column].idxmax()\n",
    "print(f\"Recipes have between {min_ner_len} and {max_ner_len} entities.\")\n",
    "\n",
    "print(f\"The 'biggest' recipe has {max_ner_len} entities and it is at location {max_ner_len_idx}.\")\n",
    "#print(df['NER'].loc[max_ner_len_idx])"
   ]
  },
  {
   "cell_type": "code",
   "execution_count": null,
   "metadata": {
    "execution": {
     "iopub.execute_input": "2025-04-30T09:16:43.481749Z",
     "iopub.status.busy": "2025-04-30T09:16:43.481421Z",
     "iopub.status.idle": "2025-04-30T09:16:44.160336Z",
     "shell.execute_reply": "2025-04-30T09:16:44.159437Z",
     "shell.execute_reply.started": "2025-04-30T09:16:43.481722Z"
    },
    "trusted": true
   },
   "outputs": [],
   "source": [
    "# Visualize the number of entities in each recipe\n",
    "plt.figure(figsize=(12,6))\n",
    "plt.hist(df[ner_column], bins=max_ner_len, range=(0, max_ner_len))\n",
    "plt.title('Distribution of the number of entities')\n",
    "plt.xlabel('Number of entities')\n",
    "plt.ylabel('Number of recipes')\n",
    "plt.grid(True)\n",
    "plt.show()"
   ]
  },
  {
   "cell_type": "code",
   "execution_count": null,
   "metadata": {
    "execution": {
     "iopub.execute_input": "2025-04-30T09:16:44.161717Z",
     "iopub.status.busy": "2025-04-30T09:16:44.161375Z",
     "iopub.status.idle": "2025-04-30T09:16:44.192665Z",
     "shell.execute_reply": "2025-04-30T09:16:44.191640Z",
     "shell.execute_reply.started": "2025-04-30T09:16:44.161691Z"
    },
    "trusted": true
   },
   "outputs": [],
   "source": [
    "# Analyzing recipe NER count distribution\n",
    "entities_counts = df[ner_column].dropna()\n",
    "mean_entities_count = entities_counts.mean()\n",
    "median_entities_count = entities_counts.median()\n",
    "percentile_90 = entities_counts.quantile(0.9)\n",
    "percentile_95 = entities_counts.quantile(0.95)\n",
    "\n",
    "print(f\"Mean NER count: {mean_entities_count}\")\n",
    "print(f\"Median NER count: {median_entities_count}\")\n",
    "print(f\"90th percentile: {percentile_90}\")\n",
    "print(f\"95th percentile: {percentile_95}\")"
   ]
  },
  {
   "cell_type": "code",
   "execution_count": null,
   "metadata": {
    "execution": {
     "iopub.execute_input": "2025-04-30T09:16:44.193797Z",
     "iopub.status.busy": "2025-04-30T09:16:44.193520Z",
     "iopub.status.idle": "2025-04-30T09:16:44.200734Z",
     "shell.execute_reply": "2025-04-30T09:16:44.199844Z",
     "shell.execute_reply.started": "2025-04-30T09:16:44.193777Z"
    },
    "trusted": true
   },
   "outputs": [],
   "source": [
    "# Count recipes with less than upper_threshold entities\n",
    "upper_threshold = 25\n",
    "count_less_threshold = (entities_counts <= upper_threshold).sum()\n",
    "\n",
    "upper_percentage = count_less_threshold/len(df) * 100\n",
    "\n",
    "print(f\"{round(upper_percentage, 2)}% of the recipes have at most {upper_threshold} entities.\")"
   ]
  },
  {
   "cell_type": "code",
   "execution_count": null,
   "metadata": {
    "execution": {
     "iopub.execute_input": "2025-04-30T09:16:44.202163Z",
     "iopub.status.busy": "2025-04-30T09:16:44.201680Z",
     "iopub.status.idle": "2025-04-30T09:16:44.226290Z",
     "shell.execute_reply": "2025-04-30T09:16:44.225303Z",
     "shell.execute_reply.started": "2025-04-30T09:16:44.202126Z"
    },
    "trusted": true
   },
   "outputs": [],
   "source": [
    "# Count recipes with more than lower_threshold entities\n",
    "lower_threshold = 3\n",
    "count_more_threshold = (entities_counts >= lower_threshold).sum()\n",
    "\n",
    "lower_percentage = count_more_threshold/len(df) * 100\n",
    "\n",
    "print(f\"{round(lower_percentage, 2)}% of the recipes have at least {lower_threshold} entities.\")"
   ]
  },
  {
   "cell_type": "code",
   "execution_count": null,
   "metadata": {
    "execution": {
     "iopub.execute_input": "2025-04-30T09:16:44.227670Z",
     "iopub.status.busy": "2025-04-30T09:16:44.227366Z",
     "iopub.status.idle": "2025-04-30T09:16:44.663542Z",
     "shell.execute_reply": "2025-04-30T09:16:44.662587Z",
     "shell.execute_reply.started": "2025-04-30T09:16:44.227649Z"
    },
    "trusted": true
   },
   "outputs": [],
   "source": [
    "# Filter recipes where there are NO NER\n",
    "zero_NER_recipes = df[df['ner_len'] == 0]\n",
    "\n",
    "print(zero_NER_recipes[['title', 'NER']])\n",
    "# Drop recipes where there are no NERs\n",
    "df = df[df['ner_len'] != 0]"
   ]
  },
  {
   "cell_type": "markdown",
   "metadata": {},
   "source": [
    "It means that the NER process didn't detect any entities for these recipes. This could happen for various reasons, such as:\n",
    "- The recipe doesn't contain recognizable entities like ingredients, amounts, or special terms.\n",
    "- The NER process might not be comprehensive enough to detect all relevant entities in the recipe.\n",
    "- The recipe could be incomplete or malformed in a way that prevents proper entity recognition.\n",
    "\n",
    "For this reason, we decided to drop these rows.\n",
    "\n",
    "NB: It may happens that there are NO entries without NER, since we are using a subsample of the original dataset. "
   ]
  },
  {
   "cell_type": "markdown",
   "metadata": {},
   "source": [
    "## Clustering"
   ]
  },
  {
   "cell_type": "markdown",
   "metadata": {},
   "source": [
    "Now we want to perform some clustering analysis."
   ]
  },
  {
   "cell_type": "code",
   "execution_count": null,
   "metadata": {
    "execution": {
     "iopub.execute_input": "2025-04-30T09:16:44.664594Z",
     "iopub.status.busy": "2025-04-30T09:16:44.664354Z",
     "iopub.status.idle": "2025-04-30T09:16:44.981239Z",
     "shell.execute_reply": "2025-04-30T09:16:44.980525Z",
     "shell.execute_reply.started": "2025-04-30T09:16:44.664577Z"
    },
    "trusted": true
   },
   "outputs": [],
   "source": [
    "from sklearn.feature_extraction.text import TfidfVectorizer\n",
    "from sklearn.cluster import KMeans"
   ]
  },
  {
   "cell_type": "code",
   "execution_count": null,
   "metadata": {
    "execution": {
     "iopub.execute_input": "2025-04-30T09:16:44.982267Z",
     "iopub.status.busy": "2025-04-30T09:16:44.982048Z",
     "iopub.status.idle": "2025-04-30T09:16:48.413165Z",
     "shell.execute_reply": "2025-04-30T09:16:48.412001Z",
     "shell.execute_reply.started": "2025-04-30T09:16:44.982249Z"
    },
    "trusted": true
   },
   "outputs": [],
   "source": [
    "vectorizer = TfidfVectorizer(stop_words='english')\n",
    "titles = df['title'].astype(str)\n",
    "X = vectorizer.fit_transform(titles)"
   ]
  },
  {
   "cell_type": "code",
   "execution_count": null,
   "metadata": {
    "execution": {
     "iopub.execute_input": "2025-04-30T09:16:48.414363Z",
     "iopub.status.busy": "2025-04-30T09:16:48.414097Z",
     "iopub.status.idle": "2025-04-30T09:20:38.278484Z",
     "shell.execute_reply": "2025-04-30T09:20:38.277421Z",
     "shell.execute_reply.started": "2025-04-30T09:16:48.414344Z"
    },
    "trusted": true
   },
   "outputs": [],
   "source": [
    "inertia = []\n",
    "k_values = list(range(2, 50))\n",
    "\n",
    "for k in k_values:\n",
    "    kmeans = KMeans(n_clusters=k, random_state=42, n_init='auto')\n",
    "    kmeans.fit(X)\n",
    "    inertia.append(kmeans.inertia_)"
   ]
  },
  {
   "cell_type": "code",
   "execution_count": null,
   "metadata": {
    "execution": {
     "iopub.execute_input": "2025-04-30T09:20:38.280362Z",
     "iopub.status.busy": "2025-04-30T09:20:38.279738Z",
     "iopub.status.idle": "2025-04-30T09:20:38.722495Z",
     "shell.execute_reply": "2025-04-30T09:20:38.721599Z",
     "shell.execute_reply.started": "2025-04-30T09:20:38.280328Z"
    },
    "trusted": true
   },
   "outputs": [],
   "source": [
    "plt.figure(figsize=(16, 9))\n",
    "plt.plot(k_values, inertia, marker='o')\n",
    "plt.title('Elbow method to determine k')\n",
    "plt.xlabel('Number of clusters (k)')\n",
    "plt.ylabel('Intertia')\n",
    "plt.xticks(k_values)\n",
    "plt.grid(True)\n",
    "plt.show()"
   ]
  },
  {
   "cell_type": "markdown",
   "metadata": {},
   "source": [
    "It seems that two interesting values for K are 13 and 21, let's try both of them."
   ]
  },
  {
   "cell_type": "code",
   "execution_count": null,
   "metadata": {
    "execution": {
     "iopub.execute_input": "2025-04-30T09:20:38.723928Z",
     "iopub.status.busy": "2025-04-30T09:20:38.723577Z",
     "iopub.status.idle": "2025-04-30T09:20:41.401798Z",
     "shell.execute_reply": "2025-04-30T09:20:41.400455Z",
     "shell.execute_reply.started": "2025-04-30T09:20:38.723897Z"
    },
    "trusted": true
   },
   "outputs": [],
   "source": [
    "n_clusters = 13\n",
    "kmeans = KMeans(n_clusters=n_clusters, random_state=42, n_init='auto')\n",
    "kmeans.fit(X)\n",
    "\n",
    "# Add clusters to the original dataframe\n",
    "df['cluster'] = kmeans.labels_\n",
    "\n",
    "# Print an example of titles grouped by cluster\n",
    "for i in range(n_clusters):\n",
    "    print(f\"\\nCluster {i}:\")\n",
    "    print(df[df['cluster'] == i]['title'].head(5).to_string(index=False))"
   ]
  },
  {
   "cell_type": "code",
   "execution_count": null,
   "metadata": {
    "execution": {
     "iopub.execute_input": "2025-04-30T09:20:41.403178Z",
     "iopub.status.busy": "2025-04-30T09:20:41.402831Z",
     "iopub.status.idle": "2025-04-30T09:20:41.411312Z",
     "shell.execute_reply": "2025-04-30T09:20:41.410022Z",
     "shell.execute_reply.started": "2025-04-30T09:20:41.403148Z"
    },
    "trusted": true
   },
   "outputs": [],
   "source": [
    "# la eliminiamo?\n",
    "# Get the centroid for the first cluster\n",
    "centroid = kmeans.cluster_centers_[0]\n",
    "\n",
    "# Sort terms according to their weights\n",
    "# (argsort goes from lowest to highest, we reverse the order through slicing)\n",
    "sorted_terms = centroid.argsort()[::-1]\n",
    "\n",
    "# Print out the top 10 terms for the cluster\n",
    "[titles.iloc[j] for j in sorted_terms[:10]]"
   ]
  },
  {
   "cell_type": "code",
   "execution_count": null,
   "metadata": {
    "trusted": true
   },
   "outputs": [],
   "source": [
    "print(\"Top terms per cluster:\")\n",
    "vocab = vectorizer.get_feature_names_out()\n",
    "\n",
    "for i in range(kmeans.n_clusters):\n",
    "    centroid = kmeans.cluster_centers_[i]\n",
    "    sorted_terms = centroid.argsort()[::-1]\n",
    "    print(f\"Cluster {i}:\\t{[vocab[j] for j in sorted_terms[:5]]}\")"
   ]
  },
  {
   "cell_type": "code",
   "execution_count": null,
   "metadata": {
    "trusted": true
   },
   "outputs": [],
   "source": [
    "print('Number of docs in: ')\n",
    "\n",
    "for i in range(kmeans.n_clusters):\n",
    "    print(f\"Cluster {i}: {np.sum(kmeans.labels_ == i)}\")"
   ]
  },
  {
   "cell_type": "code",
   "execution_count": null,
   "metadata": {
    "execution": {
     "iopub.execute_input": "2025-04-30T09:20:41.412995Z",
     "iopub.status.busy": "2025-04-30T09:20:41.412543Z",
     "iopub.status.idle": "2025-04-30T09:20:45.237071Z",
     "shell.execute_reply": "2025-04-30T09:20:45.236115Z",
     "shell.execute_reply.started": "2025-04-30T09:20:41.412962Z"
    },
    "trusted": true
   },
   "outputs": [],
   "source": [
    "n_clusters = 21\n",
    "kmeans = KMeans(n_clusters=n_clusters, random_state=42, n_init='auto')\n",
    "kmeans.fit(X)\n",
    "\n",
    "df['cluster'] = kmeans.labels_\n",
    "\n",
    "for i in range(n_clusters):\n",
    "    print(f\"\\nCluster {i}:\")\n",
    "    print(df[df['cluster'] == i]['title'].head(5).to_string(index=False))"
   ]
  },
  {
   "cell_type": "code",
   "execution_count": null,
   "metadata": {
    "execution": {
     "iopub.execute_input": "2025-04-30T09:20:45.239126Z",
     "iopub.status.busy": "2025-04-30T09:20:45.238658Z",
     "iopub.status.idle": "2025-04-30T09:20:45.247259Z",
     "shell.execute_reply": "2025-04-30T09:20:45.246457Z",
     "shell.execute_reply.started": "2025-04-30T09:20:45.239095Z"
    },
    "trusted": true
   },
   "outputs": [],
   "source": [
    "# la rimuoviamo?\n",
    "centroid = kmeans.cluster_centers_[0]\n",
    "\n",
    "sorted_terms = centroid.argsort()[::-1]\n",
    "\n",
    "[titles.iloc[j] for j in sorted_terms[:20]]"
   ]
  },
  {
   "cell_type": "code",
   "execution_count": null,
   "metadata": {
    "execution": {
     "iopub.execute_input": "2025-04-30T09:20:45.248719Z",
     "iopub.status.busy": "2025-04-30T09:20:45.248427Z",
     "iopub.status.idle": "2025-04-30T09:20:45.328301Z",
     "shell.execute_reply": "2025-04-30T09:20:45.327484Z",
     "shell.execute_reply.started": "2025-04-30T09:20:45.248692Z"
    },
    "trusted": true
   },
   "outputs": [],
   "source": [
    "print(\"Top terms per cluster:\")\n",
    "vocab = vectorizer.get_feature_names_out()\n",
    "\n",
    "for i in range(kmeans.n_clusters):\n",
    "    centroid = kmeans.cluster_centers_[i]\n",
    "    sorted_terms = centroid.argsort()[::-1]\n",
    "    print(f\"Cluster {i}:\\t{[vocab[j] for j in sorted_terms[:5]]}\")"
   ]
  },
  {
   "cell_type": "code",
   "execution_count": null,
   "metadata": {
    "execution": {
     "iopub.execute_input": "2025-04-30T09:20:45.329778Z",
     "iopub.status.busy": "2025-04-30T09:20:45.329369Z",
     "iopub.status.idle": "2025-04-30T09:20:45.355355Z",
     "shell.execute_reply": "2025-04-30T09:20:45.354059Z",
     "shell.execute_reply.started": "2025-04-30T09:20:45.329747Z"
    },
    "trusted": true
   },
   "outputs": [],
   "source": [
    "print('Number of docs in: ')\n",
    "\n",
    "for i in range(kmeans.n_clusters):\n",
    "    print(f\"Cluster {i}: {np.sum(kmeans.labels_ == i)}\")"
   ]
  },
  {
   "cell_type": "markdown",
   "metadata": {},
   "source": [
    "### Evaluation\n",
    "\n",
    "In order to evaluate our clustering we are using only intrinsic method, since we do not have the real labels of the clusters."
   ]
  },
  {
   "cell_type": "code",
   "execution_count": null,
   "metadata": {
    "execution": {
     "iopub.execute_input": "2025-04-30T09:20:45.356607Z",
     "iopub.status.busy": "2025-04-30T09:20:45.356298Z",
     "iopub.status.idle": "2025-04-30T09:20:45.361716Z",
     "shell.execute_reply": "2025-04-30T09:20:45.360898Z",
     "shell.execute_reply.started": "2025-04-30T09:20:45.356581Z"
    },
    "trusted": true
   },
   "outputs": [],
   "source": [
    "from sklearn import metrics\n",
    "\n",
    "print(\"Intrinsic evaluation measures:\")\n",
    "print(\"Within-cluster sum-of-squares:\", str(kmeans.inertia_))\n",
    "#print(\"Silhouette coefficient:\", str(metrics.silhouette_score(X, kmeans.labels_)))"
   ]
  },
  {
   "cell_type": "markdown",
   "metadata": {},
   "source": [
    "Since the dataset is quite big, even reducing it to a quarter of the original, we try to perform also a Mini Batch Clustering."
   ]
  },
  {
   "cell_type": "code",
   "execution_count": null,
   "metadata": {
    "execution": {
     "iopub.execute_input": "2025-04-30T09:20:45.362762Z",
     "iopub.status.busy": "2025-04-30T09:20:45.362469Z",
     "iopub.status.idle": "2025-04-30T09:20:54.158115Z",
     "shell.execute_reply": "2025-04-30T09:20:54.157278Z",
     "shell.execute_reply.started": "2025-04-30T09:20:45.362735Z"
    },
    "trusted": true
   },
   "outputs": [],
   "source": [
    "from sklearn.cluster import MiniBatchKMeans\n",
    "\n",
    "n_clusters = 21\n",
    "mb_kmeans = MiniBatchKMeans(n_clusters=n_clusters,batch_size=500, random_state=2307)\n",
    "mb_kmeans.fit(X)"
   ]
  },
  {
   "cell_type": "code",
   "execution_count": null,
   "metadata": {
    "execution": {
     "iopub.execute_input": "2025-04-30T09:20:54.159291Z",
     "iopub.status.busy": "2025-04-30T09:20:54.158982Z",
     "iopub.status.idle": "2025-04-30T09:20:54.164514Z",
     "shell.execute_reply": "2025-04-30T09:20:54.163287Z",
     "shell.execute_reply.started": "2025-04-30T09:20:54.159263Z"
    },
    "trusted": true
   },
   "outputs": [],
   "source": [
    "print(\"Intrinsic evaluation measures:\")\n",
    "print(\"Within-cluster sum-of-squares:\", str(mb_kmeans.inertia_))\n",
    "#print(\"Silhouette coefficient:\", str(metrics.silhouette_score(X, mb_kmeans.labels_)))"
   ]
  },
  {
   "cell_type": "markdown",
   "metadata": {},
   "source": [
    "Now, let's try to visualize clusters."
   ]
  },
  {
   "cell_type": "code",
   "execution_count": null,
   "metadata": {
    "execution": {
     "iopub.execute_input": "2025-04-30T09:20:54.171926Z",
     "iopub.status.busy": "2025-04-30T09:20:54.171573Z",
     "iopub.status.idle": "2025-04-30T09:20:56.934999Z",
     "shell.execute_reply": "2025-04-30T09:20:56.934108Z",
     "shell.execute_reply.started": "2025-04-30T09:20:54.171898Z"
    },
    "trusted": true
   },
   "outputs": [],
   "source": [
    "from sklearn.decomposition import TruncatedSVD\n",
    "\n",
    "svd = TruncatedSVD(3)\n",
    "reduced_data = svd.fit_transform(X)\n",
    "\n",
    "[x,y,z] = np.transpose(reduced_data)\n",
    "[x,y,z]"
   ]
  },
  {
   "cell_type": "code",
   "execution_count": null,
   "metadata": {
    "execution": {
     "iopub.execute_input": "2025-04-30T09:20:56.936326Z",
     "iopub.status.busy": "2025-04-30T09:20:56.935978Z",
     "iopub.status.idle": "2025-04-30T09:21:12.858829Z",
     "shell.execute_reply": "2025-04-30T09:21:12.857971Z",
     "shell.execute_reply.started": "2025-04-30T09:20:56.936293Z"
    },
    "trusted": true
   },
   "outputs": [],
   "source": [
    "fig = plt.figure(figsize=(15, 10))\n",
    "ax = fig.add_subplot(111, projection='3d')\n",
    "ax.scatter(x, y, z, c=kmeans.labels_, marker='.')"
   ]
  },
  {
   "cell_type": "markdown",
   "metadata": {},
   "source": [
    "We have also tried to perform clustering for the NER column, performing the 'elbow method' and plotting the results. However, the plot has not highlighter any points in which improvement in the measure decreases substantially from one time step to the next. "
   ]
  },
  {
   "cell_type": "markdown",
   "metadata": {},
   "source": [
    "## Indexing\n",
    "We decided to index the recipes based on the directions, in order to perform keyword search over them. We choose the directions since they will likely contains both ingredients and keywords relative to the procedure (e.g. baked, fried)."
   ]
  },
  {
   "cell_type": "code",
   "execution_count": null,
   "metadata": {
    "execution": {
     "iopub.execute_input": "2025-04-30T09:21:12.860589Z",
     "iopub.status.busy": "2025-04-30T09:21:12.860039Z",
     "iopub.status.idle": "2025-04-30T09:21:34.390320Z",
     "shell.execute_reply": "2025-04-30T09:21:34.388911Z",
     "shell.execute_reply.started": "2025-04-30T09:21:12.860562Z"
    },
    "trusted": true
   },
   "outputs": [],
   "source": [
    "!pip install -q python-terrier==0.11.0"
   ]
  },
  {
   "cell_type": "code",
   "execution_count": null,
   "metadata": {
    "execution": {
     "iopub.execute_input": "2025-04-30T09:21:34.391991Z",
     "iopub.status.busy": "2025-04-30T09:21:34.391700Z",
     "iopub.status.idle": "2025-04-30T09:21:37.028593Z",
     "shell.execute_reply": "2025-04-30T09:21:37.027363Z",
     "shell.execute_reply.started": "2025-04-30T09:21:34.391963Z"
    },
    "trusted": true
   },
   "outputs": [],
   "source": [
    "import matplotlib.pyplot as plt\n",
    "import pandas as pd\n",
    "import pyterrier as pt\n",
    "\n",
    "if not pt.started():\n",
    "  pt.init()"
   ]
  },
  {
   "cell_type": "code",
   "execution_count": null,
   "metadata": {
    "execution": {
     "iopub.execute_input": "2025-04-30T09:21:37.030327Z",
     "iopub.status.busy": "2025-04-30T09:21:37.029709Z",
     "iopub.status.idle": "2025-04-30T09:22:05.217541Z",
     "shell.execute_reply": "2025-04-30T09:22:05.216917Z",
     "shell.execute_reply.started": "2025-04-30T09:21:37.030295Z"
    },
    "trusted": true
   },
   "outputs": [],
   "source": [
    "# Create a list of documents (use 'title' for indexing)\n",
    "documents_title = [{'docno': str(i), 'text': text} for i, text in enumerate(df['title'])]\n",
    "\n",
    "# Create the index\n",
    "indexer = pt.IterDictIndexer(\"./index_title\")\n",
    "indexer.index(documents_title)"
   ]
  },
  {
   "cell_type": "code",
   "execution_count": null,
   "metadata": {
    "execution": {
     "iopub.execute_input": "2025-04-30T09:22:05.218568Z",
     "iopub.status.busy": "2025-04-30T09:22:05.218272Z",
     "iopub.status.idle": "2025-04-30T09:23:39.735536Z",
     "shell.execute_reply": "2025-04-30T09:23:39.734384Z",
     "shell.execute_reply.started": "2025-04-30T09:22:05.218547Z"
    },
    "trusted": true
   },
   "outputs": [],
   "source": [
    "# Create a list of documents (use 'directions' for indexing)\n",
    "documents_directions = [{'docno': str(i), 'text': text} for i, text in enumerate(df['directions'])]\n",
    "\n",
    "# Create the index\n",
    "indexer = pt.IterDictIndexer(\"./index_directions\")\n",
    "indexer.index(documents_directions)"
   ]
  },
  {
   "cell_type": "code",
   "execution_count": null,
   "metadata": {
    "execution": {
     "iopub.execute_input": "2025-04-30T09:23:39.737315Z",
     "iopub.status.busy": "2025-04-30T09:23:39.736958Z",
     "iopub.status.idle": "2025-04-30T09:27:15.121023Z",
     "shell.execute_reply": "2025-04-30T09:27:15.119483Z",
     "shell.execute_reply.started": "2025-04-30T09:23:39.737287Z"
    },
    "trusted": true
   },
   "outputs": [],
   "source": [
    "# Create documents with multiple fields\n",
    "documents_fields = [\n",
    "    {\n",
    "        'docno': str(i),\n",
    "        'title': row['title'],\n",
    "        'ingredients': row['ingredients'],\n",
    "        'directions': row['directions']\n",
    "    }\n",
    "    for i, row in df.iterrows()\n",
    "]\n",
    "\n",
    "# Index the fielded documents\n",
    "indexer_fields = pt.IterDictIndexer(\"./index_fields\")\n",
    "\n",
    "# Set meta fields and indexed fields\n",
    "indexref = indexer_fields.index(\n",
    "    documents_fields,\n",
    "    fields=[\"title\", \"ingredients\", \"directions\"],  \n",
    "    meta={'docno': 20, 'title': 512, 'ingredients': 1024, 'directions': 4096}\n",
    ")"
   ]
  },
  {
   "cell_type": "code",
   "execution_count": null,
   "metadata": {
    "execution": {
     "iopub.execute_input": "2025-04-30T09:27:15.123025Z",
     "iopub.status.busy": "2025-04-30T09:27:15.122596Z",
     "iopub.status.idle": "2025-04-30T09:27:15.216972Z",
     "shell.execute_reply": "2025-04-30T09:27:15.214886Z",
     "shell.execute_reply.started": "2025-04-30T09:27:15.122992Z"
    },
    "trusted": true
   },
   "outputs": [],
   "source": [
    "# Create a searcher using the index\n",
    "index_title = pt.IndexFactory.of(\"./index_title\")\n",
    "index_directions = pt.IndexFactory.of(\"./index_directions\")\n",
    "index_fields = pt.IndexFactory.of(indexref)\n",
    "\n",
    "# BM25 retrieval model\n",
    "bm25_tit = pt.terrier.Retriever(index_title, wmodel=\"BM25\")\n",
    "bm25_dir = pt.terrier.Retriever(index_directions, wmodel=\"BM25\")\n",
    "\n",
    "# TF-IDF retrieval model\n",
    "tfidf_tit = pt.terrier.Retriever(index_title, wmodel=\"TF_IDF\")\n",
    "tfidf_dir = pt.terrier.Retriever(index_directions, wmodel=\"TF_IDF\")\n",
    "\n",
    "# DFRee retrieval model (Document Frequency based)\n",
    "dfree_tit = pt.terrier.Retriever(index_title, wmodel=\"DFRee\")\n",
    "dfree_dir = pt.terrier.Retriever(index_directions, wmodel=\"DFRee\")\n",
    "\n",
    "# Create BM25F retriever with field weights\n",
    "# Weighted BM25 over each field\n",
    "bm25_title = pt.BatchRetrieve(index_fields, wmodel=\"BM25\", controls={\"w\": \"1.0\"}, metadata=[\"docno\", \"title\"], field=\"title\")\n",
    "bm25_ingredients = pt.BatchRetrieve(index_fields, wmodel=\"BM25\", controls={\"w\": \"1.0\"}, metadata=[\"docno\", \"ingredients\"], field=\"ingredients\")\n",
    "bm25_directions = pt.BatchRetrieve(index_fields, wmodel=\"BM25\", controls={\"w\": \"1.0\"}, metadata=[\"docno\", \"directions\"], field=\"directions\")\n",
    "\n",
    "# Weighted combination of scores: BM25F-like\n",
    "bm25f_manual = (\n",
    "    bm25_title * 0.3 +\n",
    "    bm25_ingredients * 0.4 +\n",
    "    bm25_directions * 0.3\n",
    ")"
   ]
  },
  {
   "cell_type": "markdown",
   "metadata": {},
   "source": [
    "By using all of these models, we can perform a comprehensive evaluation of the different retrieval strategies. Each model captures different aspects of relevance:\n",
    "\n",
    "- BM25 accounts for both term and document frequencies, providing a balanced relevance score.\n",
    "- TF-IDF emphasizes the importance of rare terms across the document collection.\n",
    "- DFRee is useful for understanding how document frequency affects relevance.\n",
    "\n",
    "We also tried BM25 without term frequency (no tf), but it performed to same as classic BM25. This is likely because in our dataset, document length and term frequency did not vary significantly across relevant documents, so removing the tf component had minimal impact on ranking.\n",
    "To keep the notebook clean we omitted this variant."
   ]
  },
  {
   "cell_type": "code",
   "execution_count": null,
   "metadata": {
    "execution": {
     "iopub.execute_input": "2025-04-30T09:27:15.220307Z",
     "iopub.status.busy": "2025-04-30T09:27:15.218230Z",
     "iopub.status.idle": "2025-04-30T09:27:15.245468Z",
     "shell.execute_reply": "2025-04-30T09:27:15.244356Z",
     "shell.execute_reply.started": "2025-04-30T09:27:15.220273Z"
    },
    "trusted": true
   },
   "outputs": [],
   "source": [
    "print(index_title.getCollectionStatistics().toString())\n",
    "print(index_directions.getCollectionStatistics().toString())\n",
    "print(index_fields.getCollectionStatistics().toString())"
   ]
  },
  {
   "cell_type": "code",
   "execution_count": null,
   "metadata": {
    "execution": {
     "iopub.execute_input": "2025-04-30T09:34:04.954583Z",
     "iopub.status.busy": "2025-04-30T09:34:04.953338Z",
     "iopub.status.idle": "2025-04-30T09:34:05.285560Z",
     "shell.execute_reply": "2025-04-30T09:34:05.284626Z",
     "shell.execute_reply.started": "2025-04-30T09:34:04.954550Z"
    },
    "trusted": true
   },
   "outputs": [],
   "source": [
    "# Prepare some queries and evaluate them\n",
    "queries = [\n",
    "    {\"qid\": \"1\", \"query\": \"chicken casserole\"},\n",
    "    {\"qid\": \"2\", \"query\": \"simple birthday cake\"},\n",
    "    {\"qid\": \"3\", \"query\": \"baked salmon\"},\n",
    "]\n",
    "\n",
    "titles = df['title']\n",
    "plot_data = []\n",
    "\n",
    "# Loop through each query\n",
    "for q in queries:\n",
    "    print(f\"\\n=== Query {q['qid']}: {q['query']} ===\")\n",
    "\n",
    "    # Run all models for the titles including BM25F\n",
    "    result_bm25_tit = bm25_tit.search(q['query'])\n",
    "    result_tfidf_tit = tfidf_tit.search(q['query'])\n",
    "    result_dfree_tit = dfree_tit.search(q['query'])   \n",
    "\n",
    "    # Add all model results to the loop\n",
    "    for method_name, result in [\n",
    "        (\"BM25\", result_bm25_tit),\n",
    "        (\"TF-IDF\", result_tfidf_tit),\n",
    "        (\"DFRee\", result_dfree_tit),\n",
    "    ]:\n",
    "        print(f\"\\n--- Method: {method_name} ---\")\n",
    "\n",
    "        for rank, (docno, score) in enumerate(zip(result[\"docno\"][:5], result[\"score\"][:5])):\n",
    "            docno_int = int(docno)  # Convert from str to int\n",
    "            title = df['title'].iloc[docno_int] if docno_int < len(df) else \"TITLE NOT FOUND\"\n",
    "            print(f\"DocNO: {docno:<7} | Title: {title:<50.48} | Score: {score:.4f}\")\n",
    "            \n",
    "            # Append to plotting data\n",
    "            plot_data.append({\n",
    "                'Query': q['query'],\n",
    "                'Query_ID': q['qid'],\n",
    "                'Model': method_name,\n",
    "                'Rank': rank + 1,\n",
    "                'Docno': docno_int,\n",
    "                'Title': title,\n",
    "                'Score': score\n",
    "            })"
   ]
  },
  {
   "cell_type": "code",
   "execution_count": null,
   "metadata": {
    "execution": {
     "iopub.execute_input": "2025-04-30T09:34:12.241582Z",
     "iopub.status.busy": "2025-04-30T09:34:12.241238Z",
     "iopub.status.idle": "2025-04-30T09:34:12.513144Z",
     "shell.execute_reply": "2025-04-30T09:34:12.512167Z",
     "shell.execute_reply.started": "2025-04-30T09:34:12.241559Z"
    },
    "trusted": true
   },
   "outputs": [],
   "source": [
    "# Visualize the results of the third query\n",
    "plot_df = pd.DataFrame(plot_data)\n",
    "df_first = plot_df[plot_df['Query_ID'] == \"3\"]\n",
    "\n",
    "plt.figure(figsize=(10, 6))\n",
    "\n",
    "for model in df_first['Model'].unique():\n",
    "    md = df_first[df_first['Model'] == model]\n",
    "    plt.plot(md['Rank'], md['Title'], marker='o', linestyle='-', label=model)\n",
    "\n",
    "plt.xlabel('Rank')\n",
    "plt.ylabel('Recipe title')\n",
    "plt.title(f'Results for Query \"{queries[2][\"query\"]}\"')\n",
    "plt.legend(title='Model')\n",
    "plt.xticks([1, 2, 3, 4, 5])\n",
    "plt.grid(True)\n",
    "plt.show()"
   ]
  },
  {
   "cell_type": "markdown",
   "metadata": {},
   "source": [
    "In this case, BM25 and TF-IDF yielded the same document rankings: this happen when documents are short, uniformly sized, or when term frequencies are relatively balanced, making the additional complexity of BM25 less impactful.\n",
    "\n",
    "This suggest that relying only on document titles for indexing provides limited term variability and context, reducing the effectiveness of retrieval models. Incorporating richer textual content would likely yield more discriminative and informative rankings."
   ]
  },
  {
   "cell_type": "code",
   "execution_count": null,
   "metadata": {
    "execution": {
     "iopub.execute_input": "2025-04-30T09:34:22.158170Z",
     "iopub.status.busy": "2025-04-30T09:34:22.157772Z",
     "iopub.status.idle": "2025-04-30T09:34:23.576412Z",
     "shell.execute_reply": "2025-04-30T09:34:23.575357Z",
     "shell.execute_reply.started": "2025-04-30T09:34:22.158144Z"
    },
    "trusted": true
   },
   "outputs": [],
   "source": [
    "# Prepare some queries and evaluate them\n",
    "queries = [\n",
    "    {\"qid\": \"1\", \"query\": \"chicken casserole\"},\n",
    "    {\"qid\": \"2\", \"query\": \"simple birthday cake\"},\n",
    "    {\"qid\": \"3\", \"query\": \"baked salmon\"},\n",
    "]\n",
    "\n",
    "titles = df['title']\n",
    "plot_data = []\n",
    "\n",
    "# Loop through each query\n",
    "for q in queries:\n",
    "    print(f\"\\n=== Query {q['qid']}: {q['query']} ===\")\n",
    "\n",
    "    # Run all models for the directions including BM25F\n",
    "    result_bm25_dir = bm25_dir.search(q['query'])\n",
    "    result_tfidf_dir = tfidf_dir.search(q['query'])\n",
    "    result_dfree_dir = dfree_dir.search(q['query'])\n",
    "    \n",
    "    result_bm25f = bm25f_manual.search(q['query'])  \n",
    "\n",
    "    # Add all model results to the loop\n",
    "    for method_name, result in [\n",
    "        (\"BM25\", result_bm25_dir),\n",
    "        (\"TF-IDF\", result_tfidf_dir),\n",
    "        (\"DFRee\", result_dfree_dir),\n",
    "        (\"BM25F\", result_bm25f) \n",
    "    ]:\n",
    "        print(f\"\\n--- Method: {method_name} ---\")\n",
    "\n",
    "        for rank, (docno, score) in enumerate(zip(result[\"docno\"][:5], result[\"score\"][:5])):\n",
    "            docno_int = int(docno)  # Convert from str to int\n",
    "            title = df['title'].iloc[docno_int] if docno_int < len(df) else \"TITLE NOT FOUND\"\n",
    "            print(f\"DocNO: {docno:<7} | Title: {title:<50.48} | Score: {score:.4f}\")\n",
    "            \n",
    "            # Append to plotting data\n",
    "            plot_data.append({\n",
    "                'Query': q['query'],\n",
    "                'Query_ID': q['qid'],\n",
    "                'Model': method_name,\n",
    "                'Rank': rank + 1,\n",
    "                'Docno': docno_int,\n",
    "                'Title': title,\n",
    "                'Score': score\n",
    "            })"
   ]
  },
  {
   "cell_type": "code",
   "execution_count": null,
   "metadata": {
    "execution": {
     "iopub.execute_input": "2025-04-30T09:34:27.667548Z",
     "iopub.status.busy": "2025-04-30T09:34:27.667197Z",
     "iopub.status.idle": "2025-04-30T09:34:27.948252Z",
     "shell.execute_reply": "2025-04-30T09:34:27.947226Z",
     "shell.execute_reply.started": "2025-04-30T09:34:27.667522Z"
    },
    "trusted": true
   },
   "outputs": [],
   "source": [
    "# Visualize the results of the third query\n",
    "plot_df = pd.DataFrame(plot_data)\n",
    "df_first = plot_df[plot_df['Query_ID'] == \"3\"]\n",
    "\n",
    "plt.figure(figsize=(10, 6))\n",
    "\n",
    "for model in df_first['Model'].unique():\n",
    "    md = df_first[df_first['Model'] == model]\n",
    "    plt.plot(md['Rank'], md['Title'], marker='o', linestyle='-', label=model)\n",
    "\n",
    "plt.xlabel('Rank')\n",
    "plt.ylabel('Recipe title')\n",
    "plt.title(f'Results for Query \"{queries[2][\"query\"]}\"')\n",
    "plt.legend(title='Model')\n",
    "plt.xticks([1, 2, 3, 4, 5])\n",
    "plt.grid(True)\n",
    "plt.show()"
   ]
  },
  {
   "cell_type": "markdown",
   "metadata": {},
   "source": [
    "About the results:\n",
    "\n",
    "- TF-IDF put “Balsamic Glazed Salmon” at #1: we can see that TF-IDF’s emphasis on rare terms may be boosting “balsamic”.\n",
    "- DFRee puts “Fennel-And-Dill-Rubbed Grilled Salmon” at #1, and then “Salmon Wrapped In Fig Leaves With Baked Kale” at #2: it shows that rarer, longer titles win more weight under DFRee.\n",
    "- Unlike single-field models, BM25F combines weighted evidence from different parts of the document, making it robust when key terms appear in both title, ingredients and directions."
   ]
  },
  {
   "cell_type": "markdown",
   "metadata": {},
   "source": [
    "## Word2Vec"
   ]
  },
  {
   "cell_type": "markdown",
   "metadata": {},
   "source": [
    "Training a Word2Vec embedding on the RecipeNLG dataset allows us to capture the semantic relationships between words in cooking instructions. Word2Vec learns to represent words as dense vectors, where words with similar meanings are positioned closer together in the vector space. This enables us to explore word similarities, identify common patterns, and improve various natural language processing tasks like recipe recommendation and ingredient analysis."
   ]
  },
  {
   "cell_type": "code",
   "execution_count": null,
   "metadata": {
    "execution": {
     "iopub.execute_input": "2025-04-30T09:51:57.373070Z",
     "iopub.status.busy": "2025-04-30T09:51:57.372682Z",
     "iopub.status.idle": "2025-04-30T09:52:39.819752Z",
     "shell.execute_reply": "2025-04-30T09:52:39.818774Z",
     "shell.execute_reply.started": "2025-04-30T09:51:57.373024Z"
    },
    "trusted": true
   },
   "outputs": [],
   "source": [
    "# Convert the 'text' column of the DataFrame into a list of strings (e.g., recipe directions)\n",
    "w2v_directions = list(df['text'])\n",
    "\n",
    "# Tokenize each direction \n",
    "tokenized_directions = [re.sub('\\W', ' ', direction).lower().split() for direction in w2v_directions]"
   ]
  },
  {
   "cell_type": "markdown",
   "metadata": {},
   "source": [
    "Let's remove the stopwords\n",
    "(we need a context window to train it, so we are discarding the directions composed by only one word)"
   ]
  },
  {
   "cell_type": "code",
   "execution_count": null,
   "metadata": {
    "execution": {
     "iopub.execute_input": "2025-04-30T09:53:53.291349Z",
     "iopub.status.busy": "2025-04-30T09:53:53.291039Z",
     "iopub.status.idle": "2025-04-30T09:54:03.676739Z",
     "shell.execute_reply": "2025-04-30T09:54:03.675794Z",
     "shell.execute_reply.started": "2025-04-30T09:53:53.291328Z"
    },
    "trusted": true
   },
   "outputs": [],
   "source": [
    "filtered_directions = [[word for word in sublist if word not in stop_words] for sublist in tokenized_directions]\n",
    "filtered_directions = [direction for direction in filtered_directions if len(direction) > 1]\n",
    "len(filtered_directions)"
   ]
  },
  {
   "cell_type": "markdown",
   "metadata": {},
   "source": [
    "Now it's time to  train our model!\n"
   ]
  },
  {
   "cell_type": "code",
   "execution_count": null,
   "metadata": {
    "execution": {
     "iopub.execute_input": "2025-04-30T09:54:16.642285Z",
     "iopub.status.busy": "2025-04-30T09:54:16.641020Z",
     "iopub.status.idle": "2025-04-30T09:57:10.959520Z",
     "shell.execute_reply": "2025-04-30T09:57:10.958679Z",
     "shell.execute_reply.started": "2025-04-30T09:54:16.642248Z"
    },
    "trusted": true
   },
   "outputs": [],
   "source": [
    "from gensim.models.word2vec import Word2Vec\n",
    "\n",
    "model = Word2Vec(filtered_directions, vector_size=50, min_count=5, window=10)\n",
    "\n",
    "len(model.wv)"
   ]
  },
  {
   "cell_type": "markdown",
   "metadata": {},
   "source": [
    "Ever wondered what is a possible vector representation of the word soup?  Me neither!"
   ]
  },
  {
   "cell_type": "code",
   "execution_count": null,
   "metadata": {
    "execution": {
     "iopub.execute_input": "2025-04-30T09:58:10.460967Z",
     "iopub.status.busy": "2025-04-30T09:58:10.460612Z",
     "iopub.status.idle": "2025-04-30T09:58:10.469315Z",
     "shell.execute_reply": "2025-04-30T09:58:10.468438Z",
     "shell.execute_reply.started": "2025-04-30T09:58:10.460939Z"
    },
    "trusted": true
   },
   "outputs": [],
   "source": [
    "term = 'soup'\n",
    "model.wv[term]"
   ]
  },
  {
   "cell_type": "markdown",
   "metadata": {},
   "source": [
    "Or what are the most similar words to 'chicken' (Between the ones in our dataset)"
   ]
  },
  {
   "cell_type": "code",
   "execution_count": null,
   "metadata": {
    "execution": {
     "iopub.execute_input": "2025-04-30T09:58:10.501880Z",
     "iopub.status.busy": "2025-04-30T09:58:10.501553Z",
     "iopub.status.idle": "2025-04-30T09:58:10.512706Z",
     "shell.execute_reply": "2025-04-30T09:58:10.511887Z",
     "shell.execute_reply.started": "2025-04-30T09:58:10.501856Z"
    },
    "trusted": true
   },
   "outputs": [],
   "source": [
    "term = 'chicken'\n",
    "model.wv.most_similar(term)"
   ]
  },
  {
   "cell_type": "markdown",
   "metadata": {},
   "source": [
    "From 0 to 1, how  similar the words chicken and beef are?"
   ]
  },
  {
   "cell_type": "code",
   "execution_count": null,
   "metadata": {
    "execution": {
     "iopub.execute_input": "2025-04-30T09:58:10.536001Z",
     "iopub.status.busy": "2025-04-30T09:58:10.535564Z",
     "iopub.status.idle": "2025-04-30T09:58:10.543152Z",
     "shell.execute_reply": "2025-04-30T09:58:10.542158Z",
     "shell.execute_reply.started": "2025-04-30T09:58:10.535973Z"
    },
    "trusted": true
   },
   "outputs": [],
   "source": [
    "model.wv.similarity('chicken', 'beef')"
   ]
  },
  {
   "cell_type": "markdown",
   "metadata": {},
   "source": [
    "chicken:breast = beef:?"
   ]
  },
  {
   "cell_type": "code",
   "execution_count": null,
   "metadata": {
    "execution": {
     "iopub.execute_input": "2025-04-30T09:58:10.570010Z",
     "iopub.status.busy": "2025-04-30T09:58:10.569643Z",
     "iopub.status.idle": "2025-04-30T09:58:10.578739Z",
     "shell.execute_reply": "2025-04-30T09:58:10.577908Z",
     "shell.execute_reply.started": "2025-04-30T09:58:10.569982Z"
    },
    "trusted": true
   },
   "outputs": [],
   "source": [
    "vec = model.wv['beef'] + model.wv['breast'] - model.wv['chicken']\n",
    "model.wv.similar_by_vector(vec)"
   ]
  },
  {
   "cell_type": "markdown",
   "metadata": {},
   "source": [
    "Right now we are working with embedding vectors of 50 dimensions. Unfortunately, the human brain is limited and can visualize only up to three of them. So it's necessary to reduce our vectors' dimensions to this number. Let's try to do so using t-distributed stochastic neighbor embedding (t-SNE):"
   ]
  },
  {
   "cell_type": "code",
   "execution_count": null,
   "metadata": {
    "execution": {
     "iopub.execute_input": "2025-04-30T09:58:10.592755Z",
     "iopub.status.busy": "2025-04-30T09:58:10.592441Z",
     "iopub.status.idle": "2025-04-30T09:58:18.687046Z",
     "shell.execute_reply": "2025-04-30T09:58:18.686337Z",
     "shell.execute_reply.started": "2025-04-30T09:58:10.592734Z"
    },
    "trusted": true
   },
   "outputs": [],
   "source": [
    "from sklearn.manifold import TSNE\n",
    "\n",
    "samples = random.sample(list(model.wv.key_to_index), 1000)\n",
    "vectors = model.wv[samples]\n",
    "\n",
    "tsne = TSNE(n_components=3, n_iter=2000)\n",
    "tsne_embedding = tsne.fit_transform(vectors)\n",
    "\n",
    "x, y, z = np.transpose(tsne_embedding)"
   ]
  },
  {
   "cell_type": "code",
   "execution_count": null,
   "metadata": {
    "execution": {
     "iopub.execute_input": "2025-04-30T09:58:18.689539Z",
     "iopub.status.busy": "2025-04-30T09:58:18.688618Z",
     "iopub.status.idle": "2025-04-30T09:58:18.765524Z",
     "shell.execute_reply": "2025-04-30T09:58:18.764306Z",
     "shell.execute_reply.started": "2025-04-30T09:58:18.689509Z"
    },
    "trusted": true
   },
   "outputs": [],
   "source": [
    "import plotly.express as px\n",
    "\n",
    "fig = px.scatter_3d(x=x[:300],y=y[:300],z=z[:300],text=samples[:300])\n",
    "fig.update_traces(marker=dict(size=3,line=dict(width=2)),textfont_size=10)\n",
    "fig.show()"
   ]
  },
  {
   "cell_type": "markdown",
   "metadata": {},
   "source": [
    "Quite interesting isn't it? \n",
    "\n",
    "Numbers are near each other (probably they represent different oven temperatures). Also values like 9x5x3 and 2x3 (lengths of the baking trays?).\n",
    "\n",
    "Same for fruits and vegetables"
   ]
  },
  {
   "cell_type": "markdown",
   "metadata": {},
   "source": [
    "Why don't we try principal component analysis to perform the dimensionality reduction?\n",
    "\n",
    "(and also sample again, you never know)"
   ]
  },
  {
   "cell_type": "code",
   "execution_count": null,
   "metadata": {
    "execution": {
     "iopub.execute_input": "2025-04-30T09:58:18.766697Z",
     "iopub.status.busy": "2025-04-30T09:58:18.766377Z",
     "iopub.status.idle": "2025-04-30T09:58:18.771151Z",
     "shell.execute_reply": "2025-04-30T09:58:18.770290Z",
     "shell.execute_reply.started": "2025-04-30T09:58:18.766672Z"
    },
    "trusted": true
   },
   "outputs": [],
   "source": [
    "from sklearn.decomposition import PCA"
   ]
  },
  {
   "cell_type": "code",
   "execution_count": null,
   "metadata": {
    "execution": {
     "iopub.execute_input": "2025-04-30T09:58:18.773091Z",
     "iopub.status.busy": "2025-04-30T09:58:18.772781Z",
     "iopub.status.idle": "2025-04-30T09:58:18.814010Z",
     "shell.execute_reply": "2025-04-30T09:58:18.812280Z",
     "shell.execute_reply.started": "2025-04-30T09:58:18.773064Z"
    },
    "trusted": true
   },
   "outputs": [],
   "source": [
    "samples = random.sample(list(model.wv.key_to_index), 1000)\n",
    "vectors = model.wv[samples]\n",
    "\n",
    "pca = PCA(n_components=3)\n",
    "pca_embedding = pca.fit_transform(vectors)\n",
    "\n",
    "explained_variance_ratio = pca.explained_variance_ratio_\n",
    "print(f\"Explained variance ratio: {explained_variance_ratio}\" )\n",
    "print(f\"Total explained variance: {sum(explained_variance_ratio)}\")"
   ]
  },
  {
   "cell_type": "code",
   "execution_count": null,
   "metadata": {
    "execution": {
     "iopub.execute_input": "2025-04-30T09:58:18.815007Z",
     "iopub.status.busy": "2025-04-30T09:58:18.814733Z",
     "iopub.status.idle": "2025-04-30T09:58:18.890560Z",
     "shell.execute_reply": "2025-04-30T09:58:18.889688Z",
     "shell.execute_reply.started": "2025-04-30T09:58:18.814986Z"
    },
    "trusted": true
   },
   "outputs": [],
   "source": [
    "x, y, z = np.transpose(pca_embedding)\n",
    "\n",
    "fig = px.scatter_3d(x=x[:200],y=y[:200],z=z[:200],text=samples[:200])\n",
    "fig.update_traces(marker=dict(size=3,line=dict(width=2)),textfont_size=10)\n",
    "fig.show()"
   ]
  },
  {
   "cell_type": "markdown",
   "metadata": {},
   "source": [
    "The 3 dimensions that hold the most informations tent to agglomerate around the values (0,0,0), making pca reductions not suited for visualisation purposes\n"
   ]
  },
  {
   "cell_type": "markdown",
   "metadata": {},
   "source": [
    "# Training models"
   ]
  },
  {
   "cell_type": "markdown",
   "metadata": {},
   "source": [
    "In this section we are going to train some models, from the easiest to the most complex ones.\n",
    "\n",
    "Firstly, we create a secreto token to use HuggingFace models."
   ]
  },
  {
   "cell_type": "code",
   "execution_count": null,
   "metadata": {
    "trusted": true
   },
   "outputs": [],
   "source": [
    "⁠from kaggle_secrets import UserSecretsClient\n",
    "\n",
    "user_secrets = UserSecretsClient()\n",
    "secret_value_0 = user_secrets.get_secret(\"NLP project\") ⁠\n"
   ]
  },
  {
   "cell_type": "markdown",
   "metadata": {},
   "source": [
    "# Further developments"
   ]
  },
  {
   "cell_type": "markdown",
   "metadata": {},
   "source": [
    "We would like to see how some of our riceipts can look like..."
   ]
  },
  {
   "cell_type": "code",
   "execution_count": null,
   "metadata": {
    "trusted": true
   },
   "outputs": [],
   "source": [
    "# Extract 3 titles to turn into images\n",
    "sampled_titles = df['title'].sample(n=3, random_state=42).tolist()"
   ]
  },
  {
   "cell_type": "code",
   "execution_count": null,
   "metadata": {
    "trusted": true
   },
   "outputs": [],
   "source": [
    "import torch\n",
    "from huggingface_hub import login\n",
    "\n",
    "login(secret_value_0)"
   ]
  },
  {
   "cell_type": "code",
   "execution_count": null,
   "metadata": {
    "trusted": true
   },
   "outputs": [],
   "source": [
    "from diffusers import DiffusionPipeline\n",
    "\n",
    "pipe = DiffusionPipeline.from_pretrained(\"stabilityai/stable-diffusion-xl-base-1.0\", torch_dtype=torch.float16, use_safetensors=True, variant=\"fp16\")\n",
    "pipe.to(\"cuda\")\n",
    "\n",
    "# if using torch < 2.0\n",
    "# pipe.enable_xformers_memory_efficient_attention()"
   ]
  },
  {
   "cell_type": "code",
   "execution_count": null,
   "metadata": {
    "trusted": true
   },
   "outputs": [],
   "source": [
    "fig, axes = plt.subplots(1, 3, figsize=(15, 5))\n",
    "for i, title in enumerate(sampled_titles):\n",
    "    image = pipe(prompt=title).images[0]\n",
    "    axes[i].imshow(image)\n",
    "    axes[i].set_title(title, fontsize=10)\n",
    "    axes[i].axis('off')"
   ]
  },
  {
   "cell_type": "code",
   "execution_count": null,
   "metadata": {
    "trusted": true
   },
   "outputs": [],
   "source": [
    "plt.tight_layout()\n",
    "plt.show()"
   ]
  },
  {
   "cell_type": "markdown",
   "metadata": {},
   "source": [
    "## Multi agent system using Pretrained llm"
   ]
  },
  {
   "cell_type": "markdown",
   "metadata": {},
   "source": [
    "#### Introduction"
   ]
  },
  {
   "cell_type": "markdown",
   "metadata": {},
   "source": [
    "This code implements a multi-agent system for generating and refining cooking recipes using a pretrained LLM (GPT-4) and information retrieval techniques. It leverages PyTerrier for indexing and retrieving recipes based on ingredients and directions. The system allows dynamic interactions with the user, enabling recipe generation, modification, and regeneration based on feedback. Using LangChain and LangGraph, the system orchestrates a workflow of nodes for handling user input, generating recipes, and refining them based on real-time corrections. The approach integrates both tools and prompts to create a flexible, user-driven cooking assistant."
   ]
  },
  {
   "cell_type": "code",
   "execution_count": null,
   "metadata": {},
   "outputs": [],
   "source": [
    "import os\n",
    "from dotenv import load_dotenv\n",
    "\n",
    "# Load environment variables from the .env file\n",
    "load_dotenv()\n",
    "\n",
    "# Get the values from the environment variables\n",
    "java_home = os.getenv(\"JAVA_HOME\")\n",
    "openai_api_key = os.getenv(\"OPENAI_API_KEY\")\n",
    "\n",
    "# Print the values to check\n",
    "print(f\"JAVA_HOME: {java_home}\")\n",
    "print(f\"OPENAI_API_KEY: {openai_api_key}\")\n"
   ]
  },
  {
   "cell_type": "code",
   "execution_count": null,
   "metadata": {},
   "outputs": [],
   "source": [
    "from langchain_core.output_parsers import StrOutputParser\n",
    "from langchain_core.runnables import RunnableSequence\n",
    "from langchain.output_parsers import ResponseSchema, StructuredOutputParser\n",
    "from langchain_openai import ChatOpenAI\n",
    "from langchain_core.prompts import ChatPromptTemplate\n",
    "import pandas as pd\n",
    "import pyterrier as pt  \n",
    "import json\n",
    "\n",
    "from langchain_core.messages import HumanMessage\n",
    "from typing import Any\n",
    "from typing import Annotated, Literal\n",
    "from typing_extensions import TypedDict\n",
    "from langchain.output_parsers import StructuredOutputParser, ResponseSchema\n",
    "from langchain_core.tools import tool\n",
    "from langgraph.prebuilt import ToolNode\n",
    "from langchain_core.messages import AIMessage\n",
    "from langchain_openai import ChatOpenAI\n",
    "from langgraph.graph import END, StateGraph, START\n",
    "from langgraph.graph.message import AnyMessage, add_messages\n",
    "from langchain_core.messages import ToolMessage\n",
    "from langchain_core.runnables import RunnableLambda, RunnableWithFallbacks\n",
    "from langchain_openai import ChatOpenAI\n",
    "from langchain_core.prompts import ChatPromptTemplate"
   ]
  },
  {
   "cell_type": "code",
   "execution_count": null,
   "metadata": {},
   "outputs": [
    {
     "name": "stderr",
     "output_type": "stream",
     "text": [
      "C:\\Users\\figio\\AppData\\Local\\Temp\\ipykernel_7080\\3057724015.py:1: DeprecationWarning: Call to deprecated function (or staticmethod) started. (use pt.java.started() instead) -- Deprecated since version 0.11.0.\n",
      "  if not pt.started():\n",
      "Java started and loaded: pyterrier.java, pyterrier.terrier.java [version=5.11 (build: craig.macdonald 2025-01-13 21:29), helper_version=0.0.8]\n",
      "C:\\Users\\figio\\AppData\\Local\\Temp\\ipykernel_7080\\3057724015.py:2: DeprecationWarning: Call to deprecated method pt.init(). Deprecated since version 0.11.0.\n",
      "java is now started automatically with default settings. To force initialisation early, run:\n",
      "pt.java.init() # optional, forces java initialisation\n",
      "  pt.init()\n"
     ]
    }
   ],
   "source": [
    "if not pt.started():\n",
    "    pt.init()"
   ]
  },
  {
   "cell_type": "markdown",
   "metadata": {},
   "source": [
    "#### Graph objecs"
   ]
  },
  {
   "cell_type": "code",
   "execution_count": null,
   "metadata": {},
   "outputs": [],
   "source": [
    "\"\"\"\n",
    "I am using the ChatOpenAI model from LangChain, which is a wrapper around OpenAI's GPT-3.5 and GPT-4 models.\n",
    "\"\"\"\n",
    "llm = ChatOpenAI(model=\"gpt-4\", temperature=0.7)"
   ]
  },
  {
   "cell_type": "code",
   "execution_count": null,
   "metadata": {},
   "outputs": [],
   "source": [
    "\"\"\"\n",
    "State Graph, maintaining the state of the conversation.\n",
    "\"\"\"\n",
    "class State(TypedDict):\n",
    "    messages: Annotated[list[AnyMessage], add_messages]"
   ]
  },
  {
   "cell_type": "markdown",
   "metadata": {},
   "source": [
    "#### RAG"
   ]
  },
  {
   "cell_type": "code",
   "execution_count": null,
   "metadata": {},
   "outputs": [
    {
     "name": "stdout",
     "output_type": "stream",
     "text": [
      "✔️ Index already exists. Using existing index.\n",
      "13:10:32.783 [main] WARN org.terrier.structures.FSADocumentIndex -- This index has fields, but FSADocumentIndex is used (which stores fields lengths on disk); If using field-based models such as BM25F, change to index.document.class in the index  properties file to FSAFieldDocumentIndex or FSADocumentIndexInMemFields to support efficient retrieval. If you don't use (e.g.) BM25F, this warning can be ignored\n"
     ]
    }
   ],
   "source": [
    "# Percorso assoluto all'indice\n",
    "index_path = r\"C:\\\\Users\\\\figio\\\\Desktop\\\\cooking-mama\\\\Riccardo Finigi\\\\index_fields\"\n",
    "\n",
    "# Verifica se l'indice esiste già\n",
    "if os.path.exists(index_path) and os.path.exists(os.path.join(index_path, \"data.properties\")):\n",
    "    print(\"✔️ Index already exists. Using existing index.\")\n",
    "    indexref = index_path\n",
    "else:\n",
    "    print(\"🛠️ Index not found. Building new index...\")\n",
    "\n",
    "    documents_fields = [\n",
    "        {\n",
    "            'docno': str(row['id']),  # usa l'id reale\n",
    "            'title': row['title'],\n",
    "            'ingredients': row['ingredients'],\n",
    "        }\n",
    "        for _, row in df.iterrows()\n",
    "    ]\n",
    "\n",
    "    os.makedirs(index_path, exist_ok=True)\n",
    "\n",
    "    indexer_fields = pt.IterDictIndexer(index_path)\n",
    "    indexref = indexer_fields.index(\n",
    "        documents_fields,\n",
    "        fields=[\"title\", \"ingredients\"],\n",
    "        meta={'docno': 20, 'title': 512, 'ingredients': 1024}\n",
    "    )\n",
    "\n",
    "# Costruisci oggetto Index e motore di retrieval\n",
    "index_fields = pt.IndexFactory.of(indexref)\n",
    "bm25_ingredients = pt.terrier.Retriever(\n",
    "    index_fields,\n",
    "    wmodel=\"BM25\",\n",
    "    controls={\"w\": \"1.0\"},\n",
    "    metadata=[\"docno\", \"ingredients\"],\n",
    "    field=\"ingredients\"\n",
    ")\n",
    "\n"
   ]
  },
  {
   "cell_type": "code",
   "execution_count": null,
   "metadata": {},
   "outputs": [
    {
     "name": "stdout",
     "output_type": "stream",
     "text": [
      "✔️ Index already exists. Using existing index.\n",
      "13:10:33.408 [main] WARN org.terrier.structures.FSADocumentIndex -- This index has fields, but FSADocumentIndex is used (which stores fields lengths on disk); If using field-based models such as BM25F, change to index.document.class in the index  properties file to FSAFieldDocumentIndex or FSADocumentIndexInMemFields to support efficient retrieval. If you don't use (e.g.) BM25F, this warning can be ignored\n"
     ]
    }
   ],
   "source": [
    "index_path_directions = r\"C:\\\\Users\\\\figio\\\\Desktop\\\\cooking-mama\\\\Riccardo Finigi\\\\index_directions\"\n",
    "\n",
    "\n",
    "if os.path.exists(index_path_directions) and os.path.exists(os.path.join(index_path_directions, \"data.properties\")):\n",
    "    print(\"✔️ Index already exists. Using existing index.\")\n",
    "    indexref_2 = index_path_directions\n",
    "else:\n",
    "    print(\"🛠️ Index not found. Building new index fir directions...\")\n",
    "    \n",
    "    documents_fields = [\n",
    "        {\n",
    "            'docno': str(row['id']),  # usa l'id reale\n",
    "            'title': row['title'],\n",
    "            'directions': row['directions'],\n",
    "        }\n",
    "        for _, row in df.iterrows()\n",
    "    ]\n",
    "\n",
    "    os.makedirs(index_path_directions, exist_ok=True)\n",
    "\n",
    "    indexer_fields = pt.IterDictIndexer(index_path_directions)\n",
    "    indexref_2 = indexer_fields.index(\n",
    "        documents_fields,\n",
    "        fields=[\"title\", \"directions\"],\n",
    "        meta={'docno': 20, 'title': 512, 'directions': 4096}\n",
    "    )\n",
    "    \n",
    "\n",
    "# Costruisci oggetto Index e motore di retrieval\n",
    "index_fields = pt.IndexFactory.of(indexref_2)\n",
    "bm25_directions = pt.terrier.Retriever(\n",
    "    index_fields,\n",
    "    wmodel=\"BM25\",\n",
    "    controls={\"w\": \"1.0\"},\n",
    "    metadata=[\"docno\", \"directions\"],\n",
    "    field=\"directions\"\n",
    ")"
   ]
  },
  {
   "cell_type": "markdown",
   "metadata": {},
   "source": [
    "#### Prompts"
   ]
  },
  {
   "cell_type": "markdown",
   "metadata": {},
   "source": [
    "Here, a series of prompts are described for querying the LLM to perform various tasks. The prompts range from recipe generation to recipe validation, and they all follow a predefined format for how the app should respond, allowing for the use of a parser. The first two prompts also provide the ability to input custom information."
   ]
  },
  {
   "cell_type": "code",
   "execution_count": null,
   "metadata": {},
   "outputs": [],
   "source": [
    "prompt_system_ingrs = \"\"\"\n",
    "You are a creative and helpful cooking assistant.\n",
    "\n",
    "The user will provide a list of available ingredients.  \n",
    "Your task is to create a complete and realistic recipe using **only those ingredients** — do not invent or add anything not included in the list.\n",
    "\n",
    "The recipe must include:\n",
    "- A clear and descriptive title\n",
    "- Step-by-step preparation instructions\n",
    "\n",
    "Important rules:\n",
    "- Do NOT use any ingredient that is not listed.\n",
    "- If a necessary item (e.g., salt, oil, water) is missing, do NOT assume it's available — exclude it.\n",
    "- You can adjust the form or quantity of the ingredients (e.g., chop, grate, blend), but not add new ones.\n",
    "- If the ingredients are unusual together, invent a plausible or creative dish that still makes good use of them.\n",
    "\n",
    "Output your response in the following JSON format:\n",
    "\n",
    "{{\n",
    "\t\"title\": string  // The title of the recipe\n",
    "\t\"list_of_steps\": string  // A list of steps to prepare the dish, only the list\n",
    "}}\n",
    "\n",
    "DO NOT return any other text or explanation, just the JSON.\n",
    "\n",
    "Example, take some ispiration from this:\n",
    "{Example}\n",
    "\n",
    "\"\"\""
   ]
  },
  {
   "cell_type": "code",
   "execution_count": null,
   "metadata": {},
   "outputs": [],
   "source": [
    "response_schemas_2 = [\n",
    "    ResponseSchema(\n",
    "        name='title',\n",
    "        description='The title of the recipe',\n",
    "    ),\n",
    "    ResponseSchema(\n",
    "        name='list_of_steps',\n",
    "        description='A list of steps to prepare the dish, only the list',\n",
    "    )\n",
    "]"
   ]
  },
  {
   "cell_type": "code",
   "execution_count": null,
   "metadata": {},
   "outputs": [],
   "source": [
    "output_parser_2 = StructuredOutputParser.from_response_schemas(response_schemas_2)"
   ]
  },
  {
   "cell_type": "code",
   "execution_count": null,
   "metadata": {},
   "outputs": [],
   "source": [
    "prompt_system_ingrs_ = ChatPromptTemplate.from_messages(\n",
    "    [('system', prompt_system_ingrs), ('user', '{messages}')]\n",
    ").partial(format_instructions=output_parser_2.get_format_instructions())"
   ]
  },
  {
   "cell_type": "code",
   "execution_count": null,
   "metadata": {},
   "outputs": [],
   "source": [
    "prompts_rigeneration_ask = \"\"\"\n",
    "You are a cooking expert, and your task is to improve the recipe. The recipe has already been generated and is visible in the message list. \n",
    "Your job is to determine whether additional information is needed from a tool to improve the recipe, or if you should proceed with a new generation using the user's corrections. \n",
    "\n",
    "Your task is to decide whether to use a tool or not. There are two possible tools available:\n",
    "- `retrieve_by_ingredients_tool`: a tool that retrieves recipes based on the ingredients provided by the user.\n",
    "- `retrieve_by_directions_tool`: a tool that retrieves recipes based on the directions provided for preparing the dish.\n",
    "\n",
    "Make a reasoning about the recipe and the information you have, and what is necessary to improve it.\n",
    "Than call always the tool, even if you don't need it, to increase the information in the recipe.\n",
    "\n",
    "This is the list of changes that the user has made to the recipe:\n",
    "{corrections}\n",
    "\n",
    "That are very important to take into account in the new generation.\n",
    "\n",
    "\"\"\""
   ]
  },
  {
   "cell_type": "code",
   "execution_count": null,
   "metadata": {},
   "outputs": [],
   "source": [
    "prompts_rigeneration_ = ChatPromptTemplate.from_messages(\n",
    "    [('system', prompts_rigeneration_ask), ('user', '{messages}')]\n",
    ")"
   ]
  },
  {
   "cell_type": "code",
   "execution_count": null,
   "metadata": {},
   "outputs": [],
   "source": [
    "prompt_regen = \"\"\"\n",
    "You are a creative and helpful cooking assistant.\n",
    "\n",
    "The user will provide a list of message.  Use the messages to retrieve all the information that is needed to regenerate the recipe, because this is a regeneration following new directions.\n",
    "Your task is to create a complete and realistic recipe using **only those ingredients** — do not invent or add anything not included in the list.\n",
    "\n",
    "The recipe must include:\n",
    "- A clear and descriptive title\n",
    "- Step-by-step preparation instructions\n",
    "\n",
    "Important rules:\n",
    "- Do NOT use any ingredient that is not listed.\n",
    "- If a necessary item (e.g., salt, oil, water) is missing, do NOT assume it's available — exclude it.\n",
    "- You can adjust the form or quantity of the ingredients (e.g., chop, grate, blend), but not add new ones.\n",
    "- If the ingredients are unusual together, invent a plausible or creative dish that still makes good use of them.\n",
    "\n",
    "Output your response in the following JSON format:\n",
    "\n",
    "{{\n",
    "\t\"title\": string  // The title of the recipe\n",
    "\t\"list_of_steps\": string  // A list of steps to prepare the dish, only the list\n",
    "}}\n",
    "\n",
    "\"\"\""
   ]
  },
  {
   "cell_type": "code",
   "execution_count": null,
   "metadata": {},
   "outputs": [],
   "source": [
    "prompt_regen_ = ChatPromptTemplate.from_messages(\n",
    "    [('system', prompt_regen), ('user', '{messages}')]\n",
    ").partial(format_instructions=output_parser_2.get_format_instructions())"
   ]
  },
  {
   "cell_type": "markdown",
   "metadata": {},
   "source": [
    "#### Tool"
   ]
  },
  {
   "cell_type": "markdown",
   "metadata": {},
   "source": [
    "The tools are resources that agents can utilize to perform operations that generally do not involve LLMs but are local and independent of them. In this case, specifically, the tools are related to RAG (Retrieval-Augmented Generation), meaning they are used for retrieving existing recipes to gather insights or inspiration. These tools allow the system to pull relevant data without relying on the LLM, improving the recipe generation process by leveraging previously indexed information."
   ]
  },
  {
   "cell_type": "code",
   "execution_count": null,
   "metadata": {},
   "outputs": [],
   "source": [
    "def create_tool_node_with_fallback(tools: list) -> RunnableWithFallbacks[Any, dict]:\n",
    "    \"\"\"\n",
    "    Create a ToolNode with a fallback to handle errors and surface them to the agent.\n",
    "    1. This creates a node in a LangGraph that can execute a list of tools (which are functions, APIs, or other callable objects).\n",
    "    2. With_fallbacksensuring: if an error occurs, the agent receives a structured error message instead of failing.This adds a fallback mechanism in case any tool in tools fails.\n",
    "    3. Wraps the handle_tool_error function inside a RunnableLambda, making it compatible with LangGraph's execution model.\n",
    "\n",
    "    I nodi che utilizzano \"funzioni esterne\" sono visti come uno o più tools. Questi tool sono chiamati in successione poi\n",
    "    \"\"\"\n",
    "    return ToolNode(tools).with_fallbacks(\n",
    "        [RunnableLambda(handle_tool_error)], exception_key=\"error\"\n",
    "    )\n",
    "\n",
    "\n",
    "def handle_tool_error(state) -> dict:\n",
    "    error = state.get(\"error\")\n",
    "    tool_calls = state[\"messages\"][-1].tool_calls\n",
    "    return {\n",
    "        \"messages\": [\n",
    "            ToolMessage(\n",
    "                content=f\"Error: {repr(error)}\\n please fix your mistakes.\",\n",
    "                tool_call_id=tc[\"id\"],\n",
    "            )\n",
    "            for tc in tool_calls\n",
    "        ]\n",
    "    }"
   ]
  },
  {
   "cell_type": "code",
   "execution_count": null,
   "metadata": {},
   "outputs": [],
   "source": [
    "@tool\n",
    "def retrive_by_ingredients(ingredients: str):\n",
    "    \"\"\"Retrieves a recipe based on the provided ingredients.\"\"\"\n",
    "    # Use the bm25_ingredients to search for recipes based on the ingredients\n",
    "    result = bm25_ingredients.search(ingredients)\n",
    "    if result.empty:\n",
    "        return \"No recipes found.\"\n",
    "    \n",
    "    id = result.iloc[0][\"docno\"]\n",
    "    id = int(id)  # converti in intero\n",
    "\n",
    "    return df[df[\"id\"] == id]"
   ]
  },
  {
   "cell_type": "code",
   "execution_count": null,
   "metadata": {},
   "outputs": [],
   "source": [
    "@tool\n",
    "def retrieve_by_ingredients_tool(ingredients: str, num_recipes: int):\n",
    "    \"\"\"\n",
    "    Retrieves a specified number of recipes based on the provided ingredients.\n",
    "\n",
    "    Parameters:\n",
    "    - ingredients (str): A string representing the ingredients to search for in the recipes.\n",
    "      Ingredients should be separated by a comma and a space (e.g., \"chicken, garlic, pasta\").\n",
    "    - num_recipes (int): The number of recipes to be returned as search results.\n",
    "      This parameter defines how many recipes are returned. It can be any positive integer.\n",
    "\n",
    "    Returns:\n",
    "    - List[DataFrame]: A list of DataFrames, each representing a recipe. Each DataFrame contains\n",
    "      the details of a recipe that matches the provided ingredients.\n",
    "      If there are fewer recipes than requested, the function will return only those found.\n",
    "      If no recipes are found, a message saying \"No recipes found.\" will be returned.\n",
    "\n",
    "    \"\"\"\n",
    "\n",
    "    # Use the bm25_ingredients to search for recipes based on the ingredients\n",
    "    result = bm25_ingredients.search(ingredients)\n",
    "    if result.empty:\n",
    "        return \"No recipes found.\"\n",
    "\n",
    "    # Prepara una lista di ricette\n",
    "    recipes = []\n",
    "    \n",
    "    # Itera attraverso i risultati trovati, limitato al numero richiesto di ricette\n",
    "    for idx in result.index[:num_recipes]:  # Prendi solo le prime N ricette\n",
    "        recipe_id = int(result.loc[idx, \"docno\"])  # Converte l'id in intero\n",
    "        recipe = df[df[\"id\"] == recipe_id]\n",
    "        recipes.append(recipe)\n",
    "    # Restituisce la lista delle ricette trovate (può essere meno di N se non ci sono abbastanza risultati)\n",
    "    return recipes\n"
   ]
  },
  {
   "cell_type": "code",
   "execution_count": null,
   "metadata": {},
   "outputs": [],
   "source": [
    "@tool\n",
    "def retrieve_by_directions_tool(directions: str, num_recipes: int):\n",
    "    \"\"\"\n",
    "    Retrieves a specified number of recipes based on the provided directions.\n",
    "\n",
    "    Parameters:\n",
    "    - directions (str): A string representing the directions to search for in the recipes.\n",
    "    - num_recipes (int): The number of recipes to be returned as search results.\n",
    "      This parameter defines how many recipes are returned. It can be any positive integer.\n",
    "\n",
    "    Returns:\n",
    "    - List[DataFrame]: A list of DataFrames, each representing a recipe. Each DataFrame contains\n",
    "      the details of a recipe that matches the provided ingredients.\n",
    "      If there are fewer recipes than requested, the function will return only those found.\n",
    "      If no recipes are found, a message saying \"No recipes found.\" will be returned.\n",
    "\n",
    "    \"\"\"\n",
    "\n",
    "    # Use the bm25_ingredients to search for recipes based on the ingredients\n",
    "    result = bm25_ingredients.search(directions)\n",
    "    \n",
    "    if result.empty:\n",
    "        return \"No recipes found.\"\n",
    "\n",
    "    # Prepara una lista di ricette\n",
    "    recipes = []\n",
    "    \n",
    "    # Itera attraverso i risultati trovati, limitato al numero richiesto di ricette\n",
    "    for idx in result.index[:num_recipes]:  # Prendi solo le prime N ricette\n",
    "        recipe_id = int(result.loc[idx, \"docno\"])  # Converte l'id in intero\n",
    "        recipe = df[df[\"id\"] == recipe_id]\n",
    "        recipes.append(recipe)\n",
    "\n",
    "    # Restituisce la lista delle ricette trovate (può essere meno di N se non ci sono abbastanza risultati)\n",
    "    return recipes\n"
   ]
  },
  {
   "cell_type": "markdown",
   "metadata": {},
   "source": [
    "#### Chain"
   ]
  },
  {
   "cell_type": "markdown",
   "metadata": {},
   "source": [
    "The chains are sequences of operations that need to be executed when interacting with the LLM. They typically involve preparing the prompt, setting up the LLM, and handling the response. In some cases, chains also include calling the tools."
   ]
  },
  {
   "cell_type": "code",
   "execution_count": null,
   "metadata": {},
   "outputs": [],
   "source": [
    "recipe_chain_2 = prompt_system_ingrs_ | llm | output_parser_2"
   ]
  },
  {
   "cell_type": "code",
   "execution_count": null,
   "metadata": {},
   "outputs": [],
   "source": [
    "regen_chain = prompts_rigeneration_ | llm.bind_tools(\n",
    "    [retrieve_by_ingredients_tool, retrieve_by_directions_tool],\n",
    "    tool_choice=\"required\"\n",
    ") "
   ]
  },
  {
   "cell_type": "code",
   "execution_count": null,
   "metadata": {},
   "outputs": [],
   "source": [
    "recipe_regen = prompt_regen_ | llm | output_parser_2"
   ]
  },
  {
   "cell_type": "markdown",
   "metadata": {},
   "source": [
    "#### Node"
   ]
  },
  {
   "cell_type": "code",
   "execution_count": null,
   "metadata": {},
   "outputs": [],
   "source": [
    "def starter(state: State) -> dict[str, list[AIMessage]]:\n",
    "    \"\"\"\n",
    "    This node initializes the workflow by collecting a list of ingredients \n",
    "    from the user and creating a HumanMessage with the input.\n",
    "    \"\"\"\n",
    "    user_input = input(\"Enter a list of ingredients (comma-separated): \")\n",
    "    return {\"messages\": HumanMessage(content=user_input)}"
   ]
  },
  {
   "cell_type": "code",
   "execution_count": null,
   "metadata": {},
   "outputs": [],
   "source": [
    "def first_generation(state: State) -> dict[str, list[AIMessage]]:\n",
    "    \"\"\"\n",
    "    This function generates a recipe based on the ingredients provided by the user.\n",
    "    \n",
    "    Steps:\n",
    "    1. Extracts the list of ingredients from the last message in the state.\n",
    "    2. Uses the `retrive_by_ingredients` tool to retrieve a recipe matching the ingredients.\n",
    "    3. Passes the retrieved recipe and messages to the `recipe_chain_2` for further processing.\n",
    "    4. Prints the recipe title and preparation steps.\n",
    "    5. Returns the updated state with the generated recipe.\n",
    "\n",
    "    \"\"\"\n",
    "    ingredients = state[\"messages\"][-1].content\n",
    "\n",
    "    recipe = retrive_by_ingredients(ingredients)\n",
    "\n",
    "    response_2 = recipe_chain_2.invoke({\"messages\": state[\"messages\"], \"Example\": recipe})\n",
    "\n",
    "    print(\"\\n\\n\\n\\nTitle:\", response_2['title'])\n",
    "\n",
    "    print(\"\\nPreparation Steps:\")\n",
    "    for i, step in enumerate(response_2['list_of_steps'], 1):\n",
    "        print(f\"{i}. {step}\")\n",
    "\n",
    "    return {\"messages\": AIMessage(content=json.dumps(response_2, indent=2))}\n",
    "    "
   ]
  },
  {
   "cell_type": "code",
   "execution_count": null,
   "metadata": {},
   "outputs": [],
   "source": [
    "def modify_generation(state: State) -> dict[str, list[AIMessage]]:\n",
    "    \"\"\"\n",
    "    This function regenerates a recipe based on the user's input and the current state.\n",
    "    Use the lit of messages to retrieve all the information needed to regenerate the recipe.\n",
    "    It checks if the user wants to use a tool to improve the recipe or if it should proceed with a new generation.\n",
    "\n",
    "    Steps:\n",
    "    1. Invokes the `recipe_regen` chain using the messages from the current state.\n",
    "    2. Extracts the title and preparation steps from the response.\n",
    "    3. Prints the recipe title and step-by-step preparation instructions.\n",
    "    4. Returns the updated state with the newly generated recipe.\n",
    "\n",
    "    \"\"\"\n",
    "    response_2 = recipe_regen.invoke({\"messages\": state[\"messages\"]})\n",
    "\n",
    "    print(\"\\n\\n\\n\\nTitle:\", response_2['title'])\n",
    "\n",
    "    print(\"\\nPreparation Steps:\")\n",
    "    for i, step in enumerate(response_2['list_of_steps'], 1):\n",
    "        print(f\"{i}. {step}\")\n",
    "\n",
    "    return {\"messages\": AIMessage(content=json.dumps(response_2, indent=2))}\n"
   ]
  },
  {
   "cell_type": "code",
   "execution_count": null,
   "metadata": {},
   "outputs": [],
   "source": [
    "def ask_what_to_do(state: State) -> dict[str, list[AIMessage]]:\n",
    "    \"\"\"\n",
    "    This node interacts the LLM that decides what to do whether to retrieve other recipes by ingredients or by instructions, \n",
    "    or simply go to regenerate with the new directions.\n",
    "    \"\"\"\n",
    "    user_input = input(\"What do you want to do?\")\n",
    "\n",
    "    response_2 = regen_chain.invoke({\"messages\": state[\"messages\"], \"corrections\": user_input})\n",
    "    print(response_2)\n",
    "    return {\"messages\": [response_2]}"
   ]
  },
  {
   "cell_type": "code",
   "execution_count": null,
   "metadata": {},
   "outputs": [],
   "source": [
    "def modify_recipe_condition(state: State) -> Literal[END, \"ask_what_to_do\"]:\n",
    "    \"\"\"\n",
    "    This function determines whether the user wants to modify the recipe or terminate the program.\n",
    "    It prompts the user for input and checks if they want to make changes or end the program.\n",
    "    \"\"\"\n",
    "    print(\"\\n\\nModifying recipe...Do you need to change something?\")\n",
    "    user_input = input(\"Enter NO or YES: \")\n",
    "    if user_input.lower() == \"no\":\n",
    "        return END\n",
    "    else:\n",
    "        return \"ask_what_to_do\""
   ]
  },
  {
   "cell_type": "code",
   "execution_count": null,
   "metadata": {},
   "outputs": [],
   "source": [
    "def where_continue(state: State) -> Literal[\"modify_generation\", \"retrieve_by_ingredients_tool\", \"retrieve_by_directions_tool\"]:\n",
    "    messages = state[\"messages\"]\n",
    "    last_message = messages[-1]\n",
    "\n",
    "    if last_message.tool_calls:\n",
    "        for tc in last_message.tool_calls:\n",
    "            if tc[\"name\"] == \"retrieve_by_ingredients_tool\":\n",
    "                return \"retrieve_by_ingredients_tool\"\n",
    "            elif tc[\"name\"] == \"retrieve_by_directions_tool\":\n",
    "                return \"retrieve_by_directions_tool\"\n",
    "    else:\n",
    "        return \"modify_generation\""
   ]
  },
  {
   "cell_type": "code",
   "execution_count": null,
   "metadata": {},
   "outputs": [],
   "source": [
    "workflow = StateGraph(State)\n",
    "\n",
    "workflow.add_node(\"starter\", starter)\n",
    "\n",
    "workflow.add_node(\"first_generation\", first_generation)\n",
    "\n",
    "workflow.add_node(\"ask_what_to_do\", ask_what_to_do)\n",
    "\n",
    "workflow.add_node(\"modify_generation\", modify_generation)\n",
    "\n",
    "workflow.add_node(\"retrieve_by_ingredients_tool\", create_tool_node_with_fallback([retrieve_by_ingredients_tool]))\n",
    "\n",
    "workflow.add_node(\"retrieve_by_directions_tool\", create_tool_node_with_fallback([retrieve_by_directions_tool]))\n",
    "\n",
    "#_____________________________________________________________________________________________________________#\n",
    "\n",
    "workflow.add_edge(START, \"starter\")\n",
    "\n",
    "workflow.add_edge(\"starter\", \"first_generation\")\n",
    "\n",
    "workflow.add_conditional_edges(\n",
    "    \"first_generation\",\n",
    "    modify_recipe_condition\n",
    ")\n",
    "\n",
    "workflow.add_conditional_edges(\n",
    "    \"ask_what_to_do\",\n",
    "    where_continue\n",
    ")\n",
    "\n",
    "workflow.add_edge(\"retrieve_by_ingredients_tool\", \"modify_generation\")\n",
    "\n",
    "workflow.add_edge(\"retrieve_by_directions_tool\", \"modify_generation\")\n",
    "\n",
    "workflow.add_conditional_edges(\n",
    "    \"modify_generation\",\n",
    "    modify_recipe_condition\n",
    ")\n",
    "\n",
    "app = workflow.compile()"
   ]
  },
  {
   "cell_type": "code",
   "execution_count": null,
   "metadata": {},
   "outputs": [
    {
     "data": {
      "image/png": "[encoded data removed]",
      "text/plain": [
       "<IPython.core.display.Image object>"
      ]
     },
     "metadata": {},
     "output_type": "display_data"
    }
   ],
   "source": [
    "from IPython.display import Image, display\n",
    "from langchain_core.runnables.graph import MermaidDrawMethod\n",
    "display(\n",
    "    Image(\n",
    "        app.get_graph().draw_mermaid_png(\n",
    "            draw_method=MermaidDrawMethod.API,\n",
    "        )\n",
    "    )\n",
    ")"
   ]
  },
  {
   "cell_type": "code",
   "execution_count": null,
   "metadata": {},
   "outputs": [
    {
     "name": "stderr",
     "output_type": "stream",
     "text": [
      "C:\\Users\\figio\\AppData\\Local\\Temp\\ipykernel_7080\\202224046.py:15: LangChainDeprecationWarning: The method `BaseTool.__call__` was deprecated in langchain-core 0.1.47 and will be removed in 1.0. Use :meth:`~invoke` instead.\n",
      "  recipe = retrive_by_ingredients(ingredients)\n",
      "TerrierRetr(BM25): 100%|██████████| 1/1 [00:00<00:00,  2.57q/s]\n"
     ]
    },
    {
     "name": "stdout",
     "output_type": "stream",
     "text": [
      "\n",
      "\n",
      "\n",
      "\n",
      "Title: Simple Chicken and Potato Fry\n",
      "\n",
      "Preparation Steps:\n",
      "1. 1. Clean and cut the chicken into small pieces.\n",
      "2. 2. Wash the potatoes thoroughly and cut them into small cubes.\n",
      "3. 3. Heat the oil in a pan over medium heat.\n",
      "4. 4. Add the chicken pieces to the pan and fry until they turn golden brown.\n",
      "5. 5. Remove the chicken from the pan and set aside.\n",
      "6. 6. In the same pan, add the potato cubes and fry until they turn golden brown and crispy.\n",
      "7. 7. Add the fried chicken back to the pan and mix well with the potatoes.\n",
      "8. 8. Fry the mixture for another few minutes until everything is well combined.\n",
      "9. 9. Remove from the heat and serve hot.\n",
      "\n",
      "\n",
      "Modifying recipe...Do you need to change something?\n",
      "content='' additional_kwargs={'tool_calls': [{'id': 'call_sz58pm9SwBGfPwZmvFlmk3tB', 'function': {'arguments': '{\\n  \"ingredients\": \"chicken, oil, potatos, tomatos\",\\n  \"num_recipes\": 5\\n}', 'name': 'retrieve_by_ingredients_tool'}, 'type': 'function'}], 'refusal': None} response_metadata={'token_usage': {'completion_tokens': 36, 'prompt_tokens': 854, 'total_tokens': 890, 'completion_tokens_details': {'accepted_prediction_tokens': 0, 'audio_tokens': 0, 'reasoning_tokens': 0, 'rejected_prediction_tokens': 0}, 'prompt_tokens_details': {'audio_tokens': 0, 'cached_tokens': 0}}, 'model_name': 'gpt-4-0613', 'system_fingerprint': None, 'id': 'chatcmpl-BVcOootrJ5D8sZJfnD5d14uMJrZC6', 'service_tier': 'default', 'finish_reason': 'stop', 'logprobs': None} id='run--f982b636-66fe-4141-8d01-6ae932f27619-0' tool_calls=[{'name': 'retrieve_by_ingredients_tool', 'args': {'ingredients': 'chicken, oil, potatos, tomatos', 'num_recipes': 5}, 'id': 'call_sz58pm9SwBGfPwZmvFlmk3tB', 'type': 'tool_call'}] usage_metadata={'input_tokens': 854, 'output_tokens': 36, 'total_tokens': 890, 'input_token_details': {'audio': 0, 'cache_read': 0}, 'output_token_details': {'audio': 0, 'reasoning': 0}}\n"
     ]
    },
    {
     "name": "stderr",
     "output_type": "stream",
     "text": [
      "TerrierRetr(BM25): 100%|██████████| 1/1 [00:00<00:00, 13.59q/s]\n"
     ]
    },
    {
     "name": "stdout",
     "output_type": "stream",
     "text": [
      "\n",
      "\n",
      "\n",
      "\n",
      "Title: Fried Chicken and Potatoes with Tomato Mix\n",
      "\n",
      "Preparation Steps:\n",
      "1. 1. Clean and cut the chicken into small pieces.\n",
      "2. 2. Wash the potatoes thoroughly and cut them into small cubes.\n",
      "3. 3. Heat the oil in a pan over medium heat.\n",
      "4. 4. Add the chicken pieces to the pan and fry until they turn golden brown.\n",
      "5. 5. Remove the chicken from the pan and set aside.\n",
      "6. 6. In the same pan, add the potato cubes and fry until they turn golden brown and crispy.\n",
      "7. 7. While the potatoes are cooking, wash the tomatoes and cut them into small pieces.\n",
      "8. 8. Add the tomatoes to the pan with the potatoes and cook until they are softened.\n",
      "9. 9. Add the fried chicken back to the pan and mix well with the potatoes and tomatoes.\n",
      "10. 10. Fry the mixture for another few minutes until everything is well combined.\n",
      "11. 11. Remove from the heat and serve hot.\n",
      "\n",
      "\n",
      "Modifying recipe...Do you need to change something?\n"
     ]
    },
    {
     "data": {
      "text/plain": [
       "{'messages': [HumanMessage(content='chicken oil potatos', additional_kwargs={}, response_metadata={}, id='f9611e0d-4115-41ae-8359-3fe81de34a47'),\n",
       "  AIMessage(content='{\\n  \"title\": \"Simple Chicken and Potato Fry\",\\n  \"list_of_steps\": [\\n    \"1. Clean and cut the chicken into small pieces.\",\\n    \"2. Wash the potatoes thoroughly and cut them into small cubes.\",\\n    \"3. Heat the oil in a pan over medium heat.\",\\n    \"4. Add the chicken pieces to the pan and fry until they turn golden brown.\",\\n    \"5. Remove the chicken from the pan and set aside.\",\\n    \"6. In the same pan, add the potato cubes and fry until they turn golden brown and crispy.\",\\n    \"7. Add the fried chicken back to the pan and mix well with the potatoes.\",\\n    \"8. Fry the mixture for another few minutes until everything is well combined.\",\\n    \"9. Remove from the heat and serve hot.\"\\n  ]\\n}', additional_kwargs={}, response_metadata={}, id='a655db04-bc7c-4496-aee5-4c352468bfdd'),\n",
       "  AIMessage(content='', additional_kwargs={'tool_calls': [{'id': 'call_sz58pm9SwBGfPwZmvFlmk3tB', 'function': {'arguments': '{\\n  \"ingredients\": \"chicken, oil, potatos, tomatos\",\\n  \"num_recipes\": 5\\n}', 'name': 'retrieve_by_ingredients_tool'}, 'type': 'function'}], 'refusal': None}, response_metadata={'token_usage': {'completion_tokens': 36, 'prompt_tokens': 854, 'total_tokens': 890, 'completion_tokens_details': {'accepted_prediction_tokens': 0, 'audio_tokens': 0, 'reasoning_tokens': 0, 'rejected_prediction_tokens': 0}, 'prompt_tokens_details': {'audio_tokens': 0, 'cached_tokens': 0}}, 'model_name': 'gpt-4-0613', 'system_fingerprint': None, 'id': 'chatcmpl-BVcOootrJ5D8sZJfnD5d14uMJrZC6', 'service_tier': 'default', 'finish_reason': 'stop', 'logprobs': None}, id='run--f982b636-66fe-4141-8d01-6ae932f27619-0', tool_calls=[{'name': 'retrieve_by_ingredients_tool', 'args': {'ingredients': 'chicken, oil, potatos, tomatos', 'num_recipes': 5}, 'id': 'call_sz58pm9SwBGfPwZmvFlmk3tB', 'type': 'tool_call'}], usage_metadata={'input_tokens': 854, 'output_tokens': 36, 'total_tokens': 890, 'input_token_details': {'audio': 0, 'cache_read': 0}, 'output_token_details': {'audio': 0, 'reasoning': 0}}),\n",
       "  ToolMessage(content='[            id                       title  \\\\\\n142677  618396  Quick Tomato Rice For Kids   \\n\\n                                              ingredients  \\\\\\n142677  [\"4 c. white rice\", \"1 can condensed tomato so...   \\n\\n                                               directions  \\\\\\n142677  [\\'Prepare rice.\\', \\'Add remaining ingredients.\\'...   \\n\\n                                                   link    source  \\\\\\n142677  www.cookbooks.com/Recipe-Details.aspx?id=296914  Gathered   \\n\\n                                              NER  dir_word_count  ner_len  \\n142677  [\"white rice\", \"tomato soup\", \"tomatoes\"]              13        3  ,             id          title  \\\\\\n345056  137482  Tomato Bisque   \\n\\n                                              ingredients  \\\\\\n345056  [\"1 can tomato soup\", \"1 can tomatoes\", \"1 can...   \\n\\n                    directions  \\\\\\n345056  [\\'Mix, heat and eat.\\']   \\n\\n                                                   link    source  \\\\\\n345056  www.cookbooks.com/Recipe-Details.aspx?id=798173  Gathered   \\n\\n                                        NER  dir_word_count  ner_len  \\n345056  [\"tomato soup\", \"tomatoes\", \"milk\"]               4        3  ,             id                    title  \\\\\\n209858  801141  Easy Hearty Tomato Soup   \\n\\n                                              ingredients  \\\\\\n209858  [\"1 can tomato soup\", \"1/2 can water\", \"1 can ...   \\n\\n                                               directions  \\\\\\n209858  [\\'Mix together and heat. Serve with cubed garl...   \\n\\n                                                   link    source  \\\\\\n209858  www.cookbooks.com/Recipe-Details.aspx?id=140871  Gathered   \\n\\n                                         NER  dir_word_count  ner_len  \\n209858  [\"tomato soup\", \"water\", \"tomatoes\"]              13        3  ,              id                                              title  \\\\\\n243018  1077986  Canned Tomatoes (Vine Ripened Tomatoes In Toma...   \\n\\n                                              ingredients  \\\\\\n243018  [\"For Each Quart\", \"3 3/4 cups whole tomatoes\"...   \\n\\n                                               directions  \\\\\\n243018  [\\'Wash tomatoes, place in boiling water for th...   \\n\\n                                                     link    source  \\\\\\n243018  www.food.com/recipe/canned-tomatoes-vine-ripen...  Gathered   \\n\\n                                                      NER  dir_word_count  \\\\\\n243018  [\"tomatoes\", \"salt\", \"sugar\", \"lemon juice\", \"...             119   \\n\\n        ner_len  \\n243018        5  ,            id       title            ingredients  \\\\\\n69777  828809  Tomato Jam  [\"tomatoes\", \"sugar\"]   \\n\\n                                              directions  \\\\\\n69777  [\\'Blanch tomatoes and peel.\\', \\'Cut tomatoes in...   \\n\\n                                                  link    source  \\\\\\n69777  www.cookbooks.com/Recipe-Details.aspx?id=354379  Gathered   \\n\\n                         NER  dir_word_count  ner_len  \\n69777  [\"tomatoes\", \"sugar\"]              28        2  ]', name='retrieve_by_ingredients_tool', id='54ae20fe-346a-4f61-9ec5-e5a8f61ffca2', tool_call_id='call_sz58pm9SwBGfPwZmvFlmk3tB'),\n",
       "  AIMessage(content='{\\n  \"title\": \"Fried Chicken and Potatoes with Tomato Mix\",\\n  \"list_of_steps\": [\\n    \"1. Clean and cut the chicken into small pieces.\",\\n    \"2. Wash the potatoes thoroughly and cut them into small cubes.\",\\n    \"3. Heat the oil in a pan over medium heat.\",\\n    \"4. Add the chicken pieces to the pan and fry until they turn golden brown.\",\\n    \"5. Remove the chicken from the pan and set aside.\",\\n    \"6. In the same pan, add the potato cubes and fry until they turn golden brown and crispy.\",\\n    \"7. While the potatoes are cooking, wash the tomatoes and cut them into small pieces.\",\\n    \"8. Add the tomatoes to the pan with the potatoes and cook until they are softened.\",\\n    \"9. Add the fried chicken back to the pan and mix well with the potatoes and tomatoes.\",\\n    \"10. Fry the mixture for another few minutes until everything is well combined.\",\\n    \"11. Remove from the heat and serve hot.\"\\n  ]\\n}', additional_kwargs={}, response_metadata={}, id='e8b0c7ba-549e-427a-a271-90b6ef27f521')]}"
      ]
     },
     "metadata": {},
     "output_type": "display_data"
    }
   ],
   "source": [
    "initial_state = {\n",
    "                'messages': []\n",
    "}\n",
    "\n",
    "app.invoke(initial_state)"
   ]
  }
 ],
 "metadata": {
  "kaggle": {
   "accelerator": "none",
   "dataSources": [
    {
     "datasetId": 3052101,
     "sourceId": 5245331,
     "sourceType": "datasetVersion"
    }
   ],
   "dockerImageVersionId": 31012,
   "isGpuEnabled": false,
   "isInternetEnabled": true,
   "language": "python",
   "sourceType": "notebook"
  },
  "kernelspec": {
   "display_name": "Python 3",
   "language": "python",
   "name": "python3"
  },
  "language_info": {
   "codemirror_mode": {
    "name": "ipython",
    "version": 3
   },
   "file_extension": ".py",
   "mimetype": "text/x-python",
   "name": "python",
   "nbconvert_exporter": "python",
   "pygments_lexer": "ipython3",
   "version": "3.11.11"
  },
  "papermill": {
   "default_parameters": {},
   "duration": 59.732213,
   "end_time": "2025-04-27T07:29:44.700379",
   "environment_variables": {},
   "exception": null,
   "input_path": "__notebook__.ipynb",
   "output_path": "__notebook__.ipynb",
   "parameters": {},
   "start_time": "2025-04-27T07:28:44.968166",
   "version": "2.6.0"
  }
 },
 "nbformat": 4,
 "nbformat_minor": 4
}
