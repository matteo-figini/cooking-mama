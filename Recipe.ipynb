{
 "cells": [
  {
   "cell_type": "markdown",
   "id": "9ddbec02",
   "metadata": {
    "papermill": {
     "duration": 0.002713,
     "end_time": "2025-04-27T07:28:49.620828",
     "exception": false,
     "start_time": "2025-04-27T07:28:49.618115",
     "status": "completed"
    },
    "tags": []
   },
   "source": [
    "# Natural Language Processing Course Project\n",
    "### Politecnico di Milano, a.a. 2024/2025\n",
    "\n",
    "This notebook has been created for the Natural Language Processing course, held by Prof. Carman.\n",
    "\n",
    "**Authors**:\n",
    "Simone Zacchetti\n",
    "Matteo Figini\n",
    "Riccardo Figini\n",
    "Caterina Motti\n",
    "Samuele Forner"
   ]
  },
  {
   "cell_type": "markdown",
   "id": "e61be872",
   "metadata": {
    "papermill": {
     "duration": 0.001809,
     "end_time": "2025-04-27T07:28:49.625064",
     "exception": false,
     "start_time": "2025-04-27T07:28:49.623255",
     "status": "completed"
    },
    "tags": []
   },
   "source": [
    "The purpose of this notebook is to apply different NLP techniques to analyse the **RecipeNLG** dataset, you can find the dataset at the following [link](https://huggingface.co/datasets/mbien/recipe_nlg)."
   ]
  },
  {
   "cell_type": "code",
   "execution_count": 1,
   "id": "f2d555a2",
   "metadata": {
    "_cell_guid": "b1076dfc-b9ad-4769-8c92-a6c4dae69d19",
    "_uuid": "8f2839f25d086af736a60e9eeb907d3b93b6e0e5",
    "execution": {
     "iopub.execute_input": "2025-04-27T07:28:49.630968Z",
     "iopub.status.busy": "2025-04-27T07:28:49.630085Z",
     "iopub.status.idle": "2025-04-27T07:28:51.527239Z",
     "shell.execute_reply": "2025-04-27T07:28:51.526332Z"
    },
    "papermill": {
     "duration": 1.901977,
     "end_time": "2025-04-27T07:28:51.529021",
     "exception": false,
     "start_time": "2025-04-27T07:28:49.627044",
     "status": "completed"
    },
    "tags": []
   },
   "outputs": [],
   "source": [
    "import numpy as np\n",
    "import pandas as pd\n",
    "import os\n",
    "import ast\n",
    "from collections import defaultdict"
   ]
  },
  {
   "cell_type": "markdown",
   "id": "0f2508f3",
   "metadata": {
    "papermill": {
     "duration": 0.001915,
     "end_time": "2025-04-27T07:28:51.533282",
     "exception": false,
     "start_time": "2025-04-27T07:28:51.531367",
     "status": "completed"
    },
    "tags": []
   },
   "source": [
    "## Preliminary analysis"
   ]
  },
  {
   "cell_type": "code",
   "execution_count": 2,
   "id": "5fa43f48",
   "metadata": {
    "execution": {
     "iopub.execute_input": "2025-04-27T07:28:51.538640Z",
     "iopub.status.busy": "2025-04-27T07:28:51.538253Z",
     "iopub.status.idle": "2025-04-27T07:29:42.876382Z",
     "shell.execute_reply": "2025-04-27T07:29:42.875340Z"
    },
    "papermill": {
     "duration": 51.344256,
     "end_time": "2025-04-27T07:29:42.879584",
     "exception": false,
     "start_time": "2025-04-27T07:28:51.535328",
     "status": "completed"
    },
    "tags": []
   },
   "outputs": [
    {
     "name": "stdout",
     "output_type": "stream",
     "text": [
      "   Unnamed: 0                  title  \\\n",
      "0           0    No-Bake Nut Cookies   \n",
      "1           1  Jewell Ball'S Chicken   \n",
      "2           2            Creamy Corn   \n",
      "3           3          Chicken Funny   \n",
      "4           4   Reeses Cups(Candy)     \n",
      "\n",
      "                                         ingredients  \\\n",
      "0  [\"1 c. firmly packed brown sugar\", \"1/2 c. eva...   \n",
      "1  [\"1 small jar chipped beef, cut up\", \"4 boned ...   \n",
      "2  [\"2 (16 oz.) pkg. frozen corn\", \"1 (8 oz.) pkg...   \n",
      "3  [\"1 large whole chicken\", \"2 (10 1/2 oz.) cans...   \n",
      "4  [\"1 c. peanut butter\", \"3/4 c. graham cracker ...   \n",
      "\n",
      "                                          directions  \\\n",
      "0  [\"In a heavy 2-quart saucepan, mix brown sugar...   \n",
      "1  [\"Place chipped beef on bottom of baking dish....   \n",
      "2  [\"In a slow cooker, combine all ingredients. C...   \n",
      "3  [\"Boil and debone chicken.\", \"Put bite size pi...   \n",
      "4  [\"Combine first four ingredients and press in ...   \n",
      "\n",
      "                                              link    source  \\\n",
      "0   www.cookbooks.com/Recipe-Details.aspx?id=44874  Gathered   \n",
      "1  www.cookbooks.com/Recipe-Details.aspx?id=699419  Gathered   \n",
      "2   www.cookbooks.com/Recipe-Details.aspx?id=10570  Gathered   \n",
      "3  www.cookbooks.com/Recipe-Details.aspx?id=897570  Gathered   \n",
      "4  www.cookbooks.com/Recipe-Details.aspx?id=659239  Gathered   \n",
      "\n",
      "                                                 NER  \n",
      "0  [\"brown sugar\", \"milk\", \"vanilla\", \"nuts\", \"bu...  \n",
      "1  [\"beef\", \"chicken breasts\", \"cream of mushroom...  \n",
      "2  [\"frozen corn\", \"cream cheese\", \"butter\", \"gar...  \n",
      "3  [\"chicken\", \"chicken gravy\", \"cream of mushroo...  \n",
      "4  [\"peanut butter\", \"graham cracker crumbs\", \"bu...  \n"
     ]
    }
   ],
   "source": [
    "df = pd.read_csv(\"/kaggle/input/recipenlg/full_dataset.csv\")\n",
    "\n",
    "print(df.head())"
   ]
  },
  {
   "cell_type": "code",
   "execution_count": 3,
   "id": "5743e02e",
   "metadata": {
    "execution": {
     "iopub.execute_input": "2025-04-27T07:29:42.885291Z",
     "iopub.status.busy": "2025-04-27T07:29:42.884955Z",
     "iopub.status.idle": "2025-04-27T07:29:42.889826Z",
     "shell.execute_reply": "2025-04-27T07:29:42.888938Z"
    },
    "papermill": {
     "duration": 0.009406,
     "end_time": "2025-04-27T07:29:42.891303",
     "exception": false,
     "start_time": "2025-04-27T07:29:42.881897",
     "status": "completed"
    },
    "tags": []
   },
   "outputs": [
    {
     "name": "stdout",
     "output_type": "stream",
     "text": [
      "Columns: ['Unnamed: 0', 'title', 'ingredients', 'directions', 'link', 'source', 'NER']\n"
     ]
    }
   ],
   "source": [
    "print(\"Columns:\", df.columns.tolist())"
   ]
  },
  {
   "cell_type": "code",
   "execution_count": 4,
   "id": "08160d38",
   "metadata": {
    "execution": {
     "iopub.execute_input": "2025-04-27T07:29:42.898190Z",
     "iopub.status.busy": "2025-04-27T07:29:42.897898Z",
     "iopub.status.idle": "2025-04-27T07:29:43.765873Z",
     "shell.execute_reply": "2025-04-27T07:29:43.764814Z"
    },
    "papermill": {
     "duration": 0.872436,
     "end_time": "2025-04-27T07:29:43.767295",
     "exception": false,
     "start_time": "2025-04-27T07:29:42.894859",
     "status": "completed"
    },
    "tags": []
   },
   "outputs": [
    {
     "name": "stdout",
     "output_type": "stream",
     "text": [
      "There are 1 rows with at least one null value.\n"
     ]
    }
   ],
   "source": [
    "rows_with_null = df.isnull().any(axis=1).sum()\n",
    "print(f\"There are {rows_with_null} rows with at least one null value.\")\n"
   ]
  },
  {
   "cell_type": "code",
   "execution_count": 5,
   "id": "478c8f81",
   "metadata": {
    "execution": {
     "iopub.execute_input": "2025-04-27T07:29:43.773085Z",
     "iopub.status.busy": "2025-04-27T07:29:43.772828Z",
     "iopub.status.idle": "2025-04-27T07:29:43.777606Z",
     "shell.execute_reply": "2025-04-27T07:29:43.776752Z"
    },
    "papermill": {
     "duration": 0.009012,
     "end_time": "2025-04-27T07:29:43.778869",
     "exception": false,
     "start_time": "2025-04-27T07:29:43.769857",
     "status": "completed"
    },
    "tags": []
   },
   "outputs": [
    {
     "name": "stdout",
     "output_type": "stream",
     "text": [
      "In the dataset there are 2231142 different receipts!\n"
     ]
    }
   ],
   "source": [
    "print(f\"In the dataset there are {len(df)} different receipts!\")"
   ]
  }
 ],
 "metadata": {
  "kaggle": {
   "accelerator": "none",
   "dataSources": [
    {
     "datasetId": 7249876,
     "sourceId": 11562714,
     "sourceType": "datasetVersion"
    }
   ],
   "dockerImageVersionId": 31012,
   "isGpuEnabled": false,
   "isInternetEnabled": true,
   "language": "python",
   "sourceType": "notebook"
  },
  "kernelspec": {
   "display_name": "Python 3",
   "language": "python",
   "name": "python3"
  },
  "language_info": {
   "codemirror_mode": {
    "name": "ipython",
    "version": 3
   },
   "file_extension": ".py",
   "mimetype": "text/x-python",
   "name": "python",
   "nbconvert_exporter": "python",
   "pygments_lexer": "ipython3",
   "version": "3.11.11"
  },
  "papermill": {
   "default_parameters": {},
   "duration": 59.732213,
   "end_time": "2025-04-27T07:29:44.700379",
   "environment_variables": {},
   "exception": null,
   "input_path": "__notebook__.ipynb",
   "output_path": "__notebook__.ipynb",
   "parameters": {},
   "start_time": "2025-04-27T07:28:44.968166",
   "version": "2.6.0"
  }
 },
 "nbformat": 4,
 "nbformat_minor": 5
}
