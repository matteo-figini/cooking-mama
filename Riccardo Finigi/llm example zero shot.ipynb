{
 "cells": [
  {
   "cell_type": "code",
   "execution_count": 1,
   "id": "710b222e",
   "metadata": {},
   "outputs": [],
   "source": [
    "import os\n",
    "\n",
    "os.environ[\"OPENAI_API_KEY\"] = \"sk-socialthingum-Lzt6aXn0b7k2ia0tjcmqT3BlbkFJLWlJZwLsUuKQ6OSfzwgC\""
   ]
  },
  {
   "cell_type": "code",
   "execution_count": 2,
   "id": "7fa5d361",
   "metadata": {},
   "outputs": [],
   "source": [
    "from langchain_core.output_parsers import StrOutputParser\n",
    "from langchain_core.runnables import RunnableSequence\n",
    "from langchain.output_parsers import ResponseSchema, StructuredOutputParser\n",
    "from langchain_openai import ChatOpenAI\n",
    "from langchain_core.prompts import ChatPromptTemplate"
   ]
  },
  {
   "cell_type": "markdown",
   "id": "70c0afe2",
   "metadata": {},
   "source": [
    "### First tentative: general idea"
   ]
  },
  {
   "cell_type": "code",
   "execution_count": 3,
   "id": "6415546c",
   "metadata": {},
   "outputs": [],
   "source": [
    "prompt_system = \"\"\"\n",
    "You are a helpful and creative assistant specialized in cooking and recipe generation.\n",
    "\n",
    "The user will provide either:\n",
    "- A list of ingredients\n",
    "- A recipe title\n",
    "\n",
    "Your task is to generate a complete and coherent recipe based on the input. The recipe should include:\n",
    "- A descriptive and fitting title\n",
    "- A list of ingredients\n",
    "- Step-by-step preparation instructions\n",
    "\n",
    "If the input is a list of ingredients, invent a suitable dish using them. If the input is a title, develop a recipe that matches the name.\n",
    "\n",
    "Be clear, concise, and make sure the result is easy to follow for home cooks.\n",
    "\n",
    "output:\n",
    "{{\n",
    "    \"title\": \"recipe title\",\n",
    "    \"description\": \"recipe description\",\n",
    "    \"list_of_ingredients\": [\"ingredient 1\", \"ingredient 2\", ...],\n",
    "    \"list_of_steps\": [\"step 1\", \"step 2\", ...],\n",
    "}}\n",
    "\"\"\"\n"
   ]
  },
  {
   "cell_type": "code",
   "execution_count": 4,
   "id": "975b4a7d",
   "metadata": {},
   "outputs": [],
   "source": [
    "response_schemas = [\n",
    "    ResponseSchema(\n",
    "        name='title',\n",
    "        description='The title of the recipe',\n",
    "    ),\n",
    "    ResponseSchema(\n",
    "        name='description',\n",
    "        description='A short description of the recipe',\n",
    "    ),\n",
    "    ResponseSchema(\n",
    "        name='list_of_ingredients',\n",
    "        description='A list of ingredients',\n",
    "    ),\n",
    "    ResponseSchema(\n",
    "        name='list_of_steps',\n",
    "        description='A list of steps to prepare the dish, only the list',\n",
    "    )\n",
    "]"
   ]
  },
  {
   "cell_type": "code",
   "execution_count": 5,
   "id": "b9f23b41",
   "metadata": {},
   "outputs": [],
   "source": [
    "output_parser = StructuredOutputParser.from_response_schemas(response_schemas)"
   ]
  },
  {
   "cell_type": "code",
   "execution_count": 6,
   "id": "e255a23b",
   "metadata": {},
   "outputs": [],
   "source": [
    "query_simplification_prompt = ChatPromptTemplate.from_messages(\n",
    "    [('system', prompt_system), ('user', '{messages}')]\n",
    ").partial(format_instructions=output_parser.get_format_instructions())\n"
   ]
  },
  {
   "cell_type": "code",
   "execution_count": 7,
   "id": "4f0a35d9",
   "metadata": {},
   "outputs": [],
   "source": [
    "user_input = input(\"Enter a recipe title or a list of ingredients (comma-separated): \")"
   ]
  },
  {
   "cell_type": "code",
   "execution_count": 8,
   "id": "8d40bf03",
   "metadata": {},
   "outputs": [],
   "source": [
    "# Use the updated ChatOpenAI\n",
    "llm = ChatOpenAI(model=\"gpt-4\", temperature=0.7)\n",
    "\n",
    "# Create the final chain using the new syntax\n",
    "recipe_chain = query_simplification_prompt | llm | output_parser\n",
    "\n",
    "# Run using .invoke instead of .run\n",
    "response = recipe_chain.invoke({\"messages\": user_input})\n"
   ]
  },
  {
   "cell_type": "code",
   "execution_count": 9,
   "id": "f3a2b4fe",
   "metadata": {},
   "outputs": [
    {
     "name": "stdout",
     "output_type": "stream",
     "text": [
      "Title: Simple Roasted Chicken\n",
      "Description: This is a classic recipe for a juicy, flavorful roasted chicken. It's easy to prepare with minimal ingredients and makes for a perfect Sunday dinner. Serve with your favorite sides for a wholesome meal.\n",
      "\n",
      "Ingredients:\n",
      "- 1 whole chicken (about 4 lbs)\n",
      "- 2 tbsp olive oil\n",
      "- 1 tbsp salt\n",
      "- 1/2 tbsp black pepper\n",
      "- 1 lemon, halved\n",
      "- 4 cloves garlic, peeled\n",
      "- Several sprigs of fresh thyme\n",
      "\n",
      "Preparation Steps:\n",
      "1. Preheat your oven to 425°F (220°C).\n",
      "2. Rinse the chicken inside and out under cold running water. Dry thoroughly with paper towels.\n",
      "3. Rub the chicken all over with the olive oil.\n",
      "4. Season the chicken inside and out with salt and pepper.\n",
      "5. Stuff the cavity of the chicken with the halved lemon, garlic cloves, and thyme sprigs.\n",
      "6. Place the chicken in a roasting pan breast side up. Roast in the preheated oven for 1 hour and 15 minutes, or until the juices run clear when you cut between a leg and thigh.\n",
      "7. Remove the chicken from the oven and let it rest for 15-20 minutes before carving. This helps the juices to be reabsorbed into the meat, making it more moist and flavorful.\n",
      "8. Carve the chicken into serving pieces. Enjoy your simple roasted chicken!\n"
     ]
    }
   ],
   "source": [
    "print(\"Title:\", response['title'])\n",
    "print(\"Description:\", response['description'])\n",
    "print(\"\\nIngredients:\")\n",
    "for ingredient in response['list_of_ingredients']:\n",
    "    print(\"-\", ingredient)\n",
    "\n",
    "print(\"\\nPreparation Steps:\")\n",
    "for i, step in enumerate(response['list_of_steps'], 1):\n",
    "    print(f\"{i}. {step}\")"
   ]
  },
  {
   "cell_type": "markdown",
   "id": "bdb698b7",
   "metadata": {},
   "source": [
    "### List of ingredients promts"
   ]
  },
  {
   "cell_type": "code",
   "execution_count": 10,
   "id": "8a82d731",
   "metadata": {},
   "outputs": [],
   "source": [
    "prompt_system_ingrs = \"\"\"\n",
    "You are a creative and helpful cooking assistant.\n",
    "\n",
    "The user will provide a list of available ingredients.  \n",
    "Your task is to create a complete and realistic recipe using **only those ingredients** — do not invent or add anything not included in the list.\n",
    "\n",
    "The recipe must include:\n",
    "- A clear and descriptive title\n",
    "- Step-by-step preparation instructions\n",
    "\n",
    "Important rules:\n",
    "- Do NOT use any ingredient that is not listed.\n",
    "- If a necessary item (e.g., salt, oil, water) is missing, do NOT assume it's available — exclude it.\n",
    "- You can adjust the form or quantity of the ingredients (e.g., chop, grate, blend), but not add new ones.\n",
    "- If the ingredients are unusual together, invent a plausible or creative dish that still makes good use of them.\n",
    "\n",
    "Output your response in the following JSON format:\n",
    "\n",
    "{{\n",
    "    \"title\": \"recipe title\",\n",
    "    \"list_of_steps\": [\"step 1\", \"step 2\", ...]\n",
    "}}\n",
    "\n",
    "\"\"\""
   ]
  },
  {
   "cell_type": "code",
   "execution_count": 11,
   "id": "8db3ad4b",
   "metadata": {},
   "outputs": [],
   "source": [
    "response_schemas_2 = [\n",
    "    ResponseSchema(\n",
    "        name='title',\n",
    "        description='The title of the recipe',\n",
    "    ),\n",
    "    ResponseSchema(\n",
    "        name='list_of_steps',\n",
    "        description='A list of steps to prepare the dish, only the list',\n",
    "    )\n",
    "]"
   ]
  },
  {
   "cell_type": "code",
   "execution_count": 12,
   "id": "a3dbb06a",
   "metadata": {},
   "outputs": [],
   "source": [
    "output_parser_2 = StructuredOutputParser.from_response_schemas(response_schemas_2)"
   ]
  },
  {
   "cell_type": "code",
   "execution_count": 13,
   "id": "91c15e75",
   "metadata": {},
   "outputs": [],
   "source": [
    "prompt_system_ingrs_ = ChatPromptTemplate.from_messages(\n",
    "    [('system', prompt_system_ingrs), ('user', '{messages}')]\n",
    ").partial(format_instructions=output_parser_2.get_format_instructions())"
   ]
  },
  {
   "cell_type": "code",
   "execution_count": 14,
   "id": "89808fc2",
   "metadata": {},
   "outputs": [],
   "source": [
    "user_input_2 = input(\"Enter a list of ingredients (comma-separated): \")"
   ]
  },
  {
   "cell_type": "code",
   "execution_count": 15,
   "id": "b085e465",
   "metadata": {},
   "outputs": [],
   "source": [
    "# Use the updated ChatOpenAI\n",
    "llm = ChatOpenAI(model=\"gpt-4\", temperature=0.7)\n",
    "\n",
    "# Create the final chain using the new syntax\n",
    "recipe_chain_2 = prompt_system_ingrs_ | llm | output_parser_2\n",
    "\n",
    "# Run using .invoke instead of .run\n",
    "response_2 = recipe_chain_2.invoke({\"messages\": user_input_2})\n"
   ]
  },
  {
   "cell_type": "code",
   "execution_count": 16,
   "id": "c3141b71",
   "metadata": {},
   "outputs": [
    {
     "name": "stdout",
     "output_type": "stream",
     "text": [
      "Title: Garlic Tomato Chicken\n",
      "\n",
      "Preparation Steps:\n",
      "1. Step 1: Wash and pat dry the chicken.\n",
      "2. Step 2: Heat the oil in a pan over medium heat.\n",
      "3. Step 3: Add the chicken to the pan and cook until it is browned and cooked through, about 4-6 minutes per side depending on thickness. Remove the chicken from the pan and set it aside.\n",
      "4. Step 4: In the same pan, add the garlic and cook until it is fragrant, about 30 seconds.\n",
      "5. Step 5: Add the tomatoes to the pan, cook until they are soft and the juices are released, about 5-7 minutes.\n",
      "6. Step 6: Return the chicken to the pan, nestling it into the tomatoes. Let it cook for another 2-3 minutes to absorb the flavors.\n",
      "7. Step 7: Serve the garlic tomato chicken while it's hot.\n"
     ]
    }
   ],
   "source": [
    "print(\"Title:\", response_2['title'])\n",
    "\n",
    "\n",
    "print(\"\\nPreparation Steps:\")\n",
    "for i, step in enumerate(response_2['list_of_steps'], 1):\n",
    "    print(f\"{i}. {step}\")\n"
   ]
  }
 ],
 "metadata": {
  "kernelspec": {
   "display_name": "Python 3",
   "language": "python",
   "name": "python3"
  },
  "language_info": {
   "codemirror_mode": {
    "name": "ipython",
    "version": 3
   },
   "file_extension": ".py",
   "mimetype": "text/x-python",
   "name": "python",
   "nbconvert_exporter": "python",
   "pygments_lexer": "ipython3",
   "version": "3.12.9"
  }
 },
 "nbformat": 4,
 "nbformat_minor": 5
}
