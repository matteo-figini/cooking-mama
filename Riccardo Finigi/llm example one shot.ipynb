{
 "cells": [
  {
   "cell_type": "code",
   "execution_count": 12,
   "id": "96dbed69",
   "metadata": {},
   "outputs": [
    {
     "name": "stdout",
     "output_type": "stream",
     "text": [
      "C:\\Program Files\\Java\\jdk-24\n"
     ]
    }
   ],
   "source": [
    "import os\n",
    "\n",
    "os.environ[\"JAVA_HOME\"] = \"C:\\\\Program Files\\\\Java\\\\jdk-24\"\n",
    "print(os.environ.get(\"JAVA_HOME\"))\n",
    "\n",
    "os.environ[\"OPENAI_API_KEY\"] = \"sk-socialthingum-Lzt6aXn0b7k2ia0tjcmqT3BlbkFJLWlJZwLsUuKQ6OSfzwgC\""
   ]
  },
  {
   "cell_type": "code",
   "execution_count": 13,
   "id": "13cda270",
   "metadata": {},
   "outputs": [],
   "source": [
    "from langchain_core.output_parsers import StrOutputParser\n",
    "from langchain_core.runnables import RunnableSequence\n",
    "from langchain.output_parsers import ResponseSchema, StructuredOutputParser\n",
    "from langchain_openai import ChatOpenAI\n",
    "from langchain_core.prompts import ChatPromptTemplate\n",
    "import matplotlib.pyplot as plt\n",
    "import pandas as pd\n",
    "import pyterrier as pt  "
   ]
  },
  {
   "cell_type": "code",
   "execution_count": 14,
   "id": "dc665f76",
   "metadata": {},
   "outputs": [
    {
     "name": "stderr",
     "output_type": "stream",
     "text": [
      "C:\\Users\\figio\\AppData\\Local\\Temp\\ipykernel_17612\\3057724015.py:1: DeprecationWarning: Call to deprecated function (or staticmethod) started. (use pt.java.started() instead) -- Deprecated since version 0.11.0.\n",
      "  if not pt.started():\n"
     ]
    }
   ],
   "source": [
    "if not pt.started():\n",
    "    pt.init()"
   ]
  },
  {
   "cell_type": "markdown",
   "id": "cfd65377",
   "metadata": {},
   "source": [
    "## Setup"
   ]
  },
  {
   "cell_type": "code",
   "execution_count": 15,
   "id": "4aa7cd5d",
   "metadata": {},
   "outputs": [
    {
     "name": "stderr",
     "output_type": "stream",
     "text": [
      "<>:1: SyntaxWarning: invalid escape sequence '\\D'\n",
      "<>:1: SyntaxWarning: invalid escape sequence '\\D'\n",
      "C:\\Users\\figio\\AppData\\Local\\Temp\\ipykernel_17612\\3405669283.py:1: SyntaxWarning: invalid escape sequence '\\D'\n",
      "  df = pd.read_csv(\"C:\\\\Users\\\\figio\\Desktop\\\\tryKaggle\\\\archive\\\\sampled_dataset.csv\")\n"
     ]
    },
    {
     "name": "stdout",
     "output_type": "stream",
     "text": [
      "Index(['Unnamed: 0', 'title', 'ingredients', 'directions', 'link', 'source',\n",
      "       'NER', 'dir_word_count', 'ner_len'],\n",
      "      dtype='object')\n",
      "        id                         title  \\\n",
      "0  2015528  Marinated Flank Steak Recipe   \n",
      "1  1608734           French Chicken Stew   \n",
      "2   778500                Glazed Carrots   \n",
      "3  1334975               Moms Pie Dough    \n",
      "4   116562      Pretzel Salad Or Dessert   \n",
      "\n",
      "                                         ingredients  \\\n",
      "0  [\"1 1/2 pound flank steak\", \"1/2 c. finely min...   \n",
      "1  [\"1 tablespoon rosemary\", \"1 teaspoon thyme\", ...   \n",
      "2  [\"3 to 4 carrots\", \"1 1/2 Tbsp. butter\", \"1/3 ...   \n",
      "3  [\"4.5 Cups Flour\", \"1.5 Tsp Salt\", \"Pinch Baki...   \n",
      "4  [\"2 c. crushed small thin pretzels (sticks)\", ...   \n",
      "\n",
      "                                          directions  \\\n",
      "0  ['Remove tenderloin from steak.', 'Score meat....   \n",
      "1  [\"combine all ingredients in slow cooker (6 qu...   \n",
      "2  ['Cook 3 to 4 carrots; cut crosswise in 1-inch...   \n",
      "3  ['Mix all dry ingredients in a bowl.', '', 'Ad...   \n",
      "4  ['Mix and press in baking pan, approximately 1...   \n",
      "\n",
      "                                                link     source  \\\n",
      "0  cookeatshare.com/recipes/marinated-flank-steak...  Recipes1M   \n",
      "1  www.yummly.com/recipe/French-Chicken-Stew-1433580   Gathered   \n",
      "2   www.cookbooks.com/Recipe-Details.aspx?id=1011892   Gathered   \n",
      "3  www.epicurious.com/recipes/member/views/moms-p...   Gathered   \n",
      "4    www.cookbooks.com/Recipe-Details.aspx?id=106723   Gathered   \n",
      "\n",
      "                                                 NER  dir_word_count  ner_len  \n",
      "0  [\"flank steak\", \"green onions\", \"red wine\", \"s...              31       10  \n",
      "1  [\"rosemary\", \"thyme\", \"bay leaves\", \"paprika\",...             122       17  \n",
      "2  [\"carrots\", \"butter\", \"brown sugar\", \"lemon ri...              38        4  \n",
      "3  [\"Flour\", \"Salt\", \"Baking Powder\", \"Sugar\", \"C...              44        8  \n",
      "4                     [\"thin pretzels\", \"margarine\"]              16        2  \n"
     ]
    }
   ],
   "source": [
    "df = pd.read_csv(\"C:\\\\Users\\\\figio\\Desktop\\\\tryKaggle\\\\archive\\\\sampled_dataset.csv\")\n",
    "print(df.columns)\n",
    "df = df.rename(columns={'Unnamed: 0': 'id'})\n",
    "print(df.head())"
   ]
  },
  {
   "cell_type": "code",
   "execution_count": 16,
   "id": "22e90211",
   "metadata": {},
   "outputs": [
    {
     "name": "stdout",
     "output_type": "stream",
     "text": [
      "✔️ Index already exists. Using existing index.\n",
      "15:55:53.111 [main] WARN org.terrier.structures.FSADocumentIndex -- This index has fields, but FSADocumentIndex is used (which stores fields lengths on disk); If using field-based models such as BM25F, change to index.document.class in the index  properties file to FSAFieldDocumentIndex or FSADocumentIndexInMemFields to support efficient retrieval. If you don't use (e.g.) BM25F, this warning can be ignored\n"
     ]
    }
   ],
   "source": [
    "# Percorso assoluto all'indice\n",
    "index_path = r\"C:\\\\Users\\\\figio\\\\Desktop\\\\cooking-mama\\\\Riccardo Finigi\\\\index_fields\"\n",
    "\n",
    "# Verifica se l'indice esiste già\n",
    "if os.path.exists(index_path) and os.path.exists(os.path.join(index_path, \"data.properties\")):\n",
    "    print(\"✔️ Index already exists. Using existing index.\")\n",
    "    indexref = index_path\n",
    "else:\n",
    "    print(\"🛠️ Index not found. Building new index...\")\n",
    "\n",
    "    documents_fields = [\n",
    "        {\n",
    "            'docno': str(row['id']),  # usa l'id reale\n",
    "            'title': row['title'],\n",
    "            'ingredients': row['ingredients'],\n",
    "        }\n",
    "        for _, row in df.iterrows()\n",
    "    ]\n",
    "\n",
    "    os.makedirs(index_path, exist_ok=True)\n",
    "\n",
    "    indexer_fields = pt.IterDictIndexer(index_path)\n",
    "    indexref = indexer_fields.index(\n",
    "        documents_fields,\n",
    "        fields=[\"title\", \"ingredients\"],\n",
    "        meta={'docno': 20, 'title': 512, 'ingredients': 1024}\n",
    "    )\n",
    "\n",
    "# Costruisci oggetto Index e motore di retrieval\n",
    "index_fields = pt.IndexFactory.of(indexref)\n",
    "bm25_ingredients = pt.terrier.Retriever(\n",
    "    index_fields,\n",
    "    wmodel=\"BM25\",\n",
    "    controls={\"w\": \"1.0\"},\n",
    "    metadata=[\"docno\", \"ingredients\"],\n",
    "    field=\"ingredients\"\n",
    ")\n",
    "\n"
   ]
  },
  {
   "cell_type": "code",
   "execution_count": 17,
   "id": "f2f48d2a",
   "metadata": {},
   "outputs": [],
   "source": [
    "user_input = input(\"Enter a list of ingredients (comma-separated): \")"
   ]
  },
  {
   "cell_type": "markdown",
   "id": "681e3679",
   "metadata": {},
   "source": [
    "## RAG"
   ]
  },
  {
   "cell_type": "code",
   "execution_count": 18,
   "id": "5c14a789",
   "metadata": {},
   "outputs": [
    {
     "name": "stderr",
     "output_type": "stream",
     "text": [
      "TerrierRetr(BM25): 100%|██████████| 1/1 [00:00<00:00,  6.82q/s]"
     ]
    },
    {
     "name": "stdout",
     "output_type": "stream",
     "text": [
      "    qid   docid    docno                                        ingredients  \\\n",
      "0     1  429472  2206467  [\"1 12 cups long grain rice\", \"14 cup onion (D...   \n",
      "1     1  546709  1771397  [\"3 cups frozen tater tots\", \"3 tablespoons ke...   \n",
      "2     1  163274  1792435  [\"4 lb chicken breast\", \"1 Red pepper\", \"1 oni...   \n",
      "3     1  152451  2137849  [\"1 loaf Crusty Bread, Such As Ciabatta, Split...   \n",
      "4     1  499422  1065708  [\"4 large tomatoes\", \"3 egg yolks\", \"2 tablesp...   \n",
      "..   ..     ...      ...                                                ...   \n",
      "995   1  475415  1343911  [\"1/2 skinless chicken breast\", \"1 cup baby po...   \n",
      "996   1  499829  2116939  [\"2 3-pound organic chickens\", \"2 lemons, quar...   \n",
      "997   1  508243  1441934  [\"1/3 cup whipped honey\", \"1/3 cup Dijon musta...   \n",
      "998   1  516224   395406  [\"2 c. lemon juice\", \"3 Tbsp. sugar\", \"1/2 c. ...   \n",
      "999   1  527404  1641881  [\"2 slices seeded bread\", \"1 mozzarella ball\",...   \n",
      "\n",
      "     rank      score               query  \n",
      "0       0  19.922006  tomate chicken oil  \n",
      "1       1  19.374443  tomate chicken oil  \n",
      "2       2  19.188576  tomate chicken oil  \n",
      "3       3  17.269437  tomate chicken oil  \n",
      "4       4  17.082533  tomate chicken oil  \n",
      "..    ...        ...                 ...  \n",
      "995   995   5.793548  tomate chicken oil  \n",
      "996   996   5.793548  tomate chicken oil  \n",
      "997   997   5.793548  tomate chicken oil  \n",
      "998   998   5.793548  tomate chicken oil  \n",
      "999   999   5.793548  tomate chicken oil  \n",
      "\n",
      "[1000 rows x 7 columns]\n"
     ]
    },
    {
     "name": "stderr",
     "output_type": "stream",
     "text": [
      "\n"
     ]
    }
   ],
   "source": [
    "result = bm25_ingredients.search(user_input)\n",
    "print(result)"
   ]
  },
  {
   "cell_type": "code",
   "execution_count": 19,
   "id": "e2dbfa28",
   "metadata": {},
   "outputs": [
    {
     "name": "stdout",
     "output_type": "stream",
     "text": [
      "ID: 2206467\n",
      "             id          title  \\\n",
      "429472  2206467  Mexicano Rice   \n",
      "\n",
      "                                              ingredients  \\\n",
      "429472  [\"1 12 cups long grain rice\", \"14 cup onion (D...   \n",
      "\n",
      "                                               directions  \\\n",
      "429472  ['Add oil to pot and turn heat to medium/high....   \n",
      "\n",
      "                                            link     source  \\\n",
      "429472  www.food.com/recipe/mexicano-rice-304280  Recipes1M   \n",
      "\n",
      "                                                      NER  dir_word_count  \\\n",
      "429472  [\"long grain rice\", \"onion\", \"water\", \"tomato ...              63   \n",
      "\n",
      "        ner_len  \n",
      "429472        6  \n"
     ]
    }
   ],
   "source": [
    "id = result.iloc[0][\"docno\"]\n",
    "id = int(id)  # converti in intero\n",
    "print(f\"ID: {id}\")\n",
    "\n",
    "matched_row = df[df[\"id\"] == id]\n",
    "print(matched_row)\n"
   ]
  },
  {
   "cell_type": "markdown",
   "id": "df647499",
   "metadata": {},
   "source": [
    "## One shot promts"
   ]
  },
  {
   "cell_type": "code",
   "execution_count": 20,
   "id": "c2bd2e6b",
   "metadata": {},
   "outputs": [],
   "source": [
    "prompt_system_ingrs = \"\"\"\n",
    "You are a creative and helpful cooking assistant.\n",
    "\n",
    "The user will provide a list of available ingredients.  \n",
    "Your task is to create a complete and realistic recipe using **only those ingredients** — do not invent or add anything not included in the list.\n",
    "\n",
    "The recipe must include:\n",
    "- A clear and descriptive title\n",
    "- Step-by-step preparation instructions\n",
    "\n",
    "Important rules:\n",
    "- Do NOT use any ingredient that is not listed.\n",
    "- If a necessary item (e.g., salt, oil, water) is missing, do NOT assume it's available — exclude it.\n",
    "- You can adjust the form or quantity of the ingredients (e.g., chop, grate, blend), but not add new ones.\n",
    "- If the ingredients are unusual together, invent a plausible or creative dish that still makes good use of them.\n",
    "\n",
    "Output your response in the following JSON format:\n",
    "\n",
    "{{\n",
    "    \"title\": \"recipe title\",\n",
    "    \"list_of_steps\": [\"step 1\", \"step 2\", ...]\n",
    "}}\n",
    "\n",
    "Example, take some ispiration from this:\n",
    "{Example}\n",
    "\n",
    "\"\"\""
   ]
  },
  {
   "cell_type": "code",
   "execution_count": 21,
   "id": "02a69935",
   "metadata": {},
   "outputs": [],
   "source": [
    "response_schemas_2 = [\n",
    "    ResponseSchema(\n",
    "        name='title',\n",
    "        description='The title of the recipe',\n",
    "    ),\n",
    "    ResponseSchema(\n",
    "        name='list_of_steps',\n",
    "        description='A list of steps to prepare the dish, only the list',\n",
    "    )\n",
    "]"
   ]
  },
  {
   "cell_type": "code",
   "execution_count": 22,
   "id": "869f757d",
   "metadata": {},
   "outputs": [],
   "source": [
    "output_parser_2 = StructuredOutputParser.from_response_schemas(response_schemas_2)"
   ]
  },
  {
   "cell_type": "code",
   "execution_count": 23,
   "id": "cb28d909",
   "metadata": {},
   "outputs": [],
   "source": [
    "prompt_system_ingrs_ = ChatPromptTemplate.from_messages(\n",
    "    [('system', prompt_system_ingrs), ('user', '{messages}')]\n",
    ").partial(format_instructions=output_parser_2.get_format_instructions())"
   ]
  },
  {
   "cell_type": "markdown",
   "id": "aea00caf",
   "metadata": {},
   "source": [
    "## LLM"
   ]
  },
  {
   "cell_type": "code",
   "execution_count": 24,
   "id": "d13c670b",
   "metadata": {},
   "outputs": [],
   "source": [
    "llm = ChatOpenAI(model=\"gpt-4\", temperature=0.7)\n",
    "recipe_chain_2 = prompt_system_ingrs_ | llm | output_parser_2\n",
    "response_2 = recipe_chain_2.invoke({\"messages\": user_input, \"Example\":matched_row})"
   ]
  },
  {
   "cell_type": "code",
   "execution_count": 25,
   "id": "e51acdd6",
   "metadata": {},
   "outputs": [
    {
     "name": "stdout",
     "output_type": "stream",
     "text": [
      "Title: Simple Tomato Chicken\n",
      "\n",
      "Preparation Steps:\n",
      "1. 1. Clean the chicken and cut it into medium-sized pieces.\n",
      "2. 2. Heat the oil in a pan over medium heat.\n",
      "3. 3. Add the chicken pieces to the pan and cook until they turn golden brown.\n",
      "4. 4. Cut the tomato into small pieces and add it to the pan.\n",
      "5. 5. Cook until the tomato becomes soft and the chicken is fully cooked.\n"
     ]
    }
   ],
   "source": [
    "print(\"Title:\", response_2['title'])\n",
    "\n",
    "\n",
    "print(\"\\nPreparation Steps:\")\n",
    "for i, step in enumerate(response_2['list_of_steps'], 1):\n",
    "    print(f\"{i}. {step}\")\n"
   ]
  }
 ],
 "metadata": {
  "kernelspec": {
   "display_name": "Python 3",
   "language": "python",
   "name": "python3"
  },
  "language_info": {
   "codemirror_mode": {
    "name": "ipython",
    "version": 3
   },
   "file_extension": ".py",
   "mimetype": "text/x-python",
   "name": "python",
   "nbconvert_exporter": "python",
   "pygments_lexer": "ipython3",
   "version": "3.12.9"
  }
 },
 "nbformat": 4,
 "nbformat_minor": 5
}
