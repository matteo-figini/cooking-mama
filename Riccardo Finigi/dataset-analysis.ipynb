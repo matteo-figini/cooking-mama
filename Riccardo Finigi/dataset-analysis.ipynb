{
 "cells": [
  {
   "cell_type": "code",
   "execution_count": 1,
   "id": "6adc39c3",
   "metadata": {
    "_cell_guid": "b1076dfc-b9ad-4769-8c92-a6c4dae69d19",
    "_uuid": "8f2839f25d086af736a60e9eeb907d3b93b6e0e5",
    "execution": {
     "iopub.execute_input": "2025-04-28T12:09:21.330388Z",
     "iopub.status.busy": "2025-04-28T12:09:21.329622Z",
     "iopub.status.idle": "2025-04-28T12:09:26.408184Z",
     "shell.execute_reply": "2025-04-28T12:09:26.407313Z"
    },
    "papermill": {
     "duration": 5.087115,
     "end_time": "2025-04-28T12:09:26.410022",
     "exception": false,
     "start_time": "2025-04-28T12:09:21.322907",
     "status": "completed"
    },
    "tags": []
   },
   "outputs": [
    {
     "name": "stdout",
     "output_type": "stream",
     "text": [
      "\u001b[2K   \u001b[90m━━━━━━━━━━━━━━━━━━━━━━━━━━━━━━━━━━━━━━━━\u001b[0m \u001b[32m183.9/183.9 kB\u001b[0m \u001b[31m7.1 MB/s\u001b[0m eta \u001b[36m0:00:00\u001b[0m\r\n",
      "\u001b[?25h\u001b[31mERROR: pip's dependency resolver does not currently take into account all the packages that are installed. This behaviour is the source of the following dependency conflicts.\r\n",
      "gcsfs 2024.10.0 requires fsspec==2024.10.0, but you have fsspec 2024.12.0 which is incompatible.\r\n",
      "torch 2.5.1+cu124 requires nvidia-cublas-cu12==12.4.5.8; platform_system == \"Linux\" and platform_machine == \"x86_64\", but you have nvidia-cublas-cu12 12.8.4.1 which is incompatible.\r\n",
      "torch 2.5.1+cu124 requires nvidia-cudnn-cu12==9.1.0.70; platform_system == \"Linux\" and platform_machine == \"x86_64\", but you have nvidia-cudnn-cu12 9.3.0.75 which is incompatible.\r\n",
      "torch 2.5.1+cu124 requires nvidia-cufft-cu12==11.2.1.3; platform_system == \"Linux\" and platform_machine == \"x86_64\", but you have nvidia-cufft-cu12 11.3.3.83 which is incompatible.\r\n",
      "torch 2.5.1+cu124 requires nvidia-curand-cu12==10.3.5.147; platform_system == \"Linux\" and platform_machine == \"x86_64\", but you have nvidia-curand-cu12 10.3.9.90 which is incompatible.\r\n",
      "torch 2.5.1+cu124 requires nvidia-cusolver-cu12==11.6.1.9; platform_system == \"Linux\" and platform_machine == \"x86_64\", but you have nvidia-cusolver-cu12 11.7.3.90 which is incompatible.\r\n",
      "torch 2.5.1+cu124 requires nvidia-cusparse-cu12==12.3.1.170; platform_system == \"Linux\" and platform_machine == \"x86_64\", but you have nvidia-cusparse-cu12 12.5.8.93 which is incompatible.\r\n",
      "torch 2.5.1+cu124 requires nvidia-nvjitlink-cu12==12.4.127; platform_system == \"Linux\" and platform_machine == \"x86_64\", but you have nvidia-nvjitlink-cu12 12.8.93 which is incompatible.\r\n",
      "bigframes 1.36.0 requires rich<14,>=12.4.4, but you have rich 14.0.0 which is incompatible.\u001b[0m\u001b[31m\r\n",
      "\u001b[0m"
     ]
    }
   ],
   "source": [
    "!pip install -q datasets"
   ]
  },
  {
   "cell_type": "code",
   "execution_count": 2,
   "id": "492d958f",
   "metadata": {
    "execution": {
     "iopub.execute_input": "2025-04-28T12:09:26.422633Z",
     "iopub.status.busy": "2025-04-28T12:09:26.421783Z",
     "iopub.status.idle": "2025-04-28T12:10:26.409943Z",
     "shell.execute_reply": "2025-04-28T12:10:26.409198Z"
    },
    "papermill": {
     "duration": 59.996127,
     "end_time": "2025-04-28T12:10:26.411652",
     "exception": false,
     "start_time": "2025-04-28T12:09:26.415525",
     "status": "completed"
    },
    "tags": []
   },
   "outputs": [],
   "source": [
    "#Not used\n",
    "from datasets import load_dataset\n",
    "\n",
    "#Imported directly from kaggle\n",
    "import pandas as pd\n",
    "\n",
    "df = pd.read_csv(\"/kaggle/input/recipes/dataset/full_dataset.csv\")"
   ]
  },
  {
   "cell_type": "code",
   "execution_count": 3,
   "id": "2b79015f",
   "metadata": {
    "execution": {
     "iopub.execute_input": "2025-04-28T12:10:26.423199Z",
     "iopub.status.busy": "2025-04-28T12:10:26.422905Z",
     "iopub.status.idle": "2025-04-28T12:10:26.448507Z",
     "shell.execute_reply": "2025-04-28T12:10:26.447657Z"
    },
    "papermill": {
     "duration": 0.032658,
     "end_time": "2025-04-28T12:10:26.449763",
     "exception": false,
     "start_time": "2025-04-28T12:10:26.417105",
     "status": "completed"
    },
    "tags": []
   },
   "outputs": [
    {
     "data": {
      "text/html": [
       "<div>\n",
       "<style scoped>\n",
       "    .dataframe tbody tr th:only-of-type {\n",
       "        vertical-align: middle;\n",
       "    }\n",
       "\n",
       "    .dataframe tbody tr th {\n",
       "        vertical-align: top;\n",
       "    }\n",
       "\n",
       "    .dataframe thead th {\n",
       "        text-align: right;\n",
       "    }\n",
       "</style>\n",
       "<table border=\"1\" class=\"dataframe\">\n",
       "  <thead>\n",
       "    <tr style=\"text-align: right;\">\n",
       "      <th></th>\n",
       "      <th>Unnamed: 0</th>\n",
       "      <th>title</th>\n",
       "      <th>ingredients</th>\n",
       "      <th>directions</th>\n",
       "      <th>link</th>\n",
       "      <th>source</th>\n",
       "      <th>NER</th>\n",
       "    </tr>\n",
       "  </thead>\n",
       "  <tbody>\n",
       "    <tr>\n",
       "      <th>0</th>\n",
       "      <td>0</td>\n",
       "      <td>No-Bake Nut Cookies</td>\n",
       "      <td>[\"1 c. firmly packed brown sugar\", \"1/2 c. eva...</td>\n",
       "      <td>[\"In a heavy 2-quart saucepan, mix brown sugar...</td>\n",
       "      <td>www.cookbooks.com/Recipe-Details.aspx?id=44874</td>\n",
       "      <td>Gathered</td>\n",
       "      <td>[\"brown sugar\", \"milk\", \"vanilla\", \"nuts\", \"bu...</td>\n",
       "    </tr>\n",
       "    <tr>\n",
       "      <th>1</th>\n",
       "      <td>1</td>\n",
       "      <td>Jewell Ball'S Chicken</td>\n",
       "      <td>[\"1 small jar chipped beef, cut up\", \"4 boned ...</td>\n",
       "      <td>[\"Place chipped beef on bottom of baking dish....</td>\n",
       "      <td>www.cookbooks.com/Recipe-Details.aspx?id=699419</td>\n",
       "      <td>Gathered</td>\n",
       "      <td>[\"beef\", \"chicken breasts\", \"cream of mushroom...</td>\n",
       "    </tr>\n",
       "    <tr>\n",
       "      <th>2</th>\n",
       "      <td>2</td>\n",
       "      <td>Creamy Corn</td>\n",
       "      <td>[\"2 (16 oz.) pkg. frozen corn\", \"1 (8 oz.) pkg...</td>\n",
       "      <td>[\"In a slow cooker, combine all ingredients. C...</td>\n",
       "      <td>www.cookbooks.com/Recipe-Details.aspx?id=10570</td>\n",
       "      <td>Gathered</td>\n",
       "      <td>[\"frozen corn\", \"cream cheese\", \"butter\", \"gar...</td>\n",
       "    </tr>\n",
       "    <tr>\n",
       "      <th>3</th>\n",
       "      <td>3</td>\n",
       "      <td>Chicken Funny</td>\n",
       "      <td>[\"1 large whole chicken\", \"2 (10 1/2 oz.) cans...</td>\n",
       "      <td>[\"Boil and debone chicken.\", \"Put bite size pi...</td>\n",
       "      <td>www.cookbooks.com/Recipe-Details.aspx?id=897570</td>\n",
       "      <td>Gathered</td>\n",
       "      <td>[\"chicken\", \"chicken gravy\", \"cream of mushroo...</td>\n",
       "    </tr>\n",
       "    <tr>\n",
       "      <th>4</th>\n",
       "      <td>4</td>\n",
       "      <td>Reeses Cups(Candy)</td>\n",
       "      <td>[\"1 c. peanut butter\", \"3/4 c. graham cracker ...</td>\n",
       "      <td>[\"Combine first four ingredients and press in ...</td>\n",
       "      <td>www.cookbooks.com/Recipe-Details.aspx?id=659239</td>\n",
       "      <td>Gathered</td>\n",
       "      <td>[\"peanut butter\", \"graham cracker crumbs\", \"bu...</td>\n",
       "    </tr>\n",
       "  </tbody>\n",
       "</table>\n",
       "</div>"
      ],
      "text/plain": [
       "   Unnamed: 0                  title  \\\n",
       "0           0    No-Bake Nut Cookies   \n",
       "1           1  Jewell Ball'S Chicken   \n",
       "2           2            Creamy Corn   \n",
       "3           3          Chicken Funny   \n",
       "4           4   Reeses Cups(Candy)     \n",
       "\n",
       "                                         ingredients  \\\n",
       "0  [\"1 c. firmly packed brown sugar\", \"1/2 c. eva...   \n",
       "1  [\"1 small jar chipped beef, cut up\", \"4 boned ...   \n",
       "2  [\"2 (16 oz.) pkg. frozen corn\", \"1 (8 oz.) pkg...   \n",
       "3  [\"1 large whole chicken\", \"2 (10 1/2 oz.) cans...   \n",
       "4  [\"1 c. peanut butter\", \"3/4 c. graham cracker ...   \n",
       "\n",
       "                                          directions  \\\n",
       "0  [\"In a heavy 2-quart saucepan, mix brown sugar...   \n",
       "1  [\"Place chipped beef on bottom of baking dish....   \n",
       "2  [\"In a slow cooker, combine all ingredients. C...   \n",
       "3  [\"Boil and debone chicken.\", \"Put bite size pi...   \n",
       "4  [\"Combine first four ingredients and press in ...   \n",
       "\n",
       "                                              link    source  \\\n",
       "0   www.cookbooks.com/Recipe-Details.aspx?id=44874  Gathered   \n",
       "1  www.cookbooks.com/Recipe-Details.aspx?id=699419  Gathered   \n",
       "2   www.cookbooks.com/Recipe-Details.aspx?id=10570  Gathered   \n",
       "3  www.cookbooks.com/Recipe-Details.aspx?id=897570  Gathered   \n",
       "4  www.cookbooks.com/Recipe-Details.aspx?id=659239  Gathered   \n",
       "\n",
       "                                                 NER  \n",
       "0  [\"brown sugar\", \"milk\", \"vanilla\", \"nuts\", \"bu...  \n",
       "1  [\"beef\", \"chicken breasts\", \"cream of mushroom...  \n",
       "2  [\"frozen corn\", \"cream cheese\", \"butter\", \"gar...  \n",
       "3  [\"chicken\", \"chicken gravy\", \"cream of mushroo...  \n",
       "4  [\"peanut butter\", \"graham cracker crumbs\", \"bu...  "
      ]
     },
     "execution_count": 3,
     "metadata": {},
     "output_type": "execute_result"
    }
   ],
   "source": [
    "df.head()"
   ]
  },
  {
   "cell_type": "code",
   "execution_count": 4,
   "id": "3793baf1",
   "metadata": {
    "execution": {
     "iopub.execute_input": "2025-04-28T12:10:26.461694Z",
     "iopub.status.busy": "2025-04-28T12:10:26.461112Z",
     "iopub.status.idle": "2025-04-28T12:10:26.465752Z",
     "shell.execute_reply": "2025-04-28T12:10:26.464880Z"
    },
    "papermill": {
     "duration": 0.011786,
     "end_time": "2025-04-28T12:10:26.467043",
     "exception": false,
     "start_time": "2025-04-28T12:10:26.455257",
     "status": "completed"
    },
    "tags": []
   },
   "outputs": [
    {
     "name": "stdout",
     "output_type": "stream",
     "text": [
      "In the dataset there are 2231142 recipe. \n",
      "\n"
     ]
    }
   ],
   "source": [
    "dim_dataset = len(df)\n",
    "\n",
    "print(f\"In the dataset there are {dim_dataset} recipe. \\n\")"
   ]
  },
  {
   "cell_type": "markdown",
   "id": "64e1f956",
   "metadata": {
    "papermill": {
     "duration": 0.004849,
     "end_time": "2025-04-28T12:10:26.477069",
     "exception": false,
     "start_time": "2025-04-28T12:10:26.472220",
     "status": "completed"
    },
    "tags": []
   },
   "source": [
    "**Analysis first column: Unnamed: 0**"
   ]
  },
  {
   "cell_type": "code",
   "execution_count": 5,
   "id": "03aa207b",
   "metadata": {
    "execution": {
     "iopub.execute_input": "2025-04-28T12:10:26.488632Z",
     "iopub.status.busy": "2025-04-28T12:10:26.487934Z",
     "iopub.status.idle": "2025-04-28T12:10:26.623327Z",
     "shell.execute_reply": "2025-04-28T12:10:26.622359Z"
    },
    "papermill": {
     "duration": 0.142584,
     "end_time": "2025-04-28T12:10:26.624681",
     "exception": false,
     "start_time": "2025-04-28T12:10:26.482097",
     "status": "completed"
    },
    "tags": []
   },
   "outputs": [
    {
     "name": "stdout",
     "output_type": "stream",
     "text": [
      "Duplicates index: Empty DataFrame\n",
      "Columns: [Unnamed: 0, title, ingredients, directions, link, source, NER]\n",
      "Index: []\n"
     ]
    }
   ],
   "source": [
    "fields = list(df.columns)\n",
    "    \n",
    "first_cols = list(df.columns[:1])  \n",
    "duplicates = df[df.duplicated(subset=first_cols)]\n",
    "  \n",
    "print(f\"Duplicates index: {duplicates}\")"
   ]
  },
  {
   "cell_type": "markdown",
   "id": "50a3e267",
   "metadata": {
    "papermill": {
     "duration": 0.00495,
     "end_time": "2025-04-28T12:10:26.635124",
     "exception": false,
     "start_time": "2025-04-28T12:10:26.630174",
     "status": "completed"
    },
    "tags": []
   },
   "source": [
    "“Unnamed: 0” corresponds to the ‘id’ field, which uniquely identifies a prescription in the database"
   ]
  },
  {
   "cell_type": "code",
   "execution_count": 6,
   "id": "8ec0f89b",
   "metadata": {
    "execution": {
     "iopub.execute_input": "2025-04-28T12:10:26.646841Z",
     "iopub.status.busy": "2025-04-28T12:10:26.646072Z",
     "iopub.status.idle": "2025-04-28T12:10:28.076248Z",
     "shell.execute_reply": "2025-04-28T12:10:28.075149Z"
    },
    "papermill": {
     "duration": 1.437517,
     "end_time": "2025-04-28T12:10:28.077708",
     "exception": false,
     "start_time": "2025-04-28T12:10:26.640191",
     "status": "completed"
    },
    "tags": []
   },
   "outputs": [
    {
     "name": "stdout",
     "output_type": "stream",
     "text": [
      "\n",
      "Field: Unnamed: 0\n",
      "Type: int64\n",
      "\n",
      "Field: title\n",
      "Type: str\n",
      "\n",
      "Field: ingredients\n",
      "Type: list\n",
      "Inner types in list: {'str'}\n",
      "\n",
      "Field: directions\n",
      "Type: list\n",
      "Inner types in list: {'str'}\n",
      "\n",
      "Field: link\n",
      "Type: str\n",
      "\n",
      "Field: source\n",
      "Type: str\n",
      "\n",
      "Field: NER\n",
      "Type: list\n",
      "Inner types in list: {'str'}\n"
     ]
    }
   ],
   "source": [
    "import ast \n",
    "\n",
    "\n",
    "for field in fields:\n",
    "    sample_value = df[field].dropna().iloc[0]  \n",
    "    \n",
    "    if isinstance(sample_value, str):\n",
    "        try:\n",
    "            evaluated = ast.literal_eval(sample_value)\n",
    "            sample_value = evaluated\n",
    "        except (ValueError, SyntaxError):\n",
    "            pass \n",
    "\n",
    "    print(f\"\\nField: {field}\")\n",
    "    print(f\"Type: {type(sample_value).__name__}\")\n",
    "    \n",
    "    # If it's a list or dict, show inner types\n",
    "    if isinstance(sample_value, list):\n",
    "        inner_types = set(type(x).__name__ for x in sample_value)\n",
    "        print(f\"Inner types in list: {inner_types}\")\n",
    "    elif isinstance(sample_value, dict):\n",
    "        key_types = set(type(k).__name__ for k in sample_value.keys())\n",
    "        value_types = set(type(v).__name__ for v in sample_value.values())\n",
    "        print(f\"Inner types in dict - keys: {key_types}, values: {value_types}\")"
   ]
  },
  {
   "cell_type": "markdown",
   "id": "49d45d53",
   "metadata": {
    "papermill": {
     "duration": 0.005397,
     "end_time": "2025-04-28T12:10:28.089119",
     "exception": false,
     "start_time": "2025-04-28T12:10:28.083722",
     "status": "completed"
    },
    "tags": []
   },
   "source": [
    "**Analysis second column: title**"
   ]
  },
  {
   "cell_type": "code",
   "execution_count": 7,
   "id": "167fde1f",
   "metadata": {
    "execution": {
     "iopub.execute_input": "2025-04-28T12:10:28.102040Z",
     "iopub.status.busy": "2025-04-28T12:10:28.101522Z",
     "iopub.status.idle": "2025-04-28T12:10:32.592840Z",
     "shell.execute_reply": "2025-04-28T12:10:32.591907Z"
    },
    "papermill": {
     "duration": 4.499648,
     "end_time": "2025-04-28T12:10:32.594265",
     "exception": false,
     "start_time": "2025-04-28T12:10:28.094617",
     "status": "completed"
    },
    "tags": []
   },
   "outputs": [
    {
     "name": "stdout",
     "output_type": "stream",
     "text": [
      "Example of duplicates: ['CREAMY CORN', 'CHEESEBURGER POTATO SOUP', 'RHUBARB COFFEE CAKE', 'SCALLOPED CORN', 'MILLIONAIRE PIE'] \n",
      "\n",
      "Number of title: 1297133. \n",
      "\n",
      "Number of title with one recipe: 1134371, with more than one: 162762. \n",
      "\n",
      "MAX number for recipe: 4106, CHICKEN CASSEROLE. \n",
      "\n",
      "AVG recipe for title: 6.738495471916049 (counting only duplicates). \n",
      "\n",
      "AVG recipe for title: 0.8455347292837357 . \n",
      "\n"
     ]
    }
   ],
   "source": [
    "from collections import defaultdict\n",
    "\n",
    "second_col = df.columns[1]  \n",
    "upper_title = df[second_col].str.upper()\n",
    "\n",
    "title_indices = defaultdict(list)\n",
    "\n",
    "for i, title in enumerate(upper_title):\n",
    "    title_indices[title].append(i)\n",
    "\n",
    "duplicates_dict = {title: idxs for title, idxs in title_indices.items() if len(idxs) > 1}\n",
    "\n",
    "l = []\n",
    "for i, (title, idxs) in enumerate(duplicates_dict.items()):\n",
    "    l.append(title)\n",
    "    if i >= 4:  # Stop after 5 examples\n",
    "        break\n",
    "\n",
    "print(f\"Example of duplicates: {l} \\n\")\n",
    "\n",
    "single_recipe = {title: idxs for title, idxs in title_indices.items() if len(idxs) == 1}\n",
    "\n",
    "count = 0\n",
    "maxR = 1\n",
    "maxItem = \"\"\n",
    "for item in duplicates_dict:\n",
    "    #print(f\"Item: {item}, recipes: {len(duplicates_dict[item])}\")\n",
    "    count += len(duplicates_dict[item])\n",
    "    if len(duplicates_dict[item]) > maxR:\n",
    "        maxR = len(duplicates_dict[item])\n",
    "        maxItem = item\n",
    "\n",
    "print(f\"Number of title: {len(title_indices)}. \\n\")\n",
    "\n",
    "print(f\"Number of title with one recipe: {len(single_recipe)}, with more than one: {len(title_indices) - len(single_recipe)}. \\n\")\n",
    "\n",
    "print(f\"MAX number for recipe: {maxR}, {maxItem}. \\n\")\n",
    "\n",
    "print(f\"AVG recipe for title: {count/len(duplicates_dict)} (counting only duplicates). \\n\")\n",
    "\n",
    "print(f\"AVG recipe for title: {count/len(title_indices)} . \\n\")\n"
   ]
  },
  {
   "cell_type": "markdown",
   "id": "272dfe00",
   "metadata": {
    "papermill": {
     "duration": 0.00538,
     "end_time": "2025-04-28T12:10:32.605669",
     "exception": false,
     "start_time": "2025-04-28T12:10:32.600289",
     "status": "completed"
    },
    "tags": []
   },
   "source": [
    "Now let's take some time to understand how recipes with the same name differ, focusing only on the ingredients "
   ]
  },
  {
   "cell_type": "code",
   "execution_count": 8,
   "id": "ce0d1d0f",
   "metadata": {
    "execution": {
     "iopub.execute_input": "2025-04-28T12:10:32.618154Z",
     "iopub.status.busy": "2025-04-28T12:10:32.617818Z",
     "iopub.status.idle": "2025-04-28T12:10:33.015944Z",
     "shell.execute_reply": "2025-04-28T12:10:33.014960Z"
    },
    "papermill": {
     "duration": 0.40612,
     "end_time": "2025-04-28T12:10:33.017458",
     "exception": false,
     "start_time": "2025-04-28T12:10:32.611338",
     "status": "completed"
    },
    "tags": []
   },
   "outputs": [
    {
     "name": "stdout",
     "output_type": "stream",
     "text": [
      "Example of index: [63, 131, 356, 428, 539, 653, 990, 1009, 1138, 1381] \n",
      "\n",
      "Recipe ing: [\"cream of mushroom soup\", \"cream of chicken soup\", \"cream of celery soup\", \"chicken\", \"butter\", \"rice\"] \n",
      "\n",
      "Percentage of ingredients in CHICKEN CASSEROLE: \n",
      "\n",
      "CREAM OF MUSHROOM SOUP:  30.08%\n",
      "CREAM OF CHICKEN SOUP:  60.01%\n",
      "CREAM OF CELERY SOUP:  16.76%\n",
      "CHICKEN:  57.01%\n",
      "BUTTER:  20.29%\n",
      "RICE:  13.96%\n",
      "ONION SOUP:  2.78%\n",
      "CREAM OF CHICKEN:  1.88%\n",
      "MUSHROOMS:  7.77%\n",
      "BITE:  0.05%\n"
     ]
    }
   ],
   "source": [
    "\n",
    "ingredients = df.columns[6]\n",
    "\n",
    "#Insert a duplicates recipe from the dataset\n",
    "recipe = \"CHICKEN CASSEROLE\"\n",
    "\n",
    "setIngr = set()\n",
    "indexRecipe = duplicates_dict[recipe]\n",
    "\n",
    "print(f\"Example of index: {indexRecipe[:10]} \\n\")\n",
    "print(f\"Recipe ing: {df.iloc[63][ingredients]} \\n\")\n",
    "\n",
    "ingredientsCounter = defaultdict(int) \n",
    "\n",
    "#Some statistics \n",
    "counter = 0\n",
    "for idx in indexRecipe:\n",
    "    counter += 1\n",
    "    ingredientList_str = df.iloc[idx][ingredients].upper()\n",
    "    ingredientList = ast.literal_eval(ingredientList_str)\n",
    "    for ingredient in ingredientList:\n",
    "        if ingredient in ingredientsCounter:\n",
    "            ingredientsCounter[ingredient] += 1\n",
    "        else:\n",
    "            ingredientsCounter[ingredient] = 1\n",
    "\n",
    "nPrint = 10\n",
    "numRecipe = len(indexRecipe)\n",
    "print(f\"Percentage of ingredients in {recipe}: \\n\")\n",
    "for ingr, count in ingredientsCounter.items():\n",
    "    print(f\"{ingr}:  {count/numRecipe:.2%}\")\n",
    "    nPrint -= 1\n",
    "    if nPrint == 0:\n",
    "        break\n",
    "\n"
   ]
  },
  {
   "cell_type": "code",
   "execution_count": 9,
   "id": "605f3f2c",
   "metadata": {
    "execution": {
     "iopub.execute_input": "2025-04-28T12:10:33.030516Z",
     "iopub.status.busy": "2025-04-28T12:10:33.030229Z",
     "iopub.status.idle": "2025-04-28T12:10:33.036091Z",
     "shell.execute_reply": "2025-04-28T12:10:33.035339Z"
    },
    "papermill": {
     "duration": 0.013949,
     "end_time": "2025-04-28T12:10:33.037335",
     "exception": false,
     "start_time": "2025-04-28T12:10:33.023386",
     "status": "completed"
    },
    "tags": []
   },
   "outputs": [
    {
     "name": "stdout",
     "output_type": "stream",
     "text": [
      "Percentage of ingredients in CHICKEN CASSEROLE: \n",
      "\n",
      "CREAM OF CHICKEN SOUP: 60.01%\n",
      "CHICKEN: 57.01%\n",
      "CHICKEN BREASTS: 35.39%\n",
      "CREAM OF MUSHROOM SOUP: 30.08%\n",
      "ONION: 29.83%\n",
      "SOUR CREAM: 23.16%\n",
      "MARGARINE: 22.50%\n",
      "CHICKEN BROTH: 22.36%\n",
      "MILK: 21.36%\n",
      "BUTTER: 20.29%\n"
     ]
    }
   ],
   "source": [
    "# Sort ingredientsCounter by count in descending order\n",
    "sorted_ingredients = sorted(ingredientsCounter.items(), key=lambda x: x[1], reverse=True)\n",
    "\n",
    "nPrint = 10\n",
    "numRecipe = len(indexRecipe)\n",
    "print(f\"Percentage of ingredients in {recipe}: \\n\")\n",
    "for ingr, count in sorted_ingredients:\n",
    "    print(f\"{ingr}: {count/numRecipe:.2%}\")  \n",
    "    nPrint -= 1\n",
    "    if nPrint == 0:\n",
    "        break"
   ]
  },
  {
   "cell_type": "markdown",
   "id": "ac40cb14",
   "metadata": {
    "papermill": {
     "duration": 0.005742,
     "end_time": "2025-04-28T12:10:33.049017",
     "exception": false,
     "start_time": "2025-04-28T12:10:33.043275",
     "status": "completed"
    },
    "tags": []
   },
   "source": [
    "The recipe duplicated several times has only 60% more ingredient present. The main problem is also in the names, maybe the same ingredient with different names"
   ]
  },
  {
   "cell_type": "code",
   "execution_count": 10,
   "id": "32658adf",
   "metadata": {
    "execution": {
     "iopub.execute_input": "2025-04-28T12:10:33.061601Z",
     "iopub.status.busy": "2025-04-28T12:10:33.061323Z",
     "iopub.status.idle": "2025-04-28T12:10:33.097121Z",
     "shell.execute_reply": "2025-04-28T12:10:33.096270Z"
    },
    "papermill": {
     "duration": 0.043712,
     "end_time": "2025-04-28T12:10:33.098511",
     "exception": false,
     "start_time": "2025-04-28T12:10:33.054799",
     "status": "completed"
    },
    "tags": []
   },
   "outputs": [],
   "source": [
    "del sorted_ingredients, ingredientsCounter, duplicates_dict, upper_title, first_cols"
   ]
  },
  {
   "cell_type": "markdown",
   "id": "4c9010d5",
   "metadata": {
    "papermill": {
     "duration": 0.005974,
     "end_time": "2025-04-28T12:10:33.110605",
     "exception": false,
     "start_time": "2025-04-28T12:10:33.104631",
     "status": "completed"
    },
    "tags": []
   },
   "source": [
    "**Analysis second column: Directions**"
   ]
  },
  {
   "cell_type": "code",
   "execution_count": 11,
   "id": "b9977718",
   "metadata": {
    "execution": {
     "iopub.execute_input": "2025-04-28T12:10:33.123761Z",
     "iopub.status.busy": "2025-04-28T12:10:33.123211Z",
     "iopub.status.idle": "2025-04-28T12:11:27.911110Z",
     "shell.execute_reply": "2025-04-28T12:11:27.910179Z"
    },
    "papermill": {
     "duration": 54.79641,
     "end_time": "2025-04-28T12:11:27.912909",
     "exception": false,
     "start_time": "2025-04-28T12:10:33.116499",
     "status": "completed"
    },
    "tags": []
   },
   "outputs": [],
   "source": [
    "directions_col = df['directions'].dropna().apply(ast.literal_eval)"
   ]
  },
  {
   "cell_type": "code",
   "execution_count": 12,
   "id": "93a2b3fa",
   "metadata": {
    "execution": {
     "iopub.execute_input": "2025-04-28T12:11:27.926919Z",
     "iopub.status.busy": "2025-04-28T12:11:27.926381Z",
     "iopub.status.idle": "2025-04-28T12:11:28.807404Z",
     "shell.execute_reply": "2025-04-28T12:11:28.806509Z"
    },
    "papermill": {
     "duration": 0.889407,
     "end_time": "2025-04-28T12:11:28.808762",
     "exception": false,
     "start_time": "2025-04-28T12:11:27.919355",
     "status": "completed"
    },
    "tags": []
   },
   "outputs": [
    {
     "name": "stdout",
     "output_type": "stream",
     "text": [
      "Analysis of 'directions' field:\n",
      "\n",
      "Total recipes with directions: 2231142\n",
      "Minimum steps in a recipe: 1\n",
      "Maximum steps in a recipe: 164\n",
      "Average number of steps: 6.61\n",
      "Median number of steps: 5.0\n"
     ]
    }
   ],
   "source": [
    "step_counts = directions_col.apply(lambda x: len(x) if isinstance(x, list) else 0)\n",
    "\n",
    "print(\"Analysis of 'directions' field:\\n\")\n",
    "print(f\"Total recipes with directions: {len(step_counts)}\")\n",
    "print(f\"Minimum steps in a recipe: {step_counts.min()}\")\n",
    "print(f\"Maximum steps in a recipe: {step_counts.max()}\")\n",
    "print(f\"Average number of steps: {step_counts.mean():.2f}\")\n",
    "print(f\"Median number of steps: {step_counts.median()}\")"
   ]
  },
  {
   "cell_type": "code",
   "execution_count": 13,
   "id": "c0702487",
   "metadata": {
    "execution": {
     "iopub.execute_input": "2025-04-28T12:11:28.822064Z",
     "iopub.status.busy": "2025-04-28T12:11:28.821776Z",
     "iopub.status.idle": "2025-04-28T12:11:34.437888Z",
     "shell.execute_reply": "2025-04-28T12:11:34.436930Z"
    },
    "papermill": {
     "duration": 5.624355,
     "end_time": "2025-04-28T12:11:34.439359",
     "exception": false,
     "start_time": "2025-04-28T12:11:28.815004",
     "status": "completed"
    },
    "tags": []
   },
   "outputs": [
    {
     "name": "stdout",
     "output_type": "stream",
     "text": [
      "\n",
      "Analysis of single instructions:\n",
      "\n",
      "Total instructions: 14755943\n",
      "Shortest instruction length: 0 characters\n",
      "Longest instruction length: 5406 characters\n",
      "Average instruction length: 72.14 characters\n",
      "Median instruction length: 52.00 characters\n"
     ]
    }
   ],
   "source": [
    "import numpy as np\n",
    "\n",
    "all_instructions = [instruction for instructions in directions_col for instruction in instructions]\n",
    "\n",
    "instruction_lengths = [len(instr) for instr in all_instructions]\n",
    "\n",
    "print(\"\\nAnalysis of single instructions:\\n\")\n",
    "print(f\"Total instructions: {len(instruction_lengths)}\")\n",
    "print(f\"Shortest instruction length: {np.min(instruction_lengths)} characters\")\n",
    "print(f\"Longest instruction length: {np.max(instruction_lengths)} characters\")\n",
    "print(f\"Average instruction length: {np.mean(instruction_lengths):.2f} characters\")\n",
    "print(f\"Median instruction length: {np.median(instruction_lengths):.2f} characters\")"
   ]
  },
  {
   "cell_type": "code",
   "execution_count": 14,
   "id": "bad9429b",
   "metadata": {
    "execution": {
     "iopub.execute_input": "2025-04-28T12:11:34.453729Z",
     "iopub.status.busy": "2025-04-28T12:11:34.453427Z",
     "iopub.status.idle": "2025-04-28T12:11:35.358628Z",
     "shell.execute_reply": "2025-04-28T12:11:35.358032Z"
    },
    "papermill": {
     "duration": 0.914032,
     "end_time": "2025-04-28T12:11:35.359902",
     "exception": false,
     "start_time": "2025-04-28T12:11:34.445870",
     "status": "completed"
    },
    "tags": []
   },
   "outputs": [],
   "source": [
    "del directions_col, all_instructions, instruction_lengths"
   ]
  },
  {
   "cell_type": "markdown",
   "id": "43ee40f6",
   "metadata": {
    "papermill": {
     "duration": 0.009746,
     "end_time": "2025-04-28T12:11:35.378804",
     "exception": false,
     "start_time": "2025-04-28T12:11:35.369058",
     "status": "completed"
    },
    "tags": []
   },
   "source": [
    "**Analysis second column: Link & source**"
   ]
  },
  {
   "cell_type": "markdown",
   "id": "43ff642f",
   "metadata": {
    "papermill": {
     "duration": 0.00921,
     "end_time": "2025-04-28T12:11:35.396280",
     "exception": false,
     "start_time": "2025-04-28T12:11:35.387070",
     "status": "completed"
    },
    "tags": []
   },
   "source": [
    "I leave out the recipes that come from the old dataset and dwell on those with a link"
   ]
  },
  {
   "cell_type": "code",
   "execution_count": 15,
   "id": "6b0d58ff",
   "metadata": {
    "execution": {
     "iopub.execute_input": "2025-04-28T12:11:35.415598Z",
     "iopub.status.busy": "2025-04-28T12:11:35.415269Z",
     "iopub.status.idle": "2025-04-28T12:11:35.587430Z",
     "shell.execute_reply": "2025-04-28T12:11:35.586543Z"
    },
    "papermill": {
     "duration": 0.184905,
     "end_time": "2025-04-28T12:11:35.588727",
     "exception": false,
     "start_time": "2025-04-28T12:11:35.403822",
     "status": "completed"
    },
    "tags": []
   },
   "outputs": [
    {
     "name": "stdout",
     "output_type": "stream",
     "text": [
      "1643098    Recipes1M\n",
      "1643099    Recipes1M\n",
      "1643100    Recipes1M\n",
      "1643101    Recipes1M\n",
      "1643102    Recipes1M\n",
      "             ...    \n",
      "2231137    Recipes1M\n",
      "2231138    Recipes1M\n",
      "2231139    Recipes1M\n",
      "2231140    Recipes1M\n",
      "2231141    Recipes1M\n",
      "Name: source, Length: 588044, dtype: object\n"
     ]
    }
   ],
   "source": [
    "# Select columns\n",
    "col4 = df.iloc[:, 4]  \n",
    "col5 = df.iloc[:, 5]  \n",
    "\n",
    "mask = col5 != \"Gathered\"\n",
    "filtered_col5 = col5[mask]\n",
    "print(filtered_col5)"
   ]
  },
  {
   "cell_type": "code",
   "execution_count": 16,
   "id": "6bf4a7a1",
   "metadata": {
    "execution": {
     "iopub.execute_input": "2025-04-28T12:11:35.602753Z",
     "iopub.status.busy": "2025-04-28T12:11:35.602442Z",
     "iopub.status.idle": "2025-04-28T12:11:37.348756Z",
     "shell.execute_reply": "2025-04-28T12:11:37.347689Z"
    },
    "papermill": {
     "duration": 1.754923,
     "end_time": "2025-04-28T12:11:37.350211",
     "exception": false,
     "start_time": "2025-04-28T12:11:35.595288",
     "status": "completed"
    },
    "tags": []
   },
   "outputs": [
    {
     "name": "stdout",
     "output_type": "stream",
     "text": [
      "Total entries in filtered column link: 1643098\n",
      "\n",
      "Top base links:\n",
      "\n",
      "link\n",
      "www.cookbooks.com      896341\n",
      "www.food.com           290565\n",
      "www.epicurious.com      94398\n",
      "www.myrecipes.com       64862\n",
      "www.allrecipes.com      61398\n",
      "www.yummly.com          51963\n",
      "www.tasteofhome.com     51594\n",
      "tastykitchen.com        50320\n",
      "food52.com              48501\n",
      "recipes-plus.com        20524\n",
      "Name: count, dtype: int64\n",
      "\n",
      "\n",
      " Old dataset: 588044\n"
     ]
    }
   ],
   "source": [
    "mask = ~col5.str.contains(\"Recipes1M\", na=False)  # \"~\" means NOT, na=False to avoid NaN problems\n",
    "filtered_col4 = col4[mask]\n",
    "filtered_col4_inv = col4[~mask]\n",
    "\n",
    "print(f\"Total entries in filtered column link: {len(filtered_col4)}\\n\")\n",
    "\n",
    "def extract_base_link(link):\n",
    "    if pd.isna(link):\n",
    "        return None\n",
    "    return link.split('/')[0]\n",
    "\n",
    "base_links = filtered_col4.apply(extract_base_link)\n",
    "\n",
    "base_link_counts = base_links.value_counts()\n",
    "\n",
    "print(\"Top base links:\\n\")\n",
    "print(base_link_counts.head(10))\n",
    "\n",
    "print(f\"\\n\\n Old dataset: {len(filtered_col4_inv)}\")"
   ]
  },
  {
   "cell_type": "markdown",
   "id": "c3d26155",
   "metadata": {
    "papermill": {
     "duration": 0.006541,
     "end_time": "2025-04-28T12:11:37.363703",
     "exception": false,
     "start_time": "2025-04-28T12:11:37.357162",
     "status": "completed"
    },
    "tags": []
   },
   "source": [
    "**Analysis second column: NER**"
   ]
  },
  {
   "cell_type": "code",
   "execution_count": 17,
   "id": "4987e720",
   "metadata": {
    "execution": {
     "iopub.execute_input": "2025-04-28T12:11:37.378355Z",
     "iopub.status.busy": "2025-04-28T12:11:37.378057Z",
     "iopub.status.idle": "2025-04-28T12:12:35.444450Z",
     "shell.execute_reply": "2025-04-28T12:12:35.443510Z"
    },
    "papermill": {
     "duration": 58.081264,
     "end_time": "2025-04-28T12:12:35.451887",
     "exception": false,
     "start_time": "2025-04-28T12:11:37.370623",
     "status": "completed"
    },
    "tags": []
   },
   "outputs": [
    {
     "name": "stdout",
     "output_type": "stream",
     "text": [
      "Total number of unique ingredients: 198899\n",
      "\n",
      "Top 10 ingredients by frequency:\n",
      "salt: 1013713 times\n",
      "sugar: 662836 times\n",
      "butter: 539979 times\n",
      "flour: 488089 times\n",
      "eggs: 422213 times\n",
      "onion: 391271 times\n",
      "garlic: 388187 times\n",
      "milk: 370287 times\n",
      "water: 351248 times\n",
      "vanilla: 293882 times\n"
     ]
    }
   ],
   "source": [
    "from collections import Counter\n",
    "\n",
    "ingredienti_unici = set()\n",
    "ingredient_counter = Counter()\n",
    "\n",
    "for ingr_str in df['NER']:\n",
    "    try:\n",
    "        lista_ingredienti = ast.literal_eval(ingr_str)\n",
    "        for ingrediente in lista_ingredienti:\n",
    "            ingrediente_pulito = ingrediente.lower().strip()\n",
    "            ingredienti_unici.add(ingrediente_pulito)\n",
    "            ingredient_counter[ingrediente_pulito] += 1\n",
    "    except:\n",
    "        continue\n",
    "\n",
    "print(f\"Total number of unique ingredients: {len(ingredienti_unici)}\\n\")\n",
    "\n",
    "print(\"Top 10 ingredients by frequency:\")\n",
    "for ingrediente, count in ingredient_counter.most_common(10):\n",
    "    print(f\"{ingrediente}: {count} times\")"
   ]
  },
  {
   "cell_type": "markdown",
   "id": "db087836",
   "metadata": {
    "papermill": {
     "duration": 0.006404,
     "end_time": "2025-04-28T12:12:35.464987",
     "exception": false,
     "start_time": "2025-04-28T12:12:35.458583",
     "status": "completed"
    },
    "tags": []
   },
   "source": [
    "**vocabulary analysis**"
   ]
  },
  {
   "cell_type": "markdown",
   "id": "8b193856",
   "metadata": {
    "papermill": {
     "duration": 0.00637,
     "end_time": "2025-04-28T12:12:35.477710",
     "exception": false,
     "start_time": "2025-04-28T12:12:35.471340",
     "status": "completed"
    },
    "tags": []
   },
   "source": [
    "How big is the vocabulary of the collection? How big is the vocabulary of a document on average? \n",
    "\n",
    "While the analysis on ingredients has already been done, the vocabulary for recipe instructions has not. Let us therefore try to extract some useful information."
   ]
  },
  {
   "cell_type": "code",
   "execution_count": 18,
   "id": "507ae670",
   "metadata": {
    "execution": {
     "iopub.execute_input": "2025-04-28T12:12:35.492165Z",
     "iopub.status.busy": "2025-04-28T12:12:35.491434Z",
     "iopub.status.idle": "2025-04-28T12:12:37.161497Z",
     "shell.execute_reply": "2025-04-28T12:12:37.160666Z"
    },
    "papermill": {
     "duration": 1.678925,
     "end_time": "2025-04-28T12:12:37.162949",
     "exception": false,
     "start_time": "2025-04-28T12:12:35.484024",
     "status": "completed"
    },
    "tags": []
   },
   "outputs": [
    {
     "name": "stderr",
     "output_type": "stream",
     "text": [
      "[nltk_data] Downloading package stopwords to /usr/share/nltk_data...\n",
      "[nltk_data]   Package stopwords is already up-to-date!\n"
     ]
    },
    {
     "data": {
      "text/plain": [
       "True"
      ]
     },
     "execution_count": 18,
     "metadata": {},
     "output_type": "execute_result"
    }
   ],
   "source": [
    "import nltk\n",
    "import pandas as pd\n",
    "import ast\n",
    "\n",
    "nltk.download('stopwords')"
   ]
  },
  {
   "cell_type": "code",
   "execution_count": 19,
   "id": "194d2d9e",
   "metadata": {
    "execution": {
     "iopub.execute_input": "2025-04-28T12:12:37.178126Z",
     "iopub.status.busy": "2025-04-28T12:12:37.177674Z",
     "iopub.status.idle": "2025-04-28T12:12:37.184336Z",
     "shell.execute_reply": "2025-04-28T12:12:37.183484Z"
    },
    "papermill": {
     "duration": 0.015274,
     "end_time": "2025-04-28T12:12:37.185566",
     "exception": false,
     "start_time": "2025-04-28T12:12:37.170292",
     "status": "completed"
    },
    "tags": []
   },
   "outputs": [
    {
     "name": "stdout",
     "output_type": "stream",
     "text": [
      "English stopwords:\n",
      "['a', 'about', 'above', 'after', 'again', 'against', 'ain', 'all', 'am', 'an', 'and', 'any', 'are', 'aren', \"aren't\", 'as', 'at', 'be', 'because', 'been', 'before', 'being', 'below', 'between', 'both', 'but', 'by', 'can', 'couldn', \"couldn't\", 'd', 'did', 'didn', \"didn't\", 'do', 'does', 'doesn', \"doesn't\", 'doing', 'don', \"don't\", 'down', 'during', 'each', 'few', 'for', 'from', 'further', 'had', 'hadn', \"hadn't\", 'has', 'hasn', \"hasn't\", 'have', 'haven', \"haven't\", 'having', 'he', \"he'd\", \"he'll\", 'her', 'here', 'hers', 'herself', \"he's\", 'him', 'himself', 'his', 'how', 'i', \"i'd\", 'if', \"i'll\", \"i'm\", 'in', 'into', 'is', 'isn', \"isn't\", 'it', \"it'd\", \"it'll\", \"it's\", 'its', 'itself', \"i've\", 'just', 'll', 'm', 'ma', 'me', 'mightn', \"mightn't\", 'more', 'most', 'mustn', \"mustn't\", 'my', 'myself', 'needn', \"needn't\", 'no', 'nor', 'not', 'now', 'o', 'of', 'off', 'on', 'once', 'only', 'or', 'other', 'our', 'ours', 'ourselves', 'out', 'over', 'own', 're', 's', 'same', 'shan', \"shan't\", 'she', \"she'd\", \"she'll\", \"she's\", 'should', 'shouldn', \"shouldn't\", \"should've\", 'so', 'some', 'such', 't', 'than', 'that', \"that'll\", 'the', 'their', 'theirs', 'them', 'themselves', 'then', 'there', 'these', 'they', \"they'd\", \"they'll\", \"they're\", \"they've\", 'this', 'those', 'through', 'to', 'too', 'under', 'until', 'up', 've', 'very', 'was', 'wasn', \"wasn't\", 'we', \"we'd\", \"we'll\", \"we're\", 'were', 'weren', \"weren't\", \"we've\", 'what', 'when', 'where', 'which', 'while', 'who', 'whom', 'why', 'will', 'with', 'won', \"won't\", 'wouldn', \"wouldn't\", 'y', 'you', \"you'd\", \"you'll\", 'your', \"you're\", 'yours', 'yourself', 'yourselves', \"you've\"]\n"
     ]
    }
   ],
   "source": [
    "from nltk.corpus import stopwords\n",
    "print('English stopwords:')\n",
    "print(stopwords.words('english'))"
   ]
  },
  {
   "cell_type": "code",
   "execution_count": 20,
   "id": "5a330aa4",
   "metadata": {
    "execution": {
     "iopub.execute_input": "2025-04-28T12:12:37.199603Z",
     "iopub.status.busy": "2025-04-28T12:12:37.199350Z",
     "iopub.status.idle": "2025-04-28T12:13:30.951951Z",
     "shell.execute_reply": "2025-04-28T12:13:30.951143Z"
    },
    "papermill": {
     "duration": 53.761384,
     "end_time": "2025-04-28T12:13:30.953566",
     "exception": false,
     "start_time": "2025-04-28T12:12:37.192182",
     "status": "completed"
    },
    "tags": []
   },
   "outputs": [],
   "source": [
    "#Flatten the list of instraction\n",
    "directions_col = df['directions'].dropna().apply(ast.literal_eval)\n",
    "all_instructions_list = [instruction for instructions in directions_col for instruction in instructions]"
   ]
  },
  {
   "cell_type": "markdown",
   "id": "58da6cce",
   "metadata": {
    "papermill": {
     "duration": 0.006641,
     "end_time": "2025-04-28T12:13:30.967604",
     "exception": false,
     "start_time": "2025-04-28T12:13:30.960963",
     "status": "completed"
    },
    "tags": []
   },
   "source": [
    "From here on I work on a subset because the full dataset is too heavy, subset extracted completely randomly"
   ]
  },
  {
   "cell_type": "code",
   "execution_count": 21,
   "id": "1461afb3",
   "metadata": {
    "execution": {
     "iopub.execute_input": "2025-04-28T12:13:30.982963Z",
     "iopub.status.busy": "2025-04-28T12:13:30.982321Z",
     "iopub.status.idle": "2025-04-28T12:13:47.164666Z",
     "shell.execute_reply": "2025-04-28T12:13:47.163661Z"
    },
    "papermill": {
     "duration": 16.191727,
     "end_time": "2025-04-28T12:13:47.166290",
     "exception": false,
     "start_time": "2025-04-28T12:13:30.974563",
     "status": "completed"
    },
    "tags": []
   },
   "outputs": [
    {
     "name": "stdout",
     "output_type": "stream",
     "text": [
      "Top 10 most common words:\n",
      "add: 2708\n",
      "minutes: 2474\n",
      "heat: 1591\n",
      "mix: 1153\n",
      "mixture: 1134\n",
      "pan: 1128\n",
      "stir: 1119\n",
      "cook: 1090\n",
      "bowl: 1080\n",
      "1: 1064\n"
     ]
    }
   ],
   "source": [
    "import re\n",
    "import random\n",
    "from nltk.corpus import stopwords\n",
    "from nltk.probability import FreqDist\n",
    "\n",
    "division = 1000\n",
    "\n",
    "subset_size = len(all_instructions_list) // division  \n",
    "subset_instructions = random.sample(all_instructions_list, subset_size)\n",
    "\n",
    "full_text = ' '.join(subset_instructions)\n",
    "\n",
    "full_text = full_text.lower()\n",
    "full_text = re.sub(r'[^a-zA-Z0-9\\s]', '', full_text)  # keep only letters, numbers, spaces\n",
    "\n",
    "words = full_text.split()\n",
    "\n",
    "words_nostopwords = [w for w in words if w not in stopwords.words('english')]\n",
    "\n",
    "fdist = FreqDist(words_nostopwords)\n",
    "\n",
    "print(\"Top 10 most common words:\")\n",
    "for word, freq in fdist.most_common(10):\n",
    "    print(f\"{word}: {freq}\")\n"
   ]
  },
  {
   "cell_type": "code",
   "execution_count": 22,
   "id": "880998d3",
   "metadata": {
    "execution": {
     "iopub.execute_input": "2025-04-28T12:13:47.181617Z",
     "iopub.status.busy": "2025-04-28T12:13:47.181348Z",
     "iopub.status.idle": "2025-04-28T12:13:47.212209Z",
     "shell.execute_reply": "2025-04-28T12:13:47.211106Z"
    },
    "papermill": {
     "duration": 0.040148,
     "end_time": "2025-04-28T12:13:47.213589",
     "exception": false,
     "start_time": "2025-04-28T12:13:47.173441",
     "status": "completed"
    },
    "tags": []
   },
   "outputs": [
    {
     "name": "stdout",
     "output_type": "stream",
     "text": [
      "Number of emoticons: <FreqDist with 1 samples and 1 outcomes>\n"
     ]
    }
   ],
   "source": [
    "#Find emoticons, if any\n",
    "\n",
    "emoticon_regex = '(\\:\\w+\\:|\\<[\\/\\\\]?3|[\\(\\)\\\\\\D|\\*\\$][\\-\\^]?[\\:\\;\\=]|[\\:\\;\\=B8][\\-\\^]?[3DOPp\\@\\$\\*\\\\\\)\\(\\/\\|])(?=\\s|[\\!\\.\\?]|$)'\n",
    "emoticons_in_pos = re.findall(emoticon_regex,full_text)\n",
    "counts = nltk.FreqDist(emoticons_in_pos)\n",
    "print(f\"Number of emoticons: {counts}\")"
   ]
  },
  {
   "cell_type": "code",
   "execution_count": 23,
   "id": "b307f22b",
   "metadata": {
    "execution": {
     "iopub.execute_input": "2025-04-28T12:13:47.229296Z",
     "iopub.status.busy": "2025-04-28T12:13:47.228487Z",
     "iopub.status.idle": "2025-04-28T12:13:47.232045Z",
     "shell.execute_reply": "2025-04-28T12:13:47.231428Z"
    },
    "papermill": {
     "duration": 0.012409,
     "end_time": "2025-04-28T12:13:47.233352",
     "exception": false,
     "start_time": "2025-04-28T12:13:47.220943",
     "status": "completed"
    },
    "tags": []
   },
   "outputs": [],
   "source": [
    "#"
   ]
  }
 ],
 "metadata": {
  "kaggle": {
   "accelerator": "none",
   "dataSources": [
    {
     "datasetId": 7240981,
     "sourceId": 11546547,
     "sourceType": "datasetVersion"
    }
   ],
   "dockerImageVersionId": 31012,
   "isGpuEnabled": false,
   "isInternetEnabled": true,
   "language": "python",
   "sourceType": "notebook"
  },
  "kernelspec": {
   "display_name": "Python 3",
   "language": "python",
   "name": "python3"
  },
  "language_info": {
   "codemirror_mode": {
    "name": "ipython",
    "version": 3
   },
   "file_extension": ".py",
   "mimetype": "text/x-python",
   "name": "python",
   "nbconvert_exporter": "python",
   "pygments_lexer": "ipython3",
   "version": "3.11.11"
  },
  "papermill": {
   "default_parameters": {},
   "duration": 273.057319,
   "end_time": "2025-04-28T12:13:50.059161",
   "environment_variables": {},
   "exception": null,
   "input_path": "__notebook__.ipynb",
   "output_path": "__notebook__.ipynb",
   "parameters": {},
   "start_time": "2025-04-28T12:09:17.001842",
   "version": "2.6.0"
  }
 },
 "nbformat": 4,
 "nbformat_minor": 5
}
