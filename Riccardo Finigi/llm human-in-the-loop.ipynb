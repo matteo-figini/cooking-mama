{
 "cells": [
  {
   "cell_type": "code",
   "execution_count": 83,
   "id": "f96ae20f",
   "metadata": {},
   "outputs": [
    {
     "name": "stdout",
     "output_type": "stream",
     "text": [
      "C:\\Program Files\\Java\\jdk-24\n"
     ]
    }
   ],
   "source": [
    "import os\n",
    "\n",
    "os.environ[\"JAVA_HOME\"] = \"C:\\\\Program Files\\\\Java\\\\jdk-24\"\n",
    "print(os.environ.get(\"JAVA_HOME\"))\n",
    "\n",
    "os.environ[\"OPENAI_API_KEY\"] = \"sk-socialthingum-Lzt6aXn0b7k2ia0tjcmqT3BlbkFJLWlJZwLsUuKQ6OSfzwgC\""
   ]
  },
  {
   "cell_type": "code",
   "execution_count": 84,
   "id": "c9f9abe7",
   "metadata": {},
   "outputs": [],
   "source": [
    "from langchain_core.output_parsers import StrOutputParser\n",
    "from langchain_core.runnables import RunnableSequence\n",
    "from langchain.output_parsers import ResponseSchema, StructuredOutputParser\n",
    "from langchain_openai import ChatOpenAI\n",
    "from langchain_core.prompts import ChatPromptTemplate\n",
    "import pandas as pd\n",
    "import pyterrier as pt  \n",
    "import json\n",
    "\n",
    "from langchain_core.messages import HumanMessage\n",
    "from sqlalchemy import text\n",
    "from google.cloud.sql.connector import Connector, IPTypes\n",
    "from typing import Any\n",
    "from typing import Annotated, Literal\n",
    "from pydantic import BaseModel, Field\n",
    "from typing_extensions import TypedDict\n",
    "from langgraph.types import interrupt, Command\n",
    "from langchain.output_parsers import StructuredOutputParser, ResponseSchema\n",
    "from langchain_core.tools import tool\n",
    "from langgraph.prebuilt import ToolNode\n",
    "from langchain_core.messages import AIMessage\n",
    "from langchain_openai import ChatOpenAI\n",
    "from langgraph.graph import END, StateGraph, START\n",
    "from langgraph.graph.message import AnyMessage, add_messages\n",
    "from langchain_core.messages import ToolMessage\n",
    "from langchain_core.runnables import RunnableLambda, RunnableWithFallbacks\n",
    "from langchain_openai import ChatOpenAI\n",
    "from langchain_core.prompts import ChatPromptTemplate\n"
   ]
  },
  {
   "cell_type": "code",
   "execution_count": 85,
   "id": "eebac9ba",
   "metadata": {},
   "outputs": [
    {
     "name": "stderr",
     "output_type": "stream",
     "text": [
      "C:\\Users\\figio\\AppData\\Local\\Temp\\ipykernel_2832\\3057724015.py:1: DeprecationWarning: Call to deprecated function (or staticmethod) started. (use pt.java.started() instead) -- Deprecated since version 0.11.0.\n",
      "  if not pt.started():\n"
     ]
    }
   ],
   "source": [
    "if not pt.started():\n",
    "    pt.init()"
   ]
  },
  {
   "cell_type": "markdown",
   "id": "a555cd2f",
   "metadata": {},
   "source": [
    "## Setup"
   ]
  },
  {
   "cell_type": "code",
   "execution_count": 86,
   "id": "3c3846a8",
   "metadata": {},
   "outputs": [
    {
     "name": "stderr",
     "output_type": "stream",
     "text": [
      "<>:1: SyntaxWarning: invalid escape sequence '\\D'\n",
      "<>:1: SyntaxWarning: invalid escape sequence '\\D'\n",
      "C:\\Users\\figio\\AppData\\Local\\Temp\\ipykernel_2832\\3405669283.py:1: SyntaxWarning: invalid escape sequence '\\D'\n",
      "  df = pd.read_csv(\"C:\\\\Users\\\\figio\\Desktop\\\\tryKaggle\\\\archive\\\\sampled_dataset.csv\")\n"
     ]
    },
    {
     "name": "stdout",
     "output_type": "stream",
     "text": [
      "Index(['Unnamed: 0', 'title', 'ingredients', 'directions', 'link', 'source',\n",
      "       'NER', 'dir_word_count', 'ner_len'],\n",
      "      dtype='object')\n",
      "        id                         title  \\\n",
      "0  2015528  Marinated Flank Steak Recipe   \n",
      "1  1608734           French Chicken Stew   \n",
      "2   778500                Glazed Carrots   \n",
      "3  1334975               Moms Pie Dough    \n",
      "4   116562      Pretzel Salad Or Dessert   \n",
      "\n",
      "                                         ingredients  \\\n",
      "0  [\"1 1/2 pound flank steak\", \"1/2 c. finely min...   \n",
      "1  [\"1 tablespoon rosemary\", \"1 teaspoon thyme\", ...   \n",
      "2  [\"3 to 4 carrots\", \"1 1/2 Tbsp. butter\", \"1/3 ...   \n",
      "3  [\"4.5 Cups Flour\", \"1.5 Tsp Salt\", \"Pinch Baki...   \n",
      "4  [\"2 c. crushed small thin pretzels (sticks)\", ...   \n",
      "\n",
      "                                          directions  \\\n",
      "0  ['Remove tenderloin from steak.', 'Score meat....   \n",
      "1  [\"combine all ingredients in slow cooker (6 qu...   \n",
      "2  ['Cook 3 to 4 carrots; cut crosswise in 1-inch...   \n",
      "3  ['Mix all dry ingredients in a bowl.', '', 'Ad...   \n",
      "4  ['Mix and press in baking pan, approximately 1...   \n",
      "\n",
      "                                                link     source  \\\n",
      "0  cookeatshare.com/recipes/marinated-flank-steak...  Recipes1M   \n",
      "1  www.yummly.com/recipe/French-Chicken-Stew-1433580   Gathered   \n",
      "2   www.cookbooks.com/Recipe-Details.aspx?id=1011892   Gathered   \n",
      "3  www.epicurious.com/recipes/member/views/moms-p...   Gathered   \n",
      "4    www.cookbooks.com/Recipe-Details.aspx?id=106723   Gathered   \n",
      "\n",
      "                                                 NER  dir_word_count  ner_len  \n",
      "0  [\"flank steak\", \"green onions\", \"red wine\", \"s...              31       10  \n",
      "1  [\"rosemary\", \"thyme\", \"bay leaves\", \"paprika\",...             122       17  \n",
      "2  [\"carrots\", \"butter\", \"brown sugar\", \"lemon ri...              38        4  \n",
      "3  [\"Flour\", \"Salt\", \"Baking Powder\", \"Sugar\", \"C...              44        8  \n",
      "4                     [\"thin pretzels\", \"margarine\"]              16        2  \n"
     ]
    }
   ],
   "source": [
    "df = pd.read_csv(\"C:\\\\Users\\\\figio\\Desktop\\\\tryKaggle\\\\archive\\\\sampled_dataset.csv\")\n",
    "print(df.columns)\n",
    "df = df.rename(columns={'Unnamed: 0': 'id'})\n",
    "print(df.head())"
   ]
  },
  {
   "cell_type": "markdown",
   "id": "dc43e60a",
   "metadata": {},
   "source": [
    "## Objects "
   ]
  },
  {
   "cell_type": "code",
   "execution_count": 87,
   "id": "3bde2366",
   "metadata": {},
   "outputs": [],
   "source": [
    "llm = ChatOpenAI(model=\"gpt-4\", temperature=0.7)"
   ]
  },
  {
   "cell_type": "code",
   "execution_count": 88,
   "id": "1f9ad8f4",
   "metadata": {},
   "outputs": [],
   "source": [
    "class State(TypedDict):\n",
    "    messages: Annotated[list[AnyMessage], add_messages]"
   ]
  },
  {
   "cell_type": "markdown",
   "id": "ce195c3d",
   "metadata": {},
   "source": [
    "## RAG"
   ]
  },
  {
   "cell_type": "code",
   "execution_count": 89,
   "id": "a432bb3e",
   "metadata": {},
   "outputs": [
    {
     "name": "stdout",
     "output_type": "stream",
     "text": [
      "✔️ Index already exists. Using existing index.\n",
      "17:23:13.114 [main] WARN org.terrier.structures.FSADocumentIndex -- This index has fields, but FSADocumentIndex is used (which stores fields lengths on disk); If using field-based models such as BM25F, change to index.document.class in the index  properties file to FSAFieldDocumentIndex or FSADocumentIndexInMemFields to support efficient retrieval. If you don't use (e.g.) BM25F, this warning can be ignored\n"
     ]
    }
   ],
   "source": [
    "# Percorso assoluto all'indice\n",
    "index_path = r\"C:\\\\Users\\\\figio\\\\Desktop\\\\cooking-mama\\\\Riccardo Finigi\\\\index_fields\"\n",
    "\n",
    "# Verifica se l'indice esiste già\n",
    "if os.path.exists(index_path) and os.path.exists(os.path.join(index_path, \"data.properties\")):\n",
    "    print(\"✔️ Index already exists. Using existing index.\")\n",
    "    indexref = index_path\n",
    "else:\n",
    "    print(\"🛠️ Index not found. Building new index...\")\n",
    "\n",
    "    documents_fields = [\n",
    "        {\n",
    "            'docno': str(row['id']),  # usa l'id reale\n",
    "            'title': row['title'],\n",
    "            'ingredients': row['ingredients'],\n",
    "        }\n",
    "        for _, row in df.iterrows()\n",
    "    ]\n",
    "\n",
    "    os.makedirs(index_path, exist_ok=True)\n",
    "\n",
    "    indexer_fields = pt.IterDictIndexer(index_path)\n",
    "    indexref = indexer_fields.index(\n",
    "        documents_fields,\n",
    "        fields=[\"title\", \"ingredients\"],\n",
    "        meta={'docno': 20, 'title': 512, 'ingredients': 1024}\n",
    "    )\n",
    "\n",
    "# Costruisci oggetto Index e motore di retrieval\n",
    "index_fields = pt.IndexFactory.of(indexref)\n",
    "bm25_ingredients = pt.terrier.Retriever(\n",
    "    index_fields,\n",
    "    wmodel=\"BM25\",\n",
    "    controls={\"w\": \"1.0\"},\n",
    "    metadata=[\"docno\", \"ingredients\"],\n",
    "    field=\"ingredients\"\n",
    ")\n",
    "\n"
   ]
  },
  {
   "cell_type": "code",
   "execution_count": 90,
   "id": "1ba021e4",
   "metadata": {},
   "outputs": [
    {
     "name": "stdout",
     "output_type": "stream",
     "text": [
      "✔️ Index already exists. Using existing index.\n",
      "17:23:13.336 [main] WARN org.terrier.structures.FSADocumentIndex -- This index has fields, but FSADocumentIndex is used (which stores fields lengths on disk); If using field-based models such as BM25F, change to index.document.class in the index  properties file to FSAFieldDocumentIndex or FSADocumentIndexInMemFields to support efficient retrieval. If you don't use (e.g.) BM25F, this warning can be ignored\n"
     ]
    }
   ],
   "source": [
    "index_path_directions = r\"C:\\\\Users\\\\figio\\\\Desktop\\\\cooking-mama\\\\Riccardo Finigi\\\\index_directions\"\n",
    "\n",
    "\n",
    "if os.path.exists(index_path_directions) and os.path.exists(os.path.join(index_path_directions, \"data.properties\")):\n",
    "    print(\"✔️ Index already exists. Using existing index.\")\n",
    "    indexref_2 = index_path_directions\n",
    "else:\n",
    "    print(\"🛠️ Index not found. Building new index fir directions...\")\n",
    "    \n",
    "    documents_fields = [\n",
    "        {\n",
    "            'docno': str(row['id']),  # usa l'id reale\n",
    "            'title': row['title'],\n",
    "            'directions': row['directions'],\n",
    "        }\n",
    "        for _, row in df.iterrows()\n",
    "    ]\n",
    "\n",
    "    os.makedirs(index_path_directions, exist_ok=True)\n",
    "\n",
    "    indexer_fields = pt.IterDictIndexer(index_path_directions)\n",
    "    indexref_2 = indexer_fields.index(\n",
    "        documents_fields,\n",
    "        fields=[\"title\", \"directions\"],\n",
    "        meta={'docno': 20, 'title': 512, 'directions': 4096}\n",
    "    )\n",
    "    \n",
    "\n",
    "# Costruisci oggetto Index e motore di retrieval\n",
    "index_fields = pt.IndexFactory.of(indexref_2)\n",
    "bm25_directions = pt.terrier.Retriever(\n",
    "    index_fields,\n",
    "    wmodel=\"BM25\",\n",
    "    controls={\"w\": \"1.0\"},\n",
    "    metadata=[\"docno\", \"directions\"],\n",
    "    field=\"directions\"\n",
    ")"
   ]
  },
  {
   "cell_type": "markdown",
   "id": "d4cd6cb5",
   "metadata": {},
   "source": [
    "## Prompts"
   ]
  },
  {
   "cell_type": "markdown",
   "id": "f1b44fff",
   "metadata": {},
   "source": [
    "### 1"
   ]
  },
  {
   "cell_type": "code",
   "execution_count": 91,
   "id": "265bdc54",
   "metadata": {},
   "outputs": [],
   "source": [
    "prompt_system_ingrs = \"\"\"\n",
    "You are a creative and helpful cooking assistant.\n",
    "\n",
    "The user will provide a list of available ingredients.  \n",
    "Your task is to create a complete and realistic recipe using **only those ingredients** — do not invent or add anything not included in the list.\n",
    "\n",
    "The recipe must include:\n",
    "- A clear and descriptive title\n",
    "- Step-by-step preparation instructions\n",
    "\n",
    "Important rules:\n",
    "- Do NOT use any ingredient that is not listed.\n",
    "- If a necessary item (e.g., salt, oil, water) is missing, do NOT assume it's available — exclude it.\n",
    "- You can adjust the form or quantity of the ingredients (e.g., chop, grate, blend), but not add new ones.\n",
    "- If the ingredients are unusual together, invent a plausible or creative dish that still makes good use of them.\n",
    "\n",
    "Output your response in the following JSON format:\n",
    "\n",
    "{{\n",
    "\t\"title\": string  // The title of the recipe\n",
    "\t\"list_of_steps\": string  // A list of steps to prepare the dish, only the list\n",
    "}}\n",
    "\n",
    "DO NOT return any other text or explanation, just the JSON.\n",
    "\n",
    "Example, take some ispiration from this:\n",
    "{Example}\n",
    "\n",
    "\"\"\""
   ]
  },
  {
   "cell_type": "code",
   "execution_count": 92,
   "id": "5204a208",
   "metadata": {},
   "outputs": [],
   "source": [
    "response_schemas_2 = [\n",
    "    ResponseSchema(\n",
    "        name='title',\n",
    "        description='The title of the recipe',\n",
    "    ),\n",
    "    ResponseSchema(\n",
    "        name='list_of_steps',\n",
    "        description='A list of steps to prepare the dish, only the list',\n",
    "    )\n",
    "]"
   ]
  },
  {
   "cell_type": "code",
   "execution_count": 93,
   "id": "fc90143d",
   "metadata": {},
   "outputs": [],
   "source": [
    "output_parser_2 = StructuredOutputParser.from_response_schemas(response_schemas_2)"
   ]
  },
  {
   "cell_type": "code",
   "execution_count": 94,
   "id": "a28bc3e0",
   "metadata": {},
   "outputs": [],
   "source": [
    "prompt_system_ingrs_ = ChatPromptTemplate.from_messages(\n",
    "    [('system', prompt_system_ingrs), ('user', '{messages}')]\n",
    ").partial(format_instructions=output_parser_2.get_format_instructions())"
   ]
  },
  {
   "cell_type": "markdown",
   "id": "2a832840",
   "metadata": {},
   "source": [
    "### 2"
   ]
  },
  {
   "cell_type": "code",
   "execution_count": 95,
   "id": "88d5dae6",
   "metadata": {},
   "outputs": [],
   "source": [
    "prompts_rigeneration_ask = \"\"\"\n",
    "You are a cooking expert, and your task is to improve the recipe. The recipe has already been generated and is visible in the message list. \n",
    "Your job is to determine whether additional information is needed from a tool to improve the recipe, or if you should proceed with a new generation using the user's corrections. \n",
    "\n",
    "Your task is to decide whether to use a tool or not. There are two possible tools available:\n",
    "- `retrieve_by_ingredients`: a tool that retrieves recipes based on the ingredients provided by the user.\n",
    "- `retrieve_by_directions`: a tool that retrieves recipes based on the directions provided for preparing the dish.\n",
    "\n",
    "Output your response in the following JSON format:\n",
    "{{\n",
    "    \"tool\": \"retrieve_by_ingredients\" or \"retrieve_by_directions\",\n",
    "    \"reasoning\": \"message to the user\",\n",
    "    \"action\": \"what change in the recipe\"\n",
    "}}\n",
    "\n",
    "call always the tool, even if you don't need it, to increase the information in the recipe.\n",
    "\"\"\""
   ]
  },
  {
   "cell_type": "code",
   "execution_count": 96,
   "id": "11a87d45",
   "metadata": {},
   "outputs": [],
   "source": [
    "prompts_rigeneration_ = ChatPromptTemplate.from_messages(\n",
    "    [('system', prompts_rigeneration_ask), ('user', '{messages}')]\n",
    ")"
   ]
  },
  {
   "cell_type": "markdown",
   "id": "5e5893cd",
   "metadata": {},
   "source": [
    "### 3"
   ]
  },
  {
   "cell_type": "code",
   "execution_count": 97,
   "id": "773a219f",
   "metadata": {},
   "outputs": [],
   "source": [
    "prompt_regen = \"\"\"\n",
    "You are a creative and helpful cooking assistant.\n",
    "\n",
    "The user will provide a list of message.  Use the messages to retrieve all the information that is needed to regenerate the recipe, because this is a regeneration following new directions.\n",
    "Your task is to create a complete and realistic recipe using **only those ingredients** — do not invent or add anything not included in the list.\n",
    "\n",
    "The recipe must include:\n",
    "- A clear and descriptive title\n",
    "- Step-by-step preparation instructions\n",
    "\n",
    "Important rules:\n",
    "- Do NOT use any ingredient that is not listed.\n",
    "- If a necessary item (e.g., salt, oil, water) is missing, do NOT assume it's available — exclude it.\n",
    "- You can adjust the form or quantity of the ingredients (e.g., chop, grate, blend), but not add new ones.\n",
    "- If the ingredients are unusual together, invent a plausible or creative dish that still makes good use of them.\n",
    "\n",
    "Output your response in the following JSON format:\n",
    "\n",
    "{{\n",
    "\t\"title\": string  // The title of the recipe\n",
    "\t\"list_of_steps\": string  // A list of steps to prepare the dish, only the list\n",
    "}}\n",
    "\n",
    "\"\"\""
   ]
  },
  {
   "cell_type": "code",
   "execution_count": 98,
   "id": "2f191add",
   "metadata": {},
   "outputs": [],
   "source": [
    "prompt_regen_ = ChatPromptTemplate.from_messages(\n",
    "    [('system', prompt_regen), ('user', '{messages}')]\n",
    ").partial(format_instructions=output_parser_2.get_format_instructions())"
   ]
  },
  {
   "cell_type": "markdown",
   "id": "a59e49be",
   "metadata": {},
   "source": [
    "## Tool"
   ]
  },
  {
   "cell_type": "code",
   "execution_count": 99,
   "id": "e6d7a88b",
   "metadata": {},
   "outputs": [],
   "source": [
    "def create_tool_node_with_fallback(tools: list) -> RunnableWithFallbacks[Any, dict]:\n",
    "    \"\"\"\n",
    "    Create a ToolNode with a fallback to handle errors and surface them to the agent.\n",
    "    1. This creates a node in a LangGraph that can execute a list of tools (which are functions, APIs, or other callable objects).\n",
    "    2. With_fallbacksensuring: if an error occurs, the agent receives a structured error message instead of failing.This adds a fallback mechanism in case any tool in tools fails.\n",
    "    3. Wraps the handle_tool_error function inside a RunnableLambda, making it compatible with LangGraph's execution model.\n",
    "\n",
    "    I nodi che utilizzano \"funzioni esterne\" sono visti come uno o più tools. Questi tool sono chiamati in successione poi\n",
    "    \"\"\"\n",
    "    return ToolNode(tools).with_fallbacks(\n",
    "        [RunnableLambda(handle_tool_error)], exception_key=\"error\"\n",
    "    )\n",
    "\n",
    "\n",
    "def handle_tool_error(state) -> dict:\n",
    "    error = state.get(\"error\")\n",
    "    tool_calls = state[\"messages\"][-1].tool_calls\n",
    "    return {\n",
    "        \"messages\": [\n",
    "            ToolMessage(\n",
    "                content=f\"Error: {repr(error)}\\n please fix your mistakes.\",\n",
    "                tool_call_id=tc[\"id\"],\n",
    "            )\n",
    "            for tc in tool_calls\n",
    "        ]\n",
    "    }"
   ]
  },
  {
   "cell_type": "code",
   "execution_count": 100,
   "id": "a9c85058",
   "metadata": {},
   "outputs": [],
   "source": [
    "@tool\n",
    "def retrive_by_ingredients(ingredients: str):\n",
    "    \"\"\"Retrieves a recipe based on the provided ingredients.\"\"\"\n",
    "    # Use the bm25_ingredients to search for recipes based on the ingredients\n",
    "    result = bm25_ingredients.search(ingredients)\n",
    "    if result.empty:\n",
    "        return \"No recipes found.\"\n",
    "    \n",
    "    id = result.iloc[0][\"docno\"]\n",
    "    id = int(id)  # converti in intero\n",
    "\n",
    "    return df[df[\"id\"] == id]"
   ]
  },
  {
   "cell_type": "code",
   "execution_count": 101,
   "id": "2ad70417",
   "metadata": {},
   "outputs": [],
   "source": [
    "@tool\n",
    "def retrieve_by_ingredients(ingredients: str, num_recipes: int):\n",
    "    \"\"\"\n",
    "    Retrieves a specified number of recipes based on the provided ingredients.\n",
    "\n",
    "    Parameters:\n",
    "    - ingredients (str): A string representing the ingredients to search for in the recipes.\n",
    "      Ingredients should be separated by a comma and a space (e.g., \"chicken, garlic, pasta\").\n",
    "    - num_recipes (int): The number of recipes to be returned as search results.\n",
    "      This parameter defines how many recipes are returned. It can be any positive integer.\n",
    "\n",
    "    Returns:\n",
    "    - List[DataFrame]: A list of DataFrames, each representing a recipe. Each DataFrame contains\n",
    "      the details of a recipe that matches the provided ingredients.\n",
    "      If there are fewer recipes than requested, the function will return only those found.\n",
    "      If no recipes are found, a message saying \"No recipes found.\" will be returned.\n",
    "\n",
    "    \"\"\"\n",
    "\n",
    "    # Use the bm25_ingredients to search for recipes based on the ingredients\n",
    "    result = bm25_ingredients.search(ingredients)\n",
    "    \n",
    "    if result.empty:\n",
    "        return \"No recipes found.\"\n",
    "\n",
    "    # Prepara una lista di ricette\n",
    "    recipes = []\n",
    "    \n",
    "    # Itera attraverso i risultati trovati, limitato al numero richiesto di ricette\n",
    "    for idx in result.index[:num_recipes]:  # Prendi solo le prime N ricette\n",
    "        recipe_id = int(result.loc[idx, \"docno\"])  # Converte l'id in intero\n",
    "        recipe = df[df[\"id\"] == recipe_id]\n",
    "        recipes.append(recipe)\n",
    "\n",
    "    # Restituisce la lista delle ricette trovate (può essere meno di N se non ci sono abbastanza risultati)\n",
    "    return recipes\n"
   ]
  },
  {
   "cell_type": "code",
   "execution_count": 102,
   "id": "8bc51da6",
   "metadata": {},
   "outputs": [],
   "source": [
    "@tool\n",
    "def retrieve_by_directions(directions: str, num_recipes: int):\n",
    "    \"\"\"\n",
    "    Retrieves a specified number of recipes based on the provided directions.\n",
    "\n",
    "    Parameters:\n",
    "    - directions (str): A string representing the directions to search for in the recipes.\n",
    "    - num_recipes (int): The number of recipes to be returned as search results.\n",
    "      This parameter defines how many recipes are returned. It can be any positive integer.\n",
    "\n",
    "    Returns:\n",
    "    - List[DataFrame]: A list of DataFrames, each representing a recipe. Each DataFrame contains\n",
    "      the details of a recipe that matches the provided ingredients.\n",
    "      If there are fewer recipes than requested, the function will return only those found.\n",
    "      If no recipes are found, a message saying \"No recipes found.\" will be returned.\n",
    "\n",
    "    \"\"\"\n",
    "\n",
    "    # Use the bm25_ingredients to search for recipes based on the ingredients\n",
    "    result = bm25_ingredients.search(directions)\n",
    "    \n",
    "    if result.empty:\n",
    "        return \"No recipes found.\"\n",
    "\n",
    "    # Prepara una lista di ricette\n",
    "    recipes = []\n",
    "    \n",
    "    # Itera attraverso i risultati trovati, limitato al numero richiesto di ricette\n",
    "    for idx in result.index[:num_recipes]:  # Prendi solo le prime N ricette\n",
    "        recipe_id = int(result.loc[idx, \"docno\"])  # Converte l'id in intero\n",
    "        recipe = df[df[\"id\"] == recipe_id]\n",
    "        recipes.append(recipe)\n",
    "\n",
    "    # Restituisce la lista delle ricette trovate (può essere meno di N se non ci sono abbastanza risultati)\n",
    "    return recipes\n"
   ]
  },
  {
   "cell_type": "markdown",
   "id": "e42526ca",
   "metadata": {},
   "source": [
    "## Chain"
   ]
  },
  {
   "cell_type": "code",
   "execution_count": 103,
   "id": "8e727d9f",
   "metadata": {},
   "outputs": [],
   "source": [
    "recipe_chain_2 = prompt_system_ingrs_ | llm | output_parser_2"
   ]
  },
  {
   "cell_type": "code",
   "execution_count": 104,
   "id": "95bc928f",
   "metadata": {},
   "outputs": [],
   "source": [
    "regen_chain = prompts_rigeneration_ | llm.bind_tools([retrieve_by_ingredients, retrieve_by_directions]) "
   ]
  },
  {
   "cell_type": "code",
   "execution_count": 105,
   "id": "fb02a2b0",
   "metadata": {},
   "outputs": [],
   "source": [
    "recipe_regen = prompt_regen_ | llm | output_parser_2"
   ]
  },
  {
   "cell_type": "markdown",
   "id": "25f7f8b8",
   "metadata": {},
   "source": [
    "## Node"
   ]
  },
  {
   "cell_type": "code",
   "execution_count": 106,
   "id": "67edfed9",
   "metadata": {},
   "outputs": [],
   "source": [
    "def starter(state: State) -> dict[str, list[AIMessage]]:\n",
    "    \"\"\"\n",
    "    This node initializes the workflow by collecting a list of ingredients \n",
    "    from the user and creating a HumanMessage with the input.\n",
    "    \"\"\"\n",
    "    user_input = input(\"Enter a list of ingredients (comma-separated): \")\n",
    "    return {\"messages\": HumanMessage(content=user_input)}"
   ]
  },
  {
   "cell_type": "code",
   "execution_count": 107,
   "id": "3d809048",
   "metadata": {},
   "outputs": [],
   "source": [
    "def first_generation(state: State) -> dict[str, list[AIMessage]]:\n",
    "    \"\"\"\n",
    "    This function generates a recipe based on the ingredients provided by the user.\n",
    "    \n",
    "    Steps:\n",
    "    1. Extracts the list of ingredients from the last message in the state.\n",
    "    2. Uses the `retrive_by_ingredients` tool to retrieve a recipe matching the ingredients.\n",
    "    3. Passes the retrieved recipe and messages to the `recipe_chain_2` for further processing.\n",
    "    4. Prints the recipe title and preparation steps.\n",
    "    5. Returns the updated state with the generated recipe.\n",
    "\n",
    "    \"\"\"\n",
    "    ingredients = state[\"messages\"][-1].content\n",
    "\n",
    "    recipe = retrive_by_ingredients(ingredients)\n",
    "\n",
    "    response_2 = recipe_chain_2.invoke({\"messages\": state[\"messages\"], \"Example\": recipe})\n",
    "\n",
    "    print(\"\\n\\n\\n\\nTitle:\", response_2['title'])\n",
    "\n",
    "    print(\"\\nPreparation Steps:\")\n",
    "    for i, step in enumerate(response_2['list_of_steps'], 1):\n",
    "        print(f\"{i}. {step}\")\n",
    "\n",
    "    return {\"messages\": AIMessage(content=json.dumps(response_2, indent=2))}\n",
    "    "
   ]
  },
  {
   "cell_type": "code",
   "execution_count": 108,
   "id": "83bd6d5f",
   "metadata": {},
   "outputs": [],
   "source": [
    "def modify_generation(state: State) -> dict[str, list[AIMessage]]:\n",
    "    \"\"\"\n",
    "    This function regenerates a recipe based on the user's input and the current state.\n",
    "    Use the lit of messages to retrieve all the information needed to regenerate the recipe.\n",
    "    It checks if the user wants to use a tool to improve the recipe or if it should proceed with a new generation.\n",
    "\n",
    "    Steps:\n",
    "    1. Invokes the `recipe_regen` chain using the messages from the current state.\n",
    "    2. Extracts the title and preparation steps from the response.\n",
    "    3. Prints the recipe title and step-by-step preparation instructions.\n",
    "    4. Returns the updated state with the newly generated recipe.\n",
    "\n",
    "    \"\"\"\n",
    "    response_2 = recipe_regen.invoke({\"messages\": state[\"messages\"]})\n",
    "\n",
    "    print(\"\\n\\n\\n\\nTitle:\", response_2['title'])\n",
    "\n",
    "    print(\"\\nPreparation Steps:\")\n",
    "    for i, step in enumerate(response_2['list_of_steps'], 1):\n",
    "        print(f\"{i}. {step}\")\n",
    "\n",
    "    return {\"messages\": AIMessage(content=json.dumps(response_2, indent=2))}\n"
   ]
  },
  {
   "cell_type": "code",
   "execution_count": 109,
   "id": "f0e7e1ae",
   "metadata": {},
   "outputs": [],
   "source": [
    "def ask_what_to_do(state: State) -> dict[str, list[AIMessage]]:\n",
    "    \"\"\"\n",
    "    This node interacts the LLM that decides what to do whether to retrieve other recipes by ingredients or by instructions, \n",
    "    or simply go to regenerate with the new directions.\n",
    "    \"\"\"\n",
    "    response_2 = regen_chain.invoke({\"messages\": state[\"messages\"]})\n",
    "\n",
    "    return {\"messages\": [response_2]}"
   ]
  },
  {
   "cell_type": "code",
   "execution_count": 110,
   "id": "ebd6b329",
   "metadata": {},
   "outputs": [],
   "source": [
    "def modify_recipe_condition(state: State) -> Literal[END, \"ask_what_to_do\"]:\n",
    "    \"\"\"\n",
    "    This function determines whether the user wants to modify the recipe or terminate the program.\n",
    "    It prompts the user for input and checks if they want to make changes or end the program.\n",
    "    \"\"\"\n",
    "    print(\"Modifying recipe...Do you need to change something?\")\n",
    "    user_input = input(\"Enter the changes you want to make: (NO: to terminate the program)\")\n",
    "    if user_input.lower() == \"no\":\n",
    "        return END\n",
    "    else:\n",
    "        return \"ask_what_to_do\""
   ]
  },
  {
   "cell_type": "code",
   "execution_count": 111,
   "id": "f2a02899",
   "metadata": {},
   "outputs": [],
   "source": [
    "def where_continue(state: State) -> Literal[\"modify_generation\", \"retrieve_by_ingredients_tool\", \"retrieve_by_directions_tool\"]:\n",
    "    messages = state[\"messages\"]\n",
    "    last_message = messages[-1]\n",
    "    print(last_message)\n",
    "\n",
    "    if last_message.tool_calls:\n",
    "        for tc in last_message.tool_calls:\n",
    "            if tc[\"name\"] == \"retrieve_by_ingredients_tool\":\n",
    "                return \"retrieve_by_ingredients_tool\"\n",
    "            elif tc[\"name\"] == \"retrieve_by_directions_tool\":\n",
    "                return \"retrieve_by_directions_tool\"\n",
    "    else:\n",
    "        return \"modify_generation\""
   ]
  },
  {
   "cell_type": "markdown",
   "id": "f090f69f",
   "metadata": {},
   "source": [
    "## Graph"
   ]
  },
  {
   "cell_type": "code",
   "execution_count": 112,
   "id": "81b90e81",
   "metadata": {},
   "outputs": [],
   "source": [
    "workflow = StateGraph(State)\n",
    "\n",
    "workflow.add_node(\"starter\", starter)\n",
    "\n",
    "workflow.add_node(\"first_generation\", first_generation)\n",
    "\n",
    "workflow.add_node(\"ask_what_to_do\", ask_what_to_do)\n",
    "\n",
    "workflow.add_node(\"modify_generation\", modify_generation)\n",
    "\n",
    "workflow.add_node(\"retrieve_by_ingredients_tool\", create_tool_node_with_fallback([retrieve_by_ingredients]))\n",
    "\n",
    "workflow.add_node(\"retrieve_by_directions_tool\", create_tool_node_with_fallback([retrieve_by_directions]))\n",
    "\n",
    "#_____________________________________________________________________________________________________________\n",
    "\n",
    "workflow.add_edge(START, \"starter\")\n",
    "\n",
    "workflow.add_edge(\"starter\", \"first_generation\")\n",
    "\n",
    "workflow.add_conditional_edges(\n",
    "    \"first_generation\",\n",
    "    modify_recipe_condition\n",
    ")\n",
    "\n",
    "workflow.add_conditional_edges(\n",
    "    \"ask_what_to_do\",\n",
    "    where_continue\n",
    ")\n",
    "\n",
    "workflow.add_edge(\"retrieve_by_ingredients_tool\", \"modify_generation\")\n",
    "\n",
    "workflow.add_edge(\"retrieve_by_directions_tool\", \"modify_generation\")\n",
    "\n",
    "workflow.add_edge(\"modify_generation\", END)\n",
    "\n",
    "app = workflow.compile()"
   ]
  },
  {
   "cell_type": "code",
   "execution_count": 113,
   "id": "00a0ab9e",
   "metadata": {},
   "outputs": [
    {
     "data": {
      "image/png": "[encoded data removed]",
      "text/plain": [
       "<IPython.core.display.Image object>"
      ]
     },
     "metadata": {},
     "output_type": "display_data"
    }
   ],
   "source": [
    "from IPython.display import Image, display\n",
    "from langchain_core.runnables.graph import MermaidDrawMethod\n",
    "display(\n",
    "    Image(\n",
    "        app.get_graph().draw_mermaid_png(\n",
    "            draw_method=MermaidDrawMethod.API,\n",
    "        )\n",
    "    )\n",
    ")"
   ]
  },
  {
   "cell_type": "code",
   "execution_count": 114,
   "id": "cd5d9252",
   "metadata": {},
   "outputs": [
    {
     "name": "stderr",
     "output_type": "stream",
     "text": [
      "TerrierRetr(BM25): 100%|██████████| 1/1 [00:00<00:00, 20.41q/s]\n"
     ]
    },
    {
     "name": "stdout",
     "output_type": "stream",
     "text": [
      "\n",
      "\n",
      "\n",
      "\n",
      "Title: Simple Pan-Fried Chicken\n",
      "\n",
      "Preparation Steps:\n",
      "1. 1. Rinse the chicken and pat it dry with a clean towel.\n",
      "2. 2. Heat the oil in a frying pan over medium-high heat.\n",
      "3. 3. Once the oil is hot, add the chicken to the pan.\n",
      "4. 4. Cook the chicken until it is browned and cooked through, about 10 minutes on each side.\n",
      "5. 5. Once cooked, remove the chicken from the pan and let it rest for a few minutes before serving.\n",
      "Modifying recipe...Do you need to change something?\n",
      "content='{\\n    \"tool\": \"retrieve_by_ingredients\",\\n    \"reasoning\": \"The recipe is a simple pan-fried chicken which only uses chicken and oil as ingredients. To improve this recipe, we can add more ingredients to enhance the flavor of the chicken. Let\\'s see if we can find a more flavorful recipe using these ingredients.\",\\n    \"action\": \"Retrieve more recipes using chicken and oil as main ingredients to add more flavor to the current recipe.\"\\n}' additional_kwargs={'refusal': None} response_metadata={'token_usage': {'completion_tokens': 95, 'prompt_tokens': 786, 'total_tokens': 881, 'completion_tokens_details': {'accepted_prediction_tokens': 0, 'audio_tokens': 0, 'reasoning_tokens': 0, 'rejected_prediction_tokens': 0}, 'prompt_tokens_details': {'audio_tokens': 0, 'cached_tokens': 0}}, 'model_name': 'gpt-4-0613', 'system_fingerprint': None, 'id': 'chatcmpl-BTVTuJkidDOiPfg5Ig7sOU2djVXTF', 'service_tier': 'default', 'finish_reason': 'stop', 'logprobs': None} id='run--745d0aa1-7b83-4cf3-b20f-290719642a3d-0' usage_metadata={'input_tokens': 786, 'output_tokens': 95, 'total_tokens': 881, 'input_token_details': {'audio': 0, 'cache_read': 0}, 'output_token_details': {'audio': 0, 'reasoning': 0}}\n",
      "\n",
      "\n",
      "\n",
      "\n",
      "Title: Simple Pan-Fried Chicken\n",
      "\n",
      "Preparation Steps:\n",
      "1. 1. Rinse the chicken and pat it dry with a clean towel.\n",
      "2. 2. Heat the oil in a frying pan over medium-high heat.\n",
      "3. 3. Once the oil is hot, add the chicken to the pan.\n",
      "4. 4. Cook the chicken until it is browned and cooked through, about 10 minutes on each side.\n",
      "5. 5. Once cooked, remove the chicken from the pan and let it rest for a few minutes before serving.\n"
     ]
    },
    {
     "data": {
      "text/plain": [
       "{'messages': [HumanMessage(content='chicken oil', additional_kwargs={}, response_metadata={}, id='348e8e38-03fb-4600-be2a-72046c1fb392'),\n",
       "  AIMessage(content='{\\n  \"title\": \"Simple Pan-Fried Chicken\",\\n  \"list_of_steps\": [\\n    \"1. Rinse the chicken and pat it dry with a clean towel.\",\\n    \"2. Heat the oil in a frying pan over medium-high heat.\",\\n    \"3. Once the oil is hot, add the chicken to the pan.\",\\n    \"4. Cook the chicken until it is browned and cooked through, about 10 minutes on each side.\",\\n    \"5. Once cooked, remove the chicken from the pan and let it rest for a few minutes before serving.\"\\n  ]\\n}', additional_kwargs={}, response_metadata={}, id='df6ff416-4b4d-4639-94db-5a5070109b63'),\n",
       "  AIMessage(content='{\\n    \"tool\": \"retrieve_by_ingredients\",\\n    \"reasoning\": \"The recipe is a simple pan-fried chicken which only uses chicken and oil as ingredients. To improve this recipe, we can add more ingredients to enhance the flavor of the chicken. Let\\'s see if we can find a more flavorful recipe using these ingredients.\",\\n    \"action\": \"Retrieve more recipes using chicken and oil as main ingredients to add more flavor to the current recipe.\"\\n}', additional_kwargs={'refusal': None}, response_metadata={'token_usage': {'completion_tokens': 95, 'prompt_tokens': 786, 'total_tokens': 881, 'completion_tokens_details': {'accepted_prediction_tokens': 0, 'audio_tokens': 0, 'reasoning_tokens': 0, 'rejected_prediction_tokens': 0}, 'prompt_tokens_details': {'audio_tokens': 0, 'cached_tokens': 0}}, 'model_name': 'gpt-4-0613', 'system_fingerprint': None, 'id': 'chatcmpl-BTVTuJkidDOiPfg5Ig7sOU2djVXTF', 'service_tier': 'default', 'finish_reason': 'stop', 'logprobs': None}, id='run--745d0aa1-7b83-4cf3-b20f-290719642a3d-0', usage_metadata={'input_tokens': 786, 'output_tokens': 95, 'total_tokens': 881, 'input_token_details': {'audio': 0, 'cache_read': 0}, 'output_token_details': {'audio': 0, 'reasoning': 0}}),\n",
       "  AIMessage(content='{\\n  \"title\": \"Simple Pan-Fried Chicken\",\\n  \"list_of_steps\": [\\n    \"1. Rinse the chicken and pat it dry with a clean towel.\",\\n    \"2. Heat the oil in a frying pan over medium-high heat.\",\\n    \"3. Once the oil is hot, add the chicken to the pan.\",\\n    \"4. Cook the chicken until it is browned and cooked through, about 10 minutes on each side.\",\\n    \"5. Once cooked, remove the chicken from the pan and let it rest for a few minutes before serving.\"\\n  ]\\n}', additional_kwargs={}, response_metadata={}, id='6445c4c8-25f4-4816-a566-1803c4828cc9')]}"
      ]
     },
     "execution_count": 114,
     "metadata": {},
     "output_type": "execute_result"
    }
   ],
   "source": [
    "initial_state = {\n",
    "                'messages': []\n",
    "}\n",
    "\n",
    "app.invoke(initial_state)"
   ]
  }
 ],
 "metadata": {
  "kernelspec": {
   "display_name": "Python 3",
   "language": "python",
   "name": "python3"
  },
  "language_info": {
   "codemirror_mode": {
    "name": "ipython",
    "version": 3
   },
   "file_extension": ".py",
   "mimetype": "text/x-python",
   "name": "python",
   "nbconvert_exporter": "python",
   "pygments_lexer": "ipython3",
   "version": "3.12.9"
  }
 },
 "nbformat": 4,
 "nbformat_minor": 5
}
