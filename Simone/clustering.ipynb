{
 "cells": [
  {
   "cell_type": "code",
   "execution_count": 1,
   "id": "f84be1e1",
   "metadata": {},
   "outputs": [
    {
     "name": "stdout",
     "output_type": "stream",
     "text": [
      "Unnamed: 0                                               2081257\n",
      "title                                            Kale Apple Love\n",
      "ingredients    [\"3 Kale leaves\", \"5 small apples or\", \"1/2 Le...\n",
      "directions                                             [\"Juice\"]\n",
      "link               cookpad.com/us/recipes/356880-kale-apple-love\n",
      "source                                                 Recipes1M\n",
      "NER                      [\"leaves\", \"apples\", \"Lemon\", \"apples\"]\n",
      "Name: 2081257, dtype: object\n"
     ]
    }
   ],
   "source": [
    "import pandas as pd\n",
    "\n",
    "df = pd.read_csv('/Users/simonezacchetti/Documents/università/magistrale/secondo anno/nlp/cooking-mama/full_dataset.csv')\n",
    "\n",
    "print(df.iloc[2081257])"
   ]
  }
 ],
 "metadata": {
  "kernelspec": {
   "display_name": "Python 3",
   "language": "python",
   "name": "python3"
  },
  "language_info": {
   "codemirror_mode": {
    "name": "ipython",
    "version": 3
   },
   "file_extension": ".py",
   "mimetype": "text/x-python",
   "name": "python",
   "nbconvert_exporter": "python",
   "pygments_lexer": "ipython3",
   "version": "3.10.5"
  }
 },
 "nbformat": 4,
 "nbformat_minor": 5
}
